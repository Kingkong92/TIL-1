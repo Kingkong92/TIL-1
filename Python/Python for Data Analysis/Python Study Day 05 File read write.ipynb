{
 "cells": [
  {
   "cell_type": "markdown",
   "metadata": {},
   "source": [
    "# File 쓰기"
   ]
  },
  {
   "cell_type": "code",
   "execution_count": 3,
   "metadata": {},
   "outputs": [],
   "source": [
    "path = \"C:\\study\""
   ]
  },
  {
   "cell_type": "code",
   "execution_count": 2,
   "metadata": {},
   "outputs": [],
   "source": [
    "path = \"C:\\study\"\n",
    "\n",
    "f = open(path+'/nesFile.txt','w')\n",
    "\n",
    "for i in range(1,11):\n",
    "    data = \"%d번 줄입니다.\\n\" % i\n",
    "    f.write(data)\n",
    "f.close()"
   ]
  },
  {
   "cell_type": "markdown",
   "metadata": {},
   "source": [
    "# File 읽기"
   ]
  },
  {
   "cell_type": "markdown",
   "metadata": {},
   "source": [
    "readline 함수"
   ]
  },
  {
   "cell_type": "code",
   "execution_count": 5,
   "metadata": {},
   "outputs": [
    {
     "name": "stdout",
     "output_type": "stream",
     "text": [
      "1번 줄입니다.\n",
      "\n"
     ]
    }
   ],
   "source": [
    "f = open(path+'/nesFile.txt','r')\n",
    "line = f.readline()\n",
    "print(line)\n",
    "f.close()"
   ]
  },
  {
   "cell_type": "code",
   "execution_count": 4,
   "metadata": {
    "collapsed": true
   },
   "outputs": [
    {
     "name": "stdout",
     "output_type": "stream",
     "text": [
      "1번 줄입니다.\n",
      "\n",
      "2번 줄입니다.\n",
      "\n",
      "3번 줄입니다.\n",
      "\n",
      "4번 줄입니다.\n",
      "\n",
      "5번 줄입니다.\n",
      "\n",
      "6번 줄입니다.\n",
      "\n",
      "7번 줄입니다.\n",
      "\n",
      "8번 줄입니다.\n",
      "\n",
      "9번 줄입니다.\n",
      "\n",
      "10번 줄입니다.\n",
      "\n"
     ]
    }
   ],
   "source": [
    "f = open(path+'/nesFile.txt','r')\n",
    "while True:\n",
    "    line = f.readline()\n",
    "    if not line:\n",
    "        break\n",
    "    print(line)\n",
    "f.close()"
   ]
  },
  {
   "cell_type": "code",
   "execution_count": 7,
   "metadata": {
    "collapsed": true
   },
   "outputs": [
    {
     "name": "stdout",
     "output_type": "stream",
     "text": [
      "1번 줄입니다.\n",
      "\n",
      "2번 줄입니다.\n",
      "\n",
      "3번 줄입니다.\n",
      "\n",
      "4번 줄입니다.\n",
      "\n",
      "5번 줄입니다.\n",
      "\n",
      "6번 줄입니다.\n",
      "\n",
      "7번 줄입니다.\n",
      "\n",
      "8번 줄입니다.\n",
      "\n",
      "9번 줄입니다.\n",
      "\n",
      "10번 줄입니다.\n",
      "\n"
     ]
    }
   ],
   "source": [
    "f = open(path+'/nesFile.txt','r')\n",
    "for i in f.readlines():\n",
    "    print(i)\n",
    "f.close()"
   ]
  },
  {
   "cell_type": "code",
   "execution_count": 8,
   "metadata": {},
   "outputs": [
    {
     "name": "stdout",
     "output_type": "stream",
     "text": [
      "1번 줄입니다.\n",
      "2번 줄입니다.\n",
      "3번 줄입니다.\n",
      "4번 줄입니다.\n",
      "5번 줄입니다.\n",
      "6번 줄입니다.\n",
      "7번 줄입니다.\n",
      "8번 줄입니다.\n",
      "9번 줄입니다.\n",
      "10번 줄입니다.\n",
      "\n"
     ]
    }
   ],
   "source": [
    "f = open(path+'/nesFile.txt','r')\n",
    "data = f.read()\n",
    "print(data)\n",
    "f.close()"
   ]
  },
  {
   "cell_type": "code",
   "execution_count": 9,
   "metadata": {},
   "outputs": [],
   "source": [
    "f = open(path+'/nesFile.txt','a')\n",
    "for i in range(11,20):\n",
    "    data=\"%d번째 추가 줄입니다.\\n\" % i\n",
    "    f.write(data)\n",
    "f.close()"
   ]
  },
  {
   "cell_type": "code",
   "execution_count": 10,
   "metadata": {
    "collapsed": true
   },
   "outputs": [
    {
     "name": "stdout",
     "output_type": "stream",
     "text": [
      "1번 줄입니다.\n",
      "2번 줄입니다.\n",
      "3번 줄입니다.\n",
      "4번 줄입니다.\n",
      "5번 줄입니다.\n",
      "6번 줄입니다.\n",
      "7번 줄입니다.\n",
      "8번 줄입니다.\n",
      "9번 줄입니다.\n",
      "10번 줄입니다.\n",
      "11번째 추가 줄입니다.\n",
      "12번째 추가 줄입니다.\n",
      "13번째 추가 줄입니다.\n",
      "14번째 추가 줄입니다.\n",
      "15번째 추가 줄입니다.\n",
      "16번째 추가 줄입니다.\n",
      "17번째 추가 줄입니다.\n",
      "18번째 추가 줄입니다.\n",
      "19번째 추가 줄입니다.\n",
      "\n"
     ]
    }
   ],
   "source": [
    "f = open(path+'/nesFile.txt','r')\n",
    "data = f.read()\n",
    "print(data)\n",
    "f.close()\n"
   ]
  },
  {
   "cell_type": "code",
   "execution_count": 25,
   "metadata": {},
   "outputs": [],
   "source": [
    "# with 구문으로 작성하면 닫기 위한 구문 없이 생성할 수 있다.\n",
    "with open(path+'/newFile.txt','w') as f:\n",
    "    f.write(\"Lfe is too short\") \n"
   ]
  },
  {
   "cell_type": "code",
   "execution_count": null,
   "metadata": {},
   "outputs": [],
   "source": []
  }
 ],
 "metadata": {
  "kernelspec": {
   "display_name": "Python 3",
   "language": "python",
   "name": "python3"
  },
  "language_info": {
   "codemirror_mode": {
    "name": "ipython",
    "version": 3
   },
   "file_extension": ".py",
   "mimetype": "text/x-python",
   "name": "python",
   "nbconvert_exporter": "python",
   "pygments_lexer": "ipython3",
   "version": "3.7.4"
  }
 },
 "nbformat": 4,
 "nbformat_minor": 2
}
