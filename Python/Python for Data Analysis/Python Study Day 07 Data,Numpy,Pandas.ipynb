{
 "cells": [
  {
   "cell_type": "markdown",
   "metadata": {},
   "source": [
    "데이터 전처리\n",
    "\n",
    "전처리 : 결측치를 어떻게 대처할 것인가가 중요\n",
    "무조건 없애면 데이터가 부족해서 못하는 경우도 발생\n",
    "어떤 값으로 대체를 하는 것이 없애는 것보다 낫다.\n",
    "knn 알고리즘이나 회귀분석으로 예측된 값을 대체하는 경우 등\n"
   ]
  },
  {
   "cell_type": "markdown",
   "metadata": {},
   "source": [
    "정규화 : 각 점수의 최소와 최대 사이를 0과 1 사이로 만듬\n",
    "컴퓨터는 숫자만 받아들임\n",
    "표준화 : 평균을 0으로, 표준편차를 1로 표현"
   ]
  },
  {
   "cell_type": "markdown",
   "metadata": {},
   "source": [
    "원핫인코딩 : 100000,010000,001000, ...    \n",
    "분류를 해야되는 문제에서 분류 결과에 대해서    \n",
    "             A    B    C   D  E  F   \n",
    "문장 추출 -> 단어(5개) 추출 -> 원핫인코딩    \n",
    "국어10000   \n",
    "영어01000     \n",
    "수학00100     \n",
    "과학00010    \n",
    "윤리00001   \n",
    "\n",
    "각 단어들을 컴퓨터가 구분하기 위함   \n",
    "원 핫 인코딩 => 메모리 낭비가 매우 심하고 연산도 길어짐\n",
    "데이터가 커지면 커질수록 매우 복잡함\n",
    "단어의 갯수만큼 차원의 공간이 필요해지므로 매우 낭비\n"
   ]
  },
  {
   "cell_type": "markdown",
   "metadata": {},
   "source": [
    "문장 추출 -> 단어(5개) 추출 -> 밀집 벡터 word2vec\n",
    "국어 [0.2  0.7]\n",
    "수학 [0.1, 0.3]\n",
    "==> 차원이 줄어들었음\n",
    "==> 각 축의 의미가 무었인가? 데이터들의 일반화된 특성일 것으로 추축 정확히 무엇인지알지 못함"
   ]
  },
  {
   "cell_type": "markdown",
   "metadata": {},
   "source": [
    "리스트 : 속도느림, 메모리 많이 차지\n",
    "배열(array) : 속도빠름, 메모리 적게 차지\n",
    "넘파이 배열 \n",
    "\n",
    "넘파이와 배열과 리스트의 차이점\n",
    "- 배열은 모두 같은 자료형, 원소 개수 변경 못함\n",
    "- 배열은 파이썬에서 제공하지 않음\n",
    "- 파이썬 환경에서 넘파이 패키지를 활용하여 배열을 사용할 수 있음\n",
    "\n",
    "넘파이 수치해석 패키지, 다차원 배열 구조 백터, 행렬을 ㅏ용하는 선형대수 계산시 사용, 넘파이 배열 연산 빠름 (벡터화 연산)"
   ]
  },
  {
   "cell_type": "code",
   "execution_count": 3,
   "metadata": {},
   "outputs": [
    {
     "data": {
      "text/plain": [
       "numpy.ndarray"
      ]
     },
     "execution_count": 3,
     "metadata": {},
     "output_type": "execute_result"
    }
   ],
   "source": [
    "import numpy as np\n",
    "\n",
    "ar = np.array([0,1,2,3,4])\n",
    "type(ar)"
   ]
  },
  {
   "cell_type": "code",
   "execution_count": 4,
   "metadata": {},
   "outputs": [
    {
     "data": {
      "text/plain": [
       "array([0, 1, 2, 3, 4])"
      ]
     },
     "execution_count": 4,
     "metadata": {},
     "output_type": "execute_result"
    }
   ],
   "source": [
    "ar"
   ]
  },
  {
   "cell_type": "markdown",
   "metadata": {},
   "source": [
    "100 * 100 크기의 이미지(픽셀 : 10000개)\n",
    "0~255 사이의 gray scale   \n",
    "=> 1만 개의 축이 있는 것\n",
    "=> 1만 차원, 10000 Dimension"
   ]
  },
  {
   "cell_type": "code",
   "execution_count": null,
   "metadata": {},
   "outputs": [],
   "source": []
  },
  {
   "cell_type": "code",
   "execution_count": 14,
   "metadata": {},
   "outputs": [],
   "source": [
    "data = list(range(0,10))"
   ]
  },
  {
   "cell_type": "code",
   "execution_count": 15,
   "metadata": {},
   "outputs": [
    {
     "data": {
      "text/plain": [
       "[0, 1, 2, 3, 4, 5, 6, 7, 8, 9]"
      ]
     },
     "execution_count": 15,
     "metadata": {},
     "output_type": "execute_result"
    }
   ],
   "source": [
    "data"
   ]
  },
  {
   "cell_type": "code",
   "execution_count": 16,
   "metadata": {},
   "outputs": [],
   "source": [
    "data = np.array(data) * 2\n",
    "# NUMPY는 벡터 연산을 사용함\n",
    "# FOR문을 사용하지 않음\n",
    "# 계산 속도가 매우 빨라짐"
   ]
  },
  {
   "cell_type": "code",
   "execution_count": 17,
   "metadata": {},
   "outputs": [
    {
     "data": {
      "text/plain": [
       "[0, 2, 4, 6, 8, 10, 12, 14, 16, 18]"
      ]
     },
     "execution_count": 17,
     "metadata": {},
     "output_type": "execute_result"
    }
   ],
   "source": [
    "list(data)"
   ]
  },
  {
   "cell_type": "code",
   "execution_count": null,
   "metadata": {},
   "outputs": [],
   "source": []
  },
  {
   "cell_type": "markdown",
   "metadata": {},
   "source": [
    "### 시간복잡도(CPU)\n",
    "* 연산 결과가 나오기까지 수행되는 라인의 수   \n",
    "\n",
    "sum = 0\n",
    "for d in data:\n",
    "    sum += d\n",
    "print (sum) \n",
    "\n",
    "=>> 100개면 연산 100번 해야함\n",
    "\n",
    "ㅡㅡㅡㅡㅡㅡㅡㅡㅡㅡㅡㅡㅡㅡㅡㅡㅡㅡㅡㅡㅡ\n",
    "\n",
    "print(d*d+1)/2)  ==>> 한 줄 연산으로 결과 출력\n",
    "매우 효율적인 방법 매우 빠르게 결과 출력!\n",
    "\n",
    "### 공간복잡도(MEM) \n",
    "* 메모리가 얼마나 필요한지, 메모리를 차지하는 정도\n"
   ]
  },
  {
   "cell_type": "code",
   "execution_count": null,
   "metadata": {},
   "outputs": [],
   "source": []
  },
  {
   "cell_type": "code",
   "execution_count": 18,
   "metadata": {},
   "outputs": [],
   "source": [
    "a = np.array([1,2,3])\n",
    "b = np.array([4,5,6])\n",
    "a2 = [1,2,3]\n",
    "b2 = [4,5,6]"
   ]
  },
  {
   "cell_type": "code",
   "execution_count": 21,
   "metadata": {},
   "outputs": [
    {
     "data": {
      "text/plain": [
       "[1, 2, 3, 1, 2, 3, 4, 5, 6]"
      ]
     },
     "execution_count": 21,
     "metadata": {},
     "output_type": "execute_result"
    }
   ],
   "source": [
    "2*a2+b2 # list는 연산이 append 형식"
   ]
  },
  {
   "cell_type": "code",
   "execution_count": 22,
   "metadata": {},
   "outputs": [
    {
     "data": {
      "text/plain": [
       "array([ 6,  9, 12])"
      ]
     },
     "execution_count": 22,
     "metadata": {},
     "output_type": "execute_result"
    }
   ],
   "source": [
    "2*a + b # array는 백터 연산"
   ]
  },
  {
   "cell_type": "code",
   "execution_count": 30,
   "metadata": {},
   "outputs": [
    {
     "name": "stdout",
     "output_type": "stream",
     "text": [
      "[[0 1 2]\n",
      " [3 4 5]]\n"
     ]
    }
   ],
   "source": [
    "x = np.array([[0,1,2],[3,4,5]])\n",
    "print(x)\n",
    "# 열 : 안쪽 리스트 길이, 가로 크기\n",
    "# 행 : 바깥쪽 리스트 길이, 세로 크기\n",
    "# 0 1 2\n",
    "# 3 4 5"
   ]
  },
  {
   "cell_type": "code",
   "execution_count": 87,
   "metadata": {},
   "outputs": [
    {
     "name": "stdout",
     "output_type": "stream",
     "text": [
      "[1 2 3 4]\n",
      "[2 6]\n",
      "[6 7 8]\n",
      "[[1 2]\n",
      " [5 6]]\n"
     ]
    }
   ],
   "source": [
    "# array slicing\n",
    "ar = np.array([[1,2,3,4],[5,6,7,8]])\n",
    "print(ar[0,:]) # 첫번째 행 전체\n",
    "print(ar[:,1]) # 두번째 열 전체\n",
    "print(ar[1,1:])  # 두번째 행 부터 마지막까지\n",
    "print(ar[:2,:2])"
   ]
  },
  {
   "cell_type": "code",
   "execution_count": 43,
   "metadata": {},
   "outputs": [
    {
     "name": "stdout",
     "output_type": "stream",
     "text": [
      "6\n"
     ]
    }
   ],
   "source": [
    "      "
   ]
  },
  {
   "cell_type": "markdown",
   "metadata": {},
   "source": [
    "# 불린 참조 \n",
    "매우중요\n",
    "조건에 대한 만족하는 값을 추출\n"
   ]
  },
  {
   "cell_type": "code",
   "execution_count": 90,
   "metadata": {},
   "outputs": [
    {
     "data": {
      "text/plain": [
       "array([2, 3, 5])"
      ]
     },
     "execution_count": 90,
     "metadata": {},
     "output_type": "execute_result"
    }
   ],
   "source": [
    "ar=np.array([2,3,4,5])\n",
    "bidx=np.array([True,True,False,True])\n",
    "ar[bidx]\n",
    "# True에 해당하는 array를 가져오는 불린 참조"
   ]
  },
  {
   "cell_type": "code",
   "execution_count": 91,
   "metadata": {},
   "outputs": [
    {
     "data": {
      "text/plain": [
       "array([2, 3, 5])"
      ]
     },
     "execution_count": 91,
     "metadata": {},
     "output_type": "execute_result"
    }
   ],
   "source": [
    "ar[ar != 4]"
   ]
  },
  {
   "cell_type": "code",
   "execution_count": 93,
   "metadata": {},
   "outputs": [
    {
     "data": {
      "text/plain": [
       "array([2, 4])"
      ]
     },
     "execution_count": 93,
     "metadata": {},
     "output_type": "execute_result"
    }
   ],
   "source": [
    "ar[ar% 2 == 0]"
   ]
  },
  {
   "cell_type": "code",
   "execution_count": 95,
   "metadata": {},
   "outputs": [
    {
     "data": {
      "text/plain": [
       "array([2, 5])"
      ]
     },
     "execution_count": 95,
     "metadata": {},
     "output_type": "execute_result"
    }
   ],
   "source": [
    "#정수 참조 추출\n",
    "ar = np.array([2,3,4,5])\n",
    "idx = np.array([0,3])\n",
    "ar[idx]"
   ]
  },
  {
   "cell_type": "code",
   "execution_count": 145,
   "metadata": {},
   "outputs": [
    {
     "name": "stdout",
     "output_type": "stream",
     "text": [
      "[[1 2 3 4]\n",
      " [5 6 7 8]]\n"
     ]
    },
    {
     "data": {
      "text/plain": [
       "array([[1, 4],\n",
       "       [5, 8]])"
      ]
     },
     "execution_count": 145,
     "metadata": {},
     "output_type": "execute_result"
    }
   ],
   "source": [
    "ar = np.array([[1,2,3,4],[5,6,7,8]])\n",
    "print(ar)\n",
    "#[[1,4],\n",
    "#  5,8]]\n",
    "ar[:,[0,3]]\n",
    "ar[:,[True,False,False,True]]"
   ]
  },
  {
   "cell_type": "code",
   "execution_count": 150,
   "metadata": {},
   "outputs": [
    {
     "data": {
      "text/plain": [
       "array([[25, 26, 27, 28],\n",
       "       [ 1,  2,  3,  4],\n",
       "       [31, 32, 33, 34]])"
      ]
     },
     "execution_count": 150,
     "metadata": {},
     "output_type": "execute_result"
    }
   ],
   "source": [
    "ar = np.array([[1,2,3,4],\n",
    "              [15,26,37,48],\n",
    "              [25,26,27,28],\n",
    "              [31,32,33,34]])\n",
    "ar[[2,0,-1],:]"
   ]
  },
  {
   "cell_type": "code",
   "execution_count": 151,
   "metadata": {},
   "outputs": [
    {
     "data": {
      "text/html": [
       "<div>\n",
       "<style scoped>\n",
       "    .dataframe tbody tr th:only-of-type {\n",
       "        vertical-align: middle;\n",
       "    }\n",
       "\n",
       "    .dataframe tbody tr th {\n",
       "        vertical-align: top;\n",
       "    }\n",
       "\n",
       "    .dataframe thead th {\n",
       "        text-align: right;\n",
       "    }\n",
       "</style>\n",
       "<table border=\"1\" class=\"dataframe\">\n",
       "  <thead>\n",
       "    <tr style=\"text-align: right;\">\n",
       "      <th></th>\n",
       "      <th>ID</th>\n",
       "      <th>LAST_NAME</th>\n",
       "      <th>AGE</th>\n",
       "    </tr>\n",
       "  </thead>\n",
       "  <tbody>\n",
       "    <tr>\n",
       "      <th>0</th>\n",
       "      <td>1</td>\n",
       "      <td>KIM</td>\n",
       "      <td>25</td>\n",
       "    </tr>\n",
       "    <tr>\n",
       "      <th>1</th>\n",
       "      <td>2</td>\n",
       "      <td>LEE</td>\n",
       "      <td>22</td>\n",
       "    </tr>\n",
       "    <tr>\n",
       "      <th>2</th>\n",
       "      <td>3</td>\n",
       "      <td>PARK</td>\n",
       "      <td>33</td>\n",
       "    </tr>\n",
       "    <tr>\n",
       "      <th>3</th>\n",
       "      <td>4</td>\n",
       "      <td>CHOI</td>\n",
       "      <td>24</td>\n",
       "    </tr>\n",
       "    <tr>\n",
       "      <th>4</th>\n",
       "      <td>5</td>\n",
       "      <td>CHO</td>\n",
       "      <td>30</td>\n",
       "    </tr>\n",
       "  </tbody>\n",
       "</table>\n",
       "</div>"
      ],
      "text/plain": [
       "   ID LAST_NAME  AGE\n",
       "0   1       KIM   25\n",
       "1   2       LEE   22\n",
       "2   3      PARK   33\n",
       "3   4      CHOI   24\n",
       "4   5       CHO   30"
      ]
     },
     "execution_count": 151,
     "metadata": {},
     "output_type": "execute_result"
    }
   ],
   "source": [
    "# http://pandas.pydata.org >> 참고 사이트\n",
    "import pandas as pd\n",
    "csvTest = pd.read_csv(\"test_csv.csv\")\n",
    "csvTest"
   ]
  },
  {
   "cell_type": "code",
   "execution_count": 156,
   "metadata": {},
   "outputs": [
    {
     "data": {
      "text/html": [
       "<div>\n",
       "<style scoped>\n",
       "    .dataframe tbody tr th:only-of-type {\n",
       "        vertical-align: middle;\n",
       "    }\n",
       "\n",
       "    .dataframe tbody tr th {\n",
       "        vertical-align: top;\n",
       "    }\n",
       "\n",
       "    .dataframe thead th {\n",
       "        text-align: right;\n",
       "    }\n",
       "</style>\n",
       "<table border=\"1\" class=\"dataframe\">\n",
       "  <thead>\n",
       "    <tr style=\"text-align: right;\">\n",
       "      <th></th>\n",
       "      <th>ID</th>\n",
       "      <th>LAST_NAME</th>\n",
       "      <th>AGE</th>\n",
       "    </tr>\n",
       "  </thead>\n",
       "  <tbody>\n",
       "    <tr>\n",
       "      <th>0</th>\n",
       "      <td>1</td>\n",
       "      <td>KIM</td>\n",
       "      <td>25</td>\n",
       "    </tr>\n",
       "    <tr>\n",
       "      <th>1</th>\n",
       "      <td>2</td>\n",
       "      <td>LEE</td>\n",
       "      <td>22</td>\n",
       "    </tr>\n",
       "    <tr>\n",
       "      <th>2</th>\n",
       "      <td>3</td>\n",
       "      <td>PARK</td>\n",
       "      <td>33</td>\n",
       "    </tr>\n",
       "    <tr>\n",
       "      <th>3</th>\n",
       "      <td>4</td>\n",
       "      <td>CHOI</td>\n",
       "      <td>24</td>\n",
       "    </tr>\n",
       "    <tr>\n",
       "      <th>4</th>\n",
       "      <td>5</td>\n",
       "      <td>CHO</td>\n",
       "      <td>30</td>\n",
       "    </tr>\n",
       "  </tbody>\n",
       "</table>\n",
       "</div>"
      ],
      "text/plain": [
       "   ID LAST_NAME  AGE\n",
       "0   1       KIM   25\n",
       "1   2       LEE   22\n",
       "2   3      PARK   33\n",
       "3   4      CHOI   24\n",
       "4   5       CHO   30"
      ]
     },
     "execution_count": 156,
     "metadata": {},
     "output_type": "execute_result"
    }
   ],
   "source": [
    "text = pd.read_csv(\"test_text.txt\",sep='|')\n",
    "text"
   ]
  },
  {
   "cell_type": "code",
   "execution_count": 79,
   "metadata": {},
   "outputs": [
    {
     "name": "stdout",
     "output_type": "stream",
     "text": [
      "[-7, -9, 8] 504\n"
     ]
    }
   ],
   "source": [
    "#1 다음 데이터에서 연속으로 숫자 3개를 곱했을때 얻어진\n",
    "# 결과값이 가장 큰 구간이 어디인지 출력\n",
    "x = [3,2,1,-4,-7,-9,8,-5,3,-1]\n",
    "dic = {}\n",
    "maxv = 0\n",
    "dic = {}\n",
    "for i in range(len(x)-2):\n",
    "    dic['%s' % str(i)] = multi(x[i:i+3])\n",
    "\n",
    "for i in dic:\n",
    "    if dic[i] == max(dic.values()):\n",
    "        n = int(i)\n",
    "        print(x[n:n+3], max(dic.values()))\n",
    "\n",
    "\n",
    "    \n"
   ]
  },
  {
   "cell_type": "code",
   "execution_count": null,
   "metadata": {},
   "outputs": [],
   "source": []
  }
 ],
 "metadata": {
  "kernelspec": {
   "display_name": "Python 3",
   "language": "python",
   "name": "python3"
  },
  "language_info": {
   "codemirror_mode": {
    "name": "ipython",
    "version": 3
   },
   "file_extension": ".py",
   "mimetype": "text/x-python",
   "name": "python",
   "nbconvert_exporter": "python",
   "pygments_lexer": "ipython3",
   "version": "3.7.4"
  }
 },
 "nbformat": 4,
 "nbformat_minor": 2
}
