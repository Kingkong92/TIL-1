{
 "cells": [
  {
   "cell_type": "markdown",
   "metadata": {},
   "source": [
    "# Problem 01"
   ]
  },
  {
   "cell_type": "markdown",
   "metadata": {},
   "source": [
    "문제 1\n",
    "\n",
    "다음의 조건을 만족하는 Point라는 클래스를 작성하세요.\n",
    "\n",
    "Point 클래스는 생성자를 통해 (x, y) 좌표를 입력받는다.\n",
    "setx(x), sety(y) 메서드를 통해 x 좌표와 y 좌표를 따로 입력받을 수도 있다.\n",
    "get() 메서드를 호출하면 튜플로 구성된 (x, y) 좌표를 반환한다.\n",
    "move(dx, dy) 메서드는 현재 좌표를 dx, dy만큼 이동시킨다.\n",
    "모든 메서드는 인스턴스 메서드다.\n"
   ]
  },
  {
   "cell_type": "code",
   "execution_count": 1,
   "metadata": {},
   "outputs": [],
   "source": [
    "class Point():\n",
    "    def __init__(self,x,y):  # 기본 x,y 값 지정\n",
    "        self.x = x\n",
    "        self.y = y\n",
    "    def setx(self,x):  # x 값 설정\n",
    "        self.x = x\n",
    "        return Point.get(self)  # 설정 후 좌표 출력\n",
    "    def sety(self,y):  # y 값 설정\n",
    "        self.y = y\n",
    "        return Point.get(self) # 설정 후 좌표 출력\n",
    "    def get(self):\n",
    "        print((self.x,self.y))\n",
    "        return (self.x, self.y) #좌표 출력\n",
    "    def move(self, dx,dy):\n",
    "        self.x += dx\n",
    "        self.y += dy\n",
    "        return Point.get(self) "
   ]
  },
  {
   "cell_type": "markdown",
   "metadata": {},
   "source": [
    "# Problem 02"
   ]
  },
  {
   "cell_type": "markdown",
   "metadata": {},
   "source": [
    "문제 2\n",
    "\n",
    "문제 1에서 생성한 Point 클래스에 대한 인스턴스를 생성한 후 4개의 메서드를 사용하는 코드를 작성하세요."
   ]
  },
  {
   "cell_type": "code",
   "execution_count": 2,
   "metadata": {},
   "outputs": [
    {
     "name": "stdout",
     "output_type": "stream",
     "text": [
      "(3, 4)\n",
      "(7, 4)\n",
      "(7, 0)\n",
      "(10, 1)\n",
      "Done\n"
     ]
    }
   ],
   "source": [
    "first = Point(3,4)\n",
    "first.get()\n",
    "first.setx(7)\n",
    "first.sety(0)\n",
    "first.move(3,1)\n",
    "print(\"Done\")"
   ]
  },
  {
   "cell_type": "markdown",
   "metadata": {},
   "source": [
    "# Problem 03"
   ]
  },
  {
   "cell_type": "markdown",
   "metadata": {},
   "source": [
    "문제 3\n",
    "\n",
    "1부터 10까지의 숫자를 각 라인 단위로 파일에 출력하는 프로그램을 작성하세요.\n",
    "\n",
    "생성되는 파일의 이름은 number.txt 이다."
   ]
  },
  {
   "cell_type": "code",
   "execution_count": 3,
   "metadata": {},
   "outputs": [],
   "source": [
    "path = r\"C:\\Users\\Administrator\\Desktop\\coffeemachine\\excercise\"\n",
    "\n",
    "with open(path + \"\\\\\" + 'number.txt','w') as f:\n",
    "    for i in range(1,11):\n",
    "        f.write(str(i) + \"\\n\")"
   ]
  },
  {
   "cell_type": "markdown",
   "metadata": {},
   "source": [
    "# Problem 04"
   ]
  },
  {
   "cell_type": "markdown",
   "metadata": {},
   "source": [
    "문제 4\n",
    "\n",
    "사용자에게 경로를 입력받은 후 해당 경로에 있는 디렉터리와 파일 목록을 flist.txt라는 파일로 출력하는 함수를 작성하세요.\n"
   ]
  },
  {
   "cell_type": "code",
   "execution_count": 4,
   "metadata": {},
   "outputs": [
    {
     "name": "stdout",
     "output_type": "stream",
     "text": [
      "C:\\Users\\Administrator\\Desktop\\coffeemachine\\excercise\n"
     ]
    }
   ],
   "source": [
    "import os\n",
    "import glob\n",
    "\n",
    "path = input()\n",
    "os.chdir(path)\n",
    "with open(path + \"\\\\\" + \"flist.txt\",'w') as f:\n",
    "    for txt in glob.glob('*txt'):  # 현재 dir 안의 txt 파일들 출력\n",
    "        f.write(txt + '\\n')"
   ]
  },
  {
   "cell_type": "markdown",
   "metadata": {},
   "source": [
    "# Problem 05"
   ]
  },
  {
   "cell_type": "markdown",
   "metadata": {},
   "source": [
    "문제 5\n",
    "윤동주 시인 방송 출연 년월일 추출(화요일 수업내용 중)"
   ]
  },
  {
   "cell_type": "code",
   "execution_count": 5,
   "metadata": {},
   "outputs": [
    {
     "name": "stdout",
     "output_type": "stream",
     "text": [
      "1984년\n",
      "1988년\n",
      "1995년\n",
      "2006년\n",
      "2008년\n",
      "2009년\n",
      "2011년\n",
      "2016년\n"
     ]
    }
   ],
   "source": [
    "from bs4 import BeautifulSoup\n",
    "import urllib.request as req\n",
    "import re\n",
    "\n",
    "pat = re.compile(\"[A-Z][A-Z][A-Z][a-zA-Z가-핳\\w\\W\\s]*(?P<year>[0-9][0-9][0-9][0-9][년])[a-zA-Z가-핳\\w\\W\\s]*\")\n",
    "#KBS 방송사 이름 나오고 ~~~ 1955년 년도 나오면 숫자 4개 + 년을 year이라는 그룹으로 지정 나머지 뒤에 ~~~~\n",
    "url = \"https://ko.wikipedia.org/wiki/%EC%9C%A4%EB%8F%99%EC%A3%BC\"\n",
    "\n",
    "res = req.urlopen(url)\n",
    "soup = BeautifulSoup(res,'html.parser')\n",
    "soup1 = soup.select(\"#mw-content-text > div > ul > li \")\n",
    "\n",
    "for soup2 in soup1:\n",
    "    if pat.search(soup2.text) != None: \n",
    "        print(pat.search(soup2.text).group('year'))"
   ]
  },
  {
   "cell_type": "markdown",
   "metadata": {},
   "source": [
    "# Problem 06"
   ]
  },
  {
   "cell_type": "markdown",
   "metadata": {},
   "source": [
    "문제 6\n",
    "영문, 숫자 포함하여 특수문자 모두 제거(오늘 수업내용 중)\n",
    "\n",
    "res=req.urlopen(url)\n",
    "soup=BeautifulSoup(res, 'html.parser')\n",
    "#soup.title.string\n",
    "title=soup.find(\"title\").string\n",
    "\n",
    "#wf태그값 추출\n",
    "soup.find('wf').string"
   ]
  },
  {
   "cell_type": "code",
   "execution_count": 6,
   "metadata": {},
   "outputs": [
    {
     "name": "stdout",
     "output_type": "stream",
     "text": [
      "기압골의 영향으로 6일부터 8일 사이에 전국에 비 또는 눈이 오겠고, 제주도는 10~11일에도 비가 오겠습니다. <br />한편, 동풍의 영향으로 9일은 강원영동에 비 또는 눈이 오겠습니다. 그 밖의 날은 고기압의 가장자리에 들어 가끔 구름많겠습니다.<br />기온은 평년(최저기온: -12~0℃, 최고기온: 0~8℃)보다 높겠습니다.<br />강수량은 평년(0~3mm)보다 많겠습니다.\n",
      "\n",
      "기압골의 영향으로  일부터  일 사이에 전국에 비 또는 눈이 오겠고  제주도는      일에도 비가 오겠습니다        한편  동풍의 영향으로  일은 강원영동에 비 또는 눈이 오겠습니다  그 밖의 날은 고기압의 가장자리에 들어 가끔 구름많겠습니다       기온은 평년 최저기온          최고기온       보다 높겠습니다       강수량은 평년       보다 많겠습니다 \n"
     ]
    }
   ],
   "source": [
    "url = \"https://www.weather.go.kr/weather/forecast/mid-term-rss3.jsp\"\n",
    "\n",
    "res=req.urlopen(url)\n",
    "soup=BeautifulSoup(res, 'html.parser')\n",
    "#soup.title.string\n",
    "title=soup.find(\"title\").string\n",
    "\n",
    "#wf태그값 추출\n",
    "text = soup.find('wf').string\n",
    "\n",
    "parse = re.sub('[0-9a-zA-Z\\W]',' ',text) # 불용어를 ' ' 빈칸으로 대체\n",
    "print(text)\n",
    "print()\n",
    "print(parse)"
   ]
  },
  {
   "cell_type": "code",
   "execution_count": null,
   "metadata": {},
   "outputs": [],
   "source": []
  }
 ],
 "metadata": {
  "kernelspec": {
   "display_name": "Python 3",
   "language": "python",
   "name": "python3"
  },
  "language_info": {
   "codemirror_mode": {
    "name": "ipython",
    "version": 3
   },
   "file_extension": ".py",
   "mimetype": "text/x-python",
   "name": "python",
   "nbconvert_exporter": "python",
   "pygments_lexer": "ipython3",
   "version": "3.7.4"
  }
 },
 "nbformat": 4,
 "nbformat_minor": 2
}
