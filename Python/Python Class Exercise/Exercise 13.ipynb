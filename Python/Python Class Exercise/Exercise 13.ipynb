{
 "cells": [
  {
   "cell_type": "markdown",
   "metadata": {},
   "source": [
    "# Problem 01"
   ]
  },
  {
   "cell_type": "markdown",
   "metadata": {},
   "source": [
    "#1 연속으로 숫자 3개를 곱했을때 얻어지는 결과 값이 가장 큰 구간이 어디인지 출력하시오"
   ]
  },
  {
   "cell_type": "code",
   "execution_count": 1,
   "metadata": {},
   "outputs": [
    {
     "name": "stdout",
     "output_type": "stream",
     "text": [
      "[-7 -9  8] 504\n"
     ]
    }
   ],
   "source": [
    "import numpy as np\n",
    "\n",
    "def multi(s):\n",
    "    multi = 1\n",
    "    for i in s:\n",
    "        multi *= i\n",
    "    return multi\n",
    "\n",
    "x=np.array([3,2,1,-4,-7,-9,8,-5,3,-1])\n",
    "dic = {}\n",
    "maxv = 0\n",
    "for i in range(len(x)-2):\n",
    "    dic['%s' % str(i)] = multi(x[i:i+3])\n",
    "\n",
    "for i in dic:\n",
    "    if dic[i] == max(dic.values()):\n",
    "        n = int(i)\n",
    "        print(x[n:n+3], max(dic.values()))"
   ]
  },
  {
   "cell_type": "markdown",
   "metadata": {},
   "source": [
    "# Problem 02"
   ]
  },
  {
   "cell_type": "markdown",
   "metadata": {},
   "source": [
    "#2 2*2의 영역을 구성하는 수를 모두 곱했을때 얻어지는 결과값이 가장 큰 구간이 어디인지 출력하시오\n",
    "\n"
   ]
  },
  {
   "cell_type": "code",
   "execution_count": 2,
   "metadata": {},
   "outputs": [
    {
     "name": "stdout",
     "output_type": "stream",
     "text": [
      "6\n",
      "[[3 1]\n",
      " [2 1]]\n"
     ]
    }
   ],
   "source": [
    "ar=np.array([[3,1,2],[2,1,-3],[-2,0,-7]])\n",
    "\n",
    "row, col = ar.shape\n",
    "max_val = 0\n",
    "for i in range(row-1):\n",
    "     for j in range(col-1):\n",
    "        val = ar[i][j]*ar[i][j+1]*ar[i+1][j]*ar[i+1][j+1] \n",
    "        if max_val < val:\n",
    "            max_val = val\n",
    "            place = ar[i:i+2,j:j+2]\n",
    "print(max_val)\n",
    "print(place)"
   ]
  },
  {
   "cell_type": "markdown",
   "metadata": {},
   "source": [
    "# Problem 03"
   ]
  },
  {
   "cell_type": "markdown",
   "metadata": {},
   "source": [
    "다음 행렬과 같은 행렬이 있다.\n",
    "\n",
    "m = np.array([[ 0,  1,  2,  3,  4],    \n",
    "              [ 5,  6,  7,  8,  9],    \n",
    "              [10, 11, 12, 13, 14]])    \n",
    "이 행렬에서 값 7 을 인덱싱한다.    \n",
    "이 행렬에서 값 14 을 인덱싱한다.    \n",
    "이 행렬에서 배열 [6, 7] 을 슬라이싱한다.    \n",
    "이 행렬에서 배열 [7, 12] 을 슬라이싱한다.    \n",
    "이 행렬에서 배열 [[3, 4], [8, 9]] 을 슬라이싱한다.    "
   ]
  },
  {
   "cell_type": "code",
   "execution_count": 3,
   "metadata": {},
   "outputs": [],
   "source": [
    "import numpy as np\n",
    "import pandas as pd\n",
    "\n",
    "m = np.array([[ 0,  1,  2,  3,  4],\n",
    "              [ 5,  6,  7,  8,  9],\n",
    "              [10, 11, 12, 13, 14]])"
   ]
  },
  {
   "cell_type": "code",
   "execution_count": 4,
   "metadata": {},
   "outputs": [
    {
     "data": {
      "text/plain": [
       "7"
      ]
     },
     "execution_count": 4,
     "metadata": {},
     "output_type": "execute_result"
    }
   ],
   "source": [
    "m[1,2]"
   ]
  },
  {
   "cell_type": "code",
   "execution_count": 5,
   "metadata": {},
   "outputs": [
    {
     "data": {
      "text/plain": [
       "14"
      ]
     },
     "execution_count": 5,
     "metadata": {},
     "output_type": "execute_result"
    }
   ],
   "source": [
    "m[-1,-1]"
   ]
  },
  {
   "cell_type": "code",
   "execution_count": 6,
   "metadata": {},
   "outputs": [
    {
     "data": {
      "text/plain": [
       "array([6, 7])"
      ]
     },
     "execution_count": 6,
     "metadata": {},
     "output_type": "execute_result"
    }
   ],
   "source": [
    "m[1,1:3]"
   ]
  },
  {
   "cell_type": "code",
   "execution_count": 7,
   "metadata": {},
   "outputs": [
    {
     "data": {
      "text/plain": [
       "array([ 7, 12])"
      ]
     },
     "execution_count": 7,
     "metadata": {},
     "output_type": "execute_result"
    }
   ],
   "source": [
    "m[1:,2]"
   ]
  },
  {
   "cell_type": "code",
   "execution_count": 8,
   "metadata": {},
   "outputs": [
    {
     "data": {
      "text/plain": [
       "array([[3, 4],\n",
       "       [8, 9]])"
      ]
     },
     "execution_count": 8,
     "metadata": {},
     "output_type": "execute_result"
    }
   ],
   "source": [
    "m[:2,-2:]"
   ]
  },
  {
   "cell_type": "markdown",
   "metadata": {},
   "source": [
    "# Problem 04"
   ]
  },
  {
   "cell_type": "markdown",
   "metadata": {},
   "source": [
    "다음 행렬과 같은 배열이 있다.\n",
    "\n",
    "x = np.array([1, 2, 3, 4, 5, 6, 7, 8, 9, 10,     \n",
    "              11, 12, 13, 14, 15, 16, 17, 18, 19, 20])     \n",
    "이 배열에서 3의 배수를 찾아라.     \n",
    "이 배열에서 4로 나누면 1이 남는 수를 찾아라.     \n",
    "이 배열에서 3으로 나누면 나누어지고 4로 나누면 1이 남는 수를 찾아라.     "
   ]
  },
  {
   "cell_type": "code",
   "execution_count": 9,
   "metadata": {},
   "outputs": [],
   "source": [
    "x = np.array([1, 2, 3, 4, 5, 6, 7, 8, 9, 10,\n",
    "              11, 12, 13, 14, 15, 16, 17, 18, 19, 20])"
   ]
  },
  {
   "cell_type": "code",
   "execution_count": 10,
   "metadata": {},
   "outputs": [
    {
     "data": {
      "text/plain": [
       "array([ 3,  6,  9, 12, 15, 18])"
      ]
     },
     "execution_count": 10,
     "metadata": {},
     "output_type": "execute_result"
    }
   ],
   "source": [
    "x3 = x[x % 3 == 0]\n",
    "x3"
   ]
  },
  {
   "cell_type": "code",
   "execution_count": 11,
   "metadata": {},
   "outputs": [
    {
     "data": {
      "text/plain": [
       "array([ 1,  5,  9, 13, 17])"
      ]
     },
     "execution_count": 11,
     "metadata": {},
     "output_type": "execute_result"
    }
   ],
   "source": [
    "x4 = x[x % 4 == 1]\n",
    "x4"
   ]
  },
  {
   "cell_type": "code",
   "execution_count": 12,
   "metadata": {
    "scrolled": true
   },
   "outputs": [
    {
     "data": {
      "text/plain": [
       "array([9])"
      ]
     },
     "execution_count": 12,
     "metadata": {},
     "output_type": "execute_result"
    }
   ],
   "source": [
    "np.intersect1d(x3,x4)"
   ]
  },
  {
   "cell_type": "markdown",
   "metadata": {},
   "source": [
    "# Problem 05"
   ]
  },
  {
   "cell_type": "markdown",
   "metadata": {},
   "source": [
    "90도 회전시 벽돌 이동거리가 최대인 값 출력"
   ]
  },
  {
   "cell_type": "code",
   "execution_count": 13,
   "metadata": {},
   "outputs": [
    {
     "name": "stdout",
     "output_type": "stream",
     "text": [
      "7\n"
     ]
    }
   ],
   "source": [
    "box_height = np.array([7,4,2,0,0,6,0,7,0])\n",
    "row = 8\n",
    "col = len(box_height)\n",
    "max_len = 0 # 초기화\n",
    "for i in range(1,row+1): # 행\n",
    "    for j in range(1,col+1): # 열\n",
    "        if box_height[j-1] - (i) < 0: # 해당 열에서 박스 높이만큼 빼서\n",
    "            continue                 # 해당 열에 박스가 있는지 확인\n",
    "        under_boxes = box_height[j:][box_height[j:] >= i] # 아래 박스의 갯수\n",
    "        move_len = (col-j) - len(under_boxes) # 이동거리 = 기존자리 - 아래 박스갯수 \n",
    "        max_len = max(col-j - len(under_boxes),max_len) #가장 큰 친구 값 저장\n",
    "print(max_len)"
   ]
  },
  {
   "cell_type": "code",
   "execution_count": null,
   "metadata": {},
   "outputs": [],
   "source": []
  }
 ],
 "metadata": {
  "kernelspec": {
   "display_name": "Python 3",
   "language": "python",
   "name": "python3"
  },
  "language_info": {
   "codemirror_mode": {
    "name": "ipython",
    "version": 3
   },
   "file_extension": ".py",
   "mimetype": "text/x-python",
   "name": "python",
   "nbconvert_exporter": "python",
   "pygments_lexer": "ipython3",
   "version": "3.7.4"
  }
 },
 "nbformat": 4,
 "nbformat_minor": 2
}
