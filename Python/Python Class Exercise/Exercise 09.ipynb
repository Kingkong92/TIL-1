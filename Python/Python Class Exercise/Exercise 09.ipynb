{
 "cells": [
  {
   "cell_type": "markdown",
   "metadata": {},
   "source": [
    "어려운 문제\n",
    "\n",
    "Baby-gin Game\n",
    "설명\n",
    "0~9 사이의 숫자 카드에서 임의의 카드 6장을 뽑았을 때, 3장의 카드가\n",
    "연속적인 번호를 갖는 경우를 run이라 하고, 3장의 카드가 동일한 번호\n",
    "를 갖는 경우를 triplet이라고 한다.\n",
    "그리고, 6장의 카드가 run과 triplet로맊 구성된 경우를 baby-gin으로\n",
    "부른다.\n",
    "6자리의 숫자를 입력 받아 baby-gin 여부를 판단하는 프로그램을 작성\n",
    "하라.\n",
    "\n",
    "입력 예\n",
    "667767은 두 개의 triplet이므로 baby-gin이다. (666, 777)\n",
    "054060은 한 개의 run과 한 개의 triplet이므로 역시 baby-gin이다.\n",
    "(456, 000)\n",
    "101123은 한 개의 triplet가 존재하나, 023이 run이 아니므로 baby-gin\n",
    "이 아니다.\n",
    "(123을 run으로 사용하더라도 011이 run이나 triplet가 아님)\n",
    "\n"
   ]
  },
  {
   "cell_type": "code",
   "execution_count": 112,
   "metadata": {},
   "outputs": [
    {
     "name": "stdout",
     "output_type": "stream",
     "text": [
      "True\n",
      "True\n",
      "True\n",
      "True\n",
      "True\n",
      "True\n",
      "True\n",
      "Falseeseseseses\n",
      "False\n",
      "False\n",
      "False\n",
      "False\n"
     ]
    }
   ],
   "source": [
    "def is_babygin(string):\n",
    "    num_list = sorted(list(string))\n",
    "    for num in num_list:\n",
    "        if num_list.count(num) >= 3:\n",
    "            num_list.remove(num)\n",
    "            num_list.remove(num)\n",
    "            num_list.remove(num)\n",
    "            \n",
    "    num_list = list(map(int,num_list))\n",
    "    \n",
    "    j = 0\n",
    "    while j != 2:\n",
    "        if len(num_list) == 3:\n",
    "            if num_list[0] + 1 == num_list[1] and num_list[1] + 1 == num_list[2]:\n",
    "                num_list = []\n",
    "        elif len(num_list) == 6:\n",
    "            if num_list[0] + 1 == num_list[1] and num_list[1] + 1 == num_list[2]:\n",
    "                del(num_list[0:3])\n",
    "            if num_list[0] + 1 == num_list[2] and num_list[0] + 1 == num_list[4]:\n",
    "                num_list.remove(num_list[4])\n",
    "                num_list.remove(num_list[2])\n",
    "                num_list.remove(num_list[0])\n",
    "        j += 1\n",
    "        \n",
    "    if num_list == []:\n",
    "        return True\n",
    "    else:\n",
    "        return False\n",
    "\n",
    "print(is_babygin('123456'))\n",
    "print(is_babygin('654321'))\n",
    "print(is_babygin('444888'))\n",
    "print(is_babygin('222666'))\n",
    "print(is_babygin('135246'))\n",
    "print(is_babygin('987654'))\n",
    "print(is_babygin('999456'))\n",
    "print(\"Falseeseseseses\")\n",
    "print(is_babygin('000112'))\n",
    "print(is_babygin('164873'))\n",
    "print(is_babygin('112234'))\n",
    "print(is_babygin('112233'))\n"
   ]
  }
 ],
 "metadata": {
  "kernelspec": {
   "display_name": "Python 3",
   "language": "python",
   "name": "python3"
  },
  "language_info": {
   "codemirror_mode": {
    "name": "ipython",
    "version": 3
   },
   "file_extension": ".py",
   "mimetype": "text/x-python",
   "name": "python",
   "nbconvert_exporter": "python",
   "pygments_lexer": "ipython3",
   "version": "3.7.4"
  }
 },
 "nbformat": 4,
 "nbformat_minor": 2
}
