{
 "cells": [
  {
   "cell_type": "markdown",
   "metadata": {},
   "source": [
    "# Problem 01"
   ]
  },
  {
   "cell_type": "markdown",
   "metadata": {},
   "source": [
    "```\n",
    "진수는 어린 동욱이에게 숫자 공부를 시키고 있다.\n",
    "진수는 숫자를 여러 번 말한다.\n",
    "그러면 동욱이는 진수가 부르는 숫자를 공책에 적거나 지운다.\n",
    "숫자를 적을 때는 공책에 그 숫자가 적혀 있지 않을 때이고,\n",
    "숫자를 지울 때는 공책에 그 숫자가 적혀 있을 때이다.\n",
    "처음 공책에는 어떤 숫자도 적혀 있지 않다고 할 때,\n",
    "마지막에 공책에 적힌 숫자의 개수를 구하는 프로그램을 작성하라.\n",
    "\n",
    "[입력]\n",
    "\n",
    "첫 번째 줄에 테스트 케이스의 수 T가 주어진다.\n",
    "각 테스트 케이스의 첫 번째 줄에는 ‘0’에서 ‘9’사이의 숫자로 이루어진 길이 1이상 104이하의 문자열이 주어진다.\n",
    "\n",
    "문자열은 진수가 말하는 숫자를 순서대로 나타낸다.\n",
    "\n",
    "[출력]\n",
    "각 테스트 케이스마다 ‘#x’(x는 테스트케이스 번호를 의미하며 1부터 시작한다)를 출력하고,\n",
    "각 테스트 케이스 마다 마지막에 공책에 적힌 숫자의 개수를 출력한다.\n",
    "\n",
    "입력\n",
    "3\n",
    "121\n",
    "0123456789\n",
    "555555\n",
    "\n",
    "// 테스트 케이스 개수\n",
    "// 첫 번째 테스트 케이스 문자열\n",
    "// 두 번째 테스트 케이스 문자열\n",
    " \n",
    "sample_input.txt\n",
    "출력\n",
    "#1 1\n",
    "#2 10\n",
    "#3 0\n",
    "```"
   ]
  },
  {
   "cell_type": "code",
   "execution_count": 25,
   "metadata": {},
   "outputs": [
    {
     "name": "stdout",
     "output_type": "stream",
     "text": [
      "3\n",
      "121\n",
      "0123456789\n",
      "555555\n",
      "1\n",
      "10\n",
      "0\n"
     ]
    }
   ],
   "source": [
    "# 방법 1\n",
    "T = int(input())\n",
    "test_case = []\n",
    "for _ in range(T):\n",
    "    test_case.append(input())\n",
    "\n",
    "for test in test_case:\n",
    "    result = []\n",
    "    for t in test:\n",
    "        if t in result:\n",
    "            result.remove(t)\n",
    "        else:\n",
    "            result.append(t)\n",
    "    print(len(result))"
   ]
  },
  {
   "cell_type": "code",
   "execution_count": 26,
   "metadata": {},
   "outputs": [
    {
     "name": "stdout",
     "output_type": "stream",
     "text": [
      "3\n",
      "121\n",
      "0123456789\n",
      "555555\n",
      "1\n",
      "10\n",
      "0\n"
     ]
    }
   ],
   "source": [
    "# 방법 2\n",
    "T = int(input())\n",
    "test_case = []\n",
    "for _ in range(T):\n",
    "    test_case.append(input())\n",
    "\n",
    "for test in test_case:\n",
    "    test_set = set(test)\n",
    "    cnt = 0\n",
    "    for t in test_set:\n",
    "        count = test.count(t)\n",
    "        if count % 2 == 1:\n",
    "            cnt += 1\n",
    "    print(cnt)"
   ]
  },
  {
   "cell_type": "code",
   "execution_count": null,
   "metadata": {},
   "outputs": [],
   "source": []
  }
 ],
 "metadata": {
  "kernelspec": {
   "display_name": "Python 3",
   "language": "python",
   "name": "python3"
  },
  "language_info": {
   "codemirror_mode": {
    "name": "ipython",
    "version": 3
   },
   "file_extension": ".py",
   "mimetype": "text/x-python",
   "name": "python",
   "nbconvert_exporter": "python",
   "pygments_lexer": "ipython3",
   "version": "3.7.4"
  }
 },
 "nbformat": 4,
 "nbformat_minor": 2
}
