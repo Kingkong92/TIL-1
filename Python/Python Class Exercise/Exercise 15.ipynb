{
 "cells": [
  {
   "cell_type": "markdown",
   "metadata": {},
   "source": [
    "# Problem 01 : Practice merge,concat,join"
   ]
  },
  {
   "cell_type": "code",
   "execution_count": null,
   "metadata": {},
   "outputs": [],
   "source": [
    "import pandas as pd\n",
    "import numpy as np\n"
   ]
  },
  {
   "cell_type": "code",
   "execution_count": null,
   "metadata": {},
   "outputs": [],
   "source": [
    "path =r\"C:\\Users\\Administrator\\Desktop\\data\\\\\"\n",
    "\n",
    "concat1 = pd.read_csv(path + 'concat_1.csv')\n",
    "concat1"
   ]
  },
  {
   "cell_type": "code",
   "execution_count": null,
   "metadata": {},
   "outputs": [],
   "source": [
    "concat2 = pd.read_csv(path + 'concat_2.csv')\n",
    "concat2"
   ]
  },
  {
   "cell_type": "code",
   "execution_count": null,
   "metadata": {},
   "outputs": [],
   "source": [
    "concat3 = pd.read_csv(path + 'concat_3.csv')\n",
    "concat3"
   ]
  },
  {
   "cell_type": "code",
   "execution_count": null,
   "metadata": {},
   "outputs": [],
   "source": [
    "df12 = pd.merge(concat1,concat2, left_index=False,right_index=False,how='outer')\n",
    "df12"
   ]
  },
  {
   "cell_type": "code",
   "execution_count": null,
   "metadata": {},
   "outputs": [],
   "source": [
    "df123 = pd.merge(df12,concat3,left_index=False,right_index=False,how='outer')\n",
    "df123"
   ]
  },
  {
   "cell_type": "code",
   "execution_count": null,
   "metadata": {},
   "outputs": [],
   "source": [
    "df4 = pd.merge(df12,concat3,left_index=False,right_index=False,how='left')\n",
    "df4"
   ]
  },
  {
   "cell_type": "code",
   "execution_count": null,
   "metadata": {},
   "outputs": [],
   "source": [
    "pd.concat([concat1,concat2])"
   ]
  },
  {
   "cell_type": "code",
   "execution_count": null,
   "metadata": {},
   "outputs": [],
   "source": [
    "pd.concat([concat1,concat2], ignore_index=True, axis=1)"
   ]
  },
  {
   "cell_type": "code",
   "execution_count": null,
   "metadata": {},
   "outputs": [],
   "source": [
    "pd.concat([concat1,concat2,concat3],ignore_index=True)"
   ]
  },
  {
   "cell_type": "code",
   "execution_count": null,
   "metadata": {},
   "outputs": [],
   "source": [
    "concat1.join(concat2,rsuffix='1')"
   ]
  },
  {
   "cell_type": "code",
   "execution_count": null,
   "metadata": {},
   "outputs": [],
   "source": []
  },
  {
   "cell_type": "code",
   "execution_count": null,
   "metadata": {},
   "outputs": [],
   "source": []
  },
  {
   "cell_type": "code",
   "execution_count": null,
   "metadata": {},
   "outputs": [],
   "source": [
    "s_person = pd.read_csv(path + 'survey_person.csv')\n",
    "s_person"
   ]
  },
  {
   "cell_type": "code",
   "execution_count": null,
   "metadata": {},
   "outputs": [],
   "source": [
    "s_site = pd.read_csv(path + 'survey_site.csv')\n",
    "s_site"
   ]
  },
  {
   "cell_type": "code",
   "execution_count": null,
   "metadata": {},
   "outputs": [],
   "source": [
    "pd.merge(s_person,s_site, left_index=True, right_index=True,how='outer')"
   ]
  },
  {
   "cell_type": "code",
   "execution_count": null,
   "metadata": {},
   "outputs": [],
   "source": [
    "s_survey = pd.read_csv(path + 'survey_survey.csv')\n",
    "s_survey"
   ]
  },
  {
   "cell_type": "code",
   "execution_count": null,
   "metadata": {},
   "outputs": [],
   "source": [
    "s_visted = pd.read_csv(path + 'survey_visited.csv')\n",
    "s_visted"
   ]
  },
  {
   "cell_type": "markdown",
   "metadata": {},
   "source": [
    "# Problem 02"
   ]
  },
  {
   "cell_type": "markdown",
   "metadata": {},
   "source": [
    "강변에 있는 밀집 지역에서 왼쪽 또는 오른쪽 창문을 열었을 때 공간이 2 이상인 세대의 수를 반환하라"
   ]
  },
  {
   "cell_type": "code",
   "execution_count": 17,
   "metadata": {},
   "outputs": [
    {
     "name": "stdout",
     "output_type": "stream",
     "text": [
      "6\n"
     ]
    }
   ],
   "source": [
    "buildings = [0,0,3,5,2,4,9,0,6,4,0,6,0,0]\n",
    "cnt = 0\n",
    "for i in range(2,len(buildings)-2):\n",
    "    side_buildings = buildings[i-2:i+3]\n",
    "    side_buildings.remove(buildings[i])\n",
    "    diff = buildings[i] - max(side_buildings)\n",
    "    if diff > 0:\n",
    "        cnt += diff\n",
    "print(cnt)\n",
    "        \n",
    "    "
   ]
  },
  {
   "cell_type": "code",
   "execution_count": 18,
   "metadata": {},
   "outputs": [
    {
     "data": {
      "text/plain": [
       "6"
      ]
     },
     "execution_count": 18,
     "metadata": {},
     "output_type": "execute_result"
    }
   ],
   "source": [
    "import numpy as np\n",
    "\n",
    "buildings = [0,0,3,5,2,4,9,0,6,4,0,6,0,0]\n",
    "\n",
    "building = np.array(buildings[2:-2])\n",
    "left2 = buildings[4:]\n",
    "left1 = buildings[3:-1]\n",
    "right1 = buildings[1:-3]\n",
    "right2 = buildings[0:-4]\n",
    "\n",
    "l2 = building - np.array(left2)\n",
    "l1 = building - np.array(left1)\n",
    "r1 = building - np.array(right1)\n",
    "r2 = building - np.array(right2)\n",
    "\n",
    "list1 = [min(r1[x],r2[x],l1[x],l2[x]) \n",
    "         for x in range(len(building)) \n",
    "        if min(r1[x],r2[x],l1[x],l2[x]) > 0]\n",
    "sum(list1)"
   ]
  }
 ],
 "metadata": {
  "kernelspec": {
   "display_name": "Python 3",
   "language": "python",
   "name": "python3"
  },
  "language_info": {
   "codemirror_mode": {
    "name": "ipython",
    "version": 3
   },
   "file_extension": ".py",
   "mimetype": "text/x-python",
   "name": "python",
   "nbconvert_exporter": "python",
   "pygments_lexer": "ipython3",
   "version": "3.7.4"
  }
 },
 "nbformat": 4,
 "nbformat_minor": 2
}
