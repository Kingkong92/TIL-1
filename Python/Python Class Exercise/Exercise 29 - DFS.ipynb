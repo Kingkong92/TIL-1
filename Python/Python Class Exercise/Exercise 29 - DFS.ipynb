{
 "cells": [
  {
   "cell_type": "markdown",
   "metadata": {},
   "source": [
    "# Problem 01"
   ]
  },
  {
   "cell_type": "markdown",
   "metadata": {},
   "source": [
    "```\n",
    "1. 아래 조건에 따라 리스트를 회전하는 프로그램을 작성하시오.\n",
    "\n",
    "조건\n",
    "입력값은 한 행의 문자열로 주어지며, 각 값은 공백으로 구분된다.\n",
    "\n",
    "첫 번째 값은 리스트를 회전하는 양과 방향(음수의 경우 좌측으로, 양수의 경우 우측으로 회전)이다.\n",
    "\n",
    "첫 번째 값을 제외한 나머지 값은 리스트의 각 항목의 값이다.\n",
    "\n",
    "회전된 리스트를 문자열로 출력한다.\n",
    "\n",
    "구현에 이용할 자료구조에 대한 조건이나 제약은 없다.\n",
    "\n",
    "입력되는 리스트의 항목의 개수는 유한한다.\n",
    "\n",
    "입출력예\n",
    "예 1)\n",
    "\n",
    "입력: 1 10 20 30 40 50\n",
    "\n",
    "출력: 50 10 20 30 40\n",
    "\n",
    "예 2)\n",
    "\n",
    "입력: 4 가 나 다 라 마 바 사\n",
    "\n",
    "출력: 라 마 바 사 가 나 다\n",
    "\n",
    "예 3)\n",
    "\n",
    "입력: -2 A B C D E F G\n",
    "\n",
    "출력: C D E F G A B\n",
    "\n",
    "예 4)\n",
    "\n",
    "입력: 0 똘기 떵이 호치 새초미\n",
    "\n",
    "출력: 똘기 떵이 호치 새초미\n",
    "\n",
    "```"
   ]
  },
  {
   "cell_type": "code",
   "execution_count": 41,
   "metadata": {},
   "outputs": [
    {
     "name": "stdout",
     "output_type": "stream",
     "text": [
      "입력 : 4 가 나 다 라 마 바 사\n",
      "라 마 바 사 가 나 다\n"
     ]
    }
   ],
   "source": [
    "data = input(\"입력 : \").split(' ')\n",
    "n, data = int(data[0])%len(data[1:]), data[1:]\n",
    "\n",
    "if n == 0:\n",
    "    data = data\n",
    "elif n > 0 :\n",
    "    data = data[-n:] + data[:-n]\n",
    "else:\n",
    "    n = abs(n)\n",
    "    data = data[n:] + data[:n]\n",
    "print(\" \".join(data))"
   ]
  },
  {
   "cell_type": "markdown",
   "metadata": {},
   "source": [
    "# Problem 02"
   ]
  },
  {
   "cell_type": "markdown",
   "metadata": {},
   "source": [
    "```\n",
    "2. 당신은 그림판의 '색 채우기' 기능을 구현하려한다.\n",
    "\n",
    "이미지 크기는 제한이 없다. (처리속도 < 3s)\n",
    "\n",
    "입력 설명\n",
    "\n",
    "가로 세로\n",
    "색을 채우기 시작할 점 과 색\n",
    "이미지의 색상 데이터\n",
    "입력 예시\n",
    "\n",
    "10 10\n",
    "5 5 3\n",
    "0000000000\n",
    "0000001000\n",
    "0000110100\n",
    "0011000010\n",
    "0100000010\n",
    "0100000010\n",
    "0100000100\n",
    "0010001000\n",
    "0001011000\n",
    "0000100000\n",
    "출력 예시\n",
    "\n",
    "0000000000\n",
    "0000001000\n",
    "0000113100\n",
    "0011333310\n",
    "0133333310\n",
    "0133333310\n",
    "0133333100\n",
    "0013331000\n",
    "0001331000\n",
    "0000100000\n",
    "\n",
    "```"
   ]
  },
  {
   "cell_type": "code",
   "execution_count": 195,
   "metadata": {},
   "outputs": [
    {
     "name": "stdout",
     "output_type": "stream",
     "text": [
      "[0, 0, 0, 0, 0, 0, 0, 0, 0, 0]\n",
      "[0, 0, 1, 1, 0, 1, 1, 1, 0, 0]\n",
      "[0, 1, 5, 1, 0, 1, 5, 5, 1, 0]\n",
      "[1, 5, 5, 1, 0, 1, 5, 5, 5, 1]\n",
      "[1, 5, 5, 1, 0, 1, 5, 5, 5, 1]\n",
      "[5, 5, 5, 5, 1, 5, 5, 5, 5, 5]\n",
      "[5, 5, 5, 5, 5, 5, 5, 5, 5, 5]\n",
      "[1, 5, 5, 5, 5, 5, 5, 5, 5, 5]\n",
      "[0, 1, 5, 5, 5, 5, 5, 1, 1, 1]\n",
      "[0, 0, 1, 1, 1, 1, 1, 0, 0, 0]\n"
     ]
    }
   ],
   "source": [
    "data = \"\"\"\n",
    "0000000000\n",
    "0011011100\n",
    "0101010010\n",
    "1001010001\n",
    "1001010001\n",
    "0000100000\n",
    "0000000000\n",
    "1000000000\n",
    "0100000111\n",
    "0011111000\n",
    "\"\"\"\n",
    "row, col = map(int,(input().split(' '))) # 10 10\n",
    "x, y, c = map(int,input().split(' '))   # 5 5 3\n",
    "\n",
    "# 2차원 리스트로 변경\n",
    "data = list(map(list,data.strip().split('\\n'))) \n",
    "dd = []\n",
    "for d in data:\n",
    "    dd.append(list(map(int,d)))\n",
    "#방문 경로 리스트로 만들기 \n",
    "visited = list(map(list,[\"0\" * col]*row))\n",
    "visi = []\n",
    "for v in visited:\n",
    "    visi.append(list(map(int,v)))\n",
    "\n",
    "#진짜 시작\n",
    "#탐색위치 아래/우/위/좌\n",
    "dx = [-1,0,1,0]\n",
    "dy = [0,1,0,-1]\n",
    "#DFS 재귀 방식\n",
    "def dfs_recursion(x, y):\n",
    "    visi[x][y] = 1\n",
    "    if dd[x][y] == 0:\n",
    "        dd[x][y] = c\n",
    "    \n",
    "    for i in range(4):\n",
    "        nx = x + dx[i]\n",
    "        ny = y + dy[i]\n",
    "        if((0 <= nx < row) and (0<=ny<col)):\n",
    "            if((visi[nx][ny]==0) and (dd[nx][ny]==0)):\n",
    "                dfs_recursion(nx,ny)\n",
    "# 시작\n",
    "dfs_recursion(x, y)\n",
    "# 예쁜출력\n",
    "for d in dd:\n",
    "    print(d)"
   ]
  },
  {
   "cell_type": "code",
   "execution_count": 174,
   "metadata": {},
   "outputs": [],
   "source": [
    "visited = \"\"\"\n",
    "0000000000\n",
    "0000000000\n",
    "0000000000\n",
    "0000000000\n",
    "0000000000\n",
    "0000000000\n",
    "0000000000\n",
    "0000000000\n",
    "0000000000\n",
    "0000000000\n",
    "\"\"\""
   ]
  },
  {
   "cell_type": "code",
   "execution_count": 149,
   "metadata": {},
   "outputs": [
    {
     "data": {
      "text/plain": [
       "[[False, False, False, False, False, False, False, False, False, False],\n",
       " [False, False, False, False, False, False, False, False, False, False],\n",
       " [False, False, False, False, False, False, False, False, False, False],\n",
       " [False, False, False, False, False, False, False, False, False, False],\n",
       " [False, False, False, False, False, False, False, False, False, False],\n",
       " True,\n",
       " True,\n",
       " [False, False, False, False, False, False, False, False, False, False],\n",
       " [False, False, False, False, False, False, False, False, False, False],\n",
       " [False, False, False, False, False, False, False, False, False, False]]"
      ]
     },
     "execution_count": 149,
     "metadata": {},
     "output_type": "execute_result"
    }
   ],
   "source": [
    "visited[6] = True\n",
    "visited"
   ]
  },
  {
   "cell_type": "code",
   "execution_count": 189,
   "metadata": {},
   "outputs": [
    {
     "data": {
      "text/plain": [
       "[[0, 0, 0, 0, 0, 0, 0, 0, 0, 0],\n",
       " [0, 0, 0, 0, 0, 0, 0, 0, 0, 0],\n",
       " [0, 0, 0, 0, 0, 0, 0, 0, 0, 0],\n",
       " [0, 0, 0, 0, 0, 0, 0, 0, 0, 0],\n",
       " [0, 0, 0, 0, 0, 0, 0, 0, 0, 0],\n",
       " [0, 0, 0, 0, 0, 1, 0, 0, 0, 0],\n",
       " [0, 0, 0, 0, 0, 0, 0, 0, 0, 0],\n",
       " [0, 0, 0, 0, 0, 0, 0, 0, 0, 0],\n",
       " [0, 0, 0, 0, 0, 0, 0, 0, 0, 0],\n",
       " [0, 0, 0, 0, 0, 0, 0, 0, 0, 0]]"
      ]
     },
     "execution_count": 189,
     "metadata": {},
     "output_type": "execute_result"
    }
   ],
   "source": [
    "visited = [\"0\" * col]*row\n",
    "visited = list(map(list,visited))\n",
    "visi = []\n",
    "for v in visited:\n",
    "    visi.append(list(map(int,v)))\n",
    "\n"
   ]
  },
  {
   "cell_type": "code",
   "execution_count": null,
   "metadata": {},
   "outputs": [],
   "source": []
  }
 ],
 "metadata": {
  "kernelspec": {
   "display_name": "Python 3",
   "language": "python",
   "name": "python3"
  },
  "language_info": {
   "codemirror_mode": {
    "name": "ipython",
    "version": 3
   },
   "file_extension": ".py",
   "mimetype": "text/x-python",
   "name": "python",
   "nbconvert_exporter": "python",
   "pygments_lexer": "ipython3",
   "version": "3.7.4"
  }
 },
 "nbformat": 4,
 "nbformat_minor": 2
}
