{
 "cells": [
  {
   "cell_type": "markdown",
   "metadata": {},
   "source": [
    "# Problem 01"
   ]
  },
  {
   "cell_type": "markdown",
   "metadata": {},
   "source": [
    "```\n",
    "\n",
    "1.\n",
    "A, B, C 세 회사의 주식은 각각 100만원, 80만원, 50만원이다. 이 주식을 각각 3주, 4주, 5주를 매수할 때 필요한 금액을 구하고자 한다.\n",
    "\n",
    "(1) 주식의 가격과 수량을 각각  p  벡터,  n  벡터로 표시하고 넘파이로 코딩한다.\n",
    "\n",
    "(2) 주식을 매수할 때 필요한 금액을 곱셈으로 표시하고 넘파이 연산으로 그 값을 계산한다.\n",
    "```"
   ]
  },
  {
   "cell_type": "code",
   "execution_count": 1,
   "metadata": {},
   "outputs": [
    {
     "data": {
      "text/plain": [
       "array([33.33333333, 20.        , 10.        ])"
      ]
     },
     "execution_count": 1,
     "metadata": {},
     "output_type": "execute_result"
    }
   ],
   "source": [
    "import numpy as np\n",
    "p = np.array([100,80,50])\n",
    "n = np.array([3,4,5])\n",
    "\n",
    "p/n"
   ]
  },
  {
   "cell_type": "markdown",
   "metadata": {},
   "source": [
    "# Problem 02"
   ]
  },
  {
   "cell_type": "markdown",
   "metadata": {},
   "source": [
    "```\n",
    "2.\n",
    "다음 코드를 실행하면 MNIST 숫자 이미지 전체 데이터를 모두 벡터로 변환하여 하나의 넘파이 행렬 X를 만든다. 이 행렬을 이용하여 다음 문제를 풀어라.\n",
    "\n",
    "from sklearn.datasets import load_digits\n",
    "X = load_digits().data\n",
    "(1) 내적을 이용하여 첫 번째 이미지와 10번째 이미지의 유사도를 구하라.\n",
    "\n",
    "(2) 내적을 이용하여 모든 이미지의 조합에 대해 유사도를 구하라.\n",
    "```"
   ]
  },
  {
   "cell_type": "code",
   "execution_count": 16,
   "metadata": {
    "scrolled": true
   },
   "outputs": [
    {
     "data": {
      "text/plain": [
       "3064.0"
      ]
     },
     "execution_count": 16,
     "metadata": {},
     "output_type": "execute_result"
    }
   ],
   "source": [
    "from sklearn.datasets import load_digits\n",
    "import matplotlib.pyplot as plt\n",
    "import pandas as pd\n",
    "import numpy as np\n",
    "import seaborn as sns\n",
    "from scipy import stats\n",
    "\n",
    "X = load_digits().images\n",
    "d1 = X[0].reshape(64,1)\n",
    "d2 = X[10].reshape(64,1)\n",
    "(d1.T @ d2)[0][0]"
   ]
  },
  {
   "cell_type": "markdown",
   "metadata": {},
   "source": [
    "# Problem 03"
   ]
  },
  {
   "cell_type": "markdown",
   "metadata": {},
   "source": [
    "```\n",
    "3. JSON 형태의 문자열 입력을 파싱해서 유효한 형태인지 출력합니다단 지원하는 json decoding 함수나 라이브러리는 사용하지 않습니다.\n",
    "\n",
    "Sample Input\n",
    "{\"level\":3, \"attr\":{\"power\":120, \"name\":\"hero\"}, \"friendIds\":[12, 23, 34, 23]}\n",
    "[12, 23, 34, \"23\"]\n",
    "{\"level\":3, \"attr\":{\"power\":120, \"name\":\"hero\"}, \"friendIds\":[12, 23, 34, 23}\n",
    "[\"level\":3, 23, 34, \"23\"]\n",
    "\n",
    "Sample Output\n",
    "Valid JSON\n",
    "Valid JSON\n",
    "Parse error!\n",
    "Parse error!\n",
    "```"
   ]
  },
  {
   "cell_type": "code",
   "execution_count": 17,
   "metadata": {},
   "outputs": [
    {
     "name": "stdout",
     "output_type": "stream",
     "text": [
      "<re.Match object; span=(61, 77), match='[12, 23, 34, 23]'>\n",
      "[', 23']\n",
      "None\n"
     ]
    }
   ],
   "source": [
    "## 미완\n",
    "c1 = \"\"\"{\"power\":120, \"name\":\"hero\"}\"\"\"\n",
    "a1 = \"\"\"{\"level\":3, \"attr\":{\"power\":120, \"name\":\"hero\"}, \"friendIds\":[12, 23, 34, 23]}\"\"\"\n",
    "a2 = \"\"\"[12, 23, 34, \"23\"]\"\"\"\n",
    "a3 = \"\"\"{\"level\":3, \"attr\":{\"power\":120, \"name\":\"hero\"}, \"friendIds\":[12, 23, 34, 23}\"\"\"\n",
    "a4 = \"\"\"[\"level\":3, 23, 34, \"23\"]\"\"\"\n",
    "\n",
    "import re\n",
    "j = re.compile(\"[\\{][\\S\\W]+[\\}]\")\n",
    "l = re.compile(\"\\[[\\\"*\\w\\\"*]+(\\, \\\"*\\w+\\\"*)*\\]\")\n",
    "print(l.search(a1))\n",
    "print(l.findall(a1))\n",
    "print(l.match(a1))"
   ]
  },
  {
   "cell_type": "markdown",
   "metadata": {},
   "source": [
    "# Problem 04"
   ]
  },
  {
   "cell_type": "markdown",
   "metadata": {},
   "source": [
    "```\n",
    "4. 애니팡 만들기\n",
    "\n",
    "타일판은 5 × 5\n",
    "타일 종류는 1 ~ 4의 네 가지\n",
    "가로나 세로로 3개 이상 같은 타일이 연속될 경우 펑! 사라지고, 그 자리에는 위쪽의 타일들이 내려와서 메꿉니다.\n",
    "내려오면서 비게 된 자리는 0으로 채워집니다.\n",
    "위의 규칙대로 동작하는 프로그램을 작성해주세요.\n",
    "\n",
    "입력 형식\n",
    "\n",
    "아래 예와 같은 5 × 5 숫자 배열을 표준입력으로 읽어들임\n",
    "\n",
    "2 4 1 2 1\n",
    "3 4 2 3 3\n",
    "2 4 1 2 2\n",
    "4 4 4 1 2\n",
    "4 2 3 3 2\n",
    "출력형식\n",
    "\n",
    "같은 타일들을 모두 처리한 후의 최종 5 × 5 숫자 배열\n",
    "\n",
    "0 0 0 0 0\n",
    "2 0 0 0 0\n",
    "3 0 0 0 0\n",
    "2 0 0 2 0\n",
    "4 0 1 3 0\n",
    "```"
   ]
  },
  {
   "cell_type": "code",
   "execution_count": 18,
   "metadata": {},
   "outputs": [
    {
     "data": {
      "text/plain": [
       "[[0, 0, 0, 0, 0],\n",
       " [2, 0, 0, 0, 0],\n",
       " [3, 0, 0, 2, 0],\n",
       " [2, 0, 1, 3, 0],\n",
       " [4, 0, 2, 2, 0]]"
      ]
     },
     "execution_count": 18,
     "metadata": {},
     "output_type": "execute_result"
    }
   ],
   "source": [
    "matrix = [\n",
    "[2, 4, 1, 2, 1],\n",
    "[3, 4, 2, 3, 3],\n",
    "[2, 4, 1, 2, 2],\n",
    "[4, 4, 4, 1, 2],\n",
    "[4, 2, 3, 3, 2]]\n",
    "\n",
    "\n",
    "def ani_pang(matrix):\n",
    "    # row checking\n",
    "    point_row = []\n",
    "    for i in range(5):\n",
    "        cnt = 1\n",
    "        last = 0\n",
    "        for j in range(5):\n",
    "            check = matrix[i][j]\n",
    "            if check == last:\n",
    "                cnt += 1\n",
    "                if (j == 4) and (cnt >= 3):\n",
    "                    point_row.append([i,j,cnt])\n",
    "            else:\n",
    "                if cnt >= 3:\n",
    "                    point_row.append([i,j-1,cnt])\n",
    "                cnt = 1\n",
    "            last = matrix[i][j]\n",
    "    # col checking\n",
    "    point_col = []\n",
    "    for j in range(5):\n",
    "        cnt = 1\n",
    "        last = 0\n",
    "        for i in range(5):\n",
    "            check = matrix[i][j]\n",
    "            if check == last:\n",
    "                cnt += 1\n",
    "                if (j == 4) and (cnt >= 3):\n",
    "                    point_col.append([i,j,cnt])\n",
    "            else:\n",
    "                if cnt >= 3:\n",
    "                    point_col.append([i-1,j,cnt])\n",
    "                cnt = 1\n",
    "            last = matrix[i][j]\n",
    "\n",
    "    # row pang pang\n",
    "    for i,j,cnt in point_row:\n",
    "        for c in range(cnt):\n",
    "            matrix[i][j-c] = 0\n",
    "            for a in range(i,-1,-1):\n",
    "                if a == 0:\n",
    "                    matrix[a][j-c] = 0\n",
    "                else:                \n",
    "                    matrix[a][j-c] = matrix[a-1][j-c]\n",
    "    # col pang pang\n",
    "    for i,j,cnt in point_col:\n",
    "        for c in range(cnt):\n",
    "            matrix[i-c][j] = 0\n",
    "        place = i+1-cnt \n",
    "\n",
    "        if place != 0:\n",
    "            c = 0\n",
    "            for p in range(place-1,-1,-1):\n",
    "                matrix[i-c][j] = matrix[p][j]\n",
    "                matrix[p][j] = 0\n",
    "                c += 1        \n",
    "    return matrix \n",
    "\n",
    "# 애니팡 안터질 때 까지 실행\n",
    "while True:\n",
    "    if ani_pang(matrix) == ani_pang(matrix):\n",
    "        break\n",
    "\n",
    "matrix"
   ]
  },
  {
   "cell_type": "code",
   "execution_count": null,
   "metadata": {},
   "outputs": [],
   "source": []
  }
 ],
 "metadata": {
  "kernelspec": {
   "display_name": "Python 3",
   "language": "python",
   "name": "python3"
  },
  "language_info": {
   "codemirror_mode": {
    "name": "ipython",
    "version": 3
   },
   "file_extension": ".py",
   "mimetype": "text/x-python",
   "name": "python",
   "nbconvert_exporter": "python",
   "pygments_lexer": "ipython3",
   "version": "3.7.4"
  }
 },
 "nbformat": 4,
 "nbformat_minor": 2
}
