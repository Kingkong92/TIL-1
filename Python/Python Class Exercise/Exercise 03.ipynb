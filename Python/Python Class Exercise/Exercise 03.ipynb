{
 "cells": [
  {
   "cell_type": "markdown",
   "metadata": {},
   "source": [
    "# Exercise 03 / 19.12.20"
   ]
  },
  {
   "cell_type": "markdown",
   "metadata": {},
   "source": [
    "## Problem 01"
   ]
  },
  {
   "cell_type": "markdown",
   "metadata": {},
   "source": [
    "1차원의 점들이 주어졌을 때, 그 중 가장 거리가 짧은 것의 쌍을 출력하는 함수를 작성하시오. (단 점들의 배열은 모두 정렬되어있다고 가정한다.)\n",
    "예를들어 S={1, 3, 4, 8, 13, 17, 20} 이 주어졌다면, 결과값은 (3, 4)가 될 것이다."
   ]
  },
  {
   "cell_type": "code",
   "execution_count": 21,
   "metadata": {},
   "outputs": [
    {
     "name": "stdout",
     "output_type": "stream",
     "text": [
      "(1, 2)\n",
      "(2, 3)\n",
      "(3, 4)\n",
      "(4, 5)\n"
     ]
    }
   ],
   "source": [
    "S_list=list({1, 2, 3, 4, 5, 8, 13, 17, 20})\n",
    "diff_S = [S_list[i+1]-S_list[i] for i in range(len(S_list)-1)]\n",
    "mini = min(diff_S)\n",
    "for i in range(len(diff_S)):\n",
    "    if diff_S[i] == mini:\n",
    "        result = tuple(S_list[i:i+2])\n",
    "        print(result)"
   ]
  },
  {
   "cell_type": "markdown",
   "metadata": {},
   "source": [
    "## Problem 02"
   ]
  },
  {
   "cell_type": "markdown",
   "metadata": {},
   "source": [
    "주어진 문자열(공백 없이 쉼표로 구분되어 있음)을 가지고 아래 문제에 대한 프로그램을 작성하세요.\n",
    "data=\"이유덕,이재영,권종표,이재영,박민호,강상희,이재영,김지완,최승혁,이성연,박영서,박민호,전경헌,송정환,김재성,이유덕,전경헌\"\n",
    "\n",
    "1. 김씨와 이씨는 각각 몇 명 인가요?\n",
    "2. \"이재영\"이란 이름이 몇 번 반복되나요?\n",
    "3. 중복을 제거한 이름을 출력하세요.\n",
    "4. 중복을 제거한 이름을 오름차순으로 정렬하여 출력하세요."
   ]
  },
  {
   "cell_type": "code",
   "execution_count": 11,
   "metadata": {},
   "outputs": [
    {
     "name": "stdout",
     "output_type": "stream",
     "text": [
      "김씨는 :  2 명\n",
      "이씨는 :  6 명\n",
      "이재영 :  3 동명\n",
      "\n",
      "동명 제거 이름 :  {'김지완', '박민호', '이성연', '이재영', '권종표', '최승혁', '김재성', '전경헌', '송정환', '강상희', '이유덕', '박영서'} \n",
      "\n",
      "오름차순 정렬 :  ['강상희', '권종표', '김재성', '김지완', '박민호', '박영서', '송정환', '이성연', '이유덕', '이재영', '전경헌', '최승혁'] \n",
      "\n"
     ]
    }
   ],
   "source": [
    "data=\"이유덕,이재영,권종표,이재영,박민호,강상희,이재영,김지완,최승혁,이성연,박영서,박민호,전경헌,송정환,김재성,이유덕,전경헌\"\n",
    "names = data.split(\",\")\n",
    "# 1\n",
    "kim= lee = 0\n",
    "for name in names:\n",
    "    if name[0] == '김':\n",
    "        kim += 1\n",
    "    elif name[0] == '이':\n",
    "        lee += 1\n",
    "print(\"김씨는 : \", kim,\"명\\n\" + \"이씨는 : \", lee,\"명\" )\n",
    "# 2\n",
    "LJY = len([name for name in names if name == '이재영'])\n",
    "print(\"이재영 : \",LJY, \"동명\\n\")\n",
    "# 3\n",
    "print(\"동명 제거 이름 : \",set(names),\"\\n\")\n",
    "# 4\n",
    "print(\"오름차순 정렬 : \", sorted(list(set(names))),\"\\n\")"
   ]
  },
  {
   "cell_type": "markdown",
   "metadata": {},
   "source": [
    "## Problem 03"
   ]
  },
  {
   "cell_type": "markdown",
   "metadata": {},
   "source": [
    "10미만의 자연수에서 3과 5의 배수를 구하면 3,5,6,9이다. 이들의 총합은 23이다.\n",
    "1000미만의 자연수에서 3,5의 배수의 총합을 구하라."
   ]
  },
  {
   "cell_type": "code",
   "execution_count": 3,
   "metadata": {},
   "outputs": [
    {
     "data": {
      "text/plain": [
       "233168"
      ]
     },
     "execution_count": 3,
     "metadata": {},
     "output_type": "execute_result"
    }
   ],
   "source": [
    "num = 1000\n",
    "multiple_3 = [i for i in range(num) if i%3 == 0]\n",
    "multiple_5 = [i for i in range(num) if i%5 == 0]\n",
    "sum(set(multiple_3 + multiple_5))\n"
   ]
  },
  {
   "cell_type": "markdown",
   "metadata": {},
   "source": [
    "## Problem 04"
   ]
  },
  {
   "cell_type": "markdown",
   "metadata": {},
   "source": [
    "자기 자신을 제외한 모든 양의 약수들의 합이 자기 자신이 되는 자연수를 완전수라고 한다. 예를 들면, 6과 28은 완전수이다. 6=1+2+3 // 1,2,3은 각각 6의 약수 28=1+2+4+7+14 // 1,2,4,7,14는 각각 28의 약수\n",
    "입력으로 자연수 N을 받고, 출력으로 N 이하의 모든 완전수를 출력하는 코드를 작성하라."
   ]
  },
  {
   "cell_type": "code",
   "execution_count": 12,
   "metadata": {},
   "outputs": [
    {
     "name": "stdout",
     "output_type": "stream",
     "text": [
      "28\n",
      "34\n"
     ]
    }
   ],
   "source": [
    "num = int(input())\n",
    "perfect_list = []\n",
    "for n in range(num+1):     \n",
    "    sub_mul = [i for i in range(1,n) if n % i == 0 and i != n] # 본인을 제외한 약수 찾기\n",
    "    if sum(sub_mul) == n:    # 완전수인지 확인\n",
    "        perfect_list.append(n)\n",
    "print(sum(perfect_list))"
   ]
  },
  {
   "cell_type": "markdown",
   "metadata": {},
   "source": [
    "## Problem 05"
   ]
  },
  {
   "cell_type": "markdown",
   "metadata": {},
   "source": [
    "0부터 9까지의 문자로 된 숫자를 입력 받았을 때, 이 입력 값이 0부터 9까지의 숫자가 각각 한 번 씩만 사용된 것인지 확인하는 함수를 구하시오.\n",
    "\n",
    "sample inputs: 0123456789 01234 01234567890 6789012345 012322456789 \n",
    "\n",
    "sample outputs: true false false true false"
   ]
  },
  {
   "cell_type": "code",
   "execution_count": 10,
   "metadata": {},
   "outputs": [
    {
     "name": "stdout",
     "output_type": "stream",
     "text": [
      "0123456789 01234 01234567890 6789012345 012322456789\n",
      "true false false true false "
     ]
    }
   ],
   "source": [
    "def checking(str_num):\n",
    "    check_list = list(\"0123456789\")\n",
    "    num_list = list(str_num)\n",
    "    if len(num_list) != len(set(num_list)): # 중복 입력 False\n",
    "        return False\n",
    "    for i in num_list:        # 입력된 숫자를 지워나가면서 확인\n",
    "        if i in check_list:\n",
    "            check_list.remove(i)    \n",
    "    if len(check_list) == 0:  # 다 지워지면 True \n",
    "        return True\n",
    "    return False             # 입력되지 않은 수가 있으면 False\n",
    "\n",
    "sam_in = input().split() \n",
    "for i in sam_in:\n",
    "    if checking(i):\n",
    "        print('true', end = \" \")\n",
    "    else:\n",
    "        print('false', end = \" \")\n"
   ]
  },
  {
   "cell_type": "code",
   "execution_count": 11,
   "metadata": {},
   "outputs": [
    {
     "name": "stdout",
     "output_type": "stream",
     "text": [
      "0123456789 01234 01234567890 6789012345 012322456789\n",
      "true false false true false "
     ]
    }
   ],
   "source": [
    "sam_in = input().split() \n",
    "for num in sam_in:\n",
    "    if len(num) != 10:\n",
    "        print('false', end = ' ')\n",
    "    elif len(num) != len(set(num)):\n",
    "        print('false', end = ' ')\n",
    "    else:\n",
    "        print('true', end = ' ')"
   ]
  },
  {
   "cell_type": "markdown",
   "metadata": {},
   "source": [
    "## Problem 06"
   ]
  },
  {
   "cell_type": "markdown",
   "metadata": {},
   "source": [
    "* run length 압축알고리즘 문제( .bmp)  \n",
    "문자열을 입력받아서, 같은 문자가 연속적으로 반복되는 경우에 그 반복 횟수를 표시하여 문자열을 압축하기.\n",
    "\n",
    "입력 예시: aaabbcccccca \n",
    "출력 예시: a3b2c6a1\n"
   ]
  },
  {
   "cell_type": "code",
   "execution_count": 2,
   "metadata": {},
   "outputs": [
    {
     "name": "stdout",
     "output_type": "stream",
     "text": [
      "aaabbcccccca\n",
      "a3b2c6a1\n"
     ]
    }
   ],
   "source": [
    "bmp = list(input())\n",
    "out_list = [bmp[0],1]\n",
    "for i in range(len(bmp)-1):\n",
    "    if bmp[i] == bmp[i+1]:\n",
    "        out_list[-1] += 1\n",
    "    else:\n",
    "        out_list[-1] = str(out_list[-1])\n",
    "        out_list.append(bmp[i+1])\n",
    "        out_list.append(1)\n",
    "out_list[-1] = str(out_list[-1])\n",
    "\n",
    "out_str = \"\"\n",
    "for s in out_list:\n",
    "    out_str += s\n",
    "print(out_str)"
   ]
  },
  {
   "cell_type": "code",
   "execution_count": 9,
   "metadata": {},
   "outputs": [
    {
     "name": "stdout",
     "output_type": "stream",
     "text": [
      "aaabbcccccca\n",
      "a3b2c6a1\n"
     ]
    }
   ],
   "source": [
    "bmp = list(input())\n",
    "out_list = [bmp[0]]\n",
    "cnt = [1]\n",
    "j = 0\n",
    "for i in range(len(bmp)-1):\n",
    "    if bmp[i] == bmp[i+1]:\n",
    "        cnt[j] += 1\n",
    "    else:\n",
    "        out_list.append(bmp[i+1])\n",
    "        cnt.append(1)\n",
    "        j += 1\n",
    "\n",
    "out_str = ''\n",
    "for i in range(len(cnt)):\n",
    "    out_str += out_list[i]\n",
    "    out_str += str(cnt[i])\n",
    "print(out_str)"
   ]
  },
  {
   "cell_type": "markdown",
   "metadata": {},
   "source": [
    "## Problem 07"
   ]
  },
  {
   "cell_type": "markdown",
   "metadata": {},
   "source": [
    "#모듈(파일): 함수들의 묶음(.py or .ipynb)\n",
    "#패키지(폴더):모듈 또는 서브 패키지(하위폴더)의 묶음\n",
    "#난수(random number):컴퓨터 임의의 수\n",
    "\n",
    "import random  #random모듈(random.py)을 가져옴\n",
    "random.random() # 0<= 난수 <1\n",
    "#모듈이름.함수이름\n",
    "\n",
    "#7.\n",
    "#오후 : 동일한 수가 발생하지 않도록 로또생성기 코드수정\n",
    "i=0\n",
    "while i!=6:\n",
    "    print(random.randint(1,45))\n",
    "    i+=1\n"
   ]
  },
  {
   "cell_type": "code",
   "execution_count": 7,
   "metadata": {},
   "outputs": [
    {
     "name": "stdout",
     "output_type": "stream",
     "text": [
      "40\n",
      "25\n",
      "15\n",
      "37\n",
      "13\n",
      "33\n"
     ]
    }
   ],
   "source": [
    "import random\n",
    "i = 0\n",
    "done = []\n",
    "while i!=6:\n",
    "    lotto = random.randint(1,45)\n",
    "    if lotto not in done:\n",
    "        done.append(lotto)\n",
    "        print(lotto)\n",
    "    i+=1"
   ]
  },
  {
   "cell_type": "markdown",
   "metadata": {},
   "source": [
    "## Problem 08"
   ]
  },
  {
   "cell_type": "markdown",
   "metadata": {},
   "source": [
    "coffee=10 #10잔 커피, 1잔=200원\n",
    "money=1100 #천백원\n",
    "\n",
    "#8.\n",
    "#잔액이 200원 미만이면 판매가 안되도록...\n",
    "\n",
    "while money:\n",
    "    print(\"커피가 나옵니다\")\n",
    "    coffee=coffee-1\n",
    "    money=money-200\n",
    "    print(\"남은 커피는 %d잔 입니다\" % coffee)\n",
    "    print(\"잔액은 %d원 입니다\" % money)\n",
    "    if coffee==0:\n",
    "        print(\"커피가 떨어졌습니다. 판매중지\")\n",
    "        break\n"
   ]
  },
  {
   "cell_type": "code",
   "execution_count": 8,
   "metadata": {},
   "outputs": [
    {
     "name": "stdout",
     "output_type": "stream",
     "text": [
      "커피가 나옵니다\n",
      "남은 커피는 9잔 입니다\n",
      "잔액은 900원 입니다\n",
      "커피가 나옵니다\n",
      "남은 커피는 8잔 입니다\n",
      "잔액은 700원 입니다\n",
      "커피가 나옵니다\n",
      "남은 커피는 7잔 입니다\n",
      "잔액은 500원 입니다\n",
      "커피가 나옵니다\n",
      "남은 커피는 6잔 입니다\n",
      "잔액은 300원 입니다\n",
      "커피가 나옵니다\n",
      "남은 커피는 5잔 입니다\n",
      "잔액은 100원 입니다\n",
      "자격요건이 부적합합니다.\n"
     ]
    }
   ],
   "source": [
    "coffee=10 #10잔 커피, 1잔=200원\n",
    "money=1100 #천백원\n",
    "\n",
    "while money:\n",
    "    if money < 200:\n",
    "        print(\"자격요건이 부적합합니다.\")\n",
    "        break\n",
    "    print(\"커피가 나옵니다\")\n",
    "    coffee=coffee-1\n",
    "    money=money-200\n",
    "    print(\"남은 커피는 %d잔 입니다\" % coffee)\n",
    "    print(\"잔액은 %d원 입니다\" % money)\n",
    "    if coffee==0:\n",
    "        print(\"커피가 떨어졌습니다. 판매중지\")\n",
    "        break"
   ]
  },
  {
   "cell_type": "markdown",
   "metadata": {},
   "source": [
    "## Problem 09"
   ]
  },
  {
   "cell_type": "markdown",
   "metadata": {},
   "source": [
    "별 트리 만들기"
   ]
  },
  {
   "cell_type": "code",
   "execution_count": 9,
   "metadata": {},
   "outputs": [
    {
     "name": "stdout",
     "output_type": "stream",
     "text": [
      "30\n",
      "                             *\n",
      "                            ***\n",
      "                           *****\n",
      "                          *******\n",
      "                         *********\n",
      "                        ***********\n",
      "                       *************\n",
      "                      ***************\n",
      "                     *****************\n",
      "                    *******************\n",
      "                   *********************\n",
      "                  ***********************\n",
      "                 *************************\n",
      "                ***************************\n",
      "               *****************************\n",
      "              *******************************\n",
      "             *********************************\n",
      "            ***********************************\n",
      "           *************************************\n",
      "          ***************************************\n",
      "         *****************************************\n",
      "        *******************************************\n",
      "       *********************************************\n",
      "      ***********************************************\n",
      "     *************************************************\n",
      "    ***************************************************\n",
      "   *****************************************************\n",
      "  *******************************************************\n",
      " *********************************************************\n",
      "***********************************************************\n"
     ]
    }
   ],
   "source": [
    "n = int(input())\n",
    "for i in range(1,n+1):\n",
    "    print((' ' * (n-i)) + ('*' * (2*i-1)))"
   ]
  },
  {
   "cell_type": "code",
   "execution_count": null,
   "metadata": {},
   "outputs": [],
   "source": []
  }
 ],
 "metadata": {
  "kernelspec": {
   "display_name": "Python 3",
   "language": "python",
   "name": "python3"
  },
  "language_info": {
   "codemirror_mode": {
    "name": "ipython",
    "version": 3
   },
   "file_extension": ".py",
   "mimetype": "text/x-python",
   "name": "python",
   "nbconvert_exporter": "python",
   "pygments_lexer": "ipython3",
   "version": "3.7.4"
  }
 },
 "nbformat": 4,
 "nbformat_minor": 2
}
