{
 "cells": [
  {
   "cell_type": "markdown",
   "metadata": {},
   "source": [
    "# Exercise 04 / 19.12.24"
   ]
  },
  {
   "cell_type": "markdown",
   "metadata": {},
   "source": [
    "## Problem 01"
   ]
  },
  {
   "cell_type": "markdown",
   "metadata": {},
   "source": [
    "1. 회문 판별하기    \n",
    "단어 입력: level(입력)   \n",
    "True     \n",
    "단어 입력: hello(입력)    \n",
    "False "
   ]
  },
  {
   "cell_type": "markdown",
   "metadata": {},
   "source": [
    "## My Solution"
   ]
  },
  {
   "cell_type": "code",
   "execution_count": 1,
   "metadata": {},
   "outputs": [
    {
     "name": "stdout",
     "output_type": "stream",
     "text": [
      "hello\n",
      "False\n"
     ]
    }
   ],
   "source": [
    "def circular(s):\n",
    "    line = len(s)\n",
    "    for i in range(int(line/2)):   # 절반 길이만 확인\n",
    "        if s[i] != s[line-i-1]:    # 바깥쪽에서 부터 비교\n",
    "            return print('False')  # 다르면 회문 x\n",
    "    return print('True')           # 대칭으로 모두 같으면 회문o\n",
    "\n",
    "circular(input())    # 입력 값 함수에 바로 대입해서 회문 확인\n"
   ]
  },
  {
   "cell_type": "markdown",
   "metadata": {},
   "source": [
    "## Colleague's Solution"
   ]
  },
  {
   "cell_type": "code",
   "execution_count": 2,
   "metadata": {},
   "outputs": [
    {
     "name": "stdout",
     "output_type": "stream",
     "text": [
      "hello\n",
      "False\n"
     ]
    }
   ],
   "source": [
    "s = input()\n",
    "\n",
    "if s == ''.join(reversed(s)):\n",
    "    print('True')\n",
    "else:\n",
    "    print('False')"
   ]
  },
  {
   "cell_type": "markdown",
   "metadata": {},
   "source": [
    "## Problem 02"
   ]
  },
  {
   "cell_type": "markdown",
   "metadata": {},
   "source": [
    "2.n-gram 만들기        \n",
    "입력 : hello    \n",
    "he    \n",
    "el    \n",
    "ll    \n",
    "lo    "
   ]
  },
  {
   "cell_type": "markdown",
   "metadata": {},
   "source": [
    "## My Solution"
   ]
  },
  {
   "cell_type": "code",
   "execution_count": 3,
   "metadata": {},
   "outputs": [
    {
     "name": "stdout",
     "output_type": "stream",
     "text": [
      "hello\n",
      "he\n",
      "el\n",
      "ll\n",
      "lo\n"
     ]
    }
   ],
   "source": [
    "n = 2    # n gram 만들기 다른 숫자도 가능하도록\n",
    "s = input()\n",
    "for i in range(len(s)-1): # 전체에서 1개 빼준 갯수만큼 \n",
    "    print(s[i:i+n] )       # n개의 값이 출력되도록"
   ]
  },
  {
   "cell_type": "markdown",
   "metadata": {},
   "source": [
    "## Problem 03"
   ]
  },
  {
   "cell_type": "markdown",
   "metadata": {},
   "source": [
    "3. 파일명 포매팅    \n",
    "입력:    \n",
    "1.jpg 10.jpg 2.jpg    \n",
    "출력:    \n",
    "['001.jpg', '010.jpg', '002'.jpg]    \n"
   ]
  },
  {
   "cell_type": "markdown",
   "metadata": {},
   "source": [
    "## My Solution"
   ]
  },
  {
   "cell_type": "code",
   "execution_count": 4,
   "metadata": {},
   "outputs": [
    {
     "name": "stdout",
     "output_type": "stream",
     "text": [
      "1.jpg 10.jpg 2.jpg\n",
      "['001.jpg', '010.jpg', '002.jpg']\n"
     ]
    }
   ],
   "source": [
    "st = input().split()\n",
    "\n",
    "for s in range(len(st)):    #.jpg 앞에 부족한 갯수확인해서 \n",
    "    for i in range(3-len(st[s].split('.')[0])): # 그만큼 돌림\n",
    "        st[s] = '0' + st[s] # 앞에 0 추가\n",
    "print(st)    "
   ]
  },
  {
   "cell_type": "markdown",
   "metadata": {},
   "source": [
    "## Colleague's Solution"
   ]
  },
  {
   "cell_type": "code",
   "execution_count": 5,
   "metadata": {},
   "outputs": [
    {
     "name": "stdout",
     "output_type": "stream",
     "text": [
      "1.jpg 10.jpg 2.jpg\n",
      "['001.jpg', '010.jpg', '002.jpg']\n"
     ]
    }
   ],
   "source": [
    "st = input().split()\n",
    "res = []\n",
    "for s in st:\n",
    "    num, typ = s.split('.')\n",
    "    res.append('%03d.%s' % (int(num),typ))\n",
    "print(res)"
   ]
  },
  {
   "cell_type": "markdown",
   "metadata": {},
   "source": [
    "* '%3d' 를 할 경우 앞에 3개의 자리를 두는 것을 활용할 수 있음\n",
    "* '%03d' 를 할 경우 앞의 자리에 0을 채울 수 있는 것을 새로 알게됨"
   ]
  },
  {
   "cell_type": "markdown",
   "metadata": {},
   "source": [
    "## Problem 04"
   ]
  },
  {
   "cell_type": "markdown",
   "metadata": {},
   "source": [
    "4. 약 2,000년 전에는 전쟁에서 병사들이 적들에 의해 동굴에 갇히게 되는 경우가 종종 있었다고 한다.\n",
    "\n",
    "그들은 포로가 되는것을 방지하기 위해 동그랗게 서서 마지막 한 사람이 남을 때 까지 순서대로 돌아가며 세번째에 해당되는 사람을 죽여 나갔다고 한다.\n",
    "\n",
    "마지막으로 남게되는 사람은 자살하기로 약속되어 있었지만 보통 적들에게 항복을 하는 경우가 많았다고 한다.\n",
    "\n",
    "여러분이 풀어야 할 문제는 총 인원수(N)와 간격(K)이 주어졌을 때 가장 마지막에 살아남는 병사의 위치(the safe position)를 알아내는 것이다.\n",
    "\n",
    "예를 들어 병사수가 총 10명이고 돌아가며 세번째에 해당되는 병사를 제거하는 경우는 다음과 같다:\n",
    "\n",
    "N = 10, K = 3\n",
    "\n",
    "위의 경우 다음과 같은 순서로 병사들이 제거된다. (괄호는 제거되는 병사를 의미한다)\n",
    "\n",
    "1st round: 1 2 (3) 4 5 (6) 7 8 (9) 10\n",
    "2nd round:                            1 (2) 4 5 (7) 8 10\n",
    "3rd round:                                                (1) 4 5 (8) 10\n",
    "4th round:                                                               4 (5) 10\n",
    "5th round:                                                                        4 (10)\n",
    "위 예에서 끝가지 살아남는 병사는 4, 즉 4번째 병사이다.\n",
    "\n",
    "입력 데이터는 총 병사수 N과 간격 K이다.\n",
    "출력 데이터는 마지막까지 살아남는 병사의 위치이다.\n",
    "\n",
    "(단, 최초 시작은 1번 병사부터이다.)\n",
    "\n",
    "입출력 예는 다음과 같다:\n",
    "\n",
    "initial data:\n",
    "10 3\n",
    "\n",
    "answer:\n",
    "4"
   ]
  },
  {
   "cell_type": "markdown",
   "metadata": {},
   "source": [
    "## My Solution"
   ]
  },
  {
   "cell_type": "code",
   "execution_count": 6,
   "metadata": {},
   "outputs": [
    {
     "name": "stdout",
     "output_type": "stream",
     "text": [
      "10 3\n",
      "4\n"
     ]
    }
   ],
   "source": [
    "n, k = map(int, input().split())\n",
    "\n",
    "soldiers = [i for i in range(1,n+1)] # 병사 리스트\n",
    "cnt = 0                         \n",
    "while len(soldiers) != 1:            # 1명 남을때 까지\n",
    "    cnt += 1                          # 몇 번째 인지 세는 숫자\n",
    "    if cnt % k != 0:      # k 번째인지 확인하기\n",
    "        soldiers.append(soldiers.pop(0))  # 맨앞에서 맨뒤로 보내기 \n",
    "    else:\n",
    "        soldiers.pop(0) # k 번째인 경우 kill\n",
    "print(soldiers[0]) "
   ]
  },
  {
   "cell_type": "markdown",
   "metadata": {},
   "source": [
    "## Colleague's Solution"
   ]
  },
  {
   "cell_type": "code",
   "execution_count": 7,
   "metadata": {},
   "outputs": [
    {
     "name": "stdout",
     "output_type": "stream",
     "text": [
      "10 3\n",
      "4\n"
     ]
    }
   ],
   "source": [
    "n = 10\n",
    "k = 3\n",
    "from collections import deque #deque 자료구조\n",
    "\n",
    "N, K = map(int, input().split())\n",
    "\n",
    "d = deque(range(1,N+1))\n",
    "\n",
    "while d:\n",
    "\n",
    "    d.rotate(-K+1) #좌측으로 K-1번회전\n",
    "\n",
    "    x = d.popleft()\n",
    "\n",
    "print(x)"
   ]
  }
 ],
 "metadata": {
  "kernelspec": {
   "display_name": "Python 3",
   "language": "python",
   "name": "python3"
  },
  "language_info": {
   "codemirror_mode": {
    "name": "ipython",
    "version": 3
   },
   "file_extension": ".py",
   "mimetype": "text/x-python",
   "name": "python",
   "nbconvert_exporter": "python",
   "pygments_lexer": "ipython3",
   "version": "3.7.4"
  }
 },
 "nbformat": 4,
 "nbformat_minor": 2
}
