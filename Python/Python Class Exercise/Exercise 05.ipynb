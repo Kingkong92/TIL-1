{
 "cells": [
  {
   "cell_type": "markdown",
   "metadata": {},
   "source": [
    "# Exercise 05 / 19.12.26"
   ]
  },
  {
   "cell_type": "markdown",
   "metadata": {},
   "source": [
    "## Problem 01"
   ]
  },
  {
   "cell_type": "markdown",
   "metadata": {},
   "source": [
    "1. 다음과 같은 내용을 지닌 파일 test.txt가 있다. 이 파일의 내용 중 \"java\"라는 문자열을 \"python\"으로 바꾸어서 저장해 보자.\n",
    "\n",
    "Life is too short  \n",
    "you need java  \n",
    "※ replace 함수를 사용해 보자."
   ]
  },
  {
   "cell_type": "code",
   "execution_count": 1,
   "metadata": {},
   "outputs": [],
   "source": [
    "path = 'C:/study/test.txt'\n",
    "with open(path,'r') as f:\n",
    "    lines = f.readlines()\n",
    "    for i, line in enumerate (lines):\n",
    "        if 'java' in line:\n",
    "            lines[i] = lines[i].replace('java','python')\n",
    "            \n",
    "with open(path,'w') as f:\n",
    "    for line in lines:\n",
    "        f.write(line)"
   ]
  },
  {
   "cell_type": "markdown",
   "metadata": {},
   "source": [
    "## Problem 02"
   ]
  },
  {
   "cell_type": "markdown",
   "metadata": {},
   "source": [
    "2. 사용자의 입력을 파일(test.txt)에 저장하는 프로그램을 작성해 보자. \n",
    "(단 프로그램을 다시 실행하더라도 기존에 작성한 내용을 유지하고 새로 입력한 내용을 추가해야 한다.)"
   ]
  },
  {
   "cell_type": "code",
   "execution_count": 2,
   "metadata": {},
   "outputs": [
    {
     "name": "stdout",
     "output_type": "stream",
     "text": [
      "java project\n"
     ]
    }
   ],
   "source": [
    "cont = input()\n",
    "f = open(path,'a')\n",
    "f.write(cont+'\\n')\n",
    "f.close()"
   ]
  },
  {
   "cell_type": "markdown",
   "metadata": {},
   "source": [
    "## Problem 03"
   ]
  },
  {
   "cell_type": "markdown",
   "metadata": {},
   "source": [
    "3. 다음은 Calculator 클래스이다.\n",
    "\n",
    "class Calculator:\n",
    "    def __init__(self):\n",
    "        self.value = 0\n",
    "\n",
    "    def add(self, val):\n",
    "        self.value += val\n",
    "위 클래스를 상속하는 UpgradeCalculator를 만들고 값을 뺄 수 있는 minus 메서드를 추가해 보자. 즉 다음과 같이 동작하는 클래스를 만들어야 한다.\n",
    "\n",
    "cal = UpgradeCalculator()\n",
    "cal.add(10)\n",
    "cal.minus(7)\n",
    "\n",
    "print(cal.value) # 10에서 7을 뺀 3을 출력"
   ]
  },
  {
   "cell_type": "code",
   "execution_count": 3,
   "metadata": {},
   "outputs": [],
   "source": [
    "class Calculator:\n",
    "    def __init__(self):\n",
    "        self.value = 0\n",
    "\n",
    "    def add(self, val):\n",
    "        self.value += val\n",
    "        \n",
    "class UpgradeCalculator(Calculator):\n",
    "    def minus(self, val):\n",
    "        self.value -= val"
   ]
  },
  {
   "cell_type": "code",
   "execution_count": 4,
   "metadata": {},
   "outputs": [
    {
     "data": {
      "text/plain": [
       "3"
      ]
     },
     "execution_count": 4,
     "metadata": {},
     "output_type": "execute_result"
    }
   ],
   "source": [
    "cal = UpgradeCalculator()\n",
    "cal.add(10)\n",
    "cal.minus(7)\n",
    "cal.value"
   ]
  },
  {
   "cell_type": "markdown",
   "metadata": {},
   "source": [
    "## Problem 04"
   ]
  },
  {
   "cell_type": "markdown",
   "metadata": {},
   "source": [
    "4. 객체변수 value가 100 이상의 값은 가질 수 없도록 제한하는 MaxLimitCalculator 클래스를 만들어 보자. 즉 다음과 같이 동작해야 한다.\n",
    "\n",
    "cal = MaxLimitCalculator()   \n",
    "cal.add(50) # 50 더하기    \n",
    "cal.add(60) # 60 더하기   \n",
    "\n",
    "print(cal.value) # 100 출력   \n",
    "단 반드시 다음과 같은 Calculator 클래스를 상속해서 만들어야 한다.\n",
    "\n",
    "class Calculator:   \n",
    "    def __init__(self):   \n",
    "        self.value = 0\n",
    "\n",
    "    def add(self, val):\n",
    "        self.value += val"
   ]
  },
  {
   "cell_type": "code",
   "execution_count": 5,
   "metadata": {},
   "outputs": [],
   "source": [
    "class Calculator:   \n",
    "    def __init__(self):   \n",
    "        self.value = 0\n",
    "\n",
    "    def add(self, val):\n",
    "        self.value += val\n",
    "class MaxLimitCalculator(Calculator):\n",
    "    def add(self, val):\n",
    "        self.value += val\n",
    "        if self.value > 100 :\n",
    "            self.value = 100"
   ]
  },
  {
   "cell_type": "code",
   "execution_count": 6,
   "metadata": {},
   "outputs": [
    {
     "name": "stdout",
     "output_type": "stream",
     "text": [
      "100\n"
     ]
    }
   ],
   "source": [
    "cal = MaxLimitCalculator()   \n",
    "cal.add(50) # 50 더하기    \n",
    "cal.add(60) # 60 더하기   \n",
    "print(cal.value) # 100 출력   \n"
   ]
  },
  {
   "cell_type": "markdown",
   "metadata": {},
   "source": [
    "## Problem 05"
   ]
  },
  {
   "cell_type": "markdown",
   "metadata": {},
   "source": [
    "5. map과 lambda를 사용하여 [1, 2, 3, 4] 리스트의 각 요솟값에 3이 곱해진 리스트 [3, 6, 9, 12]를 만들어 보자."
   ]
  },
  {
   "cell_type": "code",
   "execution_count": 7,
   "metadata": {},
   "outputs": [
    {
     "data": {
      "text/plain": [
       "[3, 6, 9, 12]"
      ]
     },
     "execution_count": 7,
     "metadata": {},
     "output_type": "execute_result"
    }
   ],
   "source": [
    "list(map(lambda x : 3*x ,[1,2,3,4]))"
   ]
  },
  {
   "cell_type": "markdown",
   "metadata": {},
   "source": [
    "## Problem 06"
   ]
  },
  {
   "cell_type": "markdown",
   "metadata": {},
   "source": [
    "지뢰찾기 게임은 M x N 매트릭스에 위치해 있는 지뢰를 찾는 게임이다.\n",
    "\n",
    "M x N 매트릭스 상의 격자(square)는 지뢰이거나 지뢰가 아니다.\n",
    "\n",
    "지뢰 격자는 *로 표시한다. 지뢰가 아닌 격자(square)는 숫자로 표시하며 그 숫자는 인접해 있는 지뢰의 수를 의미한다. (격자(sqaure)는 최대 8개의 인접한 지뢰를 가질 수 있다.)\n",
    "\n",
    "다음은 4x4 매트릭스에서 2개의 지뢰(*)를 표시하는 방법이다.\n",
    "\n",
    "*...\n",
    "....\n",
    ".*..\n",
    "....\n",
    "이 게임의 목표는 지뢰의 위치(*)를 제외한 나머지 격자들의 숫자를 맞추는 것이다.\n",
    "\n",
    "위 경우의 답은 아래와 같다.\n",
    "\n",
    "*100\n",
    "2210\n",
    "1*10\n",
    "1110\n",
    "\n",
    "\n",
    "입력\n",
    "\n",
    "첫번째 줄은 M x N 의 M(행)과 N(열)에 해당되는 숫자이다. N과 M은 0보다 크고 100 이하이다. (0< N, M <=100) 그 다음 M개의 줄이 차례로 입력되고 각 줄은 정확하게 N개의 문자가 입력된다. 지뢰 격자는 *로 표시하며 지뢰가 아닌 격자는 .(dot)로 표시한다.\n",
    "\n",
    "출력\n",
    "\n",
    "지뢰(*)를 제외한 나머지 격자의 숫자값을 찾아서 M x N 매트릭스를 출력한다.\n",
    "\n",
    "예1)\n",
    "\n",
    "입력\n",
    "\n",
    "4 4\n",
    "*...\n",
    "....\n",
    ".*..\n",
    "....\n",
    "출력\n",
    "\n",
    "*100\n",
    "2210\n",
    "1*10\n",
    "1110\n",
    "예2)\n",
    "\n",
    "입력\n",
    "\n",
    "3 5\n",
    "**...\n",
    ".....\n",
    ".*...\n",
    "출력\n",
    "\n",
    "**100\n",
    "33200\n",
    "1*100"
   ]
  },
  {
   "cell_type": "code",
   "execution_count": 8,
   "metadata": {},
   "outputs": [
    {
     "name": "stdout",
     "output_type": "stream",
     "text": [
      "맵의 크기 : 4 4\n",
      "지뢰 숫자 : 2\n",
      "*...\n",
      "....\n",
      ".*..\n",
      "....\n",
      "*100\n",
      "2210\n",
      "1*10\n",
      "1110\n"
     ]
    }
   ],
   "source": [
    "import random\n",
    "\n",
    "class BoomGame():\n",
    "    def __init__(self,boom):\n",
    "        self.Boom = boom\n",
    "        \n",
    "    def boomChanger(self,m,n):\n",
    "        for i in range(m):\n",
    "            for j in range(n):\n",
    "                if self.Boom[i][j] == '0':\n",
    "                    self.Boom[i][j] = 0                \n",
    "    def boomChecker(self,i,j):\n",
    "        if self.Boom[i][j] == '*':\n",
    "            return True\n",
    "    def boomresult(self):\n",
    "        for i in range(m):\n",
    "            for j in range(n):\n",
    "                if self.Boom[i][j] == '*':\n",
    "                    for a in range(i-1,i+2):\n",
    "                        for b in range(j-1,j+2):\n",
    "                            if a < 0 or a > m:\n",
    "                                pass\n",
    "                            elif b < 0 or b > n:\n",
    "                                pass\n",
    "                            else:\n",
    "                                try :\n",
    "                                    self.Boom[a][b] += 1\n",
    "                                except:\n",
    "                                    continue\n",
    "                                \n",
    "    def boomPrint(self):\n",
    "        for i in range(m):\n",
    "            for j in range(n):\n",
    "                print(self.Boom[i][j],end='')\n",
    "            print('')\n",
    "                            \n",
    "                            \n",
    "m, n = map(int,input(\"맵의 크기 : \").split())\n",
    "mine = int(input('지뢰 숫자 : '))\n",
    "\n",
    "boom = [list(input().replace('.','0')) for _ in range(m)]\n",
    "Boomgame = BoomGame(boom)\n",
    "Boomgame.boomChanger(m,n)\n",
    "Boomgame.boomresult()\n",
    "Boomgame.boomPrint()"
   ]
  },
  {
   "cell_type": "code",
   "execution_count": 15,
   "metadata": {},
   "outputs": [
    {
     "name": "stdout",
     "output_type": "stream",
     "text": [
      "맵의 크기 : 5 13\n",
      "지뢰 숫자 : 22\n",
      "Game Start\n",
      "맵을 확인하세요\n",
      "....*....*..*\n",
      "**..*......*.\n",
      "....*.*.*..**\n",
      ".*...*.*.....\n",
      ".*..***.*..**\n",
      "해답을 확인하세요\n",
      "2212*2001*22*\n",
      "**13*412223*4\n",
      "3322*4*3*12**\n",
      "2*224*5*32244\n",
      "2*21***3*11**\n"
     ]
    }
   ],
   "source": [
    "import random\n",
    "\n",
    "class BoomGame():\n",
    "    def __init__(self,m,n,mine):\n",
    "        self.row = m\n",
    "        self.col = n\n",
    "        self.mine_num = mine\n",
    "        print('Game Start')\n",
    "        \n",
    "    def BoomMap(self):\n",
    "        self.map = [['.' for _ in range(self.col)] for _ in range(self.row)]\n",
    "        self.solution = [[ 0 for _ in range(self.col)] for _ in range(self.row)]\n",
    "        self.mine = []\n",
    "        while len(self.mine) != self.mine_num:\n",
    "            x = random.randrange(self.row)\n",
    "            y = random.randrange(self.col)\n",
    "            try :\n",
    "                self.mine.index([x,y]) \n",
    "                pass\n",
    "            except ValueError :\n",
    "                self.mine.append([x,y])\n",
    "            \n",
    "        for m in self.mine:\n",
    "            self.map[m[0]][m[1]] = \"*\"\n",
    "            self.solution[m[0]][m[1]] = \"*\"\n",
    "\n",
    "    def BoomMap_solution(self):\n",
    "        for i,j in self.mine:\n",
    "            for a in range(i-1,i+2):\n",
    "                for b in range(j-1,j+2):\n",
    "                    if a < 0 or a > m:\n",
    "                        pass\n",
    "                    elif b < 0 or b > n:\n",
    "                        pass\n",
    "                    else:\n",
    "                        try :\n",
    "                            self.solution[a][b] += 1\n",
    "                        except:\n",
    "                            continue\n",
    "     \n",
    "    def BoomPrint(self):\n",
    "        print('맵을 확인하세요')\n",
    "        for row in self.map:\n",
    "            print(''.join(row))\n",
    "            \n",
    "        print('해답을 확인하세요')\n",
    "        for row in self.solution:\n",
    "            for i in row:\n",
    "                print(i,end='')\n",
    "            print('')         \n",
    "                            \n",
    "m, n = map(int,input(\"맵의 크기 : \").split())\n",
    "mine = int(input('지뢰 숫자 : '))\n",
    "the_game = BoomGame(m,n,mine)\n",
    "the_game.BoomMap()\n",
    "the_game.BoomMap_solution()\n",
    "the_game.BoomPrint()"
   ]
  },
  {
   "cell_type": "code",
   "execution_count": null,
   "metadata": {},
   "outputs": [],
   "source": []
  },
  {
   "cell_type": "code",
   "execution_count": null,
   "metadata": {},
   "outputs": [],
   "source": []
  }
 ],
 "metadata": {
  "kernelspec": {
   "display_name": "Python 3",
   "language": "python",
   "name": "python3"
  },
  "language_info": {
   "codemirror_mode": {
    "name": "ipython",
    "version": 3
   },
   "file_extension": ".py",
   "mimetype": "text/x-python",
   "name": "python",
   "nbconvert_exporter": "python",
   "pygments_lexer": "ipython3",
   "version": "3.7.4"
  }
 },
 "nbformat": 4,
 "nbformat_minor": 2
}
