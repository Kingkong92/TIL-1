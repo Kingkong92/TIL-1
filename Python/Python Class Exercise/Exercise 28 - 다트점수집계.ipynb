{
 "cells": [
  {
   "cell_type": "markdown",
   "metadata": {},
   "source": [
    "# Problem 01"
   ]
  },
  {
   "cell_type": "markdown",
   "metadata": {},
   "source": [
    "```\n",
    "1. 카카오톡 게임별의 하반기 신규 서비스로 다트 게임을 출시하기로 했다. 다트 게임은 다트판에 다트를 세 차례 던져 그 점수의 합계로 실력을 겨루는 게임으로, 모두가 간단히 즐길 수 있다. 갓 입사한 무지는 코딩 실력을 인정받아 게임의 핵심 부분인 점수 계산 로직을 맡게 되었다. 다트 게임의 점수 계산 로직은 아래와 같다.\n",
    "\n",
    "다트 게임은 총 3번의 기회로 구성된다.\n",
    "각 기회마다 얻을 수 있는 점수는 0점에서 10점까지이다.\n",
    "점수와 함께 Single(S), Double(D), Triple(T) 영역이 존재하고 각 영역 당첨 시 점수에서 1제곱, 2제곱, 3제곱 (점수^1 , 점수^2 , 점수^3 )으로 계산된다.\n",
    "옵션으로 스타상(*) , 아차상(#)이 존재하며 스타상(*) 당첨 시 해당 점수와 바로 전에 얻은 점수를 각 2배로 만든다. 아차상(#) 당첨 시 해당 점수는 마이너스된다.\n",
    "스타상(*)은 첫 번째 기회에서도 나올 수 있다. 이 경우 첫 번째 스타상(*)의 점수만 2배가 된다. (예제 4번 참고)\n",
    "스타상(*)의 효과는 다른 스타상(*)의 효과와 중첩될 수 있다. 이 경우 중첩된 스타상(*) 점수는 4배가 된다. (예제 4번 참고)\n",
    "스타상(*)의 효과는 아차상(#)의 효과와 중첩될 수 있다. 이 경우 중첩된 아차상(#)의 점수는 -2배가 된다. (예제 5번 참고)\n",
    "Single(S), Double(D), Triple(T)은 점수마다 하나씩 존재한다.\n",
    "스타상(*), 아차상(#)은 점수마다 둘 중 하나만 존재할 수 있으며, 존재하지 않을 수도 있다.\n",
    "0~10의 정수와 문자 S, D, T, *, #로 구성된 문자열이 입력될 시 총점수를 반환하는 함수를 작성하라.\n",
    "\n",
    "입력 형식\n",
    "\n",
    "“점수|보너스|[옵션]”으로 이루어진 문자열 3세트.\n",
    "\n",
    "예) 1S2D*3T\n",
    "점수는 0에서 10 사이의 정수이다.\n",
    "보너스는 S, D, T 중 하나이다.\n",
    "옵선은 *이나 # 중 하나이며, 없을 수도 있다.\n",
    "출력 형식\n",
    "\n",
    "3번의 기회에서 얻은 점수 합계에 해당하는 정수값을 출력한다.\n",
    "\n",
    "예) 37\n",
    "입출력 예제\n",
    "\n",
    "예제\tdartResult\tanswer\t설명\n",
    "1\t1S2D*3T\t37\t1^1 * 2 + 2^2 * 2 + 3^3\n",
    "2\t1D2S#10S\t9\t1^2 + 2^1 * (-1) + 10^1\n",
    "3\t1D2S0T\t3\t1^2 + 2^1 + 0^3\n",
    "4\t1S*2T*3S\t23\t1^1 * 2 * 2 + 2^3 * 2 + 3^1\n",
    "5\t1D#2S*3S\t5\t1^2 * (-1) * 2 + 2^1 * 2 + 3^1\n",
    "6\t1T2D3D#\t-4\t1^3 + 2^2 + 3^2 * (-1)\n",
    "7\t1D2S3T*\t59\t1^2 + 2^1 * 2 + 3^3 * 2\n",
    "```"
   ]
  },
  {
   "cell_type": "code",
   "execution_count": 125,
   "metadata": {},
   "outputs": [
    {
     "name": "stdout",
     "output_type": "stream",
     "text": [
      "점수입력 횟수 : 3\n",
      "dartResult : 1S2D*3T\t\n",
      "dartResult : 1S2D*3T\t\n",
      "dartResult : 1S2D*3T\t\n",
      "37\n",
      "37\n",
      "37\n"
     ]
    }
   ],
   "source": [
    "\"\"\"\n",
    "    다트게임 점수 출력 프로그램\n",
    "\"\"\"\n",
    "import re\n",
    "\n",
    "N = int(input(\"점수입력 횟수 : \"))\n",
    "dartResult = [0]*N\n",
    "# N개의 다트 점수를 입력 받는다.\n",
    "for i in range(N):\n",
    "    dartResult[i] = input(\"dartResult : \").strip()\n",
    "    \n",
    "# 각 게임별 점수 측정\n",
    "for dart in dartResult:    \n",
    "    bonus_score = {'S' : 1, 'D' : 2, 'T' : 3}\n",
    "    # 라운드별 결과물\n",
    "    steps = pat.findall(dart)\n",
    "    # 라운드별 숫자 점수\n",
    "    nums = list(map(int,num.findall(dart)))\n",
    "    # 라운드별 보너스 점수\n",
    "    bon = bonus.findall(dart)\n",
    "\n",
    "    # 옵션 점수 설정\n",
    "    special_score = [1,1,1]\n",
    "    for i in range(2,-1,-1):\n",
    "        if '*' in steps[i]:\n",
    "            special_score[i] *= 2\n",
    "            if i-1 >= 0 :\n",
    "                special_score[i-1] *= 2\n",
    "        elif '#' in steps[i]:\n",
    "            special_score[i] *= -1\n",
    "    # w점수 집계 및 출력\n",
    "    answer = 0\n",
    "    for i in range(len(steps)):\n",
    "        answer += nums[i]**bonus_score[bon[i]]*special_score[i]\n",
    "    print(answer)"
   ]
  },
  {
   "cell_type": "code",
   "execution_count": null,
   "metadata": {},
   "outputs": [],
   "source": []
  }
 ],
 "metadata": {
  "kernelspec": {
   "display_name": "Python 3",
   "language": "python",
   "name": "python3"
  },
  "language_info": {
   "codemirror_mode": {
    "name": "ipython",
    "version": 3
   },
   "file_extension": ".py",
   "mimetype": "text/x-python",
   "name": "python",
   "nbconvert_exporter": "python",
   "pygments_lexer": "ipython3",
   "version": "3.7.4"
  }
 },
 "nbformat": 4,
 "nbformat_minor": 2
}
