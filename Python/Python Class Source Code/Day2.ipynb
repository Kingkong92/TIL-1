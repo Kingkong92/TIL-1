{
 "cells": [
  {
   "cell_type": "code",
   "execution_count": 1,
   "metadata": {},
   "outputs": [],
   "source": [
    "\"\"\"\n",
    "x=5\n",
    "대소문자 구분, 소문자로 시작, 예약어(for, if, ...) 사용금지\n",
    "\"\"\"\n",
    "x,y=1,2"
   ]
  },
  {
   "cell_type": "code",
   "execution_count": 4,
   "metadata": {},
   "outputs": [
    {
     "ename": "NameError",
     "evalue": "name 'x' is not defined",
     "output_type": "error",
     "traceback": [
      "\u001b[1;31m---------------------------------------------------------------------------\u001b[0m",
      "\u001b[1;31mNameError\u001b[0m                                 Traceback (most recent call last)",
      "\u001b[1;32m<ipython-input-4-8a397cee05a4>\u001b[0m in \u001b[0;36m<module>\u001b[1;34m\u001b[0m\n\u001b[1;32m----> 1\u001b[1;33m \u001b[1;32mdel\u001b[0m \u001b[0mx\u001b[0m \u001b[1;31m#변수가 메모리에서 제거\u001b[0m\u001b[1;33m\u001b[0m\u001b[1;33m\u001b[0m\u001b[0m\n\u001b[0m",
      "\u001b[1;31mNameError\u001b[0m: name 'x' is not defined"
     ]
    }
   ],
   "source": [
    "del x #변수가 메모리에서 제거"
   ]
  },
  {
   "cell_type": "code",
   "execution_count": 5,
   "metadata": {},
   "outputs": [
    {
     "ename": "NameError",
     "evalue": "name 'x' is not defined",
     "output_type": "error",
     "traceback": [
      "\u001b[1;31m---------------------------------------------------------------------------\u001b[0m",
      "\u001b[1;31mNameError\u001b[0m                                 Traceback (most recent call last)",
      "\u001b[1;32m<ipython-input-5-6fcf9dfbd479>\u001b[0m in \u001b[0;36m<module>\u001b[1;34m\u001b[0m\n\u001b[1;32m----> 1\u001b[1;33m \u001b[0mx\u001b[0m\u001b[1;33m\u001b[0m\u001b[1;33m\u001b[0m\u001b[0m\n\u001b[0m",
      "\u001b[1;31mNameError\u001b[0m: name 'x' is not defined"
     ]
    }
   ],
   "source": [
    "x"
   ]
  },
  {
   "cell_type": "code",
   "execution_count": 6,
   "metadata": {},
   "outputs": [],
   "source": [
    "#빈 변수\n",
    "x=None #변수는 만들어졌지만 값은 들어있지 않은 상태, null\n",
    "x"
   ]
  },
  {
   "cell_type": "code",
   "execution_count": 8,
   "metadata": {
    "scrolled": true
   },
   "outputs": [
    {
     "data": {
      "text/plain": [
       "20"
      ]
     },
     "execution_count": 8,
     "metadata": {},
     "output_type": "execute_result"
    }
   ],
   "source": [
    "x=10\n",
    "x=x+5\n",
    "x+=5\n",
    "x"
   ]
  },
  {
   "cell_type": "code",
   "execution_count": 5,
   "metadata": {},
   "outputs": [
    {
     "name": "stdout",
     "output_type": "stream",
     "text": [
      "입력:5\n"
     ]
    }
   ],
   "source": [
    "#x=input()\n",
    "x=int(input('입력:'))"
   ]
  },
  {
   "cell_type": "code",
   "execution_count": 6,
   "metadata": {},
   "outputs": [
    {
     "data": {
      "text/plain": [
       "5"
      ]
     },
     "execution_count": 6,
     "metadata": {},
     "output_type": "execute_result"
    }
   ],
   "source": [
    "x\n",
    "#int(x)"
   ]
  },
  {
   "cell_type": "code",
   "execution_count": 13,
   "metadata": {},
   "outputs": [
    {
     "name": "stdout",
     "output_type": "stream",
     "text": [
      "문자열 두개 입력:5 10\n",
      "5\n",
      "10\n",
      "15\n"
     ]
    }
   ],
   "source": [
    "#input에서 여러개 입력 -> split함수 사용(공백 구분)\n",
    "x,y=input(\"문자열 두개 입력:\").split()\n",
    "x=int(x)\n",
    "y=int(y)\n",
    "print(x)\n",
    "print(y)\n",
    "print(x+y)"
   ]
  },
  {
   "cell_type": "code",
   "execution_count": 15,
   "metadata": {},
   "outputs": [
    {
     "name": "stdout",
     "output_type": "stream",
     "text": [
      "문자열 두개 입력:5 10\n",
      "15\n"
     ]
    }
   ],
   "source": [
    "#x,y=input(\"문자열 두개 입력:\").split()\n",
    "#print(type(input(\"문자열 두개 입력:\").split()))\n",
    "x,y=map(int , input(\"문자열 두개 입력:\").split())\n",
    "print(x+y)\n",
    "#형식 : map(함수, 데이터)"
   ]
  },
  {
   "cell_type": "code",
   "execution_count": 16,
   "metadata": {},
   "outputs": [
    {
     "name": "stdout",
     "output_type": "stream",
     "text": [
      "문자열 두개 입력:1,2\n",
      "3\n"
     ]
    }
   ],
   "source": [
    "x,y=map(int , input(\"문자열 두개 입력:\").split(\",\"))\n",
    "print(x+y)"
   ]
  },
  {
   "cell_type": "code",
   "execution_count": 31,
   "metadata": {},
   "outputs": [
    {
     "name": "stdout",
     "output_type": "stream",
     "text": [
      "1 2 3 4\n",
      "hi hello\n",
      "1,2,3,4\n",
      "1,,,2,,,3,,,4\n",
      "1x2x3x4\n",
      "1\n",
      "2\n",
      "3\n",
      "4\n",
      "1\n",
      "2\n",
      "3\n"
     ]
    }
   ],
   "source": [
    "print(1,2,3,4)\n",
    "print(\"hi\",\"hello\")\n",
    "print(1,2,3,4, sep=\",\")\n",
    "print(1,2,3,4, sep=\",,,\")\n",
    "print(1,2,3,4, sep=\"x\") #1234\n",
    "print(1,2,3,4, sep=\"\\n\")# \\n:제어문자(화면에 출력x)\n",
    "print(\"1\\n2\\n3\")"
   ]
  },
  {
   "cell_type": "code",
   "execution_count": 32,
   "metadata": {},
   "outputs": [
    {
     "name": "stdout",
     "output_type": "stream",
     "text": [
      "1\t2\t3\n"
     ]
    }
   ],
   "source": [
    "print(\"1\\t2\\t3\")"
   ]
  },
  {
   "cell_type": "code",
   "execution_count": 35,
   "metadata": {},
   "outputs": [
    {
     "name": "stdout",
     "output_type": "stream",
     "text": [
      "1\\2\n"
     ]
    }
   ],
   "source": [
    "print(\"1\\\\2\") #\\ 기호는 \\\\ 작성해서 출력"
   ]
  },
  {
   "cell_type": "code",
   "execution_count": 40,
   "metadata": {},
   "outputs": [
    {
     "name": "stdout",
     "output_type": "stream",
     "text": [
      "1 2 3\n",
      "1 2 3\n"
     ]
    }
   ],
   "source": [
    "print(1, end=' ')\n",
    "print(2, end=' ')\n",
    "print(3)\n",
    "print(1,2,3)"
   ]
  },
  {
   "cell_type": "code",
   "execution_count": 49,
   "metadata": {},
   "outputs": [
    {
     "data": {
      "text/plain": [
       "True"
      ]
     },
     "execution_count": 49,
     "metadata": {},
     "output_type": "execute_result"
    }
   ],
   "source": [
    "\"\"\"\n",
    "불린(boolean):True/False(논리값)   by 논리연산자\n",
    "\"\"\"\n",
    "2>1\n",
    "2==1\n",
    "2!=1\n",
    "\"test\"==\"text\"\n",
    "\"python\"==\"Python\"\n",
    "\"python\"==\"python\"\n",
    "1==1.0  # 1->1.0 == 1.0 => True\n",
    "1 is 1.0 # 정수 1객체 == 실수 1.0객체 => 다르다\n",
    "1 is not 1.0"
   ]
  },
  {
   "cell_type": "code",
   "execution_count": 52,
   "metadata": {},
   "outputs": [
    {
     "data": {
      "text/plain": [
       "'\\n클래스:건축설계도, 붕어빵기계, 자동차공장\\n객체:건물, 붕어빵, 자동차\\n속성:건물의특성(층,평수,...), 붕어빵의특성(내용물,크기,...)\\n메서드:건물의동작(???),  붕어빵의동작(???), 달린다/멈춘다..\\n상속:유사한 건물 설계시, 기존 건축설계도의 재사용\\n'"
      ]
     },
     "execution_count": 52,
     "metadata": {},
     "output_type": "execute_result"
    }
   ],
   "source": [
    "\"\"\"\n",
    "클래스:건축설계도, 붕어빵기계, 자동차공장\n",
    "객체:건물, 붕어빵, 자동차\n",
    "속성:건물의특성(층,평수,...), 붕어빵의특성(내용물,크기,...)\n",
    "메서드:건물의동작(???),  붕어빵의동작(???), 달린다/멈춘다..\n",
    "상속:유사한 건물 설계시, 기존 건축설계도의 재사용\n",
    "\"\"\"\n",
    "#상속? 아빠 -> 코골이 -> 자식(이를 간다) -> 자식(코골이, 이를 간다, 잠꼬대)"
   ]
  },
  {
   "cell_type": "code",
   "execution_count": 59,
   "metadata": {},
   "outputs": [
    {
     "data": {
      "text/plain": [
       "True"
      ]
     },
     "execution_count": 59,
     "metadata": {},
     "output_type": "execute_result"
    }
   ],
   "source": [
    "#논리연산: and, or, not\n",
    "#and : 모두 참 => 참\n",
    "True and True\n",
    "True and False\n",
    "#or : 적어도 하나 이상 참 => 참\n",
    "False or False\n",
    "False or True\n",
    "#not : 논리값 반대로 뒤집는 연산자\n",
    "not True\n",
    "((not True) and False) or (not False)"
   ]
  },
  {
   "cell_type": "code",
   "execution_count": 67,
   "metadata": {},
   "outputs": [
    {
     "data": {
      "text/plain": [
       "True"
      ]
     },
     "execution_count": 67,
     "metadata": {},
     "output_type": "execute_result"
    }
   ],
   "source": [
    "1==1 and 10 != 9\n",
    "not 1 > 0  #not True => False\n",
    "not 10 > 5\n",
    "not 1 is 1.0"
   ]
  },
  {
   "cell_type": "code",
   "execution_count": 77,
   "metadata": {},
   "outputs": [
    {
     "data": {
      "text/plain": [
       "False"
      ]
     },
     "execution_count": 77,
     "metadata": {},
     "output_type": "execute_result"
    }
   ],
   "source": [
    "#bool함수 : 정수,실수,문자열 => 불린 타입 변환\n",
    "bool(1)\n",
    "bool(0)\n",
    "bool(-1) #정수 0을 제외한 모든 정수는 참\n",
    "\n",
    "bool(3.14)\n",
    "bool(0.0)#실수 0.0을 제외한 모든 실수는 참\n",
    "bool(-3.14)\n",
    "\n",
    "bool(\"hi\")\n",
    "bool(\"\") #빈 문자열(\"\", '')는 거짓\n",
    "bool('')"
   ]
  },
  {
   "cell_type": "code",
   "execution_count": 78,
   "metadata": {},
   "outputs": [
    {
     "data": {
      "text/plain": [
       "False"
      ]
     },
     "execution_count": 78,
     "metadata": {},
     "output_type": "execute_result"
    }
   ],
   "source": [
    "False and True #False이므로 and 뒤에 있는 True는 실행 안함\n",
    "True or False #TRue이므로 or 뒤에 있는 False는 실행 안함"
   ]
  },
  {
   "cell_type": "code",
   "execution_count": 84,
   "metadata": {},
   "outputs": [
    {
     "data": {
      "text/plain": [
       "'I ate 3 apples. so I was sick for two days.'"
      ]
     },
     "execution_count": 84,
     "metadata": {},
     "output_type": "execute_result"
    }
   ],
   "source": [
    "number=3\n",
    "day=\"two\"\n",
    "\"I eat %d apples. \" % 3\n",
    "#\"I eat %d apples. \" % \"three\"   에러\n",
    "\"I eat %s apples. \" % \"three\"\n",
    "\n",
    "\"I eat %d apples. \" % number\n",
    "\n",
    "\"I ate %d apples. so I was sick for %s days.\" % (number, day)\n",
    "#두 개 이상의 값을 전달하려면 괄호로 묶어서 표현해야 한다."
   ]
  },
  {
   "cell_type": "code",
   "execution_count": 88,
   "metadata": {},
   "outputs": [
    {
     "data": {
      "text/plain": [
       "'I eat 3.14 apples. '"
      ]
     },
     "execution_count": 88,
     "metadata": {},
     "output_type": "execute_result"
    }
   ],
   "source": [
    "\"I eat %s apples. \" % \"three\"\n",
    "\"I eat %s apples. \" % 3\n",
    "\"I eat %s apples. \" % 3.14\n",
    "#%s는 타입과 관련없이 전달 받아서 출력해줌"
   ]
  },
  {
   "cell_type": "code",
   "execution_count": 91,
   "metadata": {},
   "outputs": [
    {
     "data": {
      "text/plain": [
       "'Error is 90%'"
      ]
     },
     "execution_count": 91,
     "metadata": {},
     "output_type": "execute_result"
    }
   ],
   "source": [
    "\"Error is %d\" % 90\n",
    "\"Error is %d%%\" % 90 #%기호 출력=> %%"
   ]
  },
  {
   "cell_type": "code",
   "execution_count": 97,
   "metadata": {},
   "outputs": [
    {
     "name": "stdout",
     "output_type": "stream",
     "text": [
      "        higd\n",
      "     hellogd\n",
      "hi        gd\n",
      "hello     gd\n"
     ]
    }
   ],
   "source": [
    "#%10s : 10자리를 확보한 후, 오른쪽 정렬 출력\n",
    "print(\"%10sgd\" % \"hi\")\n",
    "print(\"%10sgd\" % \"hello\")\n",
    "\n",
    "#%10s : 10자리를 확보한 후, 왼쪽 정렬 출력\n",
    "print(\"%-10sgd\" % \"hi\")\n",
    "print(\"%-10sgd\" % \"hello\")"
   ]
  },
  {
   "cell_type": "code",
   "execution_count": 100,
   "metadata": {},
   "outputs": [
    {
     "data": {
      "text/plain": [
       "'      3.14'"
      ]
     },
     "execution_count": 100,
     "metadata": {},
     "output_type": "execute_result"
    }
   ],
   "source": [
    "\"%f\" % 3.14 #'3.140000'\n",
    "\"%.2f\" % 3.14\n",
    "\"%10.2f\" %3.14 #10자리를 확보한 후, 소수 이하 둘째자리까지 출력"
   ]
  },
  {
   "cell_type": "code",
   "execution_count": 111,
   "metadata": {},
   "outputs": [
    {
     "data": {
      "text/plain": [
       "'I ate 3 apples. so I was sick for three days.'"
      ]
     },
     "execution_count": 111,
     "metadata": {},
     "output_type": "execute_result"
    }
   ],
   "source": [
    "#format함수를 이용한 포매팅\n",
    "#\"I eat %d apples\" % 3\n",
    "\"I eat {0} apples\".format(3)\n",
    "\"I eat {0} apples\".format(\"three\")\n",
    "num=3\n",
    "\"I eat {0} apples\".format(num)\n",
    "\n",
    "\"I ate {1} apples. so I was sick for {0} days.\".format(3, \"three\")\n",
    "\"I ate {num} apples. so I was sick for {day} days.\".format(num=3, day=\"three\")\n",
    "\"I ate {0} apples. so I was sick for {day} days.\".format(3, day=\"three\")"
   ]
  },
  {
   "cell_type": "code",
   "execution_count": 125,
   "metadata": {},
   "outputs": [
    {
     "data": {
      "text/plain": [
       "'==hello==='"
      ]
     },
     "execution_count": 125,
     "metadata": {},
     "output_type": "execute_result"
    }
   ],
   "source": [
    "\"{1} {0}\".format(\"hi\", \"hello\")\n",
    "\n",
    "#정렬 옵션\n",
    "\"{0}\".format(\"hello\")\n",
    "\"{0:<10}\".format(\"hello\") #10자리 확보, 왼쪽 정렬\n",
    "\"{0:>10}\".format(\"hello\") #10자리 확보, 오른쪽 정렬\n",
    "\"{0:^10}\".format(\"hello\") #10자리 확보, 가운데 정렬\n",
    "\"{0:=^10}\".format(\"hello\") #10자리 확보, 가운데 정렬,*로 채움"
   ]
  },
  {
   "cell_type": "code",
   "execution_count": 132,
   "metadata": {},
   "outputs": [
    {
     "ename": "ValueError",
     "evalue": "substring not found",
     "output_type": "error",
     "traceback": [
      "\u001b[1;31m---------------------------------------------------------------------------\u001b[0m",
      "\u001b[1;31mValueError\u001b[0m                                Traceback (most recent call last)",
      "\u001b[1;32m<ipython-input-132-881501b8c002>\u001b[0m in \u001b[0;36m<module>\u001b[1;34m\u001b[0m\n\u001b[0;32m      8\u001b[0m \u001b[1;33m\u001b[0m\u001b[0m\n\u001b[0;32m      9\u001b[0m \u001b[0mb\u001b[0m\u001b[1;33m.\u001b[0m\u001b[0mindex\u001b[0m\u001b[1;33m(\u001b[0m\u001b[1;34m'y'\u001b[0m\u001b[1;33m)\u001b[0m\u001b[1;31m#가장 왼쪽에서부터 찾아가므로 1\u001b[0m\u001b[1;33m\u001b[0m\u001b[1;33m\u001b[0m\u001b[0m\n\u001b[1;32m---> 10\u001b[1;33m \u001b[0mb\u001b[0m\u001b[1;33m.\u001b[0m\u001b[0mindex\u001b[0m\u001b[1;33m(\u001b[0m\u001b[1;34m'k'\u001b[0m\u001b[1;33m)\u001b[0m\u001b[1;33m\u001b[0m\u001b[1;33m\u001b[0m\u001b[0m\n\u001b[0m",
      "\u001b[1;31mValueError\u001b[0m: substring not found"
     ]
    }
   ],
   "source": [
    "a=\"hello\"\n",
    "a.count('l') #l문자의 개수\n",
    "a.count('a') #a문자의 개수\n",
    "\n",
    "b=\"Python is very easy.\"\n",
    "b.find('y') #가장 왼쪽에서부터 찾아가므로 1\n",
    "b.find('k') #문자를 못찾는 경우에는 -1\n",
    "\n",
    "b.index('y')#가장 왼쪽에서부터 찾아가므로 1\n",
    "b.index('k')#문자를 못찾는 경우에는 에러 발생"
   ]
  },
  {
   "cell_type": "code",
   "execution_count": 135,
   "metadata": {},
   "outputs": [
    {
     "data": {
      "text/plain": [
       "'m$u$l$t$i'"
      ]
     },
     "execution_count": 135,
     "metadata": {},
     "output_type": "execute_result"
    }
   ],
   "source": [
    "#문자열\n",
    "\"#\".join(\"hello\")\n",
    "#리스트 : 대괄호([])로 표현, 자료를 나열하고자 할때 사용\n",
    "\"$\".join(['m','u','l','t','i'])"
   ]
  },
  {
   "cell_type": "code",
   "execution_count": 141,
   "metadata": {},
   "outputs": [
    {
     "data": {
      "text/plain": [
       "'TEST'"
      ]
     },
     "execution_count": 141,
     "metadata": {},
     "output_type": "execute_result"
    }
   ],
   "source": [
    "#자연어처리에서 'test', 'TEST', 'Test' => 일괄적으로 치환\n",
    "a='Test'\n",
    "a.lower() #소문자로 변환\n",
    "a.upper() #대문자로 변환"
   ]
  },
  {
   "cell_type": "code",
   "execution_count": 147,
   "metadata": {},
   "outputs": [
    {
     "data": {
      "text/plain": [
       "' hello'"
      ]
     },
     "execution_count": 147,
     "metadata": {},
     "output_type": "execute_result"
    }
   ],
   "source": [
    "# strip함수 : 양쪽 공백 제거\n",
    "# lstrip함수 : 왼쪽 공백 제거\n",
    "# rstrip함수 : 오른쪽 공백 제거\n",
    "word=\" hello    \"\n",
    "word\n",
    "word.strip()\n",
    "word.lstrip()\n",
    "word.rstrip()\n"
   ]
  },
  {
   "cell_type": "code",
   "execution_count": 151,
   "metadata": {},
   "outputs": [
    {
     "data": {
      "text/plain": [
       "'대한민국 대한민국 코리아'"
      ]
     },
     "execution_count": 151,
     "metadata": {},
     "output_type": "execute_result"
    }
   ],
   "source": [
    "#replace : 문자열 대체\n",
    "#대한민국, 한국, 코리아, 조선, 고려, 우리나라,... => 대한민국\n",
    "x=\"대한민국 한국 코리아\"\n",
    "x.replace(\"한국\", \"대한민국\")"
   ]
  },
  {
   "cell_type": "code",
   "execution_count": 155,
   "metadata": {},
   "outputs": [
    {
     "data": {
      "text/plain": [
       "['a?b', 'c?d']"
      ]
     },
     "execution_count": 155,
     "metadata": {},
     "output_type": "execute_result"
    }
   ],
   "source": [
    "x=\"a?b$c?d\"\n",
    "#x.split(\"?\")\n",
    "x.split(\"$\")"
   ]
  },
  {
   "cell_type": "code",
   "execution_count": 164,
   "metadata": {},
   "outputs": [
    {
     "data": {
      "text/plain": [
       "3"
      ]
     },
     "execution_count": 164,
     "metadata": {},
     "output_type": "execute_result"
    }
   ],
   "source": [
    "\"\"\"\n",
    "리스트:데이터 타입에 관계없이 저장\n",
    "\"\"\"\n",
    "x1=[] #빈 리스트\n",
    "x1\n",
    "x2=[1,2,3]\n",
    "x2\n",
    "x3=['programming', 'is', 'very','easy']\n",
    "x3\n",
    "x4=[1,2,'is','very']\n",
    "x4\n",
    "x5=[1,2,['is','very']]#리스트의 요소로 리스트가 올 수 있다\n",
    "x5\n",
    "#리스트 내부에는 어떠한 자료형도 모두 포함될 수 있다\n",
    "a=list()  #a=[]\n",
    "a\n",
    "a=[1,2,3]\n",
    "a[0]+a[2]\n",
    "a[-1] #-1 : 마지막 요소"
   ]
  },
  {
   "cell_type": "code",
   "execution_count": 176,
   "metadata": {
    "scrolled": true
   },
   "outputs": [
    {
     "data": {
      "text/plain": [
       "'c'"
      ]
     },
     "execution_count": 176,
     "metadata": {},
     "output_type": "execute_result"
    }
   ],
   "source": [
    "x=[1,2,3,['a','b','c']]\n",
    "\"\"\"\n",
    "x리스트에서 1을 참조하여 출력\n",
    "x리스트에서 'a','b','c'을 참조하여 출력\n",
    "\"\"\"\n",
    "x[0]\n",
    "x[3] # x[-1]\n",
    "x[-2]\n",
    "\n",
    "#리스트의 리스트를 참조\n",
    "#a를 참조\n",
    "x[3][0]  #[1, 2, 3] 에서 0번 index 데이터 추출\n",
    "\n",
    "x=[1,2,3,['a','b','c']]\n",
    "#c를 참조\n",
    "x[3][2]\n",
    "x[3][-1]\n",
    "x[-1][2]\n",
    "x[-1][-1]"
   ]
  },
  {
   "cell_type": "code",
   "execution_count": 185,
   "metadata": {},
   "outputs": [
    {
     "data": {
      "text/plain": [
       "[['a', 'b', ['Python', 'is']]]"
      ]
     },
     "execution_count": 185,
     "metadata": {},
     "output_type": "execute_result"
    }
   ],
   "source": [
    "#삼중 리스트\n",
    "x=[1,2,['a','b',['Python','is']]]\n",
    "#Python 추출\n",
    "x[2][2][0]\n",
    "\n",
    "x[0:3] #x변수에 저장된 데이터의 0번~3-1번 index 데이터 추출\n",
    "x[0:2]\n",
    "x[:2]\n",
    "x[2:]"
   ]
  },
  {
   "cell_type": "code",
   "execution_count": 191,
   "metadata": {},
   "outputs": [
    {
     "data": {
      "text/plain": [
       "['a', 'b']"
      ]
     },
     "execution_count": 191,
     "metadata": {},
     "output_type": "execute_result"
    }
   ],
   "source": [
    "x2=[1,2,3,['a','b','c'],4,5]\n",
    "x2\n",
    "#   3,['a','b','c'],4,5\n",
    "x2[2:]\n",
    "x2[2:6]\n",
    "\n",
    "#     ['a','b']\n",
    "x2[3][0:2]"
   ]
  },
  {
   "cell_type": "code",
   "execution_count": 199,
   "metadata": {},
   "outputs": [
    {
     "data": {
      "text/plain": [
       "'ㅋㅋㅋㅋㅋㅋㅋㅋㅋㅋㅋㅋㅋㅋㅋㅋㅋㅋㅋㅋㅋㅋㅋㅋㅋㅋㅋㅋㅋㅋㅋㅋㅋㅋㅋㅋㅋㅋㅋㅋㅋㅋㅋㅋㅋㅋㅋㅋㅋㅋㅋㅋㅋㅋㅋㅋㅋㅋㅋㅋㅋㅋㅋㅋㅋㅋㅋㅋㅋㅋㅋㅋㅋㅋㅋㅋㅋㅋㅋㅋㅋㅋㅋㅋㅋㅋㅋㅋㅋㅋㅋㅋㅋㅋㅋㅋㅋㅋㅋㅋ'"
      ]
     },
     "execution_count": 199,
     "metadata": {},
     "output_type": "execute_result"
    }
   ],
   "source": [
    "x=[1,2,3]\n",
    "y=[4,5,6]\n",
    "x+y #리스트 더하기 => 2개의 리스트가 연결되어 1개의 리스트\n",
    "\"hi\"+\"hello\"\n",
    "x=[9,8,7]\n",
    "x*3\n",
    "\"=\"*40\n",
    "\"hello\"*10\n",
    "\"ㅋ\"*100"
   ]
  },
  {
   "cell_type": "code",
   "execution_count": 201,
   "metadata": {},
   "outputs": [
    {
     "data": {
      "text/plain": [
       "5"
      ]
     },
     "execution_count": 201,
     "metadata": {},
     "output_type": "execute_result"
    }
   ],
   "source": [
    "x=[1,2,3]\n",
    "len(x)\n",
    "len(\"hello\")"
   ]
  },
  {
   "cell_type": "code",
   "execution_count": 208,
   "metadata": {},
   "outputs": [
    {
     "data": {
      "text/plain": [
       "'3hi'"
      ]
     },
     "execution_count": 208,
     "metadata": {},
     "output_type": "execute_result"
    }
   ],
   "source": [
    "a=[1,2,3]   # 3hi 출력\n",
    "#a[2]+\"hi\"\n",
    "str(a[2])+\"hi\""
   ]
  },
  {
   "cell_type": "code",
   "execution_count": 218,
   "metadata": {},
   "outputs": [
    {
     "data": {
      "text/plain": [
       "[13, 12, 11, 10, 9, 8, 7, 6, 5, 4, 3]"
      ]
     },
     "execution_count": 218,
     "metadata": {},
     "output_type": "execute_result"
    }
   ],
   "source": [
    "#a=[0,1,2,..,9]\n",
    "range(5) #0~4까지 연속된 숫자 생성\n",
    "list(range(100))\n",
    "list(range(3,12))\n",
    "list(range(3,12, 2))\n",
    "list(range(-3,12, 2))\n",
    "list(range(13,2, -1))"
   ]
  },
  {
   "cell_type": "code",
   "execution_count": 223,
   "metadata": {},
   "outputs": [],
   "source": [
    "a=[1,2,3]\n",
    "a\n",
    "a[2]=10\n",
    "a\n",
    "del a[1]"
   ]
  },
  {
   "cell_type": "code",
   "execution_count": 224,
   "metadata": {},
   "outputs": [
    {
     "data": {
      "text/plain": [
       "[1, 10]"
      ]
     },
     "execution_count": 224,
     "metadata": {},
     "output_type": "execute_result"
    }
   ],
   "source": [
    "a"
   ]
  },
  {
   "cell_type": "code",
   "execution_count": 227,
   "metadata": {},
   "outputs": [
    {
     "data": {
      "text/plain": [
       "[1, 2, 3, 4, 5, 6, 7, 8, 9, 10]"
      ]
     },
     "execution_count": 227,
     "metadata": {},
     "output_type": "execute_result"
    }
   ],
   "source": [
    "a=list(range(1, 11)) #1~10까지 숫자가 저장된 리스트를 생성\n",
    "a"
   ]
  },
  {
   "cell_type": "code",
   "execution_count": 228,
   "metadata": {},
   "outputs": [],
   "source": [
    "del a[6:]"
   ]
  },
  {
   "cell_type": "code",
   "execution_count": 229,
   "metadata": {},
   "outputs": [
    {
     "data": {
      "text/plain": [
       "[1, 2, 3, 4, 5, 6]"
      ]
     },
     "execution_count": 229,
     "metadata": {},
     "output_type": "execute_result"
    }
   ],
   "source": [
    "a"
   ]
  },
  {
   "cell_type": "code",
   "execution_count": 230,
   "metadata": {},
   "outputs": [],
   "source": [
    "del a[2:5]"
   ]
  },
  {
   "cell_type": "code",
   "execution_count": 231,
   "metadata": {},
   "outputs": [
    {
     "data": {
      "text/plain": [
       "[1, 2, 6]"
      ]
     },
     "execution_count": 231,
     "metadata": {},
     "output_type": "execute_result"
    }
   ],
   "source": [
    "a"
   ]
  },
  {
   "cell_type": "code",
   "execution_count": 235,
   "metadata": {},
   "outputs": [
    {
     "ename": "TypeError",
     "evalue": "'<' not supported between instances of 'list' and 'int'",
     "output_type": "error",
     "traceback": [
      "\u001b[1;31m---------------------------------------------------------------------------\u001b[0m",
      "\u001b[1;31mTypeError\u001b[0m                                 Traceback (most recent call last)",
      "\u001b[1;32m<ipython-input-235-a70446a8a1a2>\u001b[0m in \u001b[0;36m<module>\u001b[1;34m\u001b[0m\n\u001b[0;32m      8\u001b[0m \u001b[0ma\u001b[0m\u001b[1;33m\u001b[0m\u001b[1;33m\u001b[0m\u001b[0m\n\u001b[0;32m      9\u001b[0m \u001b[1;33m\u001b[0m\u001b[0m\n\u001b[1;32m---> 10\u001b[1;33m \u001b[0ma\u001b[0m\u001b[1;33m.\u001b[0m\u001b[0msort\u001b[0m\u001b[1;33m(\u001b[0m\u001b[1;33m)\u001b[0m\u001b[1;33m\u001b[0m\u001b[1;33m\u001b[0m\u001b[0m\n\u001b[0m\u001b[0;32m     11\u001b[0m \u001b[1;33m\u001b[0m\u001b[0m\n\u001b[0;32m     12\u001b[0m \u001b[1;33m\u001b[0m\u001b[0m\n",
      "\u001b[1;31mTypeError\u001b[0m: '<' not supported between instances of 'list' and 'int'"
     ]
    }
   ],
   "source": [
    "#리스트변수명.함수명()\n",
    "a=[1,2,3]\n",
    "x=5\n",
    "a.append(x)\n",
    "a\n",
    "b=[6,7]\n",
    "a.append(b)\n",
    "a\n",
    "\n",
    "a.sort()\n",
    "\n",
    "\n",
    "#자료구조(리스트,튜플,딕셔너리,셋)에 따라 사용 가능한 함수가 다름\n",
    "#(공통 사용 가능함수도 일부 있음)\n",
    "#python.org\n",
    "# 리스트(객체).함수()\n",
    "# 딕셔너리(객체).함수()\n",
    "# 문자열(객체).함수()\n",
    "\n",
    "#자동차객체.달린다(), 멈춘다(), ...\n",
    "\n",
    "#클래스 : 사람\n",
    "#홍길동객체.먹는다(), 잔다(), ...\n",
    "#홍길순객체.먹는다(), 잔다(), ..."
   ]
  },
  {
   "cell_type": "code",
   "execution_count": 245,
   "metadata": {},
   "outputs": [
    {
     "data": {
      "text/plain": [
       "['z', 'k', 'a']"
      ]
     },
     "execution_count": 245,
     "metadata": {},
     "output_type": "execute_result"
    }
   ],
   "source": [
    "a=[2,1,4,3]\n",
    "#a.sort()#오름차순 정렬\n",
    "\n",
    "a.sort()\n",
    "a\n",
    "\n",
    "a.reverse()\n",
    "a\n",
    "\n",
    "a=['k', 'a', 'z']\n",
    "a.sort()\n",
    "a\n",
    "a.reverse()\n",
    "a"
   ]
  },
  {
   "cell_type": "code",
   "execution_count": 249,
   "metadata": {},
   "outputs": [
    {
     "data": {
      "text/plain": [
       "1"
      ]
     },
     "execution_count": 249,
     "metadata": {},
     "output_type": "execute_result"
    }
   ],
   "source": [
    "a=[10,20,30]\n",
    "a.index(20) #20이 저장되어 있는 요소의 위치\n",
    "#a.find(20)\n",
    "#a.index(1)"
   ]
  },
  {
   "cell_type": "code",
   "execution_count": 253,
   "metadata": {},
   "outputs": [
    {
     "data": {
      "text/plain": [
       "[100, 1, 2, 5, 3]"
      ]
     },
     "execution_count": 253,
     "metadata": {},
     "output_type": "execute_result"
    }
   ],
   "source": [
    "#insert: 리스트 요소 추가(원하는 위치)\n",
    "a=[1,2,3]\n",
    "a.insert(0, 100) #0번 인덱스 위치에 100 추가\n",
    "a\n",
    "a.insert(3,5)\n",
    "a"
   ]
  },
  {
   "cell_type": "code",
   "execution_count": 257,
   "metadata": {},
   "outputs": [
    {
     "data": {
      "text/plain": [
       "[7, 5, 3]"
      ]
     },
     "execution_count": 257,
     "metadata": {},
     "output_type": "execute_result"
    }
   ],
   "source": [
    "a=[3,7,5]\n",
    "a.sort()\n",
    "a\n",
    "a.reverse()\n",
    "a"
   ]
  },
  {
   "cell_type": "code",
   "execution_count": 258,
   "metadata": {},
   "outputs": [
    {
     "data": {
      "text/plain": [
       "['a', 'j', 'k']"
      ]
     },
     "execution_count": 258,
     "metadata": {},
     "output_type": "execute_result"
    }
   ],
   "source": [
    "b=['k','j','a']\n",
    "b.reverse()\n",
    "b"
   ]
  },
  {
   "cell_type": "code",
   "execution_count": null,
   "metadata": {},
   "outputs": [],
   "source": []
  },
  {
   "cell_type": "code",
   "execution_count": null,
   "metadata": {},
   "outputs": [],
   "source": []
  },
  {
   "cell_type": "code",
   "execution_count": 272,
   "metadata": {},
   "outputs": [],
   "source": [
    "a=[1,2,3,1,2,3]\n",
    "a.remove(3)"
   ]
  },
  {
   "cell_type": "code",
   "execution_count": 273,
   "metadata": {},
   "outputs": [
    {
     "data": {
      "text/plain": [
       "[1, 2, 1, 2, 3]"
      ]
     },
     "execution_count": 273,
     "metadata": {},
     "output_type": "execute_result"
    }
   ],
   "source": [
    "a"
   ]
  },
  {
   "cell_type": "code",
   "execution_count": 276,
   "metadata": {
    "scrolled": true
   },
   "outputs": [
    {
     "data": {
      "text/plain": [
       "40"
      ]
     },
     "execution_count": 276,
     "metadata": {},
     "output_type": "execute_result"
    }
   ],
   "source": [
    "a=[10,20,30,40]\n",
    "a.pop() #가장 마지막에 저장된 요소를 제거(꺼내는) 작업"
   ]
  },
  {
   "cell_type": "code",
   "execution_count": 277,
   "metadata": {},
   "outputs": [
    {
     "data": {
      "text/plain": [
       "[10, 20, 30]"
      ]
     },
     "execution_count": 277,
     "metadata": {},
     "output_type": "execute_result"
    }
   ],
   "source": [
    "a"
   ]
  },
  {
   "cell_type": "code",
   "execution_count": 278,
   "metadata": {
    "scrolled": true
   },
   "outputs": [
    {
     "data": {
      "text/plain": [
       "20"
      ]
     },
     "execution_count": 278,
     "metadata": {},
     "output_type": "execute_result"
    }
   ],
   "source": [
    "a.pop(1) #1번 index에 저장되어 있는 자료가 꺼내짐"
   ]
  },
  {
   "cell_type": "code",
   "execution_count": 279,
   "metadata": {},
   "outputs": [
    {
     "data": {
      "text/plain": [
       "[10, 30]"
      ]
     },
     "execution_count": 279,
     "metadata": {},
     "output_type": "execute_result"
    }
   ],
   "source": [
    "a"
   ]
  },
  {
   "cell_type": "code",
   "execution_count": 282,
   "metadata": {},
   "outputs": [
    {
     "data": {
      "text/plain": [
       "0"
      ]
     },
     "execution_count": 282,
     "metadata": {},
     "output_type": "execute_result"
    }
   ],
   "source": [
    "a=[1,2,3,1]\n",
    "a.count(1)\n",
    "a.count(0)"
   ]
  },
  {
   "cell_type": "code",
   "execution_count": 283,
   "metadata": {},
   "outputs": [],
   "source": [
    "a=[1,2,3]\n",
    "b=[4,5]\n",
    "a.append(b)"
   ]
  },
  {
   "cell_type": "code",
   "execution_count": 284,
   "metadata": {},
   "outputs": [
    {
     "data": {
      "text/plain": [
       "[1, 2, 3, [4, 5]]"
      ]
     },
     "execution_count": 284,
     "metadata": {},
     "output_type": "execute_result"
    }
   ],
   "source": [
    "a"
   ]
  },
  {
   "cell_type": "code",
   "execution_count": 285,
   "metadata": {},
   "outputs": [],
   "source": [
    "a=[1,2,3]\n",
    "b=[4,5]\n",
    "a.extend(b)"
   ]
  },
  {
   "cell_type": "code",
   "execution_count": 286,
   "metadata": {},
   "outputs": [
    {
     "data": {
      "text/plain": [
       "[1, 2, 3, 4, 5]"
      ]
     },
     "execution_count": 286,
     "metadata": {},
     "output_type": "execute_result"
    }
   ],
   "source": [
    "a"
   ]
  },
  {
   "cell_type": "code",
   "execution_count": 287,
   "metadata": {},
   "outputs": [
    {
     "data": {
      "text/plain": [
       "[1, 2, 3, 4, 5, 6, 7]"
      ]
     },
     "execution_count": 287,
     "metadata": {},
     "output_type": "execute_result"
    }
   ],
   "source": [
    "a.extend([6,7])\n",
    "a"
   ]
  },
  {
   "cell_type": "code",
   "execution_count": null,
   "metadata": {},
   "outputs": [],
   "source": []
  },
  {
   "cell_type": "code",
   "execution_count": null,
   "metadata": {},
   "outputs": [],
   "source": []
  },
  {
   "cell_type": "code",
   "execution_count": null,
   "metadata": {},
   "outputs": [],
   "source": []
  },
  {
   "cell_type": "code",
   "execution_count": null,
   "metadata": {},
   "outputs": [],
   "source": []
  },
  {
   "cell_type": "code",
   "execution_count": 265,
   "metadata": {},
   "outputs": [
    {
     "data": {
      "text/plain": [
       "[1, 2, 1, 2, 3]"
      ]
     },
     "execution_count": 265,
     "metadata": {},
     "output_type": "execute_result"
    }
   ],
   "source": [
    "a"
   ]
  },
  {
   "cell_type": "code",
   "execution_count": null,
   "metadata": {},
   "outputs": [],
   "source": []
  },
  {
   "cell_type": "code",
   "execution_count": 261,
   "metadata": {},
   "outputs": [
    {
     "data": {
      "text/plain": [
       "[1, 2, 1, 2, 3]"
      ]
     },
     "execution_count": 261,
     "metadata": {},
     "output_type": "execute_result"
    }
   ],
   "source": [
    "a"
   ]
  },
  {
   "cell_type": "code",
   "execution_count": null,
   "metadata": {},
   "outputs": [],
   "source": []
  },
  {
   "cell_type": "code",
   "execution_count": null,
   "metadata": {},
   "outputs": [],
   "source": [
    "\"\"\"\n",
    "1. 주민번호 921101-1231234 에서 연월일과 그 뒤의 숫자 부분을 나누어 출력하시오\n",
    "ex) 921101 1231234\n",
    "2. 주민번호 921101-1231234 에서 성별을 나타내는 숫자를 출력하시오.\n",
    "3. 문자열 a:b:c:d -> a#b#c#d로 변경하시오\n",
    "4. [How\",\"are\",\"you\"] 리스트에서 join함수를 이용하여\n",
    "            How are you를 출력하시오.\n",
    "5. 리스트 [5,3,1,-1,3]출력 되도록 코드를 작성하시오.\n",
    "    range함수 적용\n",
    "6. 1부터 10,000까지 8이라는 숫자가 총 몇번 나오는가?\n",
    "8이 포함되어 있는 숫자의 갯수를 카운팅 하는 것이 아니라 8이라는 숫자를 모두 카운팅 해야 한다.\n",
    "(※ 예를들어 8808은 3, 8888은 4로 카운팅 해야 함)\n",
    "\"\"\""
   ]
  }
 ],
 "metadata": {
  "kernelspec": {
   "display_name": "Python 3",
   "language": "python",
   "name": "python3"
  },
  "language_info": {
   "codemirror_mode": {
    "name": "ipython",
    "version": 3
   },
   "file_extension": ".py",
   "mimetype": "text/x-python",
   "name": "python",
   "nbconvert_exporter": "python",
   "pygments_lexer": "ipython3",
   "version": "3.7.4"
  }
 },
 "nbformat": 4,
 "nbformat_minor": 2
}
