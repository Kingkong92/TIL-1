{
 "cells": [
  {
   "cell_type": "code",
   "execution_count": 4,
   "metadata": {},
   "outputs": [
    {
     "name": "stdout",
     "output_type": "stream",
     "text": [
      "[1, 2]\n",
      "[1, 2]\n"
     ]
    }
   ],
   "source": [
    "\"\"\"\n",
    "filter(함수,반복가능자료형):반복가능자료형 요소가 첫번째 인수인 함수에 입력이 되었을때\n",
    "변환 값이 참인 경우에 대해서만 필터링 해주는 함수\n",
    "\"\"\"\n",
    "def positive(p):\n",
    "    res=[]\n",
    "    for i in p:\n",
    "        if i>0:\n",
    "            res.append(i)\n",
    "    return res\n",
    "print(positive([1,-3,2,-5]))\n",
    "\n",
    "print(list(filter(lambda x:x>0,[1,-3,2,-5]))"
   ]
  },
  {
   "cell_type": "code",
   "execution_count": 10,
   "metadata": {},
   "outputs": [
    {
     "name": "stdout",
     "output_type": "stream",
     "text": [
      "[2, 3, 4, 5]\n",
      "[2, 3, 4, 5]\n",
      "[2, 3, 4, 5]\n",
      "['1', '2', '3', '4']\n"
     ]
    }
   ],
   "source": [
    "target=[1,2,3,4]\n",
    "res=[]\n",
    "def add1(n):\n",
    "    return n+1\n",
    "\n",
    "for v in target:\n",
    "    res.append(add1(v))\n",
    "print(res)\n",
    "\n",
    "print(list(map(add1, target)))\n",
    "print(list(map(lambda x:x+1, target)))\n",
    "\n",
    "print(list(map(str,target)))\n"
   ]
  },
  {
   "cell_type": "code",
   "execution_count": 14,
   "metadata": {},
   "outputs": [
    {
     "name": "stdout",
     "output_type": "stream",
     "text": [
      "[2, 4, 6, 8, 10]\n",
      "[2, 4, 6, 8, 10]\n"
     ]
    }
   ],
   "source": [
    "target=list(range(1,11))\n",
    "res=[]\n",
    "\n",
    "def is_even(n):\n",
    "    return True if n%2==0 else False\n",
    "res=filter(is_even, target)\n",
    "# for v in target:\n",
    "#     if is_even(v):\n",
    "#         res.append(v)\n",
    "print(list(res))\n",
    "\n",
    "#filter+lambda조합\n",
    "print(list(filter(lambda x:x%2==0 ,target)))\n"
   ]
  },
  {
   "cell_type": "code",
   "execution_count": 16,
   "metadata": {},
   "outputs": [
    {
     "name": "stdout",
     "output_type": "stream",
     "text": [
      "[1, 3]\n"
     ]
    }
   ],
   "source": [
    "#[1,3,-2,-5] 양수만 필터링\n",
    "print(list(filter(lambda x:x>0, [1,3,-2,-5])))"
   ]
  },
  {
   "cell_type": "code",
   "execution_count": 18,
   "metadata": {},
   "outputs": [],
   "source": [
    "#list object is not callable\n",
    "#변수명과 함수명이 중복\n",
    "# input=[1,2,3]\n",
    "# input()"
   ]
  },
  {
   "cell_type": "code",
   "execution_count": 19,
   "metadata": {},
   "outputs": [
    {
     "data": {
      "text/plain": [
       "'0xfe'"
      ]
     },
     "execution_count": 19,
     "metadata": {},
     "output_type": "execute_result"
    }
   ],
   "source": [
    "#정수 -> 16진수\n",
    "hex(254)"
   ]
  },
  {
   "cell_type": "code",
   "execution_count": 25,
   "metadata": {},
   "outputs": [
    {
     "name": "stdout",
     "output_type": "stream",
     "text": [
      "140704180773328\n",
      "140704180773328\n"
     ]
    }
   ],
   "source": [
    "a=3 #3이 저장된 주소를 a가 갖고 있다는 의미\n",
    "print(id(3))\n",
    "print(id(a))\n",
    "#id(객체) 객체의 메모리 주소 값을 돌려주는 함수"
   ]
  },
  {
   "cell_type": "code",
   "execution_count": 29,
   "metadata": {},
   "outputs": [
    {
     "data": {
      "text/plain": [
       "250"
      ]
     },
     "execution_count": 29,
     "metadata": {},
     "output_type": "execute_result"
    }
   ],
   "source": [
    "int('3')\n",
    "int(3.14)\n",
    "int(\"101\", 2) #2진수 101에 대한 10진수 값\n",
    "int(\"FA\", 16) #16진수 FA에 대한 10진수 값"
   ]
  },
  {
   "cell_type": "code",
   "execution_count": 31,
   "metadata": {},
   "outputs": [
    {
     "name": "stdout",
     "output_type": "stream",
     "text": [
      "True\n",
      "False\n"
     ]
    }
   ],
   "source": [
    "#클래스(붕어빵기계) -> 객체(인스턴스,붕어빵)\n",
    "#붕어빵 isinstance 붕어빵기계 => True\n",
    "#꽃게빵 isinstance 붕어빵기계 => False\n",
    "class 붕어빵기계:\n",
    "    pass\n",
    "class 꽃게빵기계:\n",
    "    pass\n",
    "꽃게빵=꽃게빵기계()\n",
    "붕어빵=붕어빵기계()\n",
    "print(isinstance(붕어빵,붕어빵기계))\n",
    "print(isinstance(꽃게빵,붕어빵기계))"
   ]
  },
  {
   "cell_type": "code",
   "execution_count": 34,
   "metadata": {},
   "outputs": [
    {
     "data": {
      "text/plain": [
       "[1, 2, 3, 4, 5, 6, 7, 8, 9]"
      ]
     },
     "execution_count": 34,
     "metadata": {},
     "output_type": "execute_result"
    }
   ],
   "source": [
    "list(\"test\")# => ['t','e','s','t']\n",
    "list((1,2,3))\n",
    "list(range(1,10))"
   ]
  },
  {
   "cell_type": "code",
   "execution_count": 38,
   "metadata": {},
   "outputs": [
    {
     "name": "stdout",
     "output_type": "stream",
     "text": [
      "[2, 4, 6]\n"
     ]
    }
   ],
   "source": [
    "#1.일반적인 함수 구현\n",
    "def two_times(num):\n",
    "    #구현부분\n",
    "    res=[]\n",
    "    for n in num:\n",
    "        res.append(n*2)\n",
    "    return res    \n",
    "res=two_times([1,2,3])\n",
    "print(res) #[2,4,6]\n",
    "    \n",
    "\n"
   ]
  },
  {
   "cell_type": "code",
   "execution_count": 39,
   "metadata": {},
   "outputs": [
    {
     "name": "stdout",
     "output_type": "stream",
     "text": [
      "[2, 4, 6]\n"
     ]
    }
   ],
   "source": [
    "#2. map 함수 구현\n",
    "def two_times(x):\n",
    "    return x*2\n",
    "print(list(map(two_times, [1,2,3])))"
   ]
  },
  {
   "cell_type": "code",
   "execution_count": 40,
   "metadata": {},
   "outputs": [
    {
     "name": "stdout",
     "output_type": "stream",
     "text": [
      "[2, 4, 6]\n"
     ]
    }
   ],
   "source": [
    "#3.람다함수 구현\n",
    "print(list(map(lambda x:x*2, [1,2,3])))"
   ]
  },
  {
   "cell_type": "code",
   "execution_count": 43,
   "metadata": {},
   "outputs": [
    {
     "data": {
      "text/plain": [
       "'e'"
      ]
     },
     "execution_count": 43,
     "metadata": {},
     "output_type": "execute_result"
    }
   ],
   "source": [
    "max([1,2,3])\n",
    "max(\"test\")#아스키 코드값이 가장 큰 문자\n",
    "min([1,2,3])\n",
    "min(\"test\")#아스키 코드값이 가장 작은 문자\n"
   ]
  },
  {
   "cell_type": "code",
   "execution_count": 47,
   "metadata": {},
   "outputs": [
    {
     "data": {
      "text/plain": [
       "16"
      ]
     },
     "execution_count": 47,
     "metadata": {},
     "output_type": "execute_result"
    }
   ],
   "source": [
    "oct(8) #10진수 8 -> 8진수 10\n",
    "chr(97) #ord함수의 반대\n",
    "ord('a')\n",
    "pow(2,4)"
   ]
  },
  {
   "cell_type": "code",
   "execution_count": 52,
   "metadata": {},
   "outputs": [
    {
     "data": {
      "text/plain": [
       "3.46"
      ]
     },
     "execution_count": 52,
     "metadata": {},
     "output_type": "execute_result"
    }
   ],
   "source": [
    "#반올림\n",
    "round(4.6)\n",
    "round(3.4567, 2)"
   ]
  },
  {
   "cell_type": "code",
   "execution_count": 54,
   "metadata": {},
   "outputs": [
    {
     "name": "stdout",
     "output_type": "stream",
     "text": [
      "None\n",
      "[1, 2, 3]\n"
     ]
    }
   ],
   "source": [
    "#list.sort(), sorted(list)\n",
    "#list.sort():리스트를 정렬, 반환값은 None,\n",
    "#리스트의 순서가 변경\n",
    "li=[1,3,2]\n",
    "print(li.sort())\n",
    "print(li)"
   ]
  },
  {
   "cell_type": "code",
   "execution_count": 56,
   "metadata": {},
   "outputs": [
    {
     "name": "stdout",
     "output_type": "stream",
     "text": [
      "[1, 2, 3]\n"
     ]
    },
    {
     "data": {
      "text/plain": [
       "[1, 3, 2]"
      ]
     },
     "execution_count": 56,
     "metadata": {},
     "output_type": "execute_result"
    }
   ],
   "source": [
    "#sorted(list) : 정렬된 새로운 리스트를 반환\n",
    "#원본 리스트에는 영향 없음\n",
    "li2=[1,3,2]\n",
    "print(sorted(li2))\n",
    "li2\n",
    "#두 함수 차이점 정리\n",
    "#sort는 원본 리스트 순서가 변경됨.\n",
    "#sorted 변경 안됨.\n",
    "#속도 : sort > sorted 이유?sorted는 사본 리스트가 추가적으로 생성"
   ]
  },
  {
   "cell_type": "code",
   "execution_count": 59,
   "metadata": {},
   "outputs": [
    {
     "data": {
      "text/plain": [
       "[1, 2, 3]"
      ]
     },
     "execution_count": 59,
     "metadata": {},
     "output_type": "execute_result"
    }
   ],
   "source": [
    "sorted(['a','c','b'])\n",
    "sorted(\"today\")\n",
    "sorted((1,3,2))"
   ]
  },
  {
   "cell_type": "code",
   "execution_count": 63,
   "metadata": {},
   "outputs": [
    {
     "data": {
      "text/plain": [
       "'HI'"
      ]
     },
     "execution_count": 63,
     "metadata": {},
     "output_type": "execute_result"
    }
   ],
   "source": [
    "str(3)\n",
    "str(\"hi\")\n",
    "str(\"hi\".upper())"
   ]
  },
  {
   "cell_type": "code",
   "execution_count": 65,
   "metadata": {},
   "outputs": [
    {
     "data": {
      "text/plain": [
       "6"
      ]
     },
     "execution_count": 65,
     "metadata": {},
     "output_type": "execute_result"
    }
   ],
   "source": [
    "sum([1,2])\n",
    "sum((1,2,3))"
   ]
  },
  {
   "cell_type": "code",
   "execution_count": 71,
   "metadata": {},
   "outputs": [
    {
     "data": {
      "text/plain": [
       "[('a', 'd', 'g'), ('b', 'e', 'h'), ('c', 'f', 'i')]"
      ]
     },
     "execution_count": 71,
     "metadata": {},
     "output_type": "execute_result"
    }
   ],
   "source": [
    "#자료를 묶어주는 함수\n",
    "list(zip(\"abc\",\"def\"))\n",
    "list(zip(\"abc\",\"defg\")) #g가 버려짐\n",
    "list(zip(\"abc\",\"de\")) #c가 버려짐\n",
    "list(zip(\"abc\",\"def\",'ghi'))"
   ]
  },
  {
   "cell_type": "code",
   "execution_count": 73,
   "metadata": {},
   "outputs": [],
   "source": [
    "#pickle:객체 상태 그대로 저장/불러오기 모듈\n",
    "import pickle\n",
    "f=open('test.txt','wb')\n",
    "data={1:'python',2:'java'} #객체\n",
    "pickle.dump(data, f)\n",
    "f.close()"
   ]
  },
  {
   "cell_type": "code",
   "execution_count": 74,
   "metadata": {},
   "outputs": [
    {
     "name": "stdout",
     "output_type": "stream",
     "text": [
      "{1: 'python', 2: 'java'}\n"
     ]
    }
   ],
   "source": [
    "f=open(\"test.txt\", \"rb\")\n",
    "data=pickle.load(f)\n",
    "print(data)"
   ]
  },
  {
   "cell_type": "code",
   "execution_count": 76,
   "metadata": {
    "scrolled": true
   },
   "outputs": [
    {
     "data": {
      "text/plain": [
       "'test2.txt'"
      ]
     },
     "execution_count": 76,
     "metadata": {},
     "output_type": "execute_result"
    }
   ],
   "source": [
    "import shutil #파일복사\n",
    "shutil.copy(\"test.txt\", \"test2.txt\")"
   ]
  },
  {
   "cell_type": "code",
   "execution_count": 80,
   "metadata": {},
   "outputs": [
    {
     "data": {
      "text/plain": [
       "['c:/Windows\\\\addins',\n",
       " 'c:/Windows\\\\AhnInst.log',\n",
       " 'c:/Windows\\\\appcompat',\n",
       " 'c:/Windows\\\\apppatch',\n",
       " 'c:/Windows\\\\AppReadiness',\n",
       " 'c:/Windows\\\\assembly',\n",
       " 'c:/Windows\\\\bcastdvr',\n",
       " 'c:/Windows\\\\bfsvc.exe',\n",
       " 'c:/Windows\\\\BitLockerDiscoveryVolumeContents',\n",
       " 'c:/Windows\\\\Boot',\n",
       " 'c:/Windows\\\\bootstat.dat',\n",
       " 'c:/Windows\\\\Branding',\n",
       " 'c:/Windows\\\\CbsTemp',\n",
       " 'c:/Windows\\\\Containers',\n",
       " 'c:/Windows\\\\CSC',\n",
       " 'c:/Windows\\\\Cursors',\n",
       " 'c:/Windows\\\\debug',\n",
       " 'c:/Windows\\\\diagnostics',\n",
       " 'c:/Windows\\\\DiagTrack',\n",
       " 'c:/Windows\\\\DigitalLocker',\n",
       " 'c:/Windows\\\\Downloaded Program Files',\n",
       " 'c:/Windows\\\\Education.xml',\n",
       " 'c:/Windows\\\\ELAMBKUP',\n",
       " 'c:/Windows\\\\en-US',\n",
       " 'c:/Windows\\\\Enterprise.xml',\n",
       " 'c:/Windows\\\\explorer.exe',\n",
       " 'c:/Windows\\\\Fonts',\n",
       " 'c:/Windows\\\\GameBarPresenceWriter',\n",
       " 'c:/Windows\\\\Globalization',\n",
       " 'c:/Windows\\\\Help',\n",
       " 'c:/Windows\\\\HelpPane.exe',\n",
       " 'c:/Windows\\\\hh.exe',\n",
       " 'c:/Windows\\\\IdentityCRL',\n",
       " 'c:/Windows\\\\IME',\n",
       " 'c:/Windows\\\\ImmersiveControlPanel',\n",
       " 'c:/Windows\\\\INF',\n",
       " 'c:/Windows\\\\InputMethod',\n",
       " 'c:/Windows\\\\Installer',\n",
       " 'c:/Windows\\\\ko-KR',\n",
       " 'c:/Windows\\\\L2Schemas',\n",
       " 'c:/Windows\\\\LanguageOverlayCache',\n",
       " 'c:/Windows\\\\LiveKernelReports',\n",
       " 'c:/Windows\\\\Logs',\n",
       " 'c:/Windows\\\\Media',\n",
       " 'c:/Windows\\\\mib.bin',\n",
       " 'c:/Windows\\\\Microsoft.NET',\n",
       " 'c:/Windows\\\\Migration',\n",
       " 'c:/Windows\\\\minidump',\n",
       " 'c:/Windows\\\\ModemLogs',\n",
       " 'c:/Windows\\\\notepad.exe',\n",
       " 'c:/Windows\\\\OCR',\n",
       " 'c:/Windows\\\\Offline Web Pages',\n",
       " 'c:/Windows\\\\Panther',\n",
       " 'c:/Windows\\\\PCHEALTH',\n",
       " 'c:/Windows\\\\Performance',\n",
       " 'c:/Windows\\\\PFRO.log',\n",
       " 'c:/Windows\\\\PLA',\n",
       " 'c:/Windows\\\\PolicyDefinitions',\n",
       " 'c:/Windows\\\\Prefetch',\n",
       " 'c:/Windows\\\\PrintDialog',\n",
       " 'c:/Windows\\\\Professional.xml',\n",
       " 'c:/Windows\\\\ProfessionalEducation.xml',\n",
       " 'c:/Windows\\\\ProfessionalWorkstation.xml',\n",
       " 'c:/Windows\\\\Provisioning',\n",
       " 'c:/Windows\\\\pss',\n",
       " 'c:/Windows\\\\regedit.exe',\n",
       " 'c:/Windows\\\\Registration',\n",
       " 'c:/Windows\\\\RemotePackages',\n",
       " 'c:/Windows\\\\rescache',\n",
       " 'c:/Windows\\\\Resources',\n",
       " 'c:/Windows\\\\SchCache',\n",
       " 'c:/Windows\\\\schemas',\n",
       " 'c:/Windows\\\\security',\n",
       " 'c:/Windows\\\\ServerRdsh.xml',\n",
       " 'c:/Windows\\\\ServiceProfiles',\n",
       " 'c:/Windows\\\\ServiceState',\n",
       " 'c:/Windows\\\\servicing',\n",
       " 'c:/Windows\\\\Setup',\n",
       " 'c:/Windows\\\\setupact.log',\n",
       " 'c:/Windows\\\\setuperr.log',\n",
       " 'c:/Windows\\\\ShellComponents',\n",
       " 'c:/Windows\\\\ShellExperiences',\n",
       " 'c:/Windows\\\\SHELLNEW',\n",
       " 'c:/Windows\\\\SKB',\n",
       " 'c:/Windows\\\\SoftwareDistribution',\n",
       " 'c:/Windows\\\\SPD.ico',\n",
       " 'c:/Windows\\\\Speech',\n",
       " 'c:/Windows\\\\Speech_OneCore',\n",
       " 'c:/Windows\\\\splwow64.exe',\n",
       " 'c:/Windows\\\\System',\n",
       " 'c:/Windows\\\\system.ini',\n",
       " 'c:/Windows\\\\System32',\n",
       " 'c:/Windows\\\\SystemApps',\n",
       " 'c:/Windows\\\\SystemResources',\n",
       " 'c:/Windows\\\\SysWOW64',\n",
       " 'c:/Windows\\\\TAPI',\n",
       " 'c:/Windows\\\\Tasks',\n",
       " 'c:/Windows\\\\Temp',\n",
       " 'c:/Windows\\\\TextInput',\n",
       " 'c:/Windows\\\\tracing',\n",
       " 'c:/Windows\\\\twain_32',\n",
       " 'c:/Windows\\\\twain_32.dll',\n",
       " 'c:/Windows\\\\Vss',\n",
       " 'c:/Windows\\\\WaaS',\n",
       " 'c:/Windows\\\\Web',\n",
       " 'c:/Windows\\\\win.ini',\n",
       " 'c:/Windows\\\\WindowsShell.Manifest',\n",
       " 'c:/Windows\\\\WindowsUpdate.log',\n",
       " 'c:/Windows\\\\winhlp32.exe',\n",
       " 'c:/Windows\\\\WinSxS',\n",
       " 'c:/Windows\\\\WMSysPr9.prx',\n",
       " 'c:/Windows\\\\write.exe']"
      ]
     },
     "execution_count": 80,
     "metadata": {},
     "output_type": "execute_result"
    }
   ],
   "source": [
    "import glob\n",
    "glob.glob(\"c:/Windows/*\")"
   ]
  },
  {
   "cell_type": "code",
   "execution_count": 83,
   "metadata": {},
   "outputs": [
    {
     "data": {
      "text/plain": [
       "True"
      ]
     },
     "execution_count": 83,
     "metadata": {},
     "output_type": "execute_result"
    }
   ],
   "source": [
    "import webbrowser\n",
    "webbrowser.open(\"http://www.google.com\")\n",
    "webbrowser.open_new(\"http://www.google.com\")"
   ]
  },
  {
   "cell_type": "code",
   "execution_count": 89,
   "metadata": {},
   "outputs": [
    {
     "name": "stdout",
     "output_type": "stream",
     "text": [
      "p1:30 20\n",
      "p2:50 40\n",
      "28.284271247461902\n"
     ]
    }
   ],
   "source": [
    "#2차원 평면에서 위치를 나타내는 클래스\n",
    "class Point2D:\n",
    "    def __init__(self,x,y):\n",
    "        self.x=x\n",
    "        self.y=y\n",
    "p1=Point2D(x=30, y=20) #점1(x=30, y=20)\n",
    "p2=Point2D(x=50, y=40) #점2(x=50, y=40)\n",
    "print(\"p1:{} {}\".format(p1.x, p1.y))\n",
    "print(\"p2:{} {}\".format(p2.x, p2.y))\n",
    "\n",
    "import math\n",
    "#두 점 사이의 거리 출력(피타고라스 정리)\n",
    "d=math.sqrt(pow(p2.x-p1.x,2)+\n",
    "            pow(p2.y-p1.y,2))\n",
    "print(d)"
   ]
  },
  {
   "cell_type": "code",
   "execution_count": 90,
   "metadata": {},
   "outputs": [
    {
     "data": {
      "text/plain": [
       "['__add__',\n",
       " '__class__',\n",
       " '__contains__',\n",
       " '__delattr__',\n",
       " '__delitem__',\n",
       " '__dir__',\n",
       " '__doc__',\n",
       " '__eq__',\n",
       " '__format__',\n",
       " '__ge__',\n",
       " '__getattribute__',\n",
       " '__getitem__',\n",
       " '__gt__',\n",
       " '__hash__',\n",
       " '__iadd__',\n",
       " '__imul__',\n",
       " '__init__',\n",
       " '__init_subclass__',\n",
       " '__iter__',\n",
       " '__le__',\n",
       " '__len__',\n",
       " '__lt__',\n",
       " '__mul__',\n",
       " '__ne__',\n",
       " '__new__',\n",
       " '__reduce__',\n",
       " '__reduce_ex__',\n",
       " '__repr__',\n",
       " '__reversed__',\n",
       " '__rmul__',\n",
       " '__setattr__',\n",
       " '__setitem__',\n",
       " '__sizeof__',\n",
       " '__str__',\n",
       " '__subclasshook__',\n",
       " 'append',\n",
       " 'clear',\n",
       " 'copy',\n",
       " 'count',\n",
       " 'extend',\n",
       " 'index',\n",
       " 'insert',\n",
       " 'pop',\n",
       " 'remove',\n",
       " 'reverse',\n",
       " 'sort']"
      ]
     },
     "execution_count": 90,
     "metadata": {},
     "output_type": "execute_result"
    }
   ],
   "source": [
    "\"\"\"\n",
    "이터레이터(iterator, 반복자):데이터를 차례대로\n",
    "꺼낼 수있는 객체\n",
    "\n",
    "for i in range(10)\n",
    "->숫자 0~9까지를 차례대로 꺼내는 이터레이터가\n",
    "있음. 이터레이터에 의해서 0~9까지의 수가 생성\n",
    "\n",
    "이터러블(iterable, 반복 가능한 객체)\n",
    "-문자열, 리스트, 튜플...\n",
    "\n",
    "\"\"\"\n",
    "#dir() : 데이터가 이터러블 한지 확인\n",
    "#dir(객체)\n",
    "dir([1,2,3])  #반복가능:__iter__가 포함"
   ]
  },
  {
   "cell_type": "code",
   "execution_count": 98,
   "metadata": {},
   "outputs": [
    {
     "ename": "SyntaxError",
     "evalue": "unexpected EOF while parsing (<ipython-input-98-4b29fd63f0ff>, line 10)",
     "output_type": "error",
     "traceback": [
      "\u001b[1;36m  File \u001b[1;32m\"<ipython-input-98-4b29fd63f0ff>\"\u001b[1;36m, line \u001b[1;32m10\u001b[0m\n\u001b[1;33m    for i in range(1,4):\u001b[0m\n\u001b[1;37m                        ^\u001b[0m\n\u001b[1;31mSyntaxError\u001b[0m\u001b[1;31m:\u001b[0m unexpected EOF while parsing\n"
     ]
    }
   ],
   "source": [
    "it=[1,2,3].__iter__()\n",
    "# for i in [1,2,3]:\n",
    "#     print(i)\n",
    "\n",
    "print(it.__next__())\n",
    "print(it.__next__())\n",
    "print(it.__next__())\n",
    "#print(it.__next__())\n",
    "\n",
    "for i in range(1,4):\n",
    "    "
   ]
  },
  {
   "cell_type": "code",
   "execution_count": 99,
   "metadata": {},
   "outputs": [
    {
     "data": {
      "text/plain": [
       "'     1) __iter__() 호출\\n        2) __next__() 호출 -> i변수에 1저장\\n        3) __next__() 호출 -> i변수에 2저장\\n        4) __next__() 호출 -> 에러발생\\n\\nfor i in range(3):\\n    print(i)\\n\\n\\n\\n\\n\\n\\n'"
      ]
     },
     "execution_count": 99,
     "metadata": {},
     "output_type": "execute_result"
    }
   ],
   "source": [
    "\"\"\"     1) __iter__() 호출\n",
    "        2) __next__() 호출 -> i변수에 1저장\n",
    "        3) __next__() 호출 -> i변수에 2저장\n",
    "        4) __next__() 호출 -> 에러발생\n",
    "\n",
    "for i in range(3):\n",
    "    print(i)\n",
    "\n",
    "\n",
    "\n",
    "\n",
    "\n",
    "\n",
    "\"\"\""
   ]
  },
  {
   "cell_type": "code",
   "execution_count": 108,
   "metadata": {
    "scrolled": false
   },
   "outputs": [
    {
     "name": "stdout",
     "output_type": "stream",
     "text": [
      "\n",
      "950101-*******\n",
      "970202-*******\n",
      "\n"
     ]
    }
   ],
   "source": [
    "\"\"\"\n",
    "데이터수집(정규표현식) -> 전처리 -> 분석...\n",
    "정규표현식:문자열을 규칙에 맞춰 정리\n",
    "010-1234-1234\n",
    "\n",
    "텍스트 수집 -> 주민번호 -> 뒷자리를 *로 변경\n",
    "\"\"\"\n",
    "\n",
    "data=\"\"\"\n",
    "kim 950101-1234567\n",
    "lee 970202-2345678\n",
    "\"\"\"\n",
    "result=[]\n",
    "for line in data.split(\"\\n\"):\n",
    "    word_res=[]\n",
    "    for word in line.split(\" \"):\n",
    "        if len(word)==14 and \n",
    "        word[:6].isdigit() and \n",
    "        word[7:].isdigit() :\n",
    "            w=word[0:6]+\"-\"+\"*******\"\n",
    "            word_res.append(w)\n",
    "    result.append(\" \".join(word_res))\n",
    "print(\"\\n\".join(result))"
   ]
  },
  {
   "cell_type": "code",
   "execution_count": 109,
   "metadata": {},
   "outputs": [
    {
     "name": "stdout",
     "output_type": "stream",
     "text": [
      "\n",
      "kim 950101-*******\n",
      "lee 970202-*******\n",
      "\n"
     ]
    }
   ],
   "source": [
    "data=\"\"\"\n",
    "kim 950101-1234567\n",
    "lee 970202-2345678\n",
    "\"\"\"\n",
    "import re #정규표현식 모듈\n",
    "pattern=re.compile(\"(\\d{6})[-]\\d{7}\")\n",
    "print(pattern.sub(\"\\g<1>-*******\",data))\n",
    "\n"
   ]
  },
  {
   "cell_type": "code",
   "execution_count": 112,
   "metadata": {},
   "outputs": [
    {
     "name": "stdout",
     "output_type": "stream",
     "text": [
      "<re.Match object; span=(0, 5), match='hello'>\n",
      "None\n"
     ]
    }
   ],
   "source": [
    "#정규표현식 작성방법\n",
    "#re.match(\"패턴\", \"문자열\") : 문자열에 패턴이\n",
    "#있는지 여부를 확인\n",
    "\n",
    "print(re.match(\"hello\", \"hello, world\"))\n",
    "print(re.match(\"hi\", \"hello, world\"))\n"
   ]
  },
  {
   "cell_type": "code",
   "execution_count": 130,
   "metadata": {},
   "outputs": [
    {
     "name": "stdout",
     "output_type": "stream",
     "text": [
      "<re.Match object; span=(0, 1), match='1'>\n",
      "None\n"
     ]
    }
   ],
   "source": [
    "\"\"\"\n",
    "정규표현식 메타문자(문자의 본래 의미가 아닌,\n",
    "특정 의미를 갖는 문자) :\n",
    "() {} [] \\ | ? + * $ ^ ...\n",
    "\n",
    "1.[] 메타문자:문자와 관련된 정규식 사용. \n",
    "[] 대괄호 사이에는 어떤 문자도 올 수 있음.\n",
    "\n",
    "정규표현식: [abcdef]\n",
    "의미:a,b,c,d,e,f 문자 중에서  한 개의 문자와 매치\n",
    "\"a\"는 정규식에 일치하는 문자가 있으므로 ->매치됨\n",
    "\n",
    "\"\"\"\n",
    "# print(re.match(\"[abcdef]\", \"a\"))\n",
    "# print(re.match(\"[abcdef]\", \"z\"))\n",
    "# print(re.match(\"[abcdef]\", \"all\"))\n",
    "# print(re.match(\"[abcdef]\", \"sky\"))\n",
    "# print(re.match(\"[abcdef]\", \"best\"))\n",
    "# print(re.match(\"[abcdef]\", \"fgha\"))\n",
    "\n",
    "# print(re.match(\"[a-z]\", \"fgha\"))\n",
    "# #[a-z] : 알파벳 소문자 모두\n",
    "# print(re.match(\"[a-z]\", \"ABC\"))\n",
    "# #[a-z] : 알파벳 소문자 모두\n",
    "# print(re.match(\"[A-Z]\", \"ABC\"))\n",
    "# #[A-Z]: 알파벳 대문자 모두\n",
    "\n",
    "# print(re.match(\"[a-zA-Z]\", \"ABC\"))\n",
    "# #[A-Z]: 알파벳 대소문자 모두\n",
    "\n",
    "# #[0-9] : 숫자 모두\n",
    "# print(re.match(\"[0-9]\", \"119\"))\n",
    "\n",
    "# #[^0-9] : 숫자를 제외한 모두\n",
    "# print(re.match(\"[^0-9]\", \"119\"))\n",
    "\n",
    "print(re.match(\"\\d\", \"119\"))\n",
    "#  \\d:숫자와 매치됨. [0-9]과 같음\n",
    "\n",
    "print(re.match(\"\\D\", \"119\"))\n",
    "#\\D:숫자가 아닌 모든것과 매치. [^0-9]과 같음\n"
   ]
  },
  {
   "cell_type": "code",
   "execution_count": 141,
   "metadata": {},
   "outputs": [
    {
     "name": "stdout",
     "output_type": "stream",
     "text": [
      "None\n",
      "<re.Match object; span=(0, 1), match='대'>\n",
      "<re.Match object; span=(0, 1), match='대'>\n",
      "None\n"
     ]
    }
   ],
   "source": [
    "# print(re.match(\"\\w\", \"119\"))\n",
    "# print(re.match(\"\\w\", \"test\")) #[0-9a-zA-Z] = \\w\n",
    "#\\w:숫자+문자 매치\n",
    "print(re.match(\"[0-9a-zA-Z]\", \"대한민국\"))\n",
    "print(re.match(\"[^0-9a-zA-Z]\", \"대한민국\"))\n",
    "\n",
    "print(re.match(\"[가-핳]\", \"대한민국\"))\n",
    "\n",
    "print(re.match(\"\\W\", \"test\"))\n",
    "#\\W :숫자+영문자가 아닌 나머지"
   ]
  },
  {
   "cell_type": "code",
   "execution_count": 143,
   "metadata": {},
   "outputs": [
    {
     "name": "stdout",
     "output_type": "stream",
     "text": [
      "None\n",
      "<re.Match object; span=(7, 9), match='hi'>\n"
     ]
    }
   ],
   "source": [
    "\"\"\"\n",
    "^문자열 : 문자열이 맨 앞에 오는지 판단\n",
    "문자열$ : 문자열이 맨 뒤에 오는지 판단\n",
    "search함수에서 사용됨\n",
    "\"\"\"\n",
    "print(re.search(\"^hi\",\"hello, hi\"))\n",
    "#hi문자열이 맨 앞에 오는지 판단\n",
    "print(re.search(\"hi$\",\"hello, hi\"))\n",
    "#hi문자열이 맨 뒤에 오는지 판단"
   ]
  },
  {
   "cell_type": "code",
   "execution_count": 148,
   "metadata": {},
   "outputs": [
    {
     "name": "stdout",
     "output_type": "stream",
     "text": [
      "<re.Match object; span=(0, 2), match='hi'>\n",
      "None\n",
      "<re.Match object; span=(0, 5), match='hello'>\n"
     ]
    }
   ],
   "source": [
    "print(re.match(\"hello|hi|good\", \"hi\"))\n",
    "# |(bar) 기호는 '또는' 의미\n",
    "print(re.match(\"hello|hi|good\", \"goo\"))\n",
    "print(re.match(\"hello|hi|good\", \"hello\"))"
   ]
  },
  {
   "cell_type": "code",
   "execution_count": 149,
   "metadata": {},
   "outputs": [
    {
     "data": {
      "text/plain": [
       "'\\n정규식:[abc] \\n의미? a,b,c 중에서 한 개의 문자와 매치\\na -매치, before - 매치, kick - 매치x\\n'"
      ]
     },
     "execution_count": 149,
     "metadata": {},
     "output_type": "execute_result"
    }
   ],
   "source": [
    "# []]사이의 문자들과 매치\n",
    "\"\"\"\n",
    "정규식:[abc] \n",
    "의미? a,b,c 중에서 한 개의 문자와 매치\n",
    "a -매치, before - 매치, kick - 매치x\n",
    "\"\"\""
   ]
  },
  {
   "cell_type": "code",
   "execution_count": null,
   "metadata": {},
   "outputs": [],
   "source": []
  },
  {
   "cell_type": "code",
   "execution_count": 159,
   "metadata": {},
   "outputs": [
    {
     "name": "stdout",
     "output_type": "stream",
     "text": [
      "<re.Match object; span=(0, 1), match='1'>\n",
      "<re.Match object; span=(0, 3), match='123'>\n",
      "<re.Match object; span=(0, 2), match='12'>\n",
      "<re.Match object; span=(0, 0), match=''>\n"
     ]
    }
   ],
   "source": [
    "print(re.match(\"[0-9]\", \"123\"))\n",
    "  #              패턴, 문자열\n",
    "    #패턴이 문자열에 있는지 확인\n",
    "    #span=(0, 1)패턴이 매치되는 문자열의 위치\n",
    "\n",
    "print(re.match(\"[0-9]*\", \"123\"))\n",
    "  #              패턴, 문자열\n",
    "# *은 숫자가 0개 이상 있는지 판단.\n",
    "# 위 코드에서는 숫자 3개가 매치됨\n",
    "\n",
    "print(re.match(\"[0-9]*\", \"12a3\")) #2개 매치\n",
    "print(re.match(\"[0-9]*\", \"x12a3\")) #0개 매치"
   ]
  },
  {
   "cell_type": "code",
   "execution_count": 163,
   "metadata": {},
   "outputs": [
    {
     "name": "stdout",
     "output_type": "stream",
     "text": [
      "<re.Match object; span=(0, 0), match=''>\n",
      "None\n",
      "<re.Match object; span=(0, 3), match='abc'>\n",
      "None\n"
     ]
    }
   ],
   "source": [
    "print(re.match(\"[a-z]*\",\"12a3bc\"))\n",
    "print(re.match(\"[a-z]+\",\"12a3bc\"))\n",
    "print(re.match(\"[a-z]+\",\"abc123def\"))\n",
    "# + : 문자가 1개 이상 있는지 판단\n",
    "# * : 문자가 0개       \"     \"\n",
    "print(re.match(\"[a-z]+\",\"9abc123def\"))"
   ]
  },
  {
   "cell_type": "code",
   "execution_count": 171,
   "metadata": {},
   "outputs": [
    {
     "name": "stdout",
     "output_type": "stream",
     "text": [
      "<re.Match object; span=(0, 3), match='aaa'>\n",
      "<re.Match object; span=(0, 1), match='b'>\n",
      "None\n",
      "<re.Match object; span=(0, 2), match='ab'>\n",
      "<re.Match object; span=(0, 3), match='aab'>\n",
      "None\n"
     ]
    }
   ],
   "source": [
    "print(re.match(\"a*\",\"aaab\"))\n",
    "#(\"패턴\", \"문자열\"):문자열에 패턴이 있는지?\n",
    "print(re.match(\"a*b\",\"b\"))\n",
    "#a가 0개 이상 있으면서 b로 이어진다면 매치\n",
    "print(re.match(\"a+b\",\"b\"))\n",
    "print(re.match(\"a+b\",\"ab\"))\n",
    "print(re.match(\"a+b\",\"aab\"))\n",
    "print(re.match(\"a+b\",\"aacb\"))"
   ]
  },
  {
   "cell_type": "code",
   "execution_count": 175,
   "metadata": {},
   "outputs": [
    {
     "name": "stdout",
     "output_type": "stream",
     "text": [
      "<re.Match object; span=(0, 6), match='aaaaaa'>\n",
      "<re.Match object; span=(0, 7), match='aaaaaab'>\n",
      "<re.Match object; span=(0, 7), match='aaaaaab'>\n",
      "<re.Match object; span=(0, 7), match='aaaaaab'>\n"
     ]
    }
   ],
   "source": [
    "print(re.match(\"a*\", \"aaaaaab\"))\n",
    "#패턴이 문자열에 있는지 확인\n",
    "print(re.match(\"a+b\", \"aaaaaab\"))\n",
    "print(re.match(\"a+b\", \"aaaaaabcc\"))\n",
    "print(re.match(\"a+b*\", \"aaaaaabcc\"))"
   ]
  },
  {
   "cell_type": "code",
   "execution_count": 184,
   "metadata": {},
   "outputs": [
    {
     "name": "stdout",
     "output_type": "stream",
     "text": [
      "<re.Match object; span=(0, 5), match='aabbc'>\n",
      "None\n",
      "<re.Match object; span=(0, 9), match='aabbccccb'>\n"
     ]
    }
   ],
   "source": [
    "# print(re.match(\"a*b\", \"aab\"))\n",
    "# print(re.match(\"a*b\", \"aabc\"))\n",
    "# print(re.match(\"a*b\", \"aabbc\"))\n",
    "# print(re.match(\"a*b+\", \"aabbc\"))\n",
    "# print(re.match(\"a*b*\", \"aabbc\"))\n",
    "print(re.match(\"a*b*c\", \"aabbc\"))\n",
    "print(re.match(\"a*b*c+b\", \"aabbc\"))\n",
    "print(re.match(\"a*b*c+b\", \"aabbccccb\"))"
   ]
  },
  {
   "cell_type": "code",
   "execution_count": 189,
   "metadata": {},
   "outputs": [
    {
     "name": "stdout",
     "output_type": "stream",
     "text": [
      "<re.Match object; span=(0, 1), match='h'>\n",
      "<re.Match object; span=(0, 1), match='h'>\n",
      "<re.Match object; span=(0, 1), match='h'>\n",
      "<re.Match object; span=(0, 0), match=''>\n",
      "<re.Match object; span=(0, 1), match='h'>\n"
     ]
    }
   ],
   "source": [
    "print(re.match(\"h?\", \"h\"))\n",
    "print(re.match(\"h?\", \"hi\"))\n",
    "print(re.match(\"h?\", \"hello\"))\n",
    "#?는 문자가 0개 또는 1개 있으면 매치됨\n",
    "# h?는 h 문자가 0개 또는 1개 있으면 매치됨\n",
    "print(re.match(\"h?\", \"ello\"))\n",
    "print(re.match(\"h?\", \"hhhello\"))"
   ]
  },
  {
   "cell_type": "code",
   "execution_count": 200,
   "metadata": {},
   "outputs": [
    {
     "name": "stdout",
     "output_type": "stream",
     "text": [
      "<re.Match object; span=(0, 3), match='dog'>\n",
      "None\n",
      "<re.Match object; span=(0, 2), match='dg'>\n",
      "<re.Match object; span=(0, 2), match='dg'>\n",
      "<re.Match object; span=(0, 13), match='dgggggggggggg'>\n"
     ]
    }
   ],
   "source": [
    "# .은 문자가 1개 있으면 매치됨(모든문자)\n",
    "# h. 은 h문자 다음에 문자가 1개 있으면 매치됨\n",
    "\n",
    "# print(re.match(\"h.\", \"hello\"))\n",
    "# print(re.match(\"h.l\", \"hello\"))\n",
    "# h문자 + 모든문자 + l문자\n",
    "\n",
    "# print(re.match('a.b', 'ab'))\n",
    "# #a와 b사이에 문자가 1개 있어야만 매치됨\n",
    "# print(re.match('a.b', 'acb'))\n",
    "# print(re.match('a.b', 'acccb'))\n",
    "\n",
    "print(re.match('do*g', 'dog'))\n",
    "print(re.match('do*g', 'dokg'))\n",
    "print(re.match('do*g', 'dg'))\n",
    "print(re.match('do*g', 'dgggggggggggg'))\n",
    "print(re.match('do*g+', 'dgggggggggggg'))\n",
    "\n"
   ]
  },
  {
   "cell_type": "code",
   "execution_count": 223,
   "metadata": {},
   "outputs": [
    {
     "name": "stdout",
     "output_type": "stream",
     "text": [
      "<re.Match object; span=(0, 8), match='hihihehe'>\n"
     ]
    }
   ],
   "source": [
    "#a{3}:a가 3개 있는지?\n",
    "# print(re.match(\"a{3}\", \"aaabbbccc\"))\n",
    "# print(re.match(\"a{3}b\", \"aaabbbccc\"))\n",
    "# print(re.match(\"a{3}b*\", \"aaabbbccc\"))\n",
    "# print(re.match(\"a{3}b+\", \"aaabbbccc\"))\n",
    "# print(re.match(\"a{3}b+c\", \"aaabbbccc\"))\n",
    "# print(re.match(\"a{3}b+c*\", \"aaabbbccc\"))\n",
    "# print(re.match(\"a{3}\", \"aaaaaaaabbbccc\"))\n",
    "# print(re.match(\"hellohi\", \"hello\"))\n",
    "# print(re.match(\"a{3}\", \"aabbccc\"))\n",
    "#문자{횟수} : 문자가 지정된 횟수만큼 반복\n",
    "\n",
    "#(문자열){횟수}:문자열이 지정된 횟수만큼 반복\n",
    "# print(re.match(\"hi\", \"hi\"))\n",
    "# print(re.match(\"hi{2}\", \"hi\"))#h+i 2번\n",
    "# print(re.match(\"hi{2}\", \"hii\"))\n",
    "# print(re.match(\"hi{2}\", \"hiiiii\"))\n",
    "\n",
    "# print(re.match(\"(hi){1}\", \"hii\"))\n",
    "# print(re.match(\"(hi){1}\", \"hihi\"))\n",
    "# print(re.match(\"(hi){2}\", \"hihi\"))\n",
    "# print(re.match(\"(hi){2}\", \"hihihi\"))\n",
    "print(re.match(\"(hi){2}(he){2}\", \"hihihehe\"))"
   ]
  },
  {
   "cell_type": "code",
   "execution_count": 224,
   "metadata": {},
   "outputs": [],
   "source": [
    "# a.b => a + 모든 문자 + b\n",
    "# abc는 매치안됨\n",
    "#주의사항  a[.]b => a +  점(.)  + b\n",
    "#[abcde]\n",
    "\n",
    "# \"[a-z]+[.][a-z]+[.]+com\"\n",
    "# test.abc.com\n",
    "\n"
   ]
  },
  {
   "cell_type": "code",
   "execution_count": null,
   "metadata": {},
   "outputs": [],
   "source": []
  },
  {
   "cell_type": "code",
   "execution_count": 234,
   "metadata": {
    "scrolled": true
   },
   "outputs": [
    {
     "name": "stdout",
     "output_type": "stream",
     "text": [
      "<re.Match object; span=(0, 13), match='010-1234-5678'>\n",
      "None\n",
      "<re.Match object; span=(0, 12), match='02-1234-5678'>\n",
      "비정상 번호\n"
     ]
    }
   ],
   "source": [
    "tel1=\"010-1234-5678\"\n",
    "tel2=\"02-1234-5678\"\n",
    "print(re.match(\"[0-9]{3}-[0-9]{4}-[0-9]{4}\",tel1))\n",
    "print(re.match(\"[0-9]{3}-[0-9]{4}-[0-9]{4}\",tel2))\n",
    "\n",
    "print(re.match(\"[0-9]{2,3}-[0-9]{3,4}-[0-9]{4}\",tel2))\n",
    "#{2,3} 숫자가 최소 2개 ~ 최대 3개 매치될수있음\n",
    "\n",
    "jm=\"990101-1234567\"\n",
    "check=re.match(\"[0-9]{6}-[0-9]{7}\",jm)\n",
    "if check:\n",
    "    print(\"정상 번호\")\n",
    "else:\n",
    "    print(\"비정상 번호\") \n",
    "\n"
   ]
  },
  {
   "cell_type": "code",
   "execution_count": null,
   "metadata": {},
   "outputs": [],
   "source": []
  },
  {
   "cell_type": "code",
   "execution_count": null,
   "metadata": {},
   "outputs": [],
   "source": [
    "커피 자판기 만들기\n",
    "금액 투입\n",
    "커피 선택\n",
    "커피 출력(품절)\n",
    "잔액 출력\n",
    "동전: 500, 100, 1000 등등\n",
    "*관리자 / 사용자 기능 구현    \n",
    "\n",
    "예시)\n",
    "1) 관리자\n",
    "- 커피 재료(10잔 입력)\n",
    "- 동전 투입(500:20, 100:50, 1000:30)\n",
    "\n",
    "2) 사용자\n",
    "- 금액 투입\n",
    "- 커피 선택\n",
    "- 잔액 출금 / 커피를 추가적으로 선택\n",
    "\n",
    "실행 예시)\n",
    "\n",
    "- step 1\n",
    "선택하세요?\n",
    "(1) 관리자 모드 (2) 사용자 모드 (3) 종료\n",
    "입력 : 1\n",
    "\n",
    "- step 2\n",
    "(1) 커피 재료 (2) 동전 투입 (3) 종료\n",
    "입력 : 3\n",
    "\n",
    "- step 3\n",
    "커피 충전 : 10\n",
    "10잔이 충전되었습니다\n",
    "\n",
    "\n",
    "\n",
    "\n",
    "\n",
    "\n",
    "\n",
    "\n"
   ]
  }
 ],
 "metadata": {
  "kernelspec": {
   "display_name": "Python 3",
   "language": "python",
   "name": "python3"
  },
  "language_info": {
   "codemirror_mode": {
    "name": "ipython",
    "version": 3
   },
   "file_extension": ".py",
   "mimetype": "text/x-python",
   "name": "python",
   "nbconvert_exporter": "python",
   "pygments_lexer": "ipython3",
   "version": "3.7.4"
  }
 },
 "nbformat": 4,
 "nbformat_minor": 2
}
