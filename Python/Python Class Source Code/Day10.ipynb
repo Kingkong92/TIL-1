{
 "cells": [
  {
   "cell_type": "code",
   "execution_count": 2,
   "metadata": {},
   "outputs": [
    {
     "name": "stdout",
     "output_type": "stream",
     "text": [
      "pizza\n",
      "pizza\n",
      "pizza\n",
      "pizza\n",
      "pizza\n",
      "pizza\n",
      "pizza\n",
      "pizza\n",
      "pizza\n",
      "pizza\n",
      "\n"
     ]
    }
   ],
   "source": [
    "print(\"pizza\\n\"*10)"
   ]
  },
  {
   "cell_type": "code",
   "execution_count": 4,
   "metadata": {},
   "outputs": [
    {
     "data": {
      "text/plain": [
       "'hi world'"
      ]
     },
     "execution_count": 4,
     "metadata": {},
     "output_type": "execute_result"
    }
   ],
   "source": [
    "a = 'hello world'\n",
    "a='hi '+a[6:]\n",
    "a"
   ]
  },
  {
   "cell_type": "code",
   "execution_count": 5,
   "metadata": {},
   "outputs": [
    {
     "ename": "IndentationError",
     "evalue": "expected an indented block (<ipython-input-5-174e6f6759fe>, line 9)",
     "output_type": "error",
     "traceback": [
      "\u001b[1;36m  File \u001b[1;32m\"<ipython-input-5-174e6f6759fe>\"\u001b[1;36m, line \u001b[1;32m9\u001b[0m\n\u001b[1;33m    get_txt_list(\"C:/Users/student\")\u001b[0m\n\u001b[1;37m                                    ^\u001b[0m\n\u001b[1;31mIndentationError\u001b[0m\u001b[1;31m:\u001b[0m expected an indented block\n"
     ]
    }
   ],
   "source": [
    "def get_txt_list(path):\n",
    "    import os\n",
    "    resList=[]\n",
    "    files = os.listdir(path)\n",
    "    for x in files:\n",
    "        if x.endswith('txt'):\n",
    "            resList.append(x)\n",
    "    return resList\n",
    "#    return [file for file in files if file.endswith('.txt')]\n",
    "\n",
    "get_txt_list(\"C:/Users/student\")"
   ]
  },
  {
   "cell_type": "code",
   "execution_count": 6,
   "metadata": {},
   "outputs": [],
   "source": [
    "#계수정렬:숫자, 밀집\n"
   ]
  },
  {
   "cell_type": "code",
   "execution_count": 7,
   "metadata": {},
   "outputs": [],
   "source": [
    "from bs4 import BeautifulSoup"
   ]
  },
  {
   "cell_type": "code",
   "execution_count": 9,
   "metadata": {},
   "outputs": [],
   "source": [
    "html=\"\"\"\n",
    "<html><body>\n",
    "<h1>스크래핑</h1>\n",
    "<p>웹 페이지 분석</p>\n",
    "<p>원하는 부분 추출</p>\n",
    "</body></html>\n",
    "\"\"\"\n",
    "soup=BeautifulSoup(html, 'html.parser')\n",
    "#html 문서 분석"
   ]
  },
  {
   "cell_type": "code",
   "execution_count": 18,
   "metadata": {},
   "outputs": [],
   "source": [
    "h1=soup.html.body.h1\n",
    "p1=soup.html.body.p #가장 처음으로 만나는 p태그\n",
    "p2=p1.next_sibling.next_sibling\n",
    "#p1 -> 엔터문자 -> 형제태그"
   ]
  },
  {
   "cell_type": "code",
   "execution_count": 22,
   "metadata": {},
   "outputs": [
    {
     "data": {
      "text/plain": [
       "'원하는 부분 추출'"
      ]
     },
     "execution_count": 22,
     "metadata": {},
     "output_type": "execute_result"
    }
   ],
   "source": [
    "h1.string\n",
    "p1.string\n",
    "p2.string"
   ]
  },
  {
   "cell_type": "code",
   "execution_count": 30,
   "metadata": {},
   "outputs": [],
   "source": [
    "#find함수:id를 이용하여 직접 접근\n",
    "html=\"\"\"\n",
    "<html><body>\n",
    "<h1 id=\"title\">스크래핑</h1>\n",
    "<p id=\"body\">웹 페이지 분석</p>\n",
    "<p>원하는 부분 추출</p>\n",
    "</body></html>\n",
    "\"\"\"\n",
    "soup=BeautifulSoup(html, 'html.parser')\n",
    "#html 문서 분석"
   ]
  },
  {
   "cell_type": "code",
   "execution_count": 32,
   "metadata": {},
   "outputs": [
    {
     "name": "stdout",
     "output_type": "stream",
     "text": [
      "title=스크래핑\n",
      "body=웹 페이지 분석\n"
     ]
    }
   ],
   "source": [
    "title=soup.find(id=\"title\")\n",
    "body=soup.find(id=\"body\")\n",
    "print(\"title=\"+title.string)\n",
    "print(\"body=\"+body.string)"
   ]
  },
  {
   "cell_type": "code",
   "execution_count": 33,
   "metadata": {},
   "outputs": [],
   "source": [
    "#find_all():여러 개의 태그를 한번에 추출\n",
    "html=\"\"\"\n",
    "<html><body>\n",
    "<ul>\n",
    "<li><a href=\"http://www.naver.com\">naver</a></li>\n",
    "<li><a href=\"http://www.daum.net\">daum</a></li>\n",
    "</ul>\n",
    "</body></html>\n",
    "\"\"\""
   ]
  },
  {
   "cell_type": "code",
   "execution_count": 37,
   "metadata": {},
   "outputs": [
    {
     "name": "stdout",
     "output_type": "stream",
     "text": [
      "naver -> http://www.naver.com\n",
      "daum -> http://www.daum.net\n"
     ]
    },
    {
     "data": {
      "text/plain": [
       "\n",
       "<html><body>\n",
       "<ul>\n",
       "<li><a href=\"http://www.naver.com\">naver</a></li>\n",
       "<li><a href=\"http://www.daum.net\">daum</a></li>\n",
       "</ul>\n",
       "</body></html>"
      ]
     },
     "execution_count": 37,
     "metadata": {},
     "output_type": "execute_result"
    }
   ],
   "source": [
    "soup=BeautifulSoup(html, \"html.parser\")\n",
    "links=soup.find_all(\"a\")\n",
    "\n",
    "for a in links:\n",
    "#    if 'href' in a.attrs :\n",
    "    href=a.attrs['href']\n",
    "    text=a.string\n",
    "    print(text, \"->\",href)\n",
    "    #print(href)\n",
    "\n",
    "soup\n",
    "    "
   ]
  },
  {
   "cell_type": "code",
   "execution_count": 38,
   "metadata": {},
   "outputs": [],
   "source": [
    "#기상예보에서 특정 내용 추출"
   ]
  },
  {
   "cell_type": "code",
   "execution_count": 39,
   "metadata": {},
   "outputs": [],
   "source": [
    "import urllib.request as req"
   ]
  },
  {
   "cell_type": "code",
   "execution_count": 40,
   "metadata": {},
   "outputs": [],
   "source": [
    "url=\"http://www.kma.go.kr/weather/forecast/mid-term-rss3.jsp\""
   ]
  },
  {
   "cell_type": "code",
   "execution_count": 52,
   "metadata": {
    "scrolled": true
   },
   "outputs": [
    {
     "data": {
      "text/plain": [
       "'기압골의 영향으로 6일부터 8일 사이에 전국에 비 또는 눈이 오겠고, 제주도는 10~11일에도 비가 오겠습니다. <br />한편, 동풍의 영향으로 9일은 강원영동에 비 또는 눈이 오겠습니다. 그 밖의 날은 고기압의 가장자리에 들어 가끔 구름많겠습니다.<br />기온은 평년(최저기온: -12~0℃, 최고기온: 0~8℃)보다 높겠습니다.<br />강수량은 평년(0~3mm)보다 많겠습니다.'"
      ]
     },
     "execution_count": 52,
     "metadata": {},
     "output_type": "execute_result"
    }
   ],
   "source": [
    "res=req.urlopen(url)\n",
    "soup=BeautifulSoup(res, 'html.parser')\n",
    "#soup.title.string\n",
    "title=soup.find(\"title\").string\n",
    "\n",
    "#wf태그값 추출\n",
    "soup.find('wf').string\n",
    "#2\n",
    "#오후 : 영문, 숫자 포함하여 특수문자 모두 제거(한글 제외)\n",
    "\n",
    "#title 검색, <title>기상청 육상 중기예보</title>"
   ]
  },
  {
   "cell_type": "code",
   "execution_count": 53,
   "metadata": {},
   "outputs": [],
   "source": [
    "#css 선택자(크롬->개발자도구->객체선택->copy selector) 사용하기\n",
    "# soup.select_one(선택자):선택자로 지정된 요소 하나를 추출\n",
    "# soup.select(선택자):선택자로 지정된 여러 개 요소를 추출\n",
    "    "
   ]
  },
  {
   "cell_type": "code",
   "execution_count": 56,
   "metadata": {},
   "outputs": [],
   "source": [
    "html=\"\"\"\n",
    "<html>\n",
    "    <body>\n",
    "        <div id=\"myid\">\n",
    "            <h1>2020년</h1>\n",
    "            <ul class='day'>\n",
    "                <li>월요일</li>\n",
    "                <li>화요일</li>\n",
    "                <li>수요일</li>\n",
    "            </ul>\n",
    "        </div>\n",
    "    </body>\n",
    "</html>\n",
    "\"\"\""
   ]
  },
  {
   "cell_type": "code",
   "execution_count": 72,
   "metadata": {},
   "outputs": [
    {
     "name": "stdout",
     "output_type": "stream",
     "text": [
      "2020년\n",
      "월요일\n",
      "화요일\n",
      "수요일\n"
     ]
    }
   ],
   "source": [
    "soup=BeautifulSoup(html, 'html.parser')\n",
    "#print(soup.select_one(\"div#myid h1\"))\n",
    "print(soup.select_one(\"div#myid > h1\").string)\n",
    "\n",
    "myList=soup.select(\"div#myid > ul.day > li\")\n",
    "for a in myList:\n",
    "    print(a.string)\n",
    "#finance.yahoo.com"
   ]
  },
  {
   "cell_type": "code",
   "execution_count": 107,
   "metadata": {},
   "outputs": [
    {
     "name": "stdout",
     "output_type": "stream",
     "text": [
      "55,500.00\n"
     ]
    }
   ],
   "source": [
    "url=\"https://finance.yahoo.com/quote/005930.KS?p=005930.KS&.tsrc=fin-srchp\"\n",
    "res=req.urlopen(url)\n",
    "soup=BeautifulSoup(res, 'html.parser')\n",
    "#print(soup.select_one(\"#quote-header-info > div.My\\(6px\\).Pos\\(r\\).smartphone_Mt\\(6px\\) > div > div > span.Trsdu\\(0\\.3s\\).Fw\\(b\\).Fz\\(36px\\).Mb\\(-4px\\).D\\(ib\\)\").get_text())\n",
    "print(soup.select_one(\"#quote-header-info > div.My\\(6px\\).Pos\\(r\\).smartphone_Mt\\(6px\\) > div > span\").string)\n",
    "\n",
    "#quote-header-info > div.My\\(6px\\).Pos\\(r\\).smartphone_Mt\\(6px\\) > div > div > span.Trsdu\\(0\\.3s\\).Fw\\(b\\).Fz\\(36px\\).Mb\\(-4px\\).D\\(ib\\)\n"
   ]
  },
  {
   "cell_type": "code",
   "execution_count": 108,
   "metadata": {},
   "outputs": [
    {
     "data": {
      "text/plain": [
       "<div class=\"My(6px) Pos(r) smartphone_Mt(6px)\" data-reactid=\"12\"><div class=\"\" data-reactid=\"13\"><span class=\"Trsdu(0.3s) Trsdu(0.3s) Fw(b) Fz(36px) Mb(-4px) D(b)\" data-reactid=\"14\">55,500.00</span><div class=\"D(ib) Va(t)\" data-reactid=\"15\"><span class=\"Trsdu(0.3s) Fw(500) Fz(14px) C($dataRed)\" data-reactid=\"16\">-300.00 (-0.54%)</span><div class=\"Fw(n) C($tertiaryColor) Fz(12px) Mstart(10px) D(ib) Mstart(0)--mobpsm Mt(6px)--mobpsm\" data-reactid=\"17\" id=\"quote-market-notice\"><span data-reactid=\"18\">As of  11:31AM KST. Market open.</span></div></div></div></div>"
      ]
     },
     "execution_count": 108,
     "metadata": {},
     "output_type": "execute_result"
    }
   ],
   "source": [
    "soup=soup.select(\"#quote-header-info > div\")[2]\n",
    "soup"
   ]
  },
  {
   "cell_type": "code",
   "execution_count": 111,
   "metadata": {},
   "outputs": [
    {
     "data": {
      "text/plain": [
       "'55,500.00'"
      ]
     },
     "execution_count": 111,
     "metadata": {},
     "output_type": "execute_result"
    }
   ],
   "source": [
    "soup.select_one(\"div > span\").string"
   ]
  },
  {
   "cell_type": "code",
   "execution_count": 113,
   "metadata": {},
   "outputs": [
    {
     "data": {
      "text/plain": [
       "<li><b><a href=\"/wiki/%ED%95%98%EB%8A%98%EA%B3%BC_%EB%B0%94%EB%9E%8C%EA%B3%BC_%EB%B3%84%EA%B3%BC_%EC%8B%9C\" title=\"하늘과 바람과 별과 시\">하늘과 바람과 별과 시</a></b> (<a href=\"/wiki/%ED%95%98%EB%8A%98%EA%B3%BC_%EB%B0%94%EB%9E%8C%EA%B3%BC_%EB%B3%84%EA%B3%BC_%EC%8B%9C_(1955%EB%85%84)\" title=\"하늘과 바람과 별과 시 (1955년)\">증보판</a>)\n",
       "<ul><li><a href=\"/wiki/%ED%95%98%EB%8A%98%EA%B3%BC_%EB%B0%94%EB%9E%8C%EA%B3%BC_%EB%B3%84%EA%B3%BC_%EC%8B%9C/%EC%84%9C%EC%8B%9C\" title=\"하늘과 바람과 별과 시/서시\">서시</a></li>\n",
       "<li><a href=\"/wiki/%ED%95%98%EB%8A%98%EA%B3%BC_%EB%B0%94%EB%9E%8C%EA%B3%BC_%EB%B3%84%EA%B3%BC_%EC%8B%9C/%EC%9E%90%ED%99%94%EC%83%81\" title=\"하늘과 바람과 별과 시/자화상\">자화상</a></li>\n",
       "<li><a href=\"/wiki/%ED%95%98%EB%8A%98%EA%B3%BC_%EB%B0%94%EB%9E%8C%EA%B3%BC_%EB%B3%84%EA%B3%BC_%EC%8B%9C/%EC%86%8C%EB%85%84\" title=\"하늘과 바람과 별과 시/소년\">소년</a></li>\n",
       "<li><a href=\"/wiki/%ED%95%98%EB%8A%98%EA%B3%BC_%EB%B0%94%EB%9E%8C%EA%B3%BC_%EB%B3%84%EA%B3%BC_%EC%8B%9C/%EB%88%88_%EC%98%A4%EB%8A%94_%EC%A7%80%EB%8F%84\" title=\"하늘과 바람과 별과 시/눈 오는 지도\">눈 오는 지도</a></li>\n",
       "<li><a href=\"/wiki/%ED%95%98%EB%8A%98%EA%B3%BC_%EB%B0%94%EB%9E%8C%EA%B3%BC_%EB%B3%84%EA%B3%BC_%EC%8B%9C/%EB%8F%8C%EC%95%84%EC%99%80_%EB%B3%B4%EB%8A%94_%EB%B0%A4\" title=\"하늘과 바람과 별과 시/돌아와 보는 밤\">돌아와 보는 밤</a></li>\n",
       "<li><a href=\"/wiki/%ED%95%98%EB%8A%98%EA%B3%BC_%EB%B0%94%EB%9E%8C%EA%B3%BC_%EB%B3%84%EA%B3%BC_%EC%8B%9C/%EB%B3%91%EC%9B%90\" title=\"하늘과 바람과 별과 시/병원\">병원</a></li>\n",
       "<li><a href=\"/wiki/%ED%95%98%EB%8A%98%EA%B3%BC_%EB%B0%94%EB%9E%8C%EA%B3%BC_%EB%B3%84%EA%B3%BC_%EC%8B%9C/%EC%83%88%EB%A1%9C%EC%9A%B4_%EA%B8%B8\" title=\"하늘과 바람과 별과 시/새로운 길\">새로운 길</a></li>\n",
       "<li><a href=\"/wiki/%ED%95%98%EB%8A%98%EA%B3%BC_%EB%B0%94%EB%9E%8C%EA%B3%BC_%EB%B3%84%EA%B3%BC_%EC%8B%9C/%EA%B0%84%ED%8C%90_%EC%97%86%EB%8A%94_%EA%B1%B0%EB%A6%AC\" title=\"하늘과 바람과 별과 시/간판 없는 거리\">간판 없는 거리</a></li>\n",
       "<li><a href=\"/wiki/%ED%95%98%EB%8A%98%EA%B3%BC_%EB%B0%94%EB%9E%8C%EA%B3%BC_%EB%B3%84%EA%B3%BC_%EC%8B%9C/%ED%83%9C%EC%B4%88%EC%9D%98_%EC%95%84%EC%B9%A8\" title=\"하늘과 바람과 별과 시/태초의 아침\">태초의 아침</a></li>\n",
       "<li><a href=\"/wiki/%ED%95%98%EB%8A%98%EA%B3%BC_%EB%B0%94%EB%9E%8C%EA%B3%BC_%EB%B3%84%EA%B3%BC_%EC%8B%9C/%EB%98%90_%ED%83%9C%EC%B4%88%EC%9D%98_%EC%95%84%EC%B9%A8\" title=\"하늘과 바람과 별과 시/또 태초의 아침\">또 태초의 아침</a></li>\n",
       "<li><a href=\"/wiki/%ED%95%98%EB%8A%98%EA%B3%BC_%EB%B0%94%EB%9E%8C%EA%B3%BC_%EB%B3%84%EA%B3%BC_%EC%8B%9C/%EC%83%88%EB%B2%BD%EC%9D%B4_%EC%98%AC_%EB%95%8C%EA%B9%8C%EC%A7%80\" title=\"하늘과 바람과 별과 시/새벽이 올 때까지\">새벽이 올 때까지</a></li>\n",
       "<li><a href=\"/wiki/%ED%95%98%EB%8A%98%EA%B3%BC_%EB%B0%94%EB%9E%8C%EA%B3%BC_%EB%B3%84%EA%B3%BC_%EC%8B%9C/%EB%AC%B4%EC%84%9C%EC%9A%B4_%EC%8B%9C%EA%B0%84\" title=\"하늘과 바람과 별과 시/무서운 시간\">무서운 시간</a></li>\n",
       "<li><a href=\"/wiki/%ED%95%98%EB%8A%98%EA%B3%BC_%EB%B0%94%EB%9E%8C%EA%B3%BC_%EB%B3%84%EA%B3%BC_%EC%8B%9C/%EC%8B%AD%EC%9E%90%EA%B0%80\" title=\"하늘과 바람과 별과 시/십자가\">십자가</a></li>\n",
       "<li><a href=\"/wiki/%ED%95%98%EB%8A%98%EA%B3%BC_%EB%B0%94%EB%9E%8C%EA%B3%BC_%EB%B3%84%EA%B3%BC_%EC%8B%9C/%EB%B0%94%EB%9E%8C%EC%9D%B4_%EB%B6%88%EC%96%B4\" title=\"하늘과 바람과 별과 시/바람이 불어\">바람이 불어</a></li>\n",
       "<li><a href=\"/wiki/%ED%95%98%EB%8A%98%EA%B3%BC_%EB%B0%94%EB%9E%8C%EA%B3%BC_%EB%B3%84%EA%B3%BC_%EC%8B%9C/%EC%8A%AC%ED%94%88_%EC%A1%B1%EC%86%8D\" title=\"하늘과 바람과 별과 시/슬픈 족속\">슬픈 족속</a></li>\n",
       "<li><a href=\"/wiki/%ED%95%98%EB%8A%98%EA%B3%BC_%EB%B0%94%EB%9E%8C%EA%B3%BC_%EB%B3%84%EA%B3%BC_%EC%8B%9C/%EB%88%88%EA%B0%90%EA%B3%A0_%EA%B0%84%EB%8B%A4\" title=\"하늘과 바람과 별과 시/눈감고 간다\">눈감고 간다</a></li>\n",
       "<li><a href=\"/wiki/%ED%95%98%EB%8A%98%EA%B3%BC_%EB%B0%94%EB%9E%8C%EA%B3%BC_%EB%B3%84%EA%B3%BC_%EC%8B%9C/%EB%98%90_%EB%8B%A4%EB%A5%B8_%EA%B3%A0%ED%96%A5\" title=\"하늘과 바람과 별과 시/또 다른 고향\">또 다른 고향</a></li>\n",
       "<li><a href=\"/wiki/%ED%95%98%EB%8A%98%EA%B3%BC_%EB%B0%94%EB%9E%8C%EA%B3%BC_%EB%B3%84%EA%B3%BC_%EC%8B%9C/%EA%B8%B8\" title=\"하늘과 바람과 별과 시/길\">길</a></li>\n",
       "<li><a href=\"/wiki/%ED%95%98%EB%8A%98%EA%B3%BC_%EB%B0%94%EB%9E%8C%EA%B3%BC_%EB%B3%84%EA%B3%BC_%EC%8B%9C/%EB%B3%84_%ED%97%A4%EB%8A%94_%EB%B0%A4\" title=\"하늘과 바람과 별과 시/별 헤는 밤\">별 헤는 밤</a></li></ul></li>"
      ]
     },
     "execution_count": 113,
     "metadata": {},
     "output_type": "execute_result"
    }
   ],
   "source": [
    "url=\"https://ko.wikisource.org/wiki/%EC%A0%80%EC%9E%90:%EC%9C%A4%EB%8F%99%EC%A3%BC\"\n",
    "res=req.urlopen(url)\n",
    "soup=BeautifulSoup(res, 'html.parser')\n",
    "\n",
    "#하늘과 바람과 별과 시 \n",
    "print(soup.select_one(\"#mw-content-text > div > ul:nth-child(6) > li\"))\n"
   ]
  },
  {
   "cell_type": "code",
   "execution_count": 123,
   "metadata": {},
   "outputs": [
    {
     "name": "stdout",
     "output_type": "stream",
     "text": [
      "[<li><b><a href=\"/wiki/%ED%95%98%EB%8A%98%EA%B3%BC_%EB%B0%94%EB%9E%8C%EA%B3%BC_%EB%B3%84%EA%B3%BC_%EC%8B%9C\" title=\"하늘과 바람과 별과 시\">하늘과 바람과 별과 시</a></b> (<a href=\"/wiki/%ED%95%98%EB%8A%98%EA%B3%BC_%EB%B0%94%EB%9E%8C%EA%B3%BC_%EB%B3%84%EA%B3%BC_%EC%8B%9C_(1955%EB%85%84)\" title=\"하늘과 바람과 별과 시 (1955년)\">증보판</a>)\n",
      "<ul><li><a href=\"/wiki/%ED%95%98%EB%8A%98%EA%B3%BC_%EB%B0%94%EB%9E%8C%EA%B3%BC_%EB%B3%84%EA%B3%BC_%EC%8B%9C/%EC%84%9C%EC%8B%9C\" title=\"하늘과 바람과 별과 시/서시\">서시</a></li>\n",
      "<li><a href=\"/wiki/%ED%95%98%EB%8A%98%EA%B3%BC_%EB%B0%94%EB%9E%8C%EA%B3%BC_%EB%B3%84%EA%B3%BC_%EC%8B%9C/%EC%9E%90%ED%99%94%EC%83%81\" title=\"하늘과 바람과 별과 시/자화상\">자화상</a></li>\n",
      "<li><a href=\"/wiki/%ED%95%98%EB%8A%98%EA%B3%BC_%EB%B0%94%EB%9E%8C%EA%B3%BC_%EB%B3%84%EA%B3%BC_%EC%8B%9C/%EC%86%8C%EB%85%84\" title=\"하늘과 바람과 별과 시/소년\">소년</a></li>\n",
      "<li><a href=\"/wiki/%ED%95%98%EB%8A%98%EA%B3%BC_%EB%B0%94%EB%9E%8C%EA%B3%BC_%EB%B3%84%EA%B3%BC_%EC%8B%9C/%EB%88%88_%EC%98%A4%EB%8A%94_%EC%A7%80%EB%8F%84\" title=\"하늘과 바람과 별과 시/눈 오는 지도\">눈 오는 지도</a></li>\n",
      "<li><a href=\"/wiki/%ED%95%98%EB%8A%98%EA%B3%BC_%EB%B0%94%EB%9E%8C%EA%B3%BC_%EB%B3%84%EA%B3%BC_%EC%8B%9C/%EB%8F%8C%EC%95%84%EC%99%80_%EB%B3%B4%EB%8A%94_%EB%B0%A4\" title=\"하늘과 바람과 별과 시/돌아와 보는 밤\">돌아와 보는 밤</a></li>\n",
      "<li><a href=\"/wiki/%ED%95%98%EB%8A%98%EA%B3%BC_%EB%B0%94%EB%9E%8C%EA%B3%BC_%EB%B3%84%EA%B3%BC_%EC%8B%9C/%EB%B3%91%EC%9B%90\" title=\"하늘과 바람과 별과 시/병원\">병원</a></li>\n",
      "<li><a href=\"/wiki/%ED%95%98%EB%8A%98%EA%B3%BC_%EB%B0%94%EB%9E%8C%EA%B3%BC_%EB%B3%84%EA%B3%BC_%EC%8B%9C/%EC%83%88%EB%A1%9C%EC%9A%B4_%EA%B8%B8\" title=\"하늘과 바람과 별과 시/새로운 길\">새로운 길</a></li>\n",
      "<li><a href=\"/wiki/%ED%95%98%EB%8A%98%EA%B3%BC_%EB%B0%94%EB%9E%8C%EA%B3%BC_%EB%B3%84%EA%B3%BC_%EC%8B%9C/%EA%B0%84%ED%8C%90_%EC%97%86%EB%8A%94_%EA%B1%B0%EB%A6%AC\" title=\"하늘과 바람과 별과 시/간판 없는 거리\">간판 없는 거리</a></li>\n",
      "<li><a href=\"/wiki/%ED%95%98%EB%8A%98%EA%B3%BC_%EB%B0%94%EB%9E%8C%EA%B3%BC_%EB%B3%84%EA%B3%BC_%EC%8B%9C/%ED%83%9C%EC%B4%88%EC%9D%98_%EC%95%84%EC%B9%A8\" title=\"하늘과 바람과 별과 시/태초의 아침\">태초의 아침</a></li>\n",
      "<li><a href=\"/wiki/%ED%95%98%EB%8A%98%EA%B3%BC_%EB%B0%94%EB%9E%8C%EA%B3%BC_%EB%B3%84%EA%B3%BC_%EC%8B%9C/%EB%98%90_%ED%83%9C%EC%B4%88%EC%9D%98_%EC%95%84%EC%B9%A8\" title=\"하늘과 바람과 별과 시/또 태초의 아침\">또 태초의 아침</a></li>\n",
      "<li><a href=\"/wiki/%ED%95%98%EB%8A%98%EA%B3%BC_%EB%B0%94%EB%9E%8C%EA%B3%BC_%EB%B3%84%EA%B3%BC_%EC%8B%9C/%EC%83%88%EB%B2%BD%EC%9D%B4_%EC%98%AC_%EB%95%8C%EA%B9%8C%EC%A7%80\" title=\"하늘과 바람과 별과 시/새벽이 올 때까지\">새벽이 올 때까지</a></li>\n",
      "<li><a href=\"/wiki/%ED%95%98%EB%8A%98%EA%B3%BC_%EB%B0%94%EB%9E%8C%EA%B3%BC_%EB%B3%84%EA%B3%BC_%EC%8B%9C/%EB%AC%B4%EC%84%9C%EC%9A%B4_%EC%8B%9C%EA%B0%84\" title=\"하늘과 바람과 별과 시/무서운 시간\">무서운 시간</a></li>\n",
      "<li><a href=\"/wiki/%ED%95%98%EB%8A%98%EA%B3%BC_%EB%B0%94%EB%9E%8C%EA%B3%BC_%EB%B3%84%EA%B3%BC_%EC%8B%9C/%EC%8B%AD%EC%9E%90%EA%B0%80\" title=\"하늘과 바람과 별과 시/십자가\">십자가</a></li>\n",
      "<li><a href=\"/wiki/%ED%95%98%EB%8A%98%EA%B3%BC_%EB%B0%94%EB%9E%8C%EA%B3%BC_%EB%B3%84%EA%B3%BC_%EC%8B%9C/%EB%B0%94%EB%9E%8C%EC%9D%B4_%EB%B6%88%EC%96%B4\" title=\"하늘과 바람과 별과 시/바람이 불어\">바람이 불어</a></li>\n",
      "<li><a href=\"/wiki/%ED%95%98%EB%8A%98%EA%B3%BC_%EB%B0%94%EB%9E%8C%EA%B3%BC_%EB%B3%84%EA%B3%BC_%EC%8B%9C/%EC%8A%AC%ED%94%88_%EC%A1%B1%EC%86%8D\" title=\"하늘과 바람과 별과 시/슬픈 족속\">슬픈 족속</a></li>\n",
      "<li><a href=\"/wiki/%ED%95%98%EB%8A%98%EA%B3%BC_%EB%B0%94%EB%9E%8C%EA%B3%BC_%EB%B3%84%EA%B3%BC_%EC%8B%9C/%EB%88%88%EA%B0%90%EA%B3%A0_%EA%B0%84%EB%8B%A4\" title=\"하늘과 바람과 별과 시/눈감고 간다\">눈감고 간다</a></li>\n",
      "<li><a href=\"/wiki/%ED%95%98%EB%8A%98%EA%B3%BC_%EB%B0%94%EB%9E%8C%EA%B3%BC_%EB%B3%84%EA%B3%BC_%EC%8B%9C/%EB%98%90_%EB%8B%A4%EB%A5%B8_%EA%B3%A0%ED%96%A5\" title=\"하늘과 바람과 별과 시/또 다른 고향\">또 다른 고향</a></li>\n",
      "<li><a href=\"/wiki/%ED%95%98%EB%8A%98%EA%B3%BC_%EB%B0%94%EB%9E%8C%EA%B3%BC_%EB%B3%84%EA%B3%BC_%EC%8B%9C/%EA%B8%B8\" title=\"하늘과 바람과 별과 시/길\">길</a></li>\n",
      "<li><a href=\"/wiki/%ED%95%98%EB%8A%98%EA%B3%BC_%EB%B0%94%EB%9E%8C%EA%B3%BC_%EB%B3%84%EA%B3%BC_%EC%8B%9C/%EB%B3%84_%ED%97%A4%EB%8A%94_%EB%B0%A4\" title=\"하늘과 바람과 별과 시/별 헤는 밤\">별 헤는 밤</a></li></ul></li>]\n"
     ]
    }
   ],
   "source": [
    "print(soup.select(\"#mw-content-text > div > ul:nth-child(6) > li\"))"
   ]
  },
  {
   "cell_type": "code",
   "execution_count": 140,
   "metadata": {},
   "outputs": [
    {
     "name": "stdout",
     "output_type": "stream",
     "text": [
      "서시\n",
      "자화상\n",
      "소년\n",
      "눈 오는 지도\n",
      "돌아와 보는 밤\n",
      "병원\n",
      "새로운 길\n",
      "간판 없는 거리\n",
      "태초의 아침\n",
      "또 태초의 아침\n",
      "새벽이 올 때까지\n",
      "무서운 시간\n",
      "십자가\n",
      "바람이 불어\n",
      "슬픈 족속\n",
      "눈감고 간다\n",
      "또 다른 고향\n",
      "길\n",
      "별 헤는 밤\n"
     ]
    }
   ],
   "source": [
    "\n",
    "#print(soup.select(\"#mw-content-text > div > ul:nth-child(6) > li\"))\n",
    "#print(soup.select(\"#mw-content-text > div > ul > li > ul > li> a\"))\n",
    "#soup.select(\"#mw-content-text > div > ul:nth-child(6) > li > ul > li > a\")\n",
    "\n",
    "\n",
    "myList=soup.select(\"#mw-content-text > div > ul > li > ul > li> a\")\n",
    "for a in myList:\n",
    "    print(a.string)\n"
   ]
  },
  {
   "cell_type": "code",
   "execution_count": null,
   "metadata": {},
   "outputs": [],
   "source": []
  },
  {
   "cell_type": "code",
   "execution_count": 150,
   "metadata": {},
   "outputs": [
    {
     "name": "stdout",
     "output_type": "stream",
     "text": [
      "서시\n",
      "자화상\n",
      "소년\n",
      "눈 오는 지도\n",
      "돌아와 보는 밤\n",
      "병원\n",
      "새로운 길\n",
      "간판 없는 거리\n",
      "태초의 아침\n",
      "또 태초의 아침\n",
      "새벽이 올 때까지\n",
      "무서운 시간\n",
      "십자가\n",
      "바람이 불어\n",
      "슬픈 족속\n",
      "눈감고 간다\n",
      "또 다른 고향\n",
      "길\n",
      "별 헤는 밤\n"
     ]
    }
   ],
   "source": [
    "myList=soup.select(\"#mw-content-text > div > ul:nth-child(6) > li > ul > li > a\")\n",
    "for a in myList:\n",
    "    print(a.string)"
   ]
  },
  {
   "cell_type": "code",
   "execution_count": 151,
   "metadata": {},
   "outputs": [],
   "source": [
    "html=\"\"\"\n",
    "<ul id=\"language\">\n",
    "    <li id=\"bas\">Basic</li>\n",
    "    <li id=\"cpp\">c++</li>\n",
    "    <li id=\"ja\">Java</li>\n",
    "    <li id=\"py\">Python</li>\n",
    "    <li id=\"sp\">Spark</li>\n",
    "</ul>\n",
    "\"\"\""
   ]
  },
  {
   "cell_type": "code",
   "execution_count": 154,
   "metadata": {},
   "outputs": [
    {
     "data": {
      "text/plain": [
       "\n",
       "<ul id=\"language\">\n",
       "<li id=\"bas\">Basic</li>\n",
       "<li id=\"cpp\">c++</li>\n",
       "<li id=\"ja\">Java</li>\n",
       "<li id=\"py\">Python</li>\n",
       "<li id=\"sp\">Spark</li>\n",
       "</ul>"
      ]
     },
     "execution_count": 154,
     "metadata": {},
     "output_type": "execute_result"
    }
   ],
   "source": [
    "sel=BeautifulSoup(html, \"html.parser\")\n",
    "sel"
   ]
  },
  {
   "cell_type": "code",
   "execution_count": 178,
   "metadata": {},
   "outputs": [
    {
     "name": "stdout",
     "output_type": "stream",
     "text": [
      "Python\n",
      "Python\n",
      "Python\n",
      "Python\n",
      "Python\n",
      "Python\n",
      "Python\n",
      "Python\n",
      "Python\n",
      "Python\n",
      "Python\n"
     ]
    }
   ],
   "source": [
    "print(sel.select_one(\"#py\").string)\n",
    "\n",
    "myFunc=lambda arg:print(sel.select_one(arg).string)\n",
    "myFunc(\"#py\")\n",
    "myFunc(\"li#py\")\n",
    "myFunc(\"ul > li#py\")\n",
    "myFunc(\"#language #py\")\n",
    "myFunc(\"#language > #py\")\n",
    "myFunc(\"ul#language > li#py\")\n",
    "myFunc(\"li[id='py']\")\n",
    "myFunc(\"li:nth-of-type(4)\")\n",
    "print(sel.select(\"li\")[3].string)\n",
    "print(sel.find_all(\"li\")[3].string)"
   ]
  },
  {
   "cell_type": "code",
   "execution_count": 194,
   "metadata": {},
   "outputs": [],
   "source": [
    "fp=open(\"fru-veg.html\", encoding='utf-8')"
   ]
  },
  {
   "cell_type": "code",
   "execution_count": 195,
   "metadata": {},
   "outputs": [
    {
     "data": {
      "text/plain": [
       "<!DOCTYPE html>\n",
       "\n",
       "<html lang=\"en\">\n",
       "<head>\n",
       "<meta charset=\"utf-8\"/>\n",
       "<title>Title</title>\n",
       "</head>\n",
       "<body>\n",
       "<div id=\"main-goods\" role=\"page\">\n",
       "<h1>과일과 야채</h1>\n",
       "<ul id=\"fr\">\n",
       "<li class=\"red green\" data-lo=\"ko\">사과</li>\n",
       "<li class=\"purple\" data-lo=\"us\">포도</li>\n",
       "<li class=\"yellow\" data-lo=\"us\">레몬</li>\n",
       "<li class=\"yellow\" data-lo=\"ko\">오렌지</li>\n",
       "</ul>\n",
       "<ul id=\"ve\">\n",
       "<li class=\"white green\" data-lo=\"ko\">무</li>\n",
       "<li class=\"red green\" data-lo=\"us\">파프리카</li>\n",
       "<li class=\"black\" data-lo=\"ko\">가지</li>\n",
       "<li class=\"black\" data-lo=\"us\">아보카도</li>\n",
       "<li class=\"white\" data-lo=\"cn\">연근</li>\n",
       "</ul>\n",
       "</div>\n",
       "</body>\n",
       "</html>"
      ]
     },
     "execution_count": 195,
     "metadata": {},
     "output_type": "execute_result"
    }
   ],
   "source": [
    "soup=BeautifulSoup(fp, 'html.parser')\n",
    "soup"
   ]
  },
  {
   "cell_type": "code",
   "execution_count": 217,
   "metadata": {},
   "outputs": [
    {
     "name": "stdout",
     "output_type": "stream",
     "text": [
      "아보카도\n",
      "아보카도\n",
      "아보카도\n",
      "아보카도\n"
     ]
    },
    {
     "data": {
      "text/plain": [
       "'아보카도'"
      ]
     },
     "execution_count": 217,
     "metadata": {},
     "output_type": "execute_result"
    }
   ],
   "source": [
    "#아보카도 추출하기\n",
    "#print(soup.select_one(\"li:nth-of-type(8)\").string)\n",
    "print(soup.select_one(\"#ve > li:nth-of-type(4)\").string)\n",
    "print(soup.select(\"#ve > li[data-lo='us']\")[1].string)\n",
    "print(soup.select(\"#ve > li.black\")[1].string)\n",
    "\n",
    "#find메서드\n",
    "cond={'data-lo':'us', 'class':'black'}\n",
    "print(soup.find(\"li\", cond).string)\n",
    "\n",
    "soup.find(id=\"ve\").find(\"li\", cond).string"
   ]
  },
  {
   "cell_type": "code",
   "execution_count": 220,
   "metadata": {},
   "outputs": [],
   "source": [
    "#정규표현식과 함께 데이터 추출\n",
    "html=\"\"\"\n",
    "<li><a href=\"test.html\">test</li>\n",
    "<li><a href=\"https://test.html\">test2</li>\n",
    "<li><a href=\"https://test.html\">test3</li>\n",
    "<li><a href=\"http://test.html\">test4</li>\n",
    "\"\"\""
   ]
  },
  {
   "cell_type": "code",
   "execution_count": 221,
   "metadata": {},
   "outputs": [
    {
     "name": "stdout",
     "output_type": "stream",
     "text": [
      "[<a href=\"https://test.html\">test2</a>, <a href=\"https://test.html\">test3</a>]\n"
     ]
    }
   ],
   "source": [
    "import re\n",
    "soup=BeautifulSoup(html, \"html.parser\")\n",
    "li=soup.find_all(href=re.compile(\"https://\"))\n",
    "print(li)"
   ]
  },
  {
   "cell_type": "code",
   "execution_count": null,
   "metadata": {},
   "outputs": [],
   "source": []
  },
  {
   "cell_type": "code",
   "execution_count": null,
   "metadata": {},
   "outputs": [],
   "source": []
  },
  {
   "cell_type": "code",
   "execution_count": null,
   "metadata": {},
   "outputs": [],
   "source": []
  }
 ],
 "metadata": {
  "kernelspec": {
   "display_name": "Python 3",
   "language": "python",
   "name": "python3"
  },
  "language_info": {
   "codemirror_mode": {
    "name": "ipython",
    "version": 3
   },
   "file_extension": ".py",
   "mimetype": "text/x-python",
   "name": "python",
   "nbconvert_exporter": "python",
   "pygments_lexer": "ipython3",
   "version": "3.7.4"
  }
 },
 "nbformat": 4,
 "nbformat_minor": 2
}
