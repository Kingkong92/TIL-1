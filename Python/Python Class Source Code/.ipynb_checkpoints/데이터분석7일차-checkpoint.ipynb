{
 "cells": [
  {
   "cell_type": "code",
   "execution_count": 1,
   "metadata": {},
   "outputs": [],
   "source": [
    "import pandas as pd\n",
    "import numpy as np"
   ]
  },
  {
   "cell_type": "code",
   "execution_count": 4,
   "metadata": {},
   "outputs": [
    {
     "name": "stderr",
     "output_type": "stream",
     "text": [
      "C:\\Users\\student\\Anaconda3\\lib\\site-packages\\ipykernel_launcher.py:4: FutureWarning: \n",
      ".ix is deprecated. Please use\n",
      ".loc for label based indexing or\n",
      ".iloc for positional indexing\n",
      "\n",
      "See the documentation here:\n",
      "http://pandas.pydata.org/pandas-docs/stable/user_guide/indexing.html#ix-indexer-is-deprecated\n",
      "  after removing the cwd from sys.path.\n"
     ]
    },
    {
     "data": {
      "text/html": [
       "<div>\n",
       "<style scoped>\n",
       "    .dataframe tbody tr th:only-of-type {\n",
       "        vertical-align: middle;\n",
       "    }\n",
       "\n",
       "    .dataframe tbody tr th {\n",
       "        vertical-align: top;\n",
       "    }\n",
       "\n",
       "    .dataframe thead th {\n",
       "        text-align: right;\n",
       "    }\n",
       "</style>\n",
       "<table border=\"1\" class=\"dataframe\">\n",
       "  <thead>\n",
       "    <tr style=\"text-align: right;\">\n",
       "      <th></th>\n",
       "      <th>c1</th>\n",
       "      <th>c2</th>\n",
       "      <th>c3</th>\n",
       "    </tr>\n",
       "  </thead>\n",
       "  <tbody>\n",
       "    <tr>\n",
       "      <td>0</td>\n",
       "      <td>NaN</td>\n",
       "      <td>-0.468533</td>\n",
       "      <td>-0.296959</td>\n",
       "    </tr>\n",
       "    <tr>\n",
       "      <td>1</td>\n",
       "      <td>-1.640912</td>\n",
       "      <td>-0.659622</td>\n",
       "      <td>0.649582</td>\n",
       "    </tr>\n",
       "    <tr>\n",
       "      <td>2</td>\n",
       "      <td>-1.081936</td>\n",
       "      <td>0.633491</td>\n",
       "      <td>-0.557416</td>\n",
       "    </tr>\n",
       "    <tr>\n",
       "      <td>3</td>\n",
       "      <td>0.145642</td>\n",
       "      <td>2.129474</td>\n",
       "      <td>-0.434349</td>\n",
       "    </tr>\n",
       "    <tr>\n",
       "      <td>4</td>\n",
       "      <td>0.265869</td>\n",
       "      <td>-0.510881</td>\n",
       "      <td>-0.486798</td>\n",
       "    </tr>\n",
       "  </tbody>\n",
       "</table>\n",
       "</div>"
      ],
      "text/plain": [
       "         c1        c2        c3\n",
       "0       NaN -0.468533 -0.296959\n",
       "1 -1.640912 -0.659622  0.649582\n",
       "2 -1.081936  0.633491 -0.557416\n",
       "3  0.145642  2.129474 -0.434349\n",
       "4  0.265869 -0.510881 -0.486798"
      ]
     },
     "execution_count": 4,
     "metadata": {},
     "output_type": "execute_result"
    }
   ],
   "source": [
    "df=pd.DataFrame(np.random.randn(5,3),\n",
    "               columns=[\"c1\",\"c2\",\"c3\"])\n",
    "df\n",
    "df.ix[0,0]=np.nan #None\n",
    "df"
   ]
  },
  {
   "cell_type": "code",
   "execution_count": 10,
   "metadata": {},
   "outputs": [
    {
     "data": {
      "text/html": [
       "<div>\n",
       "<style scoped>\n",
       "    .dataframe tbody tr th:only-of-type {\n",
       "        vertical-align: middle;\n",
       "    }\n",
       "\n",
       "    .dataframe tbody tr th {\n",
       "        vertical-align: top;\n",
       "    }\n",
       "\n",
       "    .dataframe thead th {\n",
       "        text-align: right;\n",
       "    }\n",
       "</style>\n",
       "<table border=\"1\" class=\"dataframe\">\n",
       "  <thead>\n",
       "    <tr style=\"text-align: right;\">\n",
       "      <th></th>\n",
       "      <th>c1</th>\n",
       "      <th>c2</th>\n",
       "      <th>c3</th>\n",
       "    </tr>\n",
       "  </thead>\n",
       "  <tbody>\n",
       "    <tr>\n",
       "      <td>0</td>\n",
       "      <td>NaN</td>\n",
       "      <td>-0.468533</td>\n",
       "      <td>-0.296959</td>\n",
       "    </tr>\n",
       "    <tr>\n",
       "      <td>1</td>\n",
       "      <td>NaN</td>\n",
       "      <td>-0.659622</td>\n",
       "      <td>-0.296959</td>\n",
       "    </tr>\n",
       "    <tr>\n",
       "      <td>2</td>\n",
       "      <td>-1.081936</td>\n",
       "      <td>-0.659622</td>\n",
       "      <td>-0.557416</td>\n",
       "    </tr>\n",
       "    <tr>\n",
       "      <td>3</td>\n",
       "      <td>0.145642</td>\n",
       "      <td>-0.659622</td>\n",
       "      <td>-0.434349</td>\n",
       "    </tr>\n",
       "    <tr>\n",
       "      <td>4</td>\n",
       "      <td>0.265869</td>\n",
       "      <td>-0.510881</td>\n",
       "      <td>-0.434349</td>\n",
       "    </tr>\n",
       "  </tbody>\n",
       "</table>\n",
       "</div>"
      ],
      "text/plain": [
       "         c1        c2        c3\n",
       "0       NaN -0.468533 -0.296959\n",
       "1       NaN -0.659622 -0.296959\n",
       "2 -1.081936 -0.659622 -0.557416\n",
       "3  0.145642 -0.659622 -0.434349\n",
       "4  0.265869 -0.510881 -0.434349"
      ]
     },
     "execution_count": 10,
     "metadata": {},
     "output_type": "execute_result"
    }
   ],
   "source": [
    "import warnings\n",
    "warnings.filterwarnings(action='ignore')\n",
    "df.ix[1,['c1', 'c3']]=np.nan\n",
    "df\n",
    "df.ix[2,['c2']]=None\n",
    "df.ix[3,['c2']]=None\n",
    "df.ix[4,['c3']]=None\n",
    "df\n",
    "#NaN이 들어가 있는 자리를 모두 0으로 대체\n",
    "df.fillna(0)\n",
    "df.fillna(method=\"ffill\")"
   ]
  },
  {
   "cell_type": "code",
   "execution_count": 53,
   "metadata": {},
   "outputs": [
    {
     "data": {
      "text/html": [
       "<div>\n",
       "<style scoped>\n",
       "    .dataframe tbody tr th:only-of-type {\n",
       "        vertical-align: middle;\n",
       "    }\n",
       "\n",
       "    .dataframe tbody tr th {\n",
       "        vertical-align: top;\n",
       "    }\n",
       "\n",
       "    .dataframe thead th {\n",
       "        text-align: right;\n",
       "    }\n",
       "</style>\n",
       "<table border=\"1\" class=\"dataframe\">\n",
       "  <thead>\n",
       "    <tr style=\"text-align: right;\">\n",
       "      <th></th>\n",
       "      <th>c1</th>\n",
       "      <th>c2</th>\n",
       "      <th>c2p</th>\n",
       "    </tr>\n",
       "  </thead>\n",
       "  <tbody>\n",
       "    <tr>\n",
       "      <td>0</td>\n",
       "      <td>1</td>\n",
       "      <td>6.0</td>\n",
       "      <td>6.0</td>\n",
       "    </tr>\n",
       "    <tr>\n",
       "      <td>1</td>\n",
       "      <td>2</td>\n",
       "      <td>3.0</td>\n",
       "      <td>2.0</td>\n",
       "    </tr>\n",
       "    <tr>\n",
       "      <td>2</td>\n",
       "      <td>3</td>\n",
       "      <td>8.0</td>\n",
       "      <td>8.0</td>\n",
       "    </tr>\n",
       "    <tr>\n",
       "      <td>3</td>\n",
       "      <td>4</td>\n",
       "      <td>3.0</td>\n",
       "      <td>4.0</td>\n",
       "    </tr>\n",
       "    <tr>\n",
       "      <td>4</td>\n",
       "      <td>5</td>\n",
       "      <td>10.0</td>\n",
       "      <td>10.0</td>\n",
       "    </tr>\n",
       "  </tbody>\n",
       "</table>\n",
       "</div>"
      ],
      "text/plain": [
       "   c1    c2   c2p\n",
       "0   1   6.0   6.0\n",
       "1   2   3.0   2.0\n",
       "2   3   8.0   8.0\n",
       "3   4   3.0   4.0\n",
       "4   5  10.0  10.0"
      ]
     },
     "execution_count": 53,
     "metadata": {},
     "output_type": "execute_result"
    }
   ],
   "source": [
    "df\n",
    "df.fillna(df.mean())\n",
    "df.where(pd.notnull(df), df.mean(),axis=\"columns\")\n",
    "\n",
    "df.fillna(df.mean()['c1'])"
   ]
  },
  {
   "cell_type": "code",
   "execution_count": 32,
   "metadata": {},
   "outputs": [
    {
     "data": {
      "text/plain": [
       "array([1. , 2. , 3. , 1. , 2. , 3. , 0.1, 0.2])"
      ]
     },
     "execution_count": 32,
     "metadata": {},
     "output_type": "execute_result"
    }
   ],
   "source": [
    "arr=np.array([1,2,3,10,20,30,0.1,0.2])\n",
    "np.min(arr) #최소값\n",
    "np.argmin(arr) #최소값의 index\n",
    "np.max(arr) #최대값\n",
    "np.argmax(arr) #최대값의 index\n",
    "np.where(arr<1) \n",
    "#where함수는 조건문 사용->출력값:인덱스\n",
    "np.where(arr>=10,0,arr)\n",
    "#np.where(조건, 참, 거짓)\n",
    "np.where(arr>=10, arr*0.1, arr)"
   ]
  },
  {
   "cell_type": "code",
   "execution_count": 40,
   "metadata": {},
   "outputs": [
    {
     "data": {
      "text/html": [
       "<div>\n",
       "<style scoped>\n",
       "    .dataframe tbody tr th:only-of-type {\n",
       "        vertical-align: middle;\n",
       "    }\n",
       "\n",
       "    .dataframe tbody tr th {\n",
       "        vertical-align: top;\n",
       "    }\n",
       "\n",
       "    .dataframe thead th {\n",
       "        text-align: right;\n",
       "    }\n",
       "</style>\n",
       "<table border=\"1\" class=\"dataframe\">\n",
       "  <thead>\n",
       "    <tr style=\"text-align: right;\">\n",
       "      <th></th>\n",
       "      <th>c1</th>\n",
       "      <th>c2</th>\n",
       "      <th>c3</th>\n",
       "    </tr>\n",
       "  </thead>\n",
       "  <tbody>\n",
       "    <tr>\n",
       "      <td>0</td>\n",
       "      <td>-0.223475</td>\n",
       "      <td>-0.468533</td>\n",
       "      <td>-0.296959</td>\n",
       "    </tr>\n",
       "    <tr>\n",
       "      <td>1</td>\n",
       "      <td>-0.223475</td>\n",
       "      <td>-0.659622</td>\n",
       "      <td>NaN</td>\n",
       "    </tr>\n",
       "    <tr>\n",
       "      <td>2</td>\n",
       "      <td>-1.081936</td>\n",
       "      <td>-0.546345</td>\n",
       "      <td>-0.557416</td>\n",
       "    </tr>\n",
       "    <tr>\n",
       "      <td>3</td>\n",
       "      <td>0.145642</td>\n",
       "      <td>-0.546345</td>\n",
       "      <td>-0.434349</td>\n",
       "    </tr>\n",
       "    <tr>\n",
       "      <td>4</td>\n",
       "      <td>0.265869</td>\n",
       "      <td>-0.510881</td>\n",
       "      <td>NaN</td>\n",
       "    </tr>\n",
       "  </tbody>\n",
       "</table>\n",
       "</div>"
      ],
      "text/plain": [
       "         c1        c2        c3\n",
       "0 -0.223475 -0.468533 -0.296959\n",
       "1 -0.223475 -0.659622       NaN\n",
       "2 -1.081936 -0.546345 -0.557416\n",
       "3  0.145642 -0.546345 -0.434349\n",
       "4  0.265869 -0.510881       NaN"
      ]
     },
     "execution_count": 40,
     "metadata": {},
     "output_type": "execute_result"
    }
   ],
   "source": [
    "df.fillna(df.mean()['c1':'c2'])"
   ]
  },
  {
   "cell_type": "code",
   "execution_count": 47,
   "metadata": {},
   "outputs": [
    {
     "data": {
      "text/html": [
       "<div>\n",
       "<style scoped>\n",
       "    .dataframe tbody tr th:only-of-type {\n",
       "        vertical-align: middle;\n",
       "    }\n",
       "\n",
       "    .dataframe tbody tr th {\n",
       "        vertical-align: top;\n",
       "    }\n",
       "\n",
       "    .dataframe thead th {\n",
       "        text-align: right;\n",
       "    }\n",
       "</style>\n",
       "<table border=\"1\" class=\"dataframe\">\n",
       "  <thead>\n",
       "    <tr style=\"text-align: right;\">\n",
       "      <th></th>\n",
       "      <th>c1</th>\n",
       "      <th>c2</th>\n",
       "      <th>c2p</th>\n",
       "    </tr>\n",
       "  </thead>\n",
       "  <tbody>\n",
       "    <tr>\n",
       "      <td>0</td>\n",
       "      <td>1</td>\n",
       "      <td>6.0</td>\n",
       "      <td>6.0</td>\n",
       "    </tr>\n",
       "    <tr>\n",
       "      <td>1</td>\n",
       "      <td>2</td>\n",
       "      <td>NaN</td>\n",
       "      <td>2.0</td>\n",
       "    </tr>\n",
       "    <tr>\n",
       "      <td>2</td>\n",
       "      <td>3</td>\n",
       "      <td>8.0</td>\n",
       "      <td>8.0</td>\n",
       "    </tr>\n",
       "    <tr>\n",
       "      <td>3</td>\n",
       "      <td>4</td>\n",
       "      <td>NaN</td>\n",
       "      <td>4.0</td>\n",
       "    </tr>\n",
       "    <tr>\n",
       "      <td>4</td>\n",
       "      <td>5</td>\n",
       "      <td>10.0</td>\n",
       "      <td>10.0</td>\n",
       "    </tr>\n",
       "  </tbody>\n",
       "</table>\n",
       "</div>"
      ],
      "text/plain": [
       "   c1    c2   c2p\n",
       "0   1   6.0   6.0\n",
       "1   2   NaN   2.0\n",
       "2   3   8.0   8.0\n",
       "3   4   NaN   4.0\n",
       "4   5  10.0  10.0"
      ]
     },
     "execution_count": 47,
     "metadata": {},
     "output_type": "execute_result"
    }
   ],
   "source": [
    "df=pd.DataFrame({'c1':[1,2,3,4,5],\n",
    "             'c2':[6,7,8,9,10]})\n",
    "df.ix[[1,3], ['c2']]=np.nan\n",
    "df\n",
    "#c2p 열에는 c2열 값이 notnull이면 c2열 값을,\n",
    "#c2열 값이 null이면 c1열 값으로 채우고자 함\n",
    "df['c2p']=np.where(pd.notnull(df['c2'])==True,\n",
    "                   df['c2'],df['c1'])\n",
    "df\n",
    "for i in df.index:\n",
    "    if pd.notnull(df.ix[i,'c2'])==True:\n",
    "        df.ix[i,'c2p']=df.ix[i,'c2']\n",
    "    else:\n",
    "        df.ix[i,'c2p']=df.ix[i,'c1']\n",
    "df\n",
    "#반복문으로 변경"
   ]
  },
  {
   "cell_type": "code",
   "execution_count": 54,
   "metadata": {},
   "outputs": [
    {
     "data": {
      "text/html": [
       "<div>\n",
       "<style scoped>\n",
       "    .dataframe tbody tr th:only-of-type {\n",
       "        vertical-align: middle;\n",
       "    }\n",
       "\n",
       "    .dataframe tbody tr th {\n",
       "        vertical-align: top;\n",
       "    }\n",
       "\n",
       "    .dataframe thead th {\n",
       "        text-align: right;\n",
       "    }\n",
       "</style>\n",
       "<table border=\"1\" class=\"dataframe\">\n",
       "  <thead>\n",
       "    <tr style=\"text-align: right;\">\n",
       "      <th></th>\n",
       "      <th>c1</th>\n",
       "      <th>c2</th>\n",
       "    </tr>\n",
       "  </thead>\n",
       "  <tbody>\n",
       "    <tr>\n",
       "      <td>0</td>\n",
       "      <td>1</td>\n",
       "      <td>6.0</td>\n",
       "    </tr>\n",
       "    <tr>\n",
       "      <td>1</td>\n",
       "      <td>2</td>\n",
       "      <td>NaN</td>\n",
       "    </tr>\n",
       "    <tr>\n",
       "      <td>2</td>\n",
       "      <td>3</td>\n",
       "      <td>8.0</td>\n",
       "    </tr>\n",
       "    <tr>\n",
       "      <td>3</td>\n",
       "      <td>4</td>\n",
       "      <td>NaN</td>\n",
       "    </tr>\n",
       "    <tr>\n",
       "      <td>4</td>\n",
       "      <td>5</td>\n",
       "      <td>10.0</td>\n",
       "    </tr>\n",
       "  </tbody>\n",
       "</table>\n",
       "</div>"
      ],
      "text/plain": [
       "   c1    c2\n",
       "0   1   6.0\n",
       "1   2   NaN\n",
       "2   3   8.0\n",
       "3   4   NaN\n",
       "4   5  10.0"
      ]
     },
     "execution_count": 54,
     "metadata": {},
     "output_type": "execute_result"
    }
   ],
   "source": [
    "#dropna 메서드: 열(axis=1)/행(axis=0) 제거\n",
    "df=pd.DataFrame({'c1':[1,2,3,4,5],\n",
    "             'c2':[6,7,8,9,10]})\n",
    "df.ix[[1,3], ['c2']]=np.nan\n",
    "df"
   ]
  },
  {
   "cell_type": "code",
   "execution_count": 57,
   "metadata": {},
   "outputs": [
    {
     "data": {
      "text/html": [
       "<div>\n",
       "<style scoped>\n",
       "    .dataframe tbody tr th:only-of-type {\n",
       "        vertical-align: middle;\n",
       "    }\n",
       "\n",
       "    .dataframe tbody tr th {\n",
       "        vertical-align: top;\n",
       "    }\n",
       "\n",
       "    .dataframe thead th {\n",
       "        text-align: right;\n",
       "    }\n",
       "</style>\n",
       "<table border=\"1\" class=\"dataframe\">\n",
       "  <thead>\n",
       "    <tr style=\"text-align: right;\">\n",
       "      <th></th>\n",
       "      <th>c1</th>\n",
       "      <th>c2</th>\n",
       "    </tr>\n",
       "  </thead>\n",
       "  <tbody>\n",
       "    <tr>\n",
       "      <td>0</td>\n",
       "      <td>1</td>\n",
       "      <td>6.0</td>\n",
       "    </tr>\n",
       "    <tr>\n",
       "      <td>2</td>\n",
       "      <td>3</td>\n",
       "      <td>8.0</td>\n",
       "    </tr>\n",
       "    <tr>\n",
       "      <td>4</td>\n",
       "      <td>5</td>\n",
       "      <td>10.0</td>\n",
       "    </tr>\n",
       "  </tbody>\n",
       "</table>\n",
       "</div>"
      ],
      "text/plain": [
       "   c1    c2\n",
       "0   1   6.0\n",
       "2   3   8.0\n",
       "4   5  10.0"
      ]
     },
     "execution_count": 57,
     "metadata": {},
     "output_type": "execute_result"
    }
   ],
   "source": [
    "df.dropna(axis=0) #결측값이 있는 행 전체 제거\n",
    "df.dropna(axis=1) #결측값이 있는 열 전체 제거\n",
    "df[['c1','c2']].dropna()#df.dropna(axis=0)\n",
    "#axis=0 default"
   ]
  },
  {
   "cell_type": "code",
   "execution_count": 68,
   "metadata": {},
   "outputs": [
    {
     "data": {
      "text/plain": [
       "DatetimeIndex(['2020-01-13', '2020-01-16', '2020-01-17', '2020-01-20'], dtype='datetime64[ns]', freq=None)"
      ]
     },
     "execution_count": 68,
     "metadata": {},
     "output_type": "execute_result"
    }
   ],
   "source": [
    "#결측값 보간(interpolate)\n",
    "\"\"\"\n",
    "시계열데이터에 대해 선형적으로 비례하는 값\n",
    "이미지 보간 : 그라데이션과 비슷\n",
    "\"\"\"\n",
    "from datetime import datetime\n",
    "#datetime 모듈에 있는 datetime 함수\n",
    "dateStr=['1/13/2020','1/16/2020',\n",
    "         '1/17/2020','1/20/2020']\n",
    "dates=pd.to_datetime(dateStr)\n",
    "dates"
   ]
  },
  {
   "cell_type": "code",
   "execution_count": 69,
   "metadata": {},
   "outputs": [
    {
     "data": {
      "text/plain": [
       "2020-01-13     1.0\n",
       "2020-01-16     NaN\n",
       "2020-01-17     NaN\n",
       "2020-01-20    10.0\n",
       "dtype: float64"
      ]
     },
     "execution_count": 69,
     "metadata": {},
     "output_type": "execute_result"
    }
   ],
   "source": [
    "ts=pd.Series([1,np.nan, np.nan, 10], index=dates)\n",
    "ts"
   ]
  },
  {
   "cell_type": "code",
   "execution_count": 70,
   "metadata": {},
   "outputs": [
    {
     "data": {
      "text/plain": [
       "2020-01-13     1.0\n",
       "2020-01-16     4.0\n",
       "2020-01-17     7.0\n",
       "2020-01-20    10.0\n",
       "dtype: float64"
      ]
     },
     "execution_count": 70,
     "metadata": {},
     "output_type": "execute_result"
    }
   ],
   "source": [
    "tslr=ts.interpolate()#method='values' default\n",
    "#method=values:선형적으로 비례하게 결측값 보간\n",
    "tslr"
   ]
  },
  {
   "cell_type": "code",
   "execution_count": 72,
   "metadata": {},
   "outputs": [
    {
     "data": {
      "text/plain": [
       "2020-01-13     1.000000\n",
       "2020-01-16     4.857143\n",
       "2020-01-17          NaN\n",
       "2020-01-20    10.000000\n",
       "dtype: float64"
      ]
     },
     "execution_count": 72,
     "metadata": {},
     "output_type": "execute_result"
    }
   ],
   "source": [
    "tsTime=ts.interpolate(method='time',limit=1)\n",
    "tsTime"
   ]
  },
  {
   "cell_type": "code",
   "execution_count": 73,
   "metadata": {},
   "outputs": [],
   "source": [
    "#na를 대체 : fillna, replace\n",
    "#fillna:na를 다른 값으로 대체\n",
    "#replace:na 뿐만아니라 다른 모든 값에 대해서도 대체 가능\n",
    "#결측값/실측값 대상 데이터 교체"
   ]
  },
  {
   "cell_type": "code",
   "execution_count": 83,
   "metadata": {},
   "outputs": [
    {
     "data": {
      "text/plain": [
       "0    10.0\n",
       "1    20.0\n",
       "2    30.0\n",
       "3    10.0\n",
       "4    99.0\n",
       "dtype: float64"
      ]
     },
     "execution_count": 83,
     "metadata": {},
     "output_type": "execute_result"
    }
   ],
   "source": [
    "s=pd.Series([1,2,3,4,np.nan])\n",
    "s\n",
    "#replace:결측값/실측값 변경\n",
    "s.replace(3,9) #3->9\n",
    "s.replace(np.nan,5) #nan -> 5\n",
    "\n",
    "s=pd.Series([1,2,3,1,np.nan])\n",
    "s.replace([1,2,3], [6,7,8])\n",
    "s.replace([1,2,3,np.nan],[10,20,30,99])"
   ]
  },
  {
   "cell_type": "code",
   "execution_count": 87,
   "metadata": {},
   "outputs": [
    {
     "data": {
      "text/plain": [
       "0     5.0\n",
       "1     2.0\n",
       "2    30.0\n",
       "3     5.0\n",
       "4    99.0\n",
       "dtype: float64"
      ]
     },
     "execution_count": 87,
     "metadata": {},
     "output_type": "execute_result"
    }
   ],
   "source": [
    "s\n",
    "s.replace({1:5,3:30,np.nan:99}) #{원래값:변경값}"
   ]
  },
  {
   "cell_type": "code",
   "execution_count": 91,
   "metadata": {},
   "outputs": [
    {
     "data": {
      "text/html": [
       "<div>\n",
       "<style scoped>\n",
       "    .dataframe tbody tr th:only-of-type {\n",
       "        vertical-align: middle;\n",
       "    }\n",
       "\n",
       "    .dataframe tbody tr th {\n",
       "        vertical-align: top;\n",
       "    }\n",
       "\n",
       "    .dataframe thead th {\n",
       "        text-align: right;\n",
       "    }\n",
       "</style>\n",
       "<table border=\"1\" class=\"dataframe\">\n",
       "  <thead>\n",
       "    <tr style=\"text-align: right;\">\n",
       "      <th></th>\n",
       "      <th>c1</th>\n",
       "      <th>c2</th>\n",
       "      <th>c3</th>\n",
       "    </tr>\n",
       "  </thead>\n",
       "  <tbody>\n",
       "    <tr>\n",
       "      <td>0</td>\n",
       "      <td>aaa</td>\n",
       "      <td>1</td>\n",
       "      <td>5.0</td>\n",
       "    </tr>\n",
       "    <tr>\n",
       "      <td>1</td>\n",
       "      <td>b</td>\n",
       "      <td>2</td>\n",
       "      <td>6.0</td>\n",
       "    </tr>\n",
       "    <tr>\n",
       "      <td>2</td>\n",
       "      <td>c</td>\n",
       "      <td>3</td>\n",
       "      <td>7.0</td>\n",
       "    </tr>\n",
       "    <tr>\n",
       "      <td>3</td>\n",
       "      <td>d</td>\n",
       "      <td>4</td>\n",
       "      <td>99.0</td>\n",
       "    </tr>\n",
       "  </tbody>\n",
       "</table>\n",
       "</div>"
      ],
      "text/plain": [
       "    c1  c2    c3\n",
       "0  aaa   1   5.0\n",
       "1    b   2   6.0\n",
       "2    c   3   7.0\n",
       "3    d   4  99.0"
      ]
     },
     "execution_count": 91,
     "metadata": {},
     "output_type": "execute_result"
    }
   ],
   "source": [
    "#데이터프레임에서 replace 적용\n",
    "df=pd.DataFrame({'c1':['aaa','b','c','d'],\n",
    "                 'c2':[1,2,3,4],\n",
    "                 'c3':[5,6,7,np.nan]\n",
    "                })\n",
    "df.replace({'c1':'aaa'}, {'c1':'bbb'})\n",
    "df.replace({'c3':np.nan}, {'c3':99})"
   ]
  },
  {
   "cell_type": "code",
   "execution_count": 92,
   "metadata": {},
   "outputs": [],
   "source": [
    "#병합: 중복 데이터 발생\n",
    "#중복데이터 여부:duplicated()\n",
    "#중복데이터 처리:drop_duplicates()한개만 남겨놓고 나머지는 제거"
   ]
  },
  {
   "cell_type": "code",
   "execution_count": 103,
   "metadata": {},
   "outputs": [
    {
     "data": {
      "text/html": [
       "<div>\n",
       "<style scoped>\n",
       "    .dataframe tbody tr th:only-of-type {\n",
       "        vertical-align: middle;\n",
       "    }\n",
       "\n",
       "    .dataframe tbody tr th {\n",
       "        vertical-align: top;\n",
       "    }\n",
       "\n",
       "    .dataframe thead th {\n",
       "        text-align: right;\n",
       "    }\n",
       "</style>\n",
       "<table border=\"1\" class=\"dataframe\">\n",
       "  <thead>\n",
       "    <tr style=\"text-align: right;\">\n",
       "      <th></th>\n",
       "      <th>k1</th>\n",
       "      <th>k2</th>\n",
       "      <th>col</th>\n",
       "    </tr>\n",
       "  </thead>\n",
       "  <tbody>\n",
       "    <tr>\n",
       "      <td>0</td>\n",
       "      <td>b</td>\n",
       "      <td>x</td>\n",
       "      <td>10</td>\n",
       "    </tr>\n",
       "    <tr>\n",
       "      <td>1</td>\n",
       "      <td>b</td>\n",
       "      <td>y</td>\n",
       "      <td>20</td>\n",
       "    </tr>\n",
       "    <tr>\n",
       "      <td>2</td>\n",
       "      <td>b</td>\n",
       "      <td>y</td>\n",
       "      <td>30</td>\n",
       "    </tr>\n",
       "    <tr>\n",
       "      <td>3</td>\n",
       "      <td>c</td>\n",
       "      <td>x</td>\n",
       "      <td>40</td>\n",
       "    </tr>\n",
       "    <tr>\n",
       "      <td>4</td>\n",
       "      <td>c</td>\n",
       "      <td>z</td>\n",
       "      <td>50</td>\n",
       "    </tr>\n",
       "  </tbody>\n",
       "</table>\n",
       "</div>"
      ],
      "text/plain": [
       "  k1 k2  col\n",
       "0  b  x   10\n",
       "1  b  y   20\n",
       "2  b  y   30\n",
       "3  c  x   40\n",
       "4  c  z   50"
      ]
     },
     "execution_count": 103,
     "metadata": {},
     "output_type": "execute_result"
    }
   ],
   "source": [
    "df=pd.DataFrame({\n",
    "    'k1':['b','b','b','c','c'],\n",
    "    'k2':['x','y','y','x','z'],\n",
    "    'col':[10,20,30,40,50]\n",
    "})\n",
    "df"
   ]
  },
  {
   "cell_type": "code",
   "execution_count": 104,
   "metadata": {},
   "outputs": [
    {
     "data": {
      "text/plain": [
       "0    False\n",
       "1    False\n",
       "2     True\n",
       "3    False\n",
       "4    False\n",
       "dtype: bool"
      ]
     },
     "execution_count": 104,
     "metadata": {},
     "output_type": "execute_result"
    }
   ],
   "source": [
    "df.duplicated(['k1'])\n",
    "df.duplicated(['k2'])\n",
    "df.duplicated(['k1','k2'])"
   ]
  },
  {
   "cell_type": "code",
   "execution_count": 107,
   "metadata": {},
   "outputs": [
    {
     "data": {
      "text/plain": [
       "0    True\n",
       "1    True\n",
       "2    True\n",
       "3    True\n",
       "4    True\n",
       "dtype: bool"
      ]
     },
     "execution_count": 107,
     "metadata": {},
     "output_type": "execute_result"
    }
   ],
   "source": [
    "#df.duplicated(['k1'],keep='first')#keep='first' default\n",
    "#df.duplicated(['k1'],keep='last')\n",
    "df.duplicated(['k1'],keep=False) #중복은 모두 True"
   ]
  },
  {
   "cell_type": "code",
   "execution_count": 114,
   "metadata": {},
   "outputs": [
    {
     "data": {
      "text/html": [
       "<div>\n",
       "<style scoped>\n",
       "    .dataframe tbody tr th:only-of-type {\n",
       "        vertical-align: middle;\n",
       "    }\n",
       "\n",
       "    .dataframe tbody tr th {\n",
       "        vertical-align: top;\n",
       "    }\n",
       "\n",
       "    .dataframe thead th {\n",
       "        text-align: right;\n",
       "    }\n",
       "</style>\n",
       "<table border=\"1\" class=\"dataframe\">\n",
       "  <thead>\n",
       "    <tr style=\"text-align: right;\">\n",
       "      <th></th>\n",
       "      <th>k1</th>\n",
       "      <th>k2</th>\n",
       "      <th>col</th>\n",
       "    </tr>\n",
       "  </thead>\n",
       "  <tbody>\n",
       "  </tbody>\n",
       "</table>\n",
       "</div>"
      ],
      "text/plain": [
       "Empty DataFrame\n",
       "Columns: [k1, k2, col]\n",
       "Index: []"
      ]
     },
     "execution_count": 114,
     "metadata": {},
     "output_type": "execute_result"
    }
   ],
   "source": [
    "df\n",
    "#중복값 제거(1개만 살리고 나머지 중복은 제거)\n",
    "df.drop_duplicates(['k1'],keep=\"first\")#defalult:kepp=first\n",
    "df.drop_duplicates(['k1'],keep=\"last\")\n",
    "df.drop_duplicates(['k1'],keep=False)"
   ]
  },
  {
   "cell_type": "code",
   "execution_count": 115,
   "metadata": {},
   "outputs": [],
   "source": [
    "# 유일한값 : unique()\n",
    "# 유일한값 개수 세기 : value_counts()"
   ]
  },
  {
   "cell_type": "code",
   "execution_count": 126,
   "metadata": {},
   "outputs": [
    {
     "data": {
      "text/plain": [
       "array([1, 3, 4], dtype=int64)"
      ]
     },
     "execution_count": 126,
     "metadata": {},
     "output_type": "execute_result"
    }
   ],
   "source": [
    "df=pd.DataFrame({\n",
    "    'a':['a1','a1','a2','a2','a3'],\n",
    "    'b':['b1','b1','b2','b2',np.nan],\n",
    "    'c':[1,1,3,4,4]    \n",
    "})\n",
    "df['a'].unique()\n",
    "df['b'].unique()\n",
    "df['c'].unique()\n",
    "#help(pd.Series.unique)"
   ]
  },
  {
   "cell_type": "code",
   "execution_count": 138,
   "metadata": {
    "scrolled": true
   },
   "outputs": [
    {
     "data": {
      "text/plain": [
       "a1    2\n",
       "a2    2\n",
       "a3    1\n",
       "Name: a, dtype: int64"
      ]
     },
     "execution_count": 138,
     "metadata": {},
     "output_type": "execute_result"
    }
   ],
   "source": [
    "#유일값 개수 세기\n",
    "#elp(pd.Series.value_counts)\n",
    "#normalize=디폴트(False):개수, True:상대비율\n",
    "#df['a'].value_counts(normalize=False)\n",
    "#normalize=False:디폴트\n",
    "#sort=True:개수 기준 정렬\n",
    "df['a'].value_counts(normalize=False,\n",
    "                     sort=True,\n",
    "                     ascending=False)"
   ]
  },
  {
   "cell_type": "code",
   "execution_count": 142,
   "metadata": {},
   "outputs": [
    {
     "data": {
      "text/plain": [
       "1    2\n",
       "3    1\n",
       "4    2\n",
       "Name: c, dtype: int64"
      ]
     },
     "execution_count": 142,
     "metadata": {},
     "output_type": "execute_result"
    }
   ],
   "source": [
    "df['c'].value_counts(sort=True, ascending=False)\n",
    "#defalut:sort=True, ascending=False\n",
    "#유일한 값의 개수를 기준으로 내림차순\n",
    "df['c'].value_counts(sort=True, ascending=True)\n",
    "#유일한 값의 개수를 기준으로 오림차순\n",
    "\n",
    "df['c'].value_counts(sort=False)\n",
    "#정렬 기준이 없음"
   ]
  },
  {
   "cell_type": "code",
   "execution_count": 143,
   "metadata": {},
   "outputs": [
    {
     "data": {
      "text/html": [
       "<div>\n",
       "<style scoped>\n",
       "    .dataframe tbody tr th:only-of-type {\n",
       "        vertical-align: middle;\n",
       "    }\n",
       "\n",
       "    .dataframe tbody tr th {\n",
       "        vertical-align: top;\n",
       "    }\n",
       "\n",
       "    .dataframe thead th {\n",
       "        text-align: right;\n",
       "    }\n",
       "</style>\n",
       "<table border=\"1\" class=\"dataframe\">\n",
       "  <thead>\n",
       "    <tr style=\"text-align: right;\">\n",
       "      <th></th>\n",
       "      <th>a</th>\n",
       "      <th>b</th>\n",
       "      <th>c</th>\n",
       "    </tr>\n",
       "  </thead>\n",
       "  <tbody>\n",
       "    <tr>\n",
       "      <td>0</td>\n",
       "      <td>a1</td>\n",
       "      <td>b1</td>\n",
       "      <td>1</td>\n",
       "    </tr>\n",
       "    <tr>\n",
       "      <td>1</td>\n",
       "      <td>a1</td>\n",
       "      <td>b1</td>\n",
       "      <td>1</td>\n",
       "    </tr>\n",
       "    <tr>\n",
       "      <td>2</td>\n",
       "      <td>a2</td>\n",
       "      <td>b2</td>\n",
       "      <td>3</td>\n",
       "    </tr>\n",
       "    <tr>\n",
       "      <td>3</td>\n",
       "      <td>a2</td>\n",
       "      <td>b2</td>\n",
       "      <td>4</td>\n",
       "    </tr>\n",
       "    <tr>\n",
       "      <td>4</td>\n",
       "      <td>a3</td>\n",
       "      <td>NaN</td>\n",
       "      <td>4</td>\n",
       "    </tr>\n",
       "  </tbody>\n",
       "</table>\n",
       "</div>"
      ],
      "text/plain": [
       "    a    b  c\n",
       "0  a1   b1  1\n",
       "1  a1   b1  1\n",
       "2  a2   b2  3\n",
       "3  a2   b2  4\n",
       "4  a3  NaN  4"
      ]
     },
     "execution_count": 143,
     "metadata": {},
     "output_type": "execute_result"
    }
   ],
   "source": [
    "df"
   ]
  },
  {
   "cell_type": "code",
   "execution_count": 152,
   "metadata": {},
   "outputs": [
    {
     "data": {
      "text/plain": [
       "(3, 4]    2\n",
       "(0, 1]    2\n",
       "(2, 3]    1\n",
       "(4, 5]    0\n",
       "(1, 2]    0\n",
       "Name: c, dtype: int64"
      ]
     },
     "execution_count": 152,
     "metadata": {},
     "output_type": "execute_result"
    }
   ],
   "source": [
    "df['b'].value_counts()\n",
    "#default : dropna=True\n",
    "df['b'].value_counts(dropna=False)\n",
    "\n",
    "df['c'] #1 1 3 4 4\n",
    "#group별 데이터 개수 세기\n",
    "df['c'].value_counts(bins=[0,1,2,3,4,5] ,sort=False)\n",
    "#( ):개구간,  [ ]:폐구간   \n",
    "\n",
    "#동일한 결과를 도출하는 코드\n",
    "# res=pd.cut(df['c'],bins=[0,1,2,3,4,5])\n",
    "# pd.value_counts(res)"
   ]
  },
  {
   "cell_type": "code",
   "execution_count": 153,
   "metadata": {},
   "outputs": [
    {
     "data": {
      "text/plain": [
       "'\\n모수적방법\\n중심극한정리:무작위로 복원추출하면,연속형\\n자료의 평균에 대한 분포는 정규분포를 띈다면\\n-30개 이상의 표본의 경우에 정규분포를 따른다.가정\\n\\n비모수적방법\\n-10개 미만의 표본의 경우에는 모수적 방법을 사용 못함\\n-자료를 크기로 나열-> 순위 매김=>차이 비교\\n\\n'"
      ]
     },
     "execution_count": 153,
     "metadata": {},
     "output_type": "execute_result"
    }
   ],
   "source": [
    "#변수들 간 척도가 다른 경우 데이터 표준화\n",
    "#모집단:전체 집단, \n",
    "#모집단에서 표본추출->표본집단 평균, 표준편차... -> \n",
    "# -> 통계량 => 모평균,모분산(모수, parameter) 추정\n",
    "\n",
    "\"\"\"\n",
    "모수적방법\n",
    "중심극한정리:무작위로 복원추출하면,연속형\n",
    "자료의 평균에 대한 분포는 정규분포를 띈다면\n",
    "-30개 이상의 표본의 경우에 정규분포를 따른다.가정\n",
    "\n",
    "비모수적방법\n",
    "-10개 미만의 표본의 경우에는 모수적 방법을 사용 못함\n",
    "-자료를 크기로 나열-> 순위 매김=>차이 비교\n",
    "\n",
    "\"\"\""
   ]
  },
  {
   "cell_type": "code",
   "execution_count": 155,
   "metadata": {},
   "outputs": [
    {
     "data": {
      "text/plain": [
       "'\\n표준화 : (각데이터-평균) / 표준편차\\n모집단이 정규분포를 따르는 경우에,\\n평균:0, 표준편차:1인 표준정규분포로 표준화하는 작업\\n1)numpy 2) scipy.stats:zscore\\n3)sklearn.preprocessing\\n'"
      ]
     },
     "execution_count": 155,
     "metadata": {},
     "output_type": "execute_result"
    }
   ],
   "source": [
    "\"\"\"\n",
    "표준화 : (각데이터-평균) / 표준편차\n",
    "모집단이 정규분포를 따르는 경우에,\n",
    "평균:0, 표준편차:1인 표준정규분포로 표준화하는 작업\n",
    "1)numpy 2) scipy.stats:zscore\n",
    "3)sklearn.preprocessing\n",
    "\"\"\"\n"
   ]
  },
  {
   "cell_type": "code",
   "execution_count": 4,
   "metadata": {},
   "outputs": [],
   "source": [
    "from numpy import *\n",
    "import numpy as np\n",
    "import pandas as pd"
   ]
  },
  {
   "cell_type": "code",
   "execution_count": 5,
   "metadata": {},
   "outputs": [
    {
     "data": {
      "text/plain": [
       "array([[ 2,  5,  1, 23,  1],\n",
       "       [15,  4, 18, 17, 19],\n",
       "       [ 5, 19, 29, 16, 23],\n",
       "       [22, 24, 27, 15, 26],\n",
       "       [26,  9,  9, 26,  4],\n",
       "       [ 0, 14,  3, 25, 26]])"
      ]
     },
     "execution_count": 5,
     "metadata": {},
     "output_type": "execute_result"
    }
   ],
   "source": [
    "# data=np.random.randint(30, size=(6,5))\n",
    "# data\n",
    "data=np.random.randint(30, size=(6,5))\n",
    "data"
   ]
  },
  {
   "cell_type": "code",
   "execution_count": 7,
   "metadata": {},
   "outputs": [
    {
     "name": "stdout",
     "output_type": "stream",
     "text": [
      "[[ 2  5  1 23  1]\n",
      " [15  4 18 17 19]\n",
      " [ 5 19 29 16 23]\n",
      " [22 24 27 15 26]\n",
      " [26  9  9 26  4]\n",
      " [ 0 14  3 25 26]]\n",
      "==============================\n",
      "[11.66666667 12.5        14.5        20.33333333 16.5       ]\n",
      "==============================\n",
      "[[-0.968822   -1.03101509 -1.22939127  0.59794807 -1.51807653]\n",
      " [ 0.33407655 -1.16848377  0.31873107 -0.74743509  0.24485105]\n",
      " [-0.6681531   0.89354642  1.32045729 -0.97166562  0.63661274]\n",
      " [ 1.03563731  1.58088981  1.13832525 -1.19589615  0.930434  ]\n",
      " [ 1.43652918 -0.48114038 -0.50086311  1.27063966 -1.22425527]\n",
      " [-1.16926793  0.20620302 -1.04725923  1.04640913  0.930434  ]]\n"
     ]
    }
   ],
   "source": [
    "#표준화=(각 데이터-평균(각 열))/ std(각 열)\n",
    "#np.mean(data)     전체 평균:2\n",
    "#np.mean(data, axis=0)  #각 열 평균\n",
    "#np.mean(data, axis=1)  #각 행 평균\n",
    "print(data)\n",
    "print(\"=\"*30)\n",
    "print(np.mean(data, axis=0))\n",
    "print(\"=\"*30)\n",
    "#print(data-np.mean(data, axis=0))\n",
    "\n",
    "std_data=(data-np.mean(data, axis=0))/np.std(data,axis=0)\n",
    "print(std_data)\n",
    "#np.std(data) 전체 data에 대한 표준편차\n",
    "#np.std(data,axis=0) #각 열에 대한 표준편차\n"
   ]
  },
  {
   "cell_type": "code",
   "execution_count": null,
   "metadata": {},
   "outputs": [],
   "source": []
  },
  {
   "cell_type": "code",
   "execution_count": 187,
   "metadata": {},
   "outputs": [
    {
     "name": "stdout",
     "output_type": "stream",
     "text": [
      "[ 2.77555756e-17 -7.40148683e-17  3.46944695e-16  1.07552856e-16\n",
      "  1.85037171e-17]\n",
      "[1. 1. 1. 1. 1.]\n",
      "[1. 1. 1. 1. 1.]\n"
     ]
    }
   ],
   "source": [
    "#print(std_data)\n",
    "print(np.mean(std_data, axis=0))\n",
    "print(np.std(std_data, axis=0))\n",
    "print(np.var(std_data, axis=0))"
   ]
  },
  {
   "cell_type": "code",
   "execution_count": 188,
   "metadata": {},
   "outputs": [
    {
     "name": "stdout",
     "output_type": "stream",
     "text": [
      "[[-1.37783798 -0.57792049  0.04993762  0.71013365  1.10738807]\n",
      " [-0.15309311 -0.57792049  0.64918902 -1.23501504 -1.36794997]\n",
      " [-0.91855865  1.42257352 -2.04744229  0.98801203  1.49823092]\n",
      " [ 0.61237244  1.28920725  0.64918902  0.98801203 -0.19542142]\n",
      " [ 1.6840242  -0.31118796  0.94881472 -1.4202673  -0.71654522]\n",
      " [ 0.15309311 -1.24475183 -0.24968808 -0.03087538 -0.32570237]]\n"
     ]
    }
   ],
   "source": [
    "print(std_data)"
   ]
  },
  {
   "cell_type": "code",
   "execution_count": 189,
   "metadata": {},
   "outputs": [],
   "source": [
    "import scipy.stats as ss"
   ]
  },
  {
   "cell_type": "code",
   "execution_count": 190,
   "metadata": {},
   "outputs": [
    {
     "data": {
      "text/plain": [
       "array([[-1.37783798, -0.57792049,  0.04993762,  0.71013365,  1.10738807],\n",
       "       [-0.15309311, -0.57792049,  0.64918902, -1.23501504, -1.36794997],\n",
       "       [-0.91855865,  1.42257352, -2.04744229,  0.98801203,  1.49823092],\n",
       "       [ 0.61237244,  1.28920725,  0.64918902,  0.98801203, -0.19542142],\n",
       "       [ 1.6840242 , -0.31118796,  0.94881472, -1.4202673 , -0.71654522],\n",
       "       [ 0.15309311, -1.24475183, -0.24968808, -0.03087538, -0.32570237]])"
      ]
     },
     "execution_count": 190,
     "metadata": {},
     "output_type": "execute_result"
    }
   ],
   "source": [
    "data_ss=ss.zscore(data)\n",
    "data_ss"
   ]
  },
  {
   "cell_type": "code",
   "execution_count": 191,
   "metadata": {},
   "outputs": [],
   "source": [
    "from sklearn.preprocessing import *"
   ]
  },
  {
   "cell_type": "code",
   "execution_count": 192,
   "metadata": {},
   "outputs": [
    {
     "data": {
      "text/plain": [
       "array([[-1.37783798, -0.57792049,  0.04993762,  0.71013365,  1.10738807],\n",
       "       [-0.15309311, -0.57792049,  0.64918902, -1.23501504, -1.36794997],\n",
       "       [-0.91855865,  1.42257352, -2.04744229,  0.98801203,  1.49823092],\n",
       "       [ 0.61237244,  1.28920725,  0.64918902,  0.98801203, -0.19542142],\n",
       "       [ 1.6840242 , -0.31118796,  0.94881472, -1.4202673 , -0.71654522],\n",
       "       [ 0.15309311, -1.24475183, -0.24968808, -0.03087538, -0.32570237]])"
      ]
     },
     "execution_count": 192,
     "metadata": {},
     "output_type": "execute_result"
    }
   ],
   "source": [
    "ss_data=StandardScaler().fit_transform(data)\n",
    "ss_data"
   ]
  },
  {
   "cell_type": "code",
   "execution_count": 193,
   "metadata": {},
   "outputs": [],
   "source": [
    "#예외적인 값(이상치, 특이값, outlier)이 들어있는 데이터 표준화\n",
    "#표준정규분포로의 표준화:이상치,특이값이 없어야 한다는 가정 필요\n",
    "# z=(x-mean)/std\n",
    "\n",
    "#이상치가 데이터에 포함되어 있는 경우에는\n",
    "#표준화를 어떻게?\n",
    "#1)이상치, 특이값을 찾아서 제거\n",
    "#2)중앙값(median), IQR을 이용하여 스케일링"
   ]
  },
  {
   "cell_type": "code",
   "execution_count": 194,
   "metadata": {},
   "outputs": [],
   "source": [
    "#RobustScaler():이상치가 있는 데이터 표준화"
   ]
  },
  {
   "cell_type": "code",
   "execution_count": 197,
   "metadata": {},
   "outputs": [],
   "source": [
    "from sklearn.preprocessing import StandardScaler, RobustScaler\n",
    "import matplotlib.pyplot as plt"
   ]
  },
  {
   "cell_type": "code",
   "execution_count": 198,
   "metadata": {},
   "outputs": [],
   "source": [
    "mu, sigma=5, 2"
   ]
  },
  {
   "cell_type": "code",
   "execution_count": 202,
   "metadata": {},
   "outputs": [
    {
     "data": {
      "text/plain": [
       "array([2.9898555 , 5.27110467, 7.24991207, 4.18349451, 8.20365785,\n",
       "       2.54284907, 7.16359414, 5.17985217, 7.04492978, 6.59839808,\n",
       "       4.21871675, 9.03988701, 2.23351657, 3.50589812, 3.26153864,\n",
       "       6.93898623, 4.27485214, 4.65224182, 6.57013144, 9.25855409,\n",
       "       5.85283369, 6.76321263, 4.16879867, 4.74997056, 2.3055236 ,\n",
       "       7.58331532, 5.63084363, 5.86214283, 6.18571889, 6.63425023,\n",
       "       3.35126494, 5.63304547, 2.08755409, 6.834651  , 1.79180729,\n",
       "       4.0306701 , 3.51964441, 3.41371326, 5.64835364, 9.07513764,\n",
       "       2.02531126, 5.54453058, 3.74439895, 4.20289513, 8.31730384,\n",
       "       3.42346176, 5.17752886, 5.00505261, 5.90720738, 7.88913195,\n",
       "       2.07545365, 5.00250875, 6.50252082, 5.24133528, 5.41414636,\n",
       "       3.18771858, 3.36053451, 4.58866107, 1.25929352, 2.80597753,\n",
       "       5.40575095, 4.10436227, 6.96363472, 4.76808809, 7.83250558,\n",
       "       0.22038241, 3.71410091, 5.0949228 , 6.02591418, 3.73655179,\n",
       "       6.04648628, 7.88156428, 4.91798781, 2.48024664, 4.69617757,\n",
       "       8.04367825, 8.44598014, 6.05954154, 5.58266647, 9.29328065,\n",
       "       5.14379803, 1.90720363, 6.43849124, 2.92372494, 4.1053961 ,\n",
       "       4.67342598, 3.85459709, 7.00792731, 3.47204182, 4.11311199,\n",
       "       4.98445162, 7.38094595, 4.04682513, 5.16111603, 4.81764143,\n",
       "       6.15272102, 5.71565445, 3.43445038, 6.22702458, 3.3987764 ])"
      ]
     },
     "execution_count": 202,
     "metadata": {},
     "output_type": "execute_result"
    }
   ],
   "source": [
    "x=mu+sigma*np.random.randn(100)\n",
    "x"
   ]
  },
  {
   "cell_type": "code",
   "execution_count": 205,
   "metadata": {},
   "outputs": [
    {
     "data": {
      "text/plain": [
       "1.9253844712213406"
      ]
     },
     "execution_count": 205,
     "metadata": {},
     "output_type": "execute_result"
    },
    {
     "data": {
      "image/png": "[encoded data removed]",
      "text/plain": [
       "<Figure size 432x288 with 1 Axes>"
      ]
     },
     "metadata": {
      "needs_background": "light"
     },
     "output_type": "display_data"
    }
   ],
   "source": [
    "plt.hist(x)\n",
    "np.mean(x)\n",
    "np.std(x)"
   ]
  },
  {
   "cell_type": "code",
   "execution_count": 206,
   "metadata": {},
   "outputs": [
    {
     "data": {
      "text/plain": [
       "array([  2.9898555 ,   5.27110467,   7.24991207,   4.18349451,\n",
       "         8.20365785,   2.54284907,   7.16359414,   5.17985217,\n",
       "         7.04492978,   6.59839808,   4.21871675,   9.03988701,\n",
       "         2.23351657,   3.50589812,   3.26153864,   6.93898623,\n",
       "         4.27485214,   4.65224182,   6.57013144,   9.25855409,\n",
       "         5.85283369,   6.76321263,   4.16879867,   4.74997056,\n",
       "         2.3055236 ,   7.58331532,   5.63084363,   5.86214283,\n",
       "         6.18571889,   6.63425023,   3.35126494,   5.63304547,\n",
       "         2.08755409,   6.834651  ,   1.79180729,   4.0306701 ,\n",
       "         3.51964441,   3.41371326,   5.64835364,   9.07513764,\n",
       "         2.02531126,   5.54453058,   3.74439895,   4.20289513,\n",
       "         8.31730384,   3.42346176,   5.17752886,   5.00505261,\n",
       "         5.90720738,   7.88913195,   2.07545365,   5.00250875,\n",
       "         6.50252082,   5.24133528,   5.41414636,   3.18771858,\n",
       "         3.36053451,   4.58866107,   1.25929352,   2.80597753,\n",
       "         5.40575095,   4.10436227,   6.96363472,   4.76808809,\n",
       "         7.83250558,   0.22038241,   3.71410091,   5.0949228 ,\n",
       "         6.02591418,   3.73655179,   6.04648628,   7.88156428,\n",
       "         4.91798781,   2.48024664,   4.69617757,   8.04367825,\n",
       "         8.44598014,   6.05954154,   5.58266647,   9.29328065,\n",
       "         5.14379803,   1.90720363,   6.43849124,   2.92372494,\n",
       "         4.1053961 ,   4.67342598,   3.85459709,   7.00792731,\n",
       "         3.47204182,   4.11311199,   4.98445162,   7.38094595,\n",
       "         4.04682513,   5.16111603,   4.81764143,   6.15272102,\n",
       "         5.71565445,   3.43445038, 100.        , 100.        ])"
      ]
     },
     "execution_count": 206,
     "metadata": {},
     "output_type": "execute_result"
    }
   ],
   "source": [
    "x[98:100]=100\n",
    "x"
   ]
  },
  {
   "cell_type": "code",
   "execution_count": 211,
   "metadata": {},
   "outputs": [
    {
     "data": {
      "text/plain": [
       "(array([ 4., 24., 39., 23.,  8.,  0.,  0.,  0.,  0.,  0.,  0.,  0.,  0.,\n",
       "         0.,  0.,  0.,  0.,  0.,  0.,  0.,  0.,  0.,  0.,  0.,  0.,  0.,\n",
       "         0.,  0.,  0.,  0.,  0.,  0.,  0.,  0.,  0.,  0.,  0.,  0.,  0.,\n",
       "         0.,  0.,  0.,  0.,  0.,  0.,  0.,  0.,  0.,  0.,  2.]),\n",
       " array([  0,   2,   4,   6,   8,  10,  12,  14,  16,  18,  20,  22,  24,\n",
       "         26,  28,  30,  32,  34,  36,  38,  40,  42,  44,  46,  48,  50,\n",
       "         52,  54,  56,  58,  60,  62,  64,  66,  68,  70,  72,  74,  76,\n",
       "         78,  80,  82,  84,  86,  88,  90,  92,  94,  96,  98, 100]),\n",
       " <a list of 50 Patch objects>)"
      ]
     },
     "execution_count": 211,
     "metadata": {},
     "output_type": "execute_result"
    },
    {
     "data": {
      "image/png": "[encoded data removed]",
      "text/plain": [
       "<Figure size 432x288 with 1 Axes>"
      ]
     },
     "metadata": {
      "needs_background": "light"
     },
     "output_type": "display_data"
    }
   ],
   "source": [
    "np.mean(x)\n",
    "np.std(x)\n",
    "#plt.hist(x)\n",
    "plt.hist(x, bins=np.arange(0,102,2))"
   ]
  },
  {
   "cell_type": "code",
   "execution_count": 226,
   "metadata": {},
   "outputs": [
    {
     "data": {
      "text/plain": [
       "(array([98.,  0.,  0.,  0.,  0.,  0.,  0.,  0.,  0.,  2.]),\n",
       " array([-0.50413989,  0.23911868,  0.98237725,  1.72563581,  2.46889438,\n",
       "         3.21215295,  3.95541152,  4.69867008,  5.44192865,  6.18518722,\n",
       "         6.92844578]),\n",
       " <a list of 10 Patch objects>)"
      ]
     },
     "execution_count": 226,
     "metadata": {},
     "output_type": "execute_result"
    },
    {
     "data": {
      "image/png": "[encoded data removed]",
      "text/plain": [
       "<Figure size 432x288 with 1 Axes>"
      ]
     },
     "metadata": {
      "needs_background": "light"
     },
     "output_type": "display_data"
    }
   ],
   "source": [
    "#type(x)   array\n",
    "x=x.reshape(100,1) #(100,) -> (100,1)\n",
    "#x=x.reshape(-1,1) #(100,) -> (100,1)\n",
    "x.shape\n",
    "ss_x=StandardScaler().fit_transform(x)\n",
    "np.mean(ss_x)\n",
    "np.std(ss_x)\n",
    "plt.hist(ss_x)"
   ]
  },
  {
   "cell_type": "code",
   "execution_count": 230,
   "metadata": {},
   "outputs": [
    {
     "data": {
      "text/plain": [
       "(array([ 0.,  0.,  0.,  0.,  1.,  1., 11., 25., 24., 19., 12.,  5.,  0.,\n",
       "         0.,  0.,  0.,  0.,  0.,  0.]),\n",
       " array([-1.00000000e+00, -9.00000000e-01, -8.00000000e-01, -7.00000000e-01,\n",
       "        -6.00000000e-01, -5.00000000e-01, -4.00000000e-01, -3.00000000e-01,\n",
       "        -2.00000000e-01, -1.00000000e-01, -2.22044605e-16,  1.00000000e-01,\n",
       "         2.00000000e-01,  3.00000000e-01,  4.00000000e-01,  5.00000000e-01,\n",
       "         6.00000000e-01,  7.00000000e-01,  8.00000000e-01,  9.00000000e-01]),\n",
       " <a list of 19 Patch objects>)"
      ]
     },
     "execution_count": 230,
     "metadata": {},
     "output_type": "execute_result"
    },
    {
     "data": {
      "image/png": "[encoded data removed]",
      "text/plain": [
       "<Figure size 432x288 with 1 Axes>"
      ]
     },
     "metadata": {
      "needs_background": "light"
     },
     "output_type": "display_data"
    }
   ],
   "source": [
    "ss_x_z=ss_x[ss_x<5]\n",
    "plt.hist(ss_x_z, bins=np.arange(-1,1,0.1))"
   ]
  },
  {
   "cell_type": "code",
   "execution_count": 238,
   "metadata": {},
   "outputs": [],
   "source": [
    "#이상치 포함 데이터의 중앙값, IQR을 이용->표준화\n",
    "np.median(x)\n",
    "x\n",
    "q1=np.percentile(x,25) #1사분위수, 3.730 \n",
    "q3=np.percentile(x,75) #3사분위수, 6.577\n",
    "iqr=q3-q1 #6.577 - 3.730 "
   ]
  },
  {
   "cell_type": "code",
   "execution_count": 245,
   "metadata": {},
   "outputs": [
    {
     "data": {
      "text/plain": [
       "(array([3., 1., 2., 4., 6., 4., 9., 1., 7., 5., 6., 7., 4., 5., 2., 4., 5.,\n",
       "        3., 1.]),\n",
       " array([-1.00000000e+00, -9.00000000e-01, -8.00000000e-01, -7.00000000e-01,\n",
       "        -6.00000000e-01, -5.00000000e-01, -4.00000000e-01, -3.00000000e-01,\n",
       "        -2.00000000e-01, -1.00000000e-01, -2.22044605e-16,  1.00000000e-01,\n",
       "         2.00000000e-01,  3.00000000e-01,  4.00000000e-01,  5.00000000e-01,\n",
       "         6.00000000e-01,  7.00000000e-01,  8.00000000e-01,  9.00000000e-01]),\n",
       " <a list of 19 Patch objects>)"
      ]
     },
     "execution_count": 245,
     "metadata": {},
     "output_type": "execute_result"
    },
    {
     "data": {
      "image/png": "[encoded data removed]",
      "text/plain": [
       "<Figure size 432x288 with 1 Axes>"
      ]
     },
     "metadata": {
      "needs_background": "light"
     },
     "output_type": "display_data"
    }
   ],
   "source": [
    "x_rs=RobustScaler().fit_transform(x)\n",
    "x_rs\n",
    "np.median(x_rs) #0\n",
    "np.mean(x_rs) #0.65\n",
    "np.std(x_rs) #4.71\n",
    "#plt.hist(x_rs)\n",
    "\n",
    "x_rs_z=x_rs[x_rs<10]\n",
    "plt.hist(x_rs_z, bins=np.arange(-1,1,0.1))\n"
   ]
  },
  {
   "cell_type": "code",
   "execution_count": null,
   "metadata": {},
   "outputs": [],
   "source": []
  }
 ],
 "metadata": {
  "kernelspec": {
   "display_name": "Python 3",
   "language": "python",
   "name": "python3"
  },
  "language_info": {
   "codemirror_mode": {
    "name": "ipython",
    "version": 3
   },
   "file_extension": ".py",
   "mimetype": "text/x-python",
   "name": "python",
   "nbconvert_exporter": "python",
   "pygments_lexer": "ipython3",
   "version": "3.7.4"
  }
 },
 "nbformat": 4,
 "nbformat_minor": 2
}
