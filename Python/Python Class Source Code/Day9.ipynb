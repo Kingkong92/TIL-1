{
 "cells": [
  {
   "cell_type": "code",
   "execution_count": 1,
   "metadata": {},
   "outputs": [
    {
     "data": {
      "text/plain": [
       "'\\n동전종류:10,50,100\\n최소의 동전을 사용하여 거스름돈 반환\\nex) 120원 반환:10-12, 50-2/10-2, 100-1/10-2, ...\\n정답 : 100원 1개, 10원 2개 =>3개\\n1)\\n임의의 금액 입력 -> 최소 개수 동전 -> 큰 단위 화폐부터 교환...\\n\\n동전종류:10,60,100\\n2)\\n최소의 동전을 사용하여 거스름돈 반환\\nex) 120원 반환:10-12, 60-2, 100-1/10-2, ...\\n정답 : 60원 2개 => 2개\\n=>solution : 완전탐색(backtracking(되추적), DP(동적계획법))\\n=>\\n'"
      ]
     },
     "execution_count": 1,
     "metadata": {},
     "output_type": "execute_result"
    }
   ],
   "source": [
    "\"\"\"\n",
    "동전종류:10,50,100\n",
    "최소의 동전을 사용하여 거스름돈 반환\n",
    "ex) 120원 반환:10-12, 50-2/10-2, 100-1/10-2, ...\n",
    "정답 : 100원 1개, 10원 2개 =>3개\n",
    "1)\n",
    "임의의 금액 입력 -> 최소 개수 동전 -> 큰 단위 화폐부터 교환...\n",
    "\n",
    "동전종류:10,60,100\n",
    "2)\n",
    "최소의 동전을 사용하여 거스름돈 반환\n",
    "ex) 120원 반환:10-12, 60-2, 100-1/10-2, ...\n",
    "정답 : 60원 2개 => 2개\n",
    "=>solution : 완전탐색(backtracking(되추적), DP(동적계획법))\n",
    "=>\n",
    "\"\"\""
   ]
  },
  {
   "cell_type": "code",
   "execution_count": null,
   "metadata": {},
   "outputs": [],
   "source": [
    "1. []\n",
    "[] : [] 사이의 문자들과 매치. [A-K], [0-9], [^0-9]\n",
    "정규식:[ABCDE]\n",
    "문자열 A:매치, BLUE:매치, DRY:매치, SKY:매치안됨\n",
    "\n",
    "2. \n",
    "\\d <=> [0-9], \\D <=> [^0-9]\n",
    "\\w <=> [a-zA-Z0-9_], \\W <=> [^a-zA-Z0-9_]\n",
    "\n",
    "3.\n",
    ".(dot) : 모든 문자\n",
    "정규식: a.b <=> a + 모든문자 + b\n",
    "문자열 aab :매치, a0b :  매치, abb : 매치\n",
    "            \n",
    "        \n",
    "*(0번 이상 반복)\n",
    "정규식 : ca*t\n",
    "문자열 ct : 매치, cat : 매치, caaaat : 매치\n",
    "            \n",
    "+(1번 이상 반복)\n",
    "정규식 : ca+t <-> a가 1번 이상 반복\n",
    "문자열 ct : 매치x, cat : 매치, caaaat : 매치\n",
    "            \n",
    "ca{2}t <=> c + a는 반드시 2번 반복 + t\n",
    "문자열 cat : 매치x, caat : 매치\n",
    "\n",
    "{2,5} : 2~5번 반복\n",
    "ca{2,5}t <=> c + a는 2번이상 5번이하 + t\n",
    "문자열 cat : 매치x, caaat : 매치\n",
    "\n",
    "ca?t <=> c + a(있어도 없어도 됨) + t\n",
    "\n",
    "            \n"
   ]
  },
  {
   "cell_type": "code",
   "execution_count": 6,
   "metadata": {},
   "outputs": [
    {
     "data": {
      "text/plain": [
       "<re.Match object; span=(0, 3), match='abb'>"
      ]
     },
     "execution_count": 6,
     "metadata": {},
     "output_type": "execute_result"
    }
   ],
   "source": [
    "re.match(\"a.b\", \"abb\")\n",
    "#re.match(패턴, 문자열)"
   ]
  },
  {
   "cell_type": "code",
   "execution_count": 24,
   "metadata": {},
   "outputs": [
    {
     "name": "stdout",
     "output_type": "stream",
     "text": [
      "None\n",
      "<re.Match object; span=(0, 1), match='H'>\n",
      "<re.Match object; span=(0, 3), match='123'>\n",
      "<re.Match object; span=(0, 3), match='123'>\n",
      "None\n",
      "<re.Match object; span=(6, 9), match='456'>\n"
     ]
    }
   ],
   "source": [
    "# print(re.match(\"[a-zA-Z]\",\"hellohi123\"))\n",
    "# print(re.match(\"[a-zA-Z]*\",\"hellohi123\"))\n",
    "# print(re.match(\"[a-zA-Z]+\",\"hellohi123\"))\n",
    "# print(re.match(\"[a-zA-Z0-9]+\",\"hellohi123\"))\n",
    "# print(re.match(\"[가-힣]+\",\"반가워 안녕 ㅋㅋㅋ ㅎㅎ\"))\n",
    "# print(re.match(\"[가-힣]+\",\"반가워안녕ㅋㅋㅋㅎㅎ\"))\n",
    "\n",
    "# print(re.match(\"[^a-zA-Z]+\",\"hellohi123\")) #대괄호 안에 꺽쇠가 있는 경우 not 의미\n",
    "# print(re.match(\"^[a-zA-Z]+\",\"hellohi123\")) \n",
    "\n",
    "#대괄호 밖에 꺽쇠가 있는 경우에는 패턴 문자로 시작하면 매치\n",
    "print(re.match(\"[^A-Z]\", \"Hello\"))\n",
    "print(re.match(\"^[A-Z]\", \"Hello\"))\n",
    "\n",
    "print(re.match(\"[0-9]+\", \"123abc456\")) #123\n",
    "print(re.match(\"^[0-9]+\", \"123abc456\")) #123\n",
    "\n",
    "print(re.match(\"[0-9]+$\", \"123abc456\")) #123\n",
    "print(re.search(\"[0-9]+$\", \"123abc456\")) #456\n",
    "#print(re.match(\"^[0-9]+\", \"123abc456\")) #123\n",
    "\n"
   ]
  },
  {
   "cell_type": "code",
   "execution_count": 34,
   "metadata": {},
   "outputs": [
    {
     "name": "stdout",
     "output_type": "stream",
     "text": [
      "None\n",
      "<re.Match object; span=(0, 1), match=' '>\n",
      "<re.Match object; span=(0, 2), match='  '>\n",
      "<re.Match object; span=(0, 11), match='test HI 99 '>\n"
     ]
    }
   ],
   "source": [
    "#특수문자는 앞에 역슬래쉬를 붙여야 함\n",
    "\n",
    "#수식에서 제곱(**)이 사용됐는지 여부 확인?\n",
    "# print(re.match(\"\\*+\",\"3**8\"))  #3의 8승, \n",
    "# print(re.search(\"\\*+\",\"3**8\"))  #3의 8승, \n",
    "\n",
    "# print(re.match(\"\\D+\", \"aB가10\")) #\\D:숫자가 아님\n",
    "# print(re.match(\"\\w+\", \"aB가10\")) #\\w:숫자 + 문자 + _\n",
    "# print(re.match(\"\\w+\", \"aB가_10\")) #\\w:숫자 + 문자 + _\n",
    "\n",
    "# print(re.match(\"\\W+\", \"(#:)\")) #\\W: not (숫자 + 문자 + _)\n",
    "\n",
    "# \\s:whitespace문자, \\n\\r\\f\\t\n",
    "print(re.match(\"\\s+\", \"test\"))\n",
    "print(re.match(\"\\s+\", \" test\"))\n",
    "print(re.match(\"\\s+\", \"  test\"))\n",
    "print(re.match(\"[a-zA-Z0-9\\s]+\", \"test HI 99 안녕\"))\n",
    "\n"
   ]
  },
  {
   "cell_type": "code",
   "execution_count": 36,
   "metadata": {},
   "outputs": [
    {
     "data": {
      "text/plain": [
       "<re.Match object; span=(0, 2), match='12'>"
      ]
     },
     "execution_count": 36,
     "metadata": {},
     "output_type": "execute_result"
    }
   ],
   "source": [
    "#re.compile() #정규식을 저장 => 객체(패턴)\n",
    "\n",
    "pat = re.compile(\"[0-9]+\")\n",
    "pat.match(\"123\")\n",
    "pat.match(\"abc\")\n",
    "pat.match(\"12가나다\")"
   ]
  },
  {
   "cell_type": "code",
   "execution_count": 37,
   "metadata": {},
   "outputs": [
    {
     "data": {
      "text/plain": [
       "'\\n정규식을 작성하는 일반적인 형식\\n1) 패턴을 저장(re.compile함수)\\n2) 패턴을 사용하여 문자열 검색을 수행\\n(match, search, findall, finditer 함수 사용)\\n\\nmatch : 문자열의 처음부터 정규식과 매치되는지 조사\\nsearch : 문자열 전체에 대해 정규식과 매치되는지 조사\\nfindall : 정규식과 매치되는 모든 문자열을 리스트로 리턴\\nfinditer : 정규식과 매치되는 모든 문자열을 반복가능객체로 리턴\\n'"
      ]
     },
     "execution_count": 37,
     "metadata": {},
     "output_type": "execute_result"
    }
   ],
   "source": [
    "\"\"\"\n",
    "정규식을 작성하는 일반적인 형식\n",
    "1) 패턴을 저장(re.compile함수)\n",
    "2) 패턴을 사용하여 문자열 검색을 수행\n",
    "(match, search, findall, finditer 함수 사용)\n",
    "\n",
    "match : 문자열의 처음부터 정규식과 매치되는지 조사\n",
    "search : 문자열 전체에 대해 정규식과 매치되는지 조사\n",
    "findall : 정규식과 매치되는 모든 문자열을 리스트로 리턴\n",
    "finditer : 정규식과 매치되는 모든 문자열을 반복가능객체로 리턴\n",
    "\"\"\""
   ]
  },
  {
   "cell_type": "code",
   "execution_count": 53,
   "metadata": {},
   "outputs": [],
   "source": [
    "p=re.compile(\"[a-z]+\") #패턴저장"
   ]
  },
  {
   "cell_type": "code",
   "execution_count": 40,
   "metadata": {},
   "outputs": [
    {
     "name": "stdout",
     "output_type": "stream",
     "text": [
      "<re.Match object; span=(0, 6), match='python'>\n"
     ]
    }
   ],
   "source": [
    "#match:문자열의 처음부터~ 정규식과 매치\n",
    "m=p.match(\"python\")\n",
    "print(m)"
   ]
  },
  {
   "cell_type": "code",
   "execution_count": 44,
   "metadata": {},
   "outputs": [
    {
     "name": "stdout",
     "output_type": "stream",
     "text": [
      "매치됨 python\n",
      "<re.Match object; span=(0, 6), match='python'>\n"
     ]
    }
   ],
   "source": [
    "m=p.match(\"python\")\n",
    "if m:\n",
    "    print(\"매치됨\", m.group())#매치된 문자열 출력\n",
    "else:\n",
    "    print(\"매치안됨\")\n",
    "print(m)"
   ]
  },
  {
   "cell_type": "code",
   "execution_count": 46,
   "metadata": {},
   "outputs": [
    {
     "name": "stdout",
     "output_type": "stream",
     "text": [
      "<re.Match object; span=(0, 6), match='python'>\n",
      "<re.Match object; span=(2, 8), match='python'>\n"
     ]
    }
   ],
   "source": [
    "#search는 문자열 전체에 대해 검색\n",
    "m=p.search(\"python\")\n",
    "print(m)\n",
    "\n",
    "m=p.search(\"9 python 7 java\")\n",
    "print(m)"
   ]
  },
  {
   "cell_type": "code",
   "execution_count": 47,
   "metadata": {},
   "outputs": [
    {
     "name": "stdout",
     "output_type": "stream",
     "text": [
      "['ife', 'is', 'too', 'short']\n"
     ]
    }
   ],
   "source": [
    "res=p.findall(\"Life is too short\") #[a-z]+\n",
    "print(res)"
   ]
  },
  {
   "cell_type": "code",
   "execution_count": 48,
   "metadata": {},
   "outputs": [
    {
     "name": "stdout",
     "output_type": "stream",
     "text": [
      "<callable_iterator object at 0x0000024E5655E248>\n"
     ]
    }
   ],
   "source": [
    "res=p.finditer(\"Life is too short\") #[a-z]+\n",
    "print(res)"
   ]
  },
  {
   "cell_type": "code",
   "execution_count": 52,
   "metadata": {},
   "outputs": [],
   "source": [
    "for r in res:\n",
    "    print(r)"
   ]
  },
  {
   "cell_type": "code",
   "execution_count": 51,
   "metadata": {},
   "outputs": [],
   "source": [
    "for r in res:\n",
    "    print(r.group())"
   ]
  },
  {
   "cell_type": "code",
   "execution_count": 54,
   "metadata": {},
   "outputs": [],
   "source": [
    "p=re.compile(\"[a-z]+\") #패턴저장"
   ]
  },
  {
   "cell_type": "code",
   "execution_count": 55,
   "metadata": {},
   "outputs": [
    {
     "name": "stdout",
     "output_type": "stream",
     "text": [
      "<callable_iterator object at 0x0000024E5665ED08>\n"
     ]
    }
   ],
   "source": [
    "res=p.finditer(\"Life is too short\") #[a-z]+\n",
    "print(res)"
   ]
  },
  {
   "cell_type": "code",
   "execution_count": 61,
   "metadata": {},
   "outputs": [
    {
     "name": "stdout",
     "output_type": "stream",
     "text": [
      "1\n",
      "4\n",
      "ife\n",
      "(1, 4)\n",
      "5\n",
      "7\n",
      "is\n",
      "(5, 7)\n",
      "8\n",
      "11\n",
      "too\n",
      "(8, 11)\n",
      "12\n",
      "17\n",
      "short\n",
      "(12, 17)\n"
     ]
    }
   ],
   "source": [
    "res=p.finditer(\"Life is too short\") #[a-z]+\n",
    "for r in res:\n",
    "    print(r.start()) #매치 시작 위치\n",
    "    print(r.end())   #매치 끝 위치\n",
    "    print(r.group()) #매치 문자열\n",
    "    print(r.span()) #(시작, 끝)    "
   ]
  },
  {
   "cell_type": "code",
   "execution_count": 63,
   "metadata": {},
   "outputs": [],
   "source": [
    "# p=re.compile(\"[a-z]+\")\n",
    "# m=p.match(\"multi\")\n",
    "# <=> 같은 의미\n",
    "# m=re.match(\"[a-z]+\", \"multi\")"
   ]
  },
  {
   "cell_type": "code",
   "execution_count": 71,
   "metadata": {},
   "outputs": [
    {
     "name": "stdout",
     "output_type": "stream",
     "text": [
      "None\n",
      "<re.Match object; span=(0, 3), match='a\\nb'>\n",
      "<re.Match object; span=(0, 1), match='p'>\n",
      "<re.Match object; span=(0, 1), match='P'>\n"
     ]
    }
   ],
   "source": [
    "#정규식 컴파일 옵션\n",
    "p=re.compile(\"a.b\") #.은 모든 문자와 매치(\\n 문자 제외)\n",
    "#m=p.match(\"acb\")\n",
    "m=p.match(\"a\\nb\")\n",
    "print(m)\n",
    "\n",
    "#DOTALL 옵션: .을 사용할때 \\n 문자도 포함하고자 하는 경우\n",
    "p=re.compile(\"a.b\", re.DOTALL) #.은 모든 문자와 매치(\\n 문자 제외)\n",
    "#m=p.match(\"acb\")\n",
    "m=p.match(\"a\\nb\")\n",
    "print(m)\n",
    "\n",
    "#re.I 옵션: ignorecase는 대소문자 구분없이 수행\n",
    "p=re.compile(\"[a-z]\")\n",
    "print(p.match(\"python\"))\n",
    "p=re.compile(\"[a-z]\", re.I) # \"[a-z][A-Z]\"과 같음\n",
    "print(p.match(\"Python\"))"
   ]
  },
  {
   "cell_type": "code",
   "execution_count": 75,
   "metadata": {},
   "outputs": [
    {
     "name": "stdout",
     "output_type": "stream",
     "text": [
      "<re.Match object; span=(0, 10), match='python one'>\n",
      "<re.Match object; span=(0, 10), match='python one'>\n",
      "['python one']\n",
      "['python one', 'python two']\n"
     ]
    }
   ],
   "source": [
    "#MULTILINE옵션\n",
    "\n",
    "text=\"\"\"python one\n",
    "python two\n",
    "you need python\n",
    "\"\"\"\n",
    "p=re.compile(\"^python\\s\\w+\")\n",
    "print(p.match(text))\n",
    "print(p.search(text))\n",
    "print(p.findall(text)) \n",
    "#^를 문자열 전체의 처음에 대해서 적용\n",
    "\n",
    "#그런데, 내가 원하는 것은 문자열 전체가 아니라\n",
    "#문자열의 각 라인 단위로 정규식(^)를 적용 => MULTILNE\n",
    "\n",
    "p=re.compile(\"^python\\s\\w+\", re.MULTILINE)\n",
    "print(p.findall(text)) "
   ]
  },
  {
   "cell_type": "code",
   "execution_count": 80,
   "metadata": {},
   "outputs": [
    {
     "name": "stdout",
     "output_type": "stream",
     "text": [
      "None\n"
     ]
    }
   ],
   "source": [
    "pat=re.compile(\"Bye|Hi\")\n",
    "#m=pat.match(\"ByeHello\")\n",
    "#m=pat.match(\"HiHello\")\n",
    "m=pat.match(\"Hello\")\n",
    "print(m)"
   ]
  },
  {
   "cell_type": "code",
   "execution_count": 82,
   "metadata": {},
   "outputs": [
    {
     "name": "stdout",
     "output_type": "stream",
     "text": [
      "<re.Match object; span=(0, 4), match='Life'>\n",
      "<re.Match object; span=(12, 17), match='short'>\n"
     ]
    }
   ],
   "source": [
    "print(re.search(\"^Life\",\"Life is too short\"))\n",
    "#Life로 시작하는 문자열 패턴식을 지정\n",
    "print(re.search(\"short$\",\"Life is too short\"))\n",
    "#short로 끝나는 문자열 패턴식을 지정\n"
   ]
  },
  {
   "cell_type": "code",
   "execution_count": null,
   "metadata": {},
   "outputs": [],
   "source": [
    "#국립국어원 : korean.go.kr -> 회원가입"
   ]
  },
  {
   "cell_type": "code",
   "execution_count": 86,
   "metadata": {
    "scrolled": true
   },
   "outputs": [
    {
     "name": "stdout",
     "output_type": "stream",
     "text": [
      "xyzxyz\n"
     ]
    }
   ],
   "source": [
    "#그루핑 : 패턴식 내부에 괄호로 묶어서 표현. \n",
    "#소괄호로 묶인 부분이 그룹이 됨\n",
    "#xyz 문자열이 계속해서 반복되는지 확인 정규식?\n",
    "#(xyz)+\n",
    "pat=re.compile(\"(xyz)+\")\n",
    "m=pat.search(\"xyzxyzxyk ok\")\n",
    "print(m.group()) #매칭된 문자열 확인"
   ]
  },
  {
   "cell_type": "code",
   "execution_count": 101,
   "metadata": {},
   "outputs": [
    {
     "name": "stdout",
     "output_type": "stream",
     "text": [
      "<re.Match object; span=(0, 17), match='kim 010-2345-6789'>\n"
     ]
    }
   ],
   "source": [
    "\"\"\"\n",
    "kim 010-2345-6789\n",
    "hong 02-1234-5678\n",
    "lee seoul   (x)\n",
    "park 010 1234 5656 (x)\n",
    "\"\"\"\n",
    "pat=re.compile(\"\\w+\\s+\\d+[-]\\d+[-]\\d+\")\n",
    "m=pat.search(\"kim 010-2345-6789\")\n",
    "#m=pat.search(\"hong 02-1234-5678\")\n",
    "#m=pat.search(\"lee seoul\")\n",
    "#m=pat.search(\"park 010 1234 5656\")\n",
    "print(m)\n"
   ]
  },
  {
   "cell_type": "code",
   "execution_count": 104,
   "metadata": {},
   "outputs": [],
   "source": [
    "pat=re.compile(\"(\\w+)\\s+\\d+[-]\\d+[-]\\d+\")\n",
    "m=pat.search(\"kim 010-2345-6789\")"
   ]
  },
  {
   "cell_type": "code",
   "execution_count": 108,
   "metadata": {},
   "outputs": [
    {
     "name": "stdout",
     "output_type": "stream",
     "text": [
      "kim 010-2345-6789\n",
      "kim\n",
      "kim 010-2345-6789\n"
     ]
    }
   ],
   "source": [
    "print(m.group())\n",
    "# ():그루핑 기호\n",
    "# 이름 그루핑   => (\\w+)\n",
    "print(m.group(1))  #첫번째 그룹에 해당되는 문자열\n",
    "#print(m.group(2))  그룹이 없으므로 에러\n",
    "print(m.group(0)) #매칭된 전체 문자열"
   ]
  },
  {
   "cell_type": "code",
   "execution_count": 109,
   "metadata": {},
   "outputs": [
    {
     "name": "stdout",
     "output_type": "stream",
     "text": [
      "kim 010-2345-6789\n",
      "kim\n",
      "010\n",
      "2345\n",
      "6789\n"
     ]
    }
   ],
   "source": [
    "pat=re.compile(\"(\\w+)\\s+(\\d+)[-](\\d+)[-](\\d+)\")\n",
    "m=pat.search(\"kim 010-2345-6789\")\n",
    "print(m.group(0))\n",
    "print(m.group(1))\n",
    "print(m.group(2))\n",
    "print(m.group(3))\n",
    "print(m.group(4))"
   ]
  },
  {
   "cell_type": "code",
   "execution_count": 110,
   "metadata": {},
   "outputs": [
    {
     "name": "stdout",
     "output_type": "stream",
     "text": [
      "kim 010-2345-6789\n",
      "kim\n",
      "010\n",
      "2345-6789\n",
      "2345\n",
      "6789\n"
     ]
    }
   ],
   "source": [
    "pat=re.compile(\"(\\w+)\\s+(\\d+)[-]((\\d+)[-](\\d+))\")\n",
    "m=pat.search(\"kim 010-2345-6789\")\n",
    "print(m.group(0))\n",
    "print(m.group(1))\n",
    "print(m.group(2))\n",
    "print(m.group(3))\n",
    "print(m.group(4))\n",
    "print(m.group(5))"
   ]
  },
  {
   "cell_type": "code",
   "execution_count": 114,
   "metadata": {},
   "outputs": [
    {
     "name": "stdout",
     "output_type": "stream",
     "text": [
      "kim 010-2345-6789\n",
      "kim\n",
      "kim\n"
     ]
    }
   ],
   "source": [
    "#그루핑시 이름을 부여\n",
    "#pat=re.compile(\"(\\w+)\\s+(\\d+)[-]((\\d+)[-](\\d+))\")\n",
    "\n",
    "#그룹 이름 부여 : 형식 =>  (?P<그룹명>...)\n",
    "#(\\w+) => (?P<name>\\w+)\n",
    "\n",
    "pat=re.compile(\"(?P<name>\\w+)\\s+(\\d+)[-]((\\d+)[-](\\d+))\")\n",
    "m=pat.search(\"kim 010-2345-6789\")\n",
    "print(m.group(0))\n",
    "print(m.group(1))\n",
    "print(m.group(\"name\"))"
   ]
  },
  {
   "cell_type": "code",
   "execution_count": null,
   "metadata": {},
   "outputs": [],
   "source": [
    "#텍스트 수집 -> 전처리 -> 워드임베딩(숫자 변환(인코딩))\n",
    "#-> 얕은(깊은) 신경망 모델 설계 -> 모델링 -> 분류/예측 등 작업"
   ]
  },
  {
   "cell_type": "code",
   "execution_count": 118,
   "metadata": {},
   "outputs": [
    {
     "data": {
      "text/plain": [
       "'color socks and color shoes'"
      ]
     },
     "execution_count": 118,
     "metadata": {},
     "output_type": "execute_result"
    }
   ],
   "source": [
    "pat=re.compile(\"red\") #패턴\n",
    "pat.sub(\"color\", \"blue socks and red shoes\") \n",
    "#치환 결과 =>  'blue socks and color shoes'\n",
    "#pat.sub(바꿀문자열, 대상문자열)\n",
    "#해석? 대상문자열에서 패턴이 발견되면 바꿀문자열로 변경해라\n",
    "\n",
    "#blue 또는 red는 모두 color로 변경하시오.\n",
    "#치환 결과 =>  'color socks and color shoes'\n",
    "pat=re.compile(\"red|blue\") #패턴\n",
    "pat.sub(\"color\", \"blue socks and red shoes\") "
   ]
  },
  {
   "cell_type": "code",
   "execution_count": 122,
   "metadata": {},
   "outputs": [
    {
     "data": {
      "text/plain": [
       "'대한민국 좋은 나라 대한민국 대한민국 대한민국'"
      ]
     },
     "execution_count": 122,
     "metadata": {},
     "output_type": "execute_result"
    }
   ],
   "source": [
    "pat=re.compile(\"are\") #패턴\n",
    "pat.sub(\"R\", \"You are dozing off. I'm also sleepy.\")\n",
    "\n",
    "# \"You are dozing off. I'm also sleepy.\" 문자열에서\n",
    "# \"are\" 패턴이 발견되면,    \"R\"로 치환\n",
    "\n",
    "pat=re.compile(\"우리나라|한국|코리아|대한민국\")\n",
    "pat.sub(\"대한민국\", \"우리나라 좋은 나라 한국 코리아 대한민국\")\n",
    "#우리나라, 한국, 코리아, 대한민국 => 대한민국\n",
    "\n"
   ]
  },
  {
   "cell_type": "code",
   "execution_count": 126,
   "metadata": {},
   "outputs": [
    {
     "name": "stdout",
     "output_type": "stream",
     "text": [
      "<re.Match object; span=(0, 7), match='100 200'>\n",
      "<re.Match object; span=(0, 7), match='100 200'>\n",
      "<re.Match object; span=(0, 7), match='100 200'>\n",
      "<re.Match object; span=(0, 7), match='100 200'>\n"
     ]
    }
   ],
   "source": [
    "g=re.match(\"[0-9]+ [0-9]+\", \"100 200\")\n",
    "print(g)\n",
    "g=re.match(\"([0-9]+) ([0-9]+)\", \"100 200\")\n",
    "print(g)\n",
    "g=re.match(\"\\d+ \\d+\", \"100 200\")\n",
    "print(g)\n",
    "g=re.match(\"(\\d+) (\\d+)\", \"100 200\")\n",
    "print(g)"
   ]
  },
  {
   "cell_type": "code",
   "execution_count": 131,
   "metadata": {},
   "outputs": [
    {
     "name": "stdout",
     "output_type": "stream",
     "text": [
      "sumPrice\n",
      "50\n"
     ]
    }
   ],
   "source": [
    "#함수에서 '이름', '인수' 추출하는 패턴식\n",
    "#ex)\n",
    "#함수 구문 : sumPrice(50)\n",
    "#함수명 : sumPrice, 인수 : 50\n",
    "\n",
    "#함수명:첫번째 글자는 반드시 소문자로 시작,\n",
    "#두번째 글자부터는 소/대문자,숫자,_ 올수있음\n",
    "\n",
    "#g=re.match(\"(함수명)\\((인수)\\)\",\"sumPrice(50)\")\n",
    "g=re.match(\"(?P<func>[a-z][a-zA-Z0-9_]+)\\((?P<arg>\\w+)\\)\",\"sumPrice(50)\")\n",
    "# re.match(\"정규식\", \"sumPrice(50)\")\n",
    "print(g.group(\"func\")) #sumPrice\n",
    "print(g.group(\"arg\")) #50"
   ]
  },
  {
   "cell_type": "code",
   "execution_count": 132,
   "metadata": {},
   "outputs": [
    {
     "name": "stdout",
     "output_type": "stream",
     "text": [
      "['10', '20', '40']\n"
     ]
    }
   ],
   "source": [
    "print(re.findall(\"[0-9]+\", \"10 20 th 40\"))"
   ]
  },
  {
   "cell_type": "code",
   "execution_count": 134,
   "metadata": {},
   "outputs": [
    {
     "name": "stdout",
     "output_type": "stream",
     "text": [
      "대한민국 좋은 나라 대한민국 대한민국 대한민국\n"
     ]
    }
   ],
   "source": [
    "pat=re.compile(\"우리나라|한국|코리아|대한민국\")\n",
    "pat.sub(\"대한민국\", \"우리나라 좋은 나라 한국 코리아 대한민국\")\n",
    "#우리나라, 한국, 코리아, 대한민국 => 대한민국\n",
    "\n",
    "#re.compile(\"패턴\")\n",
    "#re.sub(\"바꿀문자열\", \"문자열\")\n",
    "#문자열에서 패턴에 매칭되는 부분은 바꿀문자열로 변경\n",
    "\n",
    "#re.sub(\"패턴\",\"바꿀문자열\",\"문자열\") 과 같음\n",
    "\n",
    "print(re.sub(\"우리나라|한국|코리아|대한민국\",\n",
    "             \"대한민국\", \n",
    "             \"우리나라 좋은 나라 한국 코리아 대한민국\"))\n",
    "\n",
    "\n",
    "#sub함수 활용, 그루핑 활용\n",
    "#park 010-1234-5678 => 010-1234-5678 park\n",
    "\n",
    "\n"
   ]
  },
  {
   "cell_type": "code",
   "execution_count": null,
   "metadata": {},
   "outputs": [],
   "source": []
  }
 ],
 "metadata": {
  "kernelspec": {
   "display_name": "Python 3",
   "language": "python",
   "name": "python3"
  },
  "language_info": {
   "codemirror_mode": {
    "name": "ipython",
    "version": 3
   },
   "file_extension": ".py",
   "mimetype": "text/x-python",
   "name": "python",
   "nbconvert_exporter": "python",
   "pygments_lexer": "ipython3",
   "version": "3.7.4"
  }
 },
 "nbformat": 4,
 "nbformat_minor": 2
}
