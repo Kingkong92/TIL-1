{
 "cells": [
  {
   "cell_type": "code",
   "execution_count": 1,
   "metadata": {},
   "outputs": [
    {
     "name": "stdout",
     "output_type": "stream",
     "text": [
      "안녕하세요\n"
     ]
    }
   ],
   "source": [
    "print(\"안녕하세요\")"
   ]
  },
  {
   "cell_type": "code",
   "execution_count": 2,
   "metadata": {
    "scrolled": true
   },
   "outputs": [
    {
     "ename": "NameError",
     "evalue": "name '안녕' is not defined",
     "output_type": "error",
     "traceback": [
      "\u001b[1;31m---------------------------------------------------------------------------\u001b[0m",
      "\u001b[1;31mNameError\u001b[0m                                 Traceback (most recent call last)",
      "\u001b[1;32m<ipython-input-2-d2999925c400>\u001b[0m in \u001b[0;36m<module>\u001b[1;34m\u001b[0m\n\u001b[1;32m----> 1\u001b[1;33m \u001b[0m안녕\u001b[0m\u001b[1;33m\u001b[0m\u001b[1;33m\u001b[0m\u001b[0m\n\u001b[0m",
      "\u001b[1;31mNameError\u001b[0m: name '안녕' is not defined"
     ]
    }
   ],
   "source": [
    "안녕"
   ]
  },
  {
   "cell_type": "code",
   "execution_count": null,
   "metadata": {},
   "outputs": [],
   "source": [
    "\"\"\"\n",
    "숫자 자료형 : 정수, 실수, 복소수\n",
    " 정수, 실수 위주로 학습 \n",
    "\"\"\""
   ]
  },
  {
   "cell_type": "code",
   "execution_count": 7,
   "metadata": {},
   "outputs": [
    {
     "data": {
      "text/plain": [
       "2.0"
      ]
     },
     "execution_count": 7,
     "metadata": {},
     "output_type": "execute_result"
    }
   ],
   "source": [
    "#1+2   #더하기 연산 (주석문 : 비실행문, 코드 부연 설명)\n",
    "#print(1+2)#파이참에서는 print함수를 써야 함.\n",
    "1 / 2 # 정수 / 정수 => 실수(파이썬 3버전)\n",
    "     # 정수 / 정수 => 정수(파이썬2버전)\n",
    "4/2\n"
   ]
  },
  {
   "cell_type": "code",
   "execution_count": 16,
   "metadata": {},
   "outputs": [
    {
     "data": {
      "text/plain": [
       "1.0"
      ]
     },
     "execution_count": 16,
     "metadata": {},
     "output_type": "execute_result"
    }
   ],
   "source": [
    "5/2\n",
    "5//2 #//연산자 : 소수점 이하 버림\n",
    "5.5//2\n",
    "5%3 #5를 3으로 나눈 나머지\n",
    "4//2 # 2\n",
    "4//2.0 # 2.0\n",
    "4.1//2.0 # 2.0\n",
    "4.1//2.5 # 1.0"
   ]
  },
  {
   "cell_type": "code",
   "execution_count": 18,
   "metadata": {},
   "outputs": [
    {
     "data": {
      "text/plain": [
       "1024"
      ]
     },
     "execution_count": 18,
     "metadata": {},
     "output_type": "execute_result"
    }
   ],
   "source": [
    "#숫자 % 2\n",
    "x=97823478942378923487942378932478923417894237894213789234178942138973428974327892341897879234181479232341789\n",
    "y=34879432893248934278934278934287943789423978423789423432789\n",
    "x*y\n",
    "2**10"
   ]
  },
  {
   "cell_type": "code",
   "execution_count": 23,
   "metadata": {},
   "outputs": [
    {
     "data": {
      "text/plain": [
       "9"
      ]
     },
     "execution_count": 23,
     "metadata": {},
     "output_type": "execute_result"
    }
   ],
   "source": [
    "#실수 -> 정수\n",
    "int(3.14)\n",
    "int(5/2)\n",
    "#문자로된 숫자 -> 정수\n",
    "int('9')\n",
    "#int('A') 에러"
   ]
  },
  {
   "cell_type": "code",
   "execution_count": 27,
   "metadata": {},
   "outputs": [
    {
     "data": {
      "text/plain": [
       "(2, 1)"
      ]
     },
     "execution_count": 27,
     "metadata": {},
     "output_type": "execute_result"
    }
   ],
   "source": [
    "type(3.14)\n",
    "type(5)\n",
    "type('a') #str\n",
    "divmod(7,3) #(2, 1)   (몫, 나머지)"
   ]
  },
  {
   "cell_type": "code",
   "execution_count": 35,
   "metadata": {
    "scrolled": true
   },
   "outputs": [
    {
     "data": {
      "text/plain": [
       "1"
      ]
     },
     "execution_count": 35,
     "metadata": {},
     "output_type": "execute_result"
    }
   ],
   "source": [
    "type(divmod(7,3)) #(2,1) 튜플형태로 몫, 나머지\n",
    "\n",
    "#자료(데이터), 자료형(자료 타입, 데이터 타입)\n",
    "x=divmod(7,3)\n",
    "x[0]#튜플 자료에 대한 접근\n",
    "x[1]\n",
    "#x[2] 범위를 벗어났으므로 에러"
   ]
  },
  {
   "cell_type": "code",
   "execution_count": 37,
   "metadata": {},
   "outputs": [],
   "source": [
    "#x=divmod(7,3)\n",
    "\n",
    "a=3 #a는 변수(데이터를 저장하는 장소)\n",
    "a=2\n",
    "a,b=1,2"
   ]
  },
  {
   "cell_type": "code",
   "execution_count": 39,
   "metadata": {},
   "outputs": [
    {
     "data": {
      "text/plain": [
       "2"
      ]
     },
     "execution_count": 39,
     "metadata": {},
     "output_type": "execute_result"
    }
   ],
   "source": [
    "b"
   ]
  },
  {
   "cell_type": "code",
   "execution_count": 45,
   "metadata": {},
   "outputs": [
    {
     "data": {
      "text/plain": [
       "15"
      ]
     },
     "execution_count": 45,
     "metadata": {},
     "output_type": "execute_result"
    }
   ],
   "source": [
    "#참고사항\n",
    "0b111 # 0b : 2진수\n",
    "0o10 # 0o : 8진수\n",
    "0xF #0x : 16진수"
   ]
  },
  {
   "cell_type": "code",
   "execution_count": 50,
   "metadata": {},
   "outputs": [
    {
     "data": {
      "text/plain": [
       "1.5999999999999996"
      ]
     },
     "execution_count": 50,
     "metadata": {},
     "output_type": "execute_result"
    }
   ],
   "source": [
    "4.3-2.7 \n",
    "#1.6이 나와야하지만, 1.5999999가 나오는 이유는 \n",
    "#실수를 표현할때 오차가 있기 때문\n",
    "#오차에 대한 전처리가 필요함."
   ]
  },
  {
   "cell_type": "code",
   "execution_count": 52,
   "metadata": {},
   "outputs": [
    {
     "data": {
      "text/plain": [
       "7.1"
      ]
     },
     "execution_count": 52,
     "metadata": {},
     "output_type": "execute_result"
    }
   ],
   "source": [
    "3+4\n",
    "3+4.1\n",
    "#표현 범위가 넓은쪽으로 계산(실수에 정수가 포함됨)"
   ]
  },
  {
   "cell_type": "code",
   "execution_count": 59,
   "metadata": {},
   "outputs": [
    {
     "name": "stdout",
     "output_type": "stream",
     "text": [
      "9\n",
      "9.1\n",
      "12.1\n",
      "4.0\n"
     ]
    }
   ],
   "source": [
    "#데이터를 실수로 변환\n",
    "print(int('9'))\n",
    "#int('9.1') #실수문자이므로 int 를 적용할 수 없음\n",
    "print(float('9.1'))#실수문자이므로 float\n",
    "print(float('9.1')+3)\n",
    "print(float(1+3))"
   ]
  },
  {
   "cell_type": "code",
   "execution_count": 61,
   "metadata": {},
   "outputs": [
    {
     "data": {
      "text/plain": [
       "1"
      ]
     },
     "execution_count": 61,
     "metadata": {},
     "output_type": "execute_result"
    }
   ],
   "source": [
    "3/2\n",
    "3//2"
   ]
  },
  {
   "cell_type": "code",
   "execution_count": 65,
   "metadata": {},
   "outputs": [
    {
     "data": {
      "text/plain": [
       "False"
      ]
     },
     "execution_count": 65,
     "metadata": {},
     "output_type": "execute_result"
    }
   ],
   "source": [
    "0.1+0.2 == 0.3"
   ]
  },
  {
   "cell_type": "code",
   "execution_count": 66,
   "metadata": {},
   "outputs": [],
   "source": [
    "import math,sys\n"
   ]
  },
  {
   "cell_type": "code",
   "execution_count": 74,
   "metadata": {},
   "outputs": [
    {
     "data": {
      "text/plain": [
       "True"
      ]
     },
     "execution_count": 74,
     "metadata": {},
     "output_type": "execute_result"
    }
   ],
   "source": [
    "x=0.1+0.2\n",
    "#1)\n",
    "math.fabs(x-0.3) <= sys.float_info.epsilon\n",
    "#sys.float_info.epsilon #2 * 10의 -16승\n",
    "\n",
    "#2) 파이썬 3.5~\n",
    "math.isclose(0.1+0.2, 0.3)\n"
   ]
  },
  {
   "cell_type": "code",
   "execution_count": 76,
   "metadata": {
    "scrolled": false
   },
   "outputs": [
    {
     "data": {
      "text/plain": [
       "0.30000000000000004"
      ]
     },
     "execution_count": 76,
     "metadata": {},
     "output_type": "execute_result"
    }
   ],
   "source": [
    "x=0.1+0.2\n",
    "x"
   ]
  },
  {
   "cell_type": "code",
   "execution_count": null,
   "metadata": {},
   "outputs": [],
   "source": []
  },
  {
   "cell_type": "code",
   "execution_count": null,
   "metadata": {},
   "outputs": [],
   "source": []
  },
  {
   "cell_type": "code",
   "execution_count": null,
   "metadata": {},
   "outputs": [],
   "source": []
  },
  {
   "cell_type": "code",
   "execution_count": null,
   "metadata": {},
   "outputs": [],
   "source": []
  },
  {
   "cell_type": "code",
   "execution_count": 92,
   "metadata": {},
   "outputs": [
    {
     "name": "stdout",
     "output_type": "stream",
     "text": [
      "you\n",
      "need\n",
      "python\n"
     ]
    }
   ],
   "source": [
    "x='a'\n",
    "x=\"a\"\n",
    "x\n",
    "x=\"\"\"\n",
    "test test2 test3\n",
    "\"\"\"\n",
    "x\n",
    "x=\"Python's favorite food is egg\"\n",
    "x\n",
    "x='Python\"s favorite food is egg'\n",
    "x\n",
    "\n",
    "say='\"Python is very easy.\" he says.'\n",
    "say=\"\\\"Python is very easy.\\\" he says.\"\n",
    "say\n",
    "\n",
    "x=\"you need python\"\n",
    "x=\"you\\nneed\\npython\"\n",
    "print(x)"
   ]
  },
  {
   "cell_type": "code",
   "execution_count": 96,
   "metadata": {},
   "outputs": [
    {
     "name": "stdout",
     "output_type": "stream",
     "text": [
      "PythonPython\n",
      "--------------------------------------------------\n"
     ]
    }
   ],
   "source": [
    "x=\"Python\"\n",
    "y=\" is easy\"\n",
    "x+y\n",
    "print(x*2)\n",
    "print(\"-\"*50)"
   ]
  },
  {
   "cell_type": "code",
   "execution_count": 97,
   "metadata": {},
   "outputs": [
    {
     "data": {
      "text/plain": [
       "19"
      ]
     },
     "execution_count": 97,
     "metadata": {},
     "output_type": "execute_result"
    }
   ],
   "source": [
    "x=\"My leg is too short\"\n",
    "len(x)  #( ) : 함수, len:함수이름\n",
    "#len함수 기능:함수에 전달된 값의 길이를 구함\n",
    "\n",
    "#함수:내장함수(파이썬), 외장함수\n",
    "#패키지(폴더):함수(파일) 또는 패키지 들의 묶음\n",
    "#외장함수는 패키지에 저장되어 있으므로, 사용하기 위해서는\n",
    "#사전에 가져와야 함(import 패키지이름)\n"
   ]
  },
  {
   "cell_type": "code",
   "execution_count": 98,
   "metadata": {},
   "outputs": [],
   "source": [
    "#인덱싱(영역 참조), 슬라이싱(영역 잘라냄)"
   ]
  },
  {
   "cell_type": "code",
   "execution_count": 114,
   "metadata": {},
   "outputs": [
    {
     "data": {
      "text/plain": [
       "'Python is '"
      ]
     },
     "execution_count": 114,
     "metadata": {},
     "output_type": "execute_result"
    }
   ],
   "source": [
    "#인덱싱시 번호가 0번부터 시작\n",
    "x=\"Python is easy, you need python\"\n",
    "x[0]\n",
    "x[29] #29번 index 문자\n",
    "x[-1] #맨 뒤에 있는 문자\n",
    "x[-2] #맨 뒤에서 두번째 있는 문자\n",
    "x[5:] #n부터 마지막 문자까지  \n",
    "x[0:30] #0부터 29까지 참조     [시작위치:끝위치-1]\n",
    "\n",
    "#easy 단어 인덱싱\n",
    "#x[10:14]\n",
    "#x[10]+x[11]+x[12]+x[13]\n",
    "\n",
    "\n",
    "x[:10] #0~9번 index"
   ]
  },
  {
   "cell_type": "code",
   "execution_count": 115,
   "metadata": {},
   "outputs": [],
   "source": [
    "a=\"Karea\" #a -> o"
   ]
  },
  {
   "cell_type": "code",
   "execution_count": 123,
   "metadata": {},
   "outputs": [
    {
     "data": {
      "text/plain": [
       "'Korea'"
      ]
     },
     "execution_count": 123,
     "metadata": {},
     "output_type": "execute_result"
    }
   ],
   "source": [
    "# a[1]='o' a에 저장된 문자열의 특정 문자에 대한 변경시 오류가 발생\n",
    "#슬라이싱 방법으로 변경 가능\n",
    "a=a[0]+'o'+a[2:]\n",
    "a"
   ]
  },
  {
   "cell_type": "code",
   "execution_count": null,
   "metadata": {},
   "outputs": [],
   "source": []
  },
  {
   "cell_type": "code",
   "execution_count": null,
   "metadata": {},
   "outputs": [],
   "source": []
  },
  {
   "cell_type": "code",
   "execution_count": null,
   "metadata": {},
   "outputs": [],
   "source": []
  }
 ],
 "metadata": {
  "kernelspec": {
   "display_name": "Python 3",
   "language": "python",
   "name": "python3"
  },
  "language_info": {
   "codemirror_mode": {
    "name": "ipython",
    "version": 3
   },
   "file_extension": ".py",
   "mimetype": "text/x-python",
   "name": "python",
   "nbconvert_exporter": "python",
   "pygments_lexer": "ipython3",
   "version": "3.7.4"
  }
 },
 "nbformat": 4,
 "nbformat_minor": 2
}
