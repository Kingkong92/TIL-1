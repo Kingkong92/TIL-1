{
 "cells": [
  {
   "cell_type": "code",
   "execution_count": 1,
   "metadata": {},
   "outputs": [
    {
     "data": {
      "text/plain": [
       "'\\n전처리:결측치, 표준화/정규화\\n정규화:각 국어점수-최소/국어점수의 최대-최소\\n=>0~1\\n표준화:평균-0, 표준편차-1\\n각 국어점수-평균 / 국어점수 표준편차\\n원핫인코딩:100000, 010000, 001000,...\\n             A       B       C     D   E  F\\n문장 추출 -> 단어(5개) 추출 -> 원핫인코딩\\n국어10000\\n영어01000\\n수학00100\\n과학00010\\n윤리00001\\n\\n문장 추출 -> 단어(5개) 추출 -> 밀집벡터(워드2벡터)\\n국어 [0.2, 0.7]\\n수학 [0.1, 0.3]\\n...\\n             \\n             \\n'"
      ]
     },
     "execution_count": 1,
     "metadata": {},
     "output_type": "execute_result"
    }
   ],
   "source": [
    "#numpy(전처리), pandas(분석) 병행\n",
    "#matplotlib, seaborn 시각화\n",
    "\"\"\"\n",
    "전처리:결측치, 표준화/정규화\n",
    "정규화:각 국어점수-최소/국어점수의 최대-최소\n",
    "=>0~1\n",
    "표준화:평균-0, 표준편차-1\n",
    "각 국어점수-평균 / 국어점수 표준편차\n",
    "원핫인코딩:100000, 010000, 001000,...\n",
    "             A       B       C     D   E  F\n",
    "문장 추출 -> 단어(5개) 추출 -> 원핫인코딩\n",
    "국어10000\n",
    "영어01000\n",
    "수학00100\n",
    "과학00010\n",
    "윤리00001\n",
    "\n",
    "문장 추출 -> 단어(5개) 추출 -> 밀집벡터(워드2벡터)\n",
    "국어 [0.2, 0.7]\n",
    "수학 [0.1, 0.3]\n",
    "...\n",
    "             \n",
    "             \n",
    "\"\"\""
   ]
  },
  {
   "cell_type": "code",
   "execution_count": null,
   "metadata": {},
   "outputs": [],
   "source": []
  },
  {
   "cell_type": "code",
   "execution_count": 2,
   "metadata": {},
   "outputs": [
    {
     "data": {
      "text/plain": [
       "'\\n1. \\n리스트:속도느림, 메모리 많이 차지\\n배열(array):속도빠름, 메모리 적게 차지\\n\\n2.\\n넘파이 배열과 리스트의 차이점\\n-배열은 모두 같은 자료형,원소 개수 변경 못함\\n-배열은 파이썬에서 제공하지 않음\\n-파이썬 환경에서 넘파이 패키지를 활용하여\\n배열을 사용할 수 있음\\n\\n3. 넘파이? 수치해석 패키지, 다차원 배열 구조\\n벡터, 행렬을 사용하는 선행대수 계산시 사용\\n넘파이 배열 연산 빠름(벡터화 연산)\\n\\n'"
      ]
     },
     "execution_count": 2,
     "metadata": {},
     "output_type": "execute_result"
    }
   ],
   "source": [
    "\"\"\"\n",
    "1. \n",
    "리스트:속도느림, 메모리 많이 차지\n",
    "배열(array):속도빠름, 메모리 적게 차지\n",
    "\n",
    "2.\n",
    "넘파이 배열과 리스트의 차이점\n",
    "-배열은 모두 같은 자료형,원소 개수 변경 못함\n",
    "-배열은 파이썬에서 제공하지 않음\n",
    "-파이썬 환경에서 넘파이 패키지를 활용하여\n",
    "배열을 사용할 수 있음\n",
    "\n",
    "3. 넘파이? 수치해석 패키지, 다차원 배열 구조\n",
    "벡터, 행렬을 사용하는 선행대수 계산시 사용\n",
    "넘파이 배열 연산 빠름(벡터화 연산)\n",
    "\n",
    "\"\"\""
   ]
  },
  {
   "cell_type": "code",
   "execution_count": 3,
   "metadata": {},
   "outputs": [
    {
     "data": {
      "text/plain": [
       "numpy.ndarray"
      ]
     },
     "execution_count": 3,
     "metadata": {},
     "output_type": "execute_result"
    }
   ],
   "source": [
    "#1차원 배열\n",
    "import numpy\n",
    "ar=numpy.array([0,1,2,3,4])\n",
    "ar\n",
    "type(ar)"
   ]
  },
  {
   "cell_type": "code",
   "execution_count": 4,
   "metadata": {},
   "outputs": [],
   "source": [
    "# 100*100 크기의 이미지(픽셀:10000 개)\n",
    "# 0~255사이의 gray scale\n",
    "# => 몇 차원?"
   ]
  },
  {
   "cell_type": "code",
   "execution_count": 9,
   "metadata": {},
   "outputs": [
    {
     "name": "stdout",
     "output_type": "stream",
     "text": [
      "5050.0\n"
     ]
    }
   ],
   "source": [
    "data=list(range(1,101))\n",
    "#data에 저장된 모든 값들에 대해 2배\n",
    "# sum=0\n",
    "# d=100\n",
    "# print(d*(d+1)/2)   #O(1)\n",
    "\n",
    "# for d in data:\n",
    "#     sum+=d  #  O(n)\n",
    "# print(sum)\n",
    "\n",
    "#시간복잡도(CPU)\n",
    "#연산 결과가 나오기까지 수행되는 라인의 수\n",
    "#공간 복잡도(MEMORY)\n"
   ]
  },
  {
   "cell_type": "code",
   "execution_count": 12,
   "metadata": {},
   "outputs": [
    {
     "name": "stdout",
     "output_type": "stream",
     "text": [
      "[2, 4, 6, 8, 10, 12, 14, 16, 18, 20]\n"
     ]
    }
   ],
   "source": [
    "ans=[]\n",
    "data=list(range(1,11))\n",
    "for d in data:\n",
    "    ans.append(d*2)\n",
    "print(ans)"
   ]
  },
  {
   "cell_type": "code",
   "execution_count": 3,
   "metadata": {},
   "outputs": [],
   "source": [
    "import numpy as np\n",
    "# x=np.array(data)\n",
    "# x*2 #벡터화 연산:\n",
    "# #data*2"
   ]
  },
  {
   "cell_type": "code",
   "execution_count": 6,
   "metadata": {},
   "outputs": [],
   "source": [
    "a=np.array([1,2,3])\n",
    "#          [2,2,2]  요소간 연산:element wise ~\n",
    "b=np.array([4,5,6])\n",
    "a2=[1,2,3]\n",
    "b2=[4,5,6]"
   ]
  },
  {
   "cell_type": "code",
   "execution_count": 10,
   "metadata": {},
   "outputs": [
    {
     "data": {
      "text/plain": [
       "array([ 6,  9, 12])"
      ]
     },
     "execution_count": 10,
     "metadata": {},
     "output_type": "execute_result"
    }
   ],
   "source": [
    "2*a2+b2 #[1, 2, 3, 1, 2, 3, 4, 5, 6]\n",
    "2*a+b #벡터화 연산"
   ]
  },
  {
   "cell_type": "code",
   "execution_count": 16,
   "metadata": {},
   "outputs": [
    {
     "data": {
      "text/plain": [
       "array([False, False,  True])"
      ]
     },
     "execution_count": 16,
     "metadata": {},
     "output_type": "execute_result"
    }
   ],
   "source": [
    "#a\n",
    "a2==2\n",
    "a==2 #논리연산\n",
    "\n",
    "a>2#비교연산"
   ]
  },
  {
   "cell_type": "code",
   "execution_count": 17,
   "metadata": {},
   "outputs": [],
   "source": [
    "#2차원 배열(행렬, matrix)\n",
    "#가로줄:행, 세로줄:열"
   ]
  },
  {
   "cell_type": "code",
   "execution_count": 28,
   "metadata": {},
   "outputs": [
    {
     "data": {
      "text/plain": [
       "3"
      ]
     },
     "execution_count": 28,
     "metadata": {},
     "output_type": "execute_result"
    }
   ],
   "source": [
    "#2차원배열:리스트의 리스트\n",
    "m=np.array([[0,1,2],[3,4,5]])\n",
    "m\n",
    "#열 : 안쪽 리스트 길이, 가로 크기\n",
    "#행 : 바깥쪽 리스트 길이, 세로 크기\n",
    "#2행 3열\n",
    "# 0 1 2 \n",
    "# 3 4 5\n",
    "len(m)  #행의 개수\n",
    "len(m[0]) #열의 개수"
   ]
  },
  {
   "cell_type": "code",
   "execution_count": 38,
   "metadata": {},
   "outputs": [
    {
     "name": "stdout",
     "output_type": "stream",
     "text": [
      "3\n",
      "(2, 3, 4)\n"
     ]
    }
   ],
   "source": [
    "#3차원 배열:리스트의 리스트의 리스트\n",
    "m=np.array([[[1,2,3,4],\n",
    "          [5,6,7,8],\n",
    "          [9,10,11,12]],\n",
    "        [[31,2,3,4],\n",
    "          [35,6,7,8],\n",
    "          [39,10,11,12]]])\n",
    "#2행 3열 4깊이(면)\n",
    "#2*3*4\n",
    "len(m)\n",
    "len(m[0])\n",
    "len(m[0][0])\n",
    "\n",
    "print(m.ndim)\n",
    "print(m.shape)\n"
   ]
  },
  {
   "cell_type": "code",
   "execution_count": 33,
   "metadata": {},
   "outputs": [
    {
     "data": {
      "text/plain": [
       "(3,)"
      ]
     },
     "execution_count": 33,
     "metadata": {},
     "output_type": "execute_result"
    }
   ],
   "source": [
    "a=np.array([4,5,6])\n",
    "a.ndim #배열의 차원\n",
    "a.shape #배열의 크기"
   ]
  },
  {
   "cell_type": "code",
   "execution_count": 36,
   "metadata": {},
   "outputs": [
    {
     "data": {
      "text/plain": [
       "(2, 3)"
      ]
     },
     "execution_count": 36,
     "metadata": {},
     "output_type": "execute_result"
    }
   ],
   "source": [
    "m=np.array([[0,1,2],[3,4,5]])\n",
    "m.ndim\n",
    "\n",
    "m.shape #2행 3열"
   ]
  },
  {
   "cell_type": "code",
   "execution_count": 39,
   "metadata": {},
   "outputs": [],
   "source": [
    "#1.\n",
    "# [3,2,1,-4,-,7, -9, 8, -5, 3, -1]\n",
    "# 연속으로 숫자 3개를 곱했을때 얻어진 결과값이\n",
    "# 가장 큰 구간이 어디인지 출력\n",
    "# #2.\n",
    "# #2*2의 영역을 구성하는 수를 곱했을때 얻어진 \n",
    "# # 결과값이 가장 큰 구간이 어디인지 출력\n",
    "# [[3, 1, -2],\n",
    "#  [2, 1, -3],\n",
    "#  [-2,0, -7]]"
   ]
  },
  {
   "cell_type": "code",
   "execution_count": 48,
   "metadata": {},
   "outputs": [
    {
     "data": {
      "text/plain": [
       "array([[1, 2],\n",
       "       [5, 6]])"
      ]
     },
     "execution_count": 48,
     "metadata": {},
     "output_type": "execute_result"
    }
   ],
   "source": [
    "#array slicing\n",
    "ar=np.array([[1,2,3,4], [5,6,7,8]])\n",
    "ar\n",
    "ar[0]\n",
    "ar[0,:]#첫번째 행 전체\n",
    "ar[:,1]#두번째 열 전체\n",
    "\n",
    "ar[1,1:]#두번째 행에서 두번째 열부터 마지막까지\n",
    "\n",
    "ar[:,0:2]\n",
    "ar[:,:2]\n",
    "ar[:2,:2]"
   ]
  },
  {
   "cell_type": "code",
   "execution_count": 64,
   "metadata": {
    "scrolled": true
   },
   "outputs": [
    {
     "data": {
      "text/plain": [
       "6"
      ]
     },
     "execution_count": 64,
     "metadata": {},
     "output_type": "execute_result"
    }
   ],
   "source": [
    "#indexing:데이터 1개를 참조\n",
    "ar=np.array([0,1,2])\n",
    "ar[1]\n",
    "ar[-1]\n",
    "\n",
    "ar=np.array([[1,2,3,4], [5,6,7,8]])\n",
    "ar[0][0]\n",
    "ar[0,0]#다차원 배열에서는 컴마로 접근\n",
    "ar[0,1]#2\n",
    "\n",
    "#6을 추출, 두번째 행의 두번째 열\n",
    "ar[1][1] \n",
    "ar[1,1]\n",
    "ar[-1][1]\n",
    "ar[-1,1]\n",
    "ar[-1,-3]\n",
    "ar[-1][-3]"
   ]
  },
  {
   "cell_type": "code",
   "execution_count": 73,
   "metadata": {},
   "outputs": [
    {
     "data": {
      "text/plain": [
       "array([4, 5])"
      ]
     },
     "execution_count": 73,
     "metadata": {},
     "output_type": "execute_result"
    }
   ],
   "source": [
    "#불린 참조:조건에 대해 만족하는 값을 추출\n",
    "ar=np.array([2,3,4,5])\n",
    "bidx=np.array([True, True, False, True])\n",
    "ar[bidx]\n",
    "ar[ar != 4]\n",
    "#ar 요소값이 짝수인 것들만 추출\n",
    "ar[ar % 2 == 0]\n",
    "\n",
    "#ar 요소값이 3보다 큰 값들만 추출\n",
    "ar[ar > 3]\n",
    "\n",
    "\n",
    "\n"
   ]
  },
  {
   "cell_type": "code",
   "execution_count": 75,
   "metadata": {},
   "outputs": [
    {
     "data": {
      "text/plain": [
       "array([2, 2, 3, 3])"
      ]
     },
     "execution_count": 75,
     "metadata": {},
     "output_type": "execute_result"
    }
   ],
   "source": [
    "#정수 참조 추출\n",
    "ar=np.array([2,3,4,5])\n",
    "idx=np.array([0,3])\n",
    "ar[idx]\n",
    "\n",
    "idx=np.array([0,0,1,1])\n",
    "ar[idx]"
   ]
  },
  {
   "cell_type": "code",
   "execution_count": 79,
   "metadata": {},
   "outputs": [
    {
     "data": {
      "text/plain": [
       "array([[1, 4],\n",
       "       [5, 8]])"
      ]
     },
     "execution_count": 79,
     "metadata": {},
     "output_type": "execute_result"
    }
   ],
   "source": [
    "ar=np.array([[1,2,3,4], [5,6,7,8]])\n",
    "ar[:,[0,3]]\n",
    "#[[1,4],\n",
    "# [5,8]]\n",
    "ar[:,[True,False, False, True]]"
   ]
  },
  {
   "cell_type": "code",
   "execution_count": 90,
   "metadata": {},
   "outputs": [
    {
     "data": {
      "text/plain": [
       "array([[25, 26, 27, 28],\n",
       "       [ 1,  2,  3,  4],\n",
       "       [35, 36, 37, 38]])"
      ]
     },
     "execution_count": 90,
     "metadata": {},
     "output_type": "execute_result"
    }
   ],
   "source": [
    "ar=np.array([[1,2,3,4], \n",
    "             [15,16,17,18],\n",
    "             [25,26,27,28],\n",
    "             [35,36,37,38]])\n",
    "ar[[2,0,-1],:]\n",
    "# ar[:] #ar 전체 행\n",
    "# ar #ar 배열 전체\n",
    "# ar[:,:] #전체 행 전체 열"
   ]
  },
  {
   "cell_type": "code",
   "execution_count": null,
   "metadata": {},
   "outputs": [],
   "source": [
    "#원데이터 : csv, tsv, txt, xls, xlsx, json, xml...\n",
    "#Pandas : 원데이터를 데이터프레임(엑셀 시트)으로 읽어서 분석\n",
    "#Numpy : 원데이터를 다차원배열으로 읽어서 처리"
   ]
  },
  {
   "cell_type": "code",
   "execution_count": 92,
   "metadata": {
    "scrolled": true
   },
   "outputs": [
    {
     "data": {
      "text/plain": [
       "pandas.core.frame.DataFrame"
      ]
     },
     "execution_count": 92,
     "metadata": {},
     "output_type": "execute_result"
    }
   ],
   "source": [
    "import pandas as pd\n",
    "csvTest=pd.read_csv(\"test_csv.csv\")\n",
    "#csvTest\n",
    "type(csvTest)"
   ]
  },
  {
   "cell_type": "code",
   "execution_count": 96,
   "metadata": {},
   "outputs": [
    {
     "data": {
      "text/plain": [
       "3"
      ]
     },
     "execution_count": 96,
     "metadata": {},
     "output_type": "execute_result"
    }
   ],
   "source": [
    "#http://pandas.pydata.org/\n",
    "csvTest.shape[1]   #    (5, 3)  : 튜플\n"
   ]
  },
  {
   "cell_type": "code",
   "execution_count": 103,
   "metadata": {},
   "outputs": [
    {
     "data": {
      "text/html": [
       "<div>\n",
       "<style scoped>\n",
       "    .dataframe tbody tr th:only-of-type {\n",
       "        vertical-align: middle;\n",
       "    }\n",
       "\n",
       "    .dataframe tbody tr th {\n",
       "        vertical-align: top;\n",
       "    }\n",
       "\n",
       "    .dataframe thead th {\n",
       "        text-align: right;\n",
       "    }\n",
       "</style>\n",
       "<table border=\"1\" class=\"dataframe\">\n",
       "  <thead>\n",
       "    <tr style=\"text-align: right;\">\n",
       "      <th></th>\n",
       "      <th>ID</th>\n",
       "      <th>LAST_NAME</th>\n",
       "      <th>AGE</th>\n",
       "    </tr>\n",
       "  </thead>\n",
       "  <tbody>\n",
       "    <tr>\n",
       "      <td>0</td>\n",
       "      <td>1</td>\n",
       "      <td>KIM</td>\n",
       "      <td>25</td>\n",
       "    </tr>\n",
       "    <tr>\n",
       "      <td>1</td>\n",
       "      <td>2</td>\n",
       "      <td>LEE</td>\n",
       "      <td>22</td>\n",
       "    </tr>\n",
       "    <tr>\n",
       "      <td>2</td>\n",
       "      <td>3</td>\n",
       "      <td>PARK</td>\n",
       "      <td>33</td>\n",
       "    </tr>\n",
       "    <tr>\n",
       "      <td>3</td>\n",
       "      <td>4</td>\n",
       "      <td>CHOI</td>\n",
       "      <td>24</td>\n",
       "    </tr>\n",
       "    <tr>\n",
       "      <td>4</td>\n",
       "      <td>5</td>\n",
       "      <td>CHO</td>\n",
       "      <td>30</td>\n",
       "    </tr>\n",
       "  </tbody>\n",
       "</table>\n",
       "</div>"
      ],
      "text/plain": [
       "   ID LAST_NAME  AGE\n",
       "0   1       KIM   25\n",
       "1   2       LEE   22\n",
       "2   3      PARK   33\n",
       "3   4      CHOI   24\n",
       "4   5       CHO   30"
      ]
     },
     "execution_count": 103,
     "metadata": {},
     "output_type": "execute_result"
    }
   ],
   "source": [
    "# test_text.txt\n",
    "# 구분자 : |\n",
    "text=pd.read_csv(\"test_text.txt\", sep=\"|\")\n",
    "text\n",
    "#text.shape # (5,1)"
   ]
  },
  {
   "cell_type": "code",
   "execution_count": null,
   "metadata": {},
   "outputs": [],
   "source": []
  }
 ],
 "metadata": {
  "kernelspec": {
   "display_name": "Python 3",
   "language": "python",
   "name": "python3"
  },
  "language_info": {
   "codemirror_mode": {
    "name": "ipython",
    "version": 3
   },
   "file_extension": ".py",
   "mimetype": "text/x-python",
   "name": "python",
   "nbconvert_exporter": "python",
   "pygments_lexer": "ipython3",
   "version": "3.7.4"
  }
 },
 "nbformat": 4,
 "nbformat_minor": 2
}
