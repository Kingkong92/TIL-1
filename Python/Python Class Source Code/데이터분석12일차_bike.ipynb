{
 "cells": [
  {
   "cell_type": "code",
   "execution_count": 1,
   "metadata": {},
   "outputs": [],
   "source": [
    "#배열 축 추가:np.newaxis, np.tile()\n",
    "import numpy as np"
   ]
  },
  {
   "cell_type": "code",
   "execution_count": 3,
   "metadata": {},
   "outputs": [
    {
     "data": {
      "text/plain": [
       "(4,)"
      ]
     },
     "execution_count": 3,
     "metadata": {},
     "output_type": "execute_result"
    }
   ],
   "source": [
    "a=np.array([1,2,3,4])\n",
    "a\n",
    "a.shape"
   ]
  },
  {
   "cell_type": "code",
   "execution_count": 6,
   "metadata": {},
   "outputs": [
    {
     "data": {
      "text/plain": [
       "(1, 4)"
      ]
     },
     "execution_count": 6,
     "metadata": {},
     "output_type": "execute_result"
    }
   ],
   "source": [
    "a41=a[np.newaxis,:]\n",
    "a41.shape"
   ]
  },
  {
   "cell_type": "code",
   "execution_count": 11,
   "metadata": {},
   "outputs": [
    {
     "data": {
      "text/plain": [
       "(3, 1, 5)"
      ]
     },
     "execution_count": 11,
     "metadata": {},
     "output_type": "execute_result"
    }
   ],
   "source": [
    "b=np.arange(15).reshape(3,5)\n",
    "b\n",
    "b351=b[:,:,np.newaxis]\n",
    "b351.shape\n",
    "\n",
    "b315=b[:,np.newaxis,:]\n",
    "b315.shape"
   ]
  },
  {
   "cell_type": "code",
   "execution_count": 16,
   "metadata": {},
   "outputs": [
    {
     "data": {
      "text/plain": [
       "array([[0, 1, 2, 3],\n",
       "       [4, 5, 6, 7],\n",
       "       [0, 1, 2, 3],\n",
       "       [4, 5, 6, 7]])"
      ]
     },
     "execution_count": 16,
     "metadata": {},
     "output_type": "execute_result"
    }
   ],
   "source": [
    "a=np.array([0,1,2,3])\n",
    "a8=np.tile(a,2)\n",
    "a8\n",
    "\n",
    "a32=np.tile(a,(3,2))\n",
    "a32\n",
    "\n",
    "b=np.arange(8).reshape(2,4)\n",
    "b28=np.tile(b,2)\n",
    "b28\n",
    "\n",
    "b44=np.tile(b,(2,1))\n",
    "b44"
   ]
  },
  {
   "cell_type": "code",
   "execution_count": 19,
   "metadata": {},
   "outputs": [
    {
     "data": {
      "text/plain": [
       "array([[ 0,  5, 10],\n",
       "       [ 1,  6, 11],\n",
       "       [ 2,  7, 12],\n",
       "       [ 3,  8, 13],\n",
       "       [ 4,  9, 14]])"
      ]
     },
     "execution_count": 19,
     "metadata": {},
     "output_type": "execute_result"
    }
   ],
   "source": [
    "#행렬의 내적 : aT * a\n",
    "a=np.arange(15).reshape(3,5)\n",
    "a.T\n",
    "np.transpose(a)"
   ]
  },
  {
   "cell_type": "code",
   "execution_count": 23,
   "metadata": {},
   "outputs": [
    {
     "data": {
      "text/plain": [
       "array([ 0, 10, 10,  3,  4,  5,  6,  7,  8,  9])"
      ]
     },
     "execution_count": 23,
     "metadata": {},
     "output_type": "execute_result"
    }
   ],
   "source": [
    "a=np.arange(10)\n",
    "a\n",
    "ai=a[0:5]\n",
    "ai[1:3]=10\n",
    "ai\n",
    "a"
   ]
  },
  {
   "cell_type": "code",
   "execution_count": 24,
   "metadata": {},
   "outputs": [],
   "source": [
    "# df1(전반기)\n",
    "# df2(하반기)\n",
    "# df3=pd.concat([df1,df2])\n",
    "# pd.concat([df3, pd.DataFrame({\"매출\":df3['매출'].sum,... })], index=[\"총실적\"])"
   ]
  },
  {
   "cell_type": "code",
   "execution_count": null,
   "metadata": {},
   "outputs": [],
   "source": []
  },
  {
   "cell_type": "code",
   "execution_count": null,
   "metadata": {},
   "outputs": [],
   "source": []
  },
  {
   "cell_type": "code",
   "execution_count": 26,
   "metadata": {},
   "outputs": [],
   "source": [
    "arr=np.arange(20).reshape(5,4)\n",
    "arr\n",
    "abc=np.array(['a','a','b','c','c'])"
   ]
  },
  {
   "cell_type": "code",
   "execution_count": 46,
   "metadata": {},
   "outputs": [],
   "source": [
    "arr[abc=='a']\n",
    "arr[abc=='a',:]\n",
    "\n",
    "arr[abc=='a',:2]\n",
    "arr[abc=='a',2]\n",
    "\n",
    "arr[abc!='a']\n",
    "arr[~(abc=='a')]\n",
    "\n",
    "arr[(abc==\"a\") | (abc==\"b\")]\n",
    "\n",
    "arr[(abc!=\"a\") & (abc!=\"b\")]\n",
    "\n",
    "# arr에서 abc배열을 이용하여 'a'와 같은 행은\n",
    "# 모두 99로 변경(불린 참조)\n",
    "arr[abc=='a']=99"
   ]
  },
  {
   "cell_type": "code",
   "execution_count": 47,
   "metadata": {},
   "outputs": [
    {
     "data": {
      "text/plain": [
       "array([[99, 99, 99, 99],\n",
       "       [99, 99, 99, 99],\n",
       "       [ 8,  9, 10, 11],\n",
       "       [12, 13, 14, 15],\n",
       "       [16, 17, 18, 19]])"
      ]
     },
     "execution_count": 47,
     "metadata": {},
     "output_type": "execute_result"
    }
   ],
   "source": [
    "arr"
   ]
  },
  {
   "cell_type": "code",
   "execution_count": 50,
   "metadata": {},
   "outputs": [],
   "source": [
    "#arr배열에서 20보다 큰 값은 모두 0으로 변경\n",
    "arr[arr>=20]=0"
   ]
  },
  {
   "cell_type": "code",
   "execution_count": 61,
   "metadata": {},
   "outputs": [
    {
     "data": {
      "text/plain": [
       "array([ 8,  9, 10, 11, 12, 13, 14, 15])"
      ]
     },
     "execution_count": 61,
     "metadata": {},
     "output_type": "execute_result"
    }
   ],
   "source": [
    "arr\n",
    "#arr배열에서 8이상 15이하의 값은 모두 10으로 변경\n",
    "\n",
    "#arr[8<=arr<=15] #valueError\n",
    "#arr[8<=arr & arr<=15] #valueError\n",
    "arr[(8<=arr) & (arr<=15)]"
   ]
  },
  {
   "cell_type": "code",
   "execution_count": 71,
   "metadata": {},
   "outputs": [
    {
     "data": {
      "text/plain": [
       "array([-3., -2.,  0.,  1.,  3.,  4.])"
      ]
     },
     "execution_count": 71,
     "metadata": {},
     "output_type": "execute_result"
    }
   ],
   "source": [
    "a=np.array([-3.5, -2.2, 0, 1.6, 3.14, 4.05])\n",
    "np.around(a) #0.5기준 내림 혹은 올림\n",
    "np.round_(a,1) #소수이하 첫째짜리\n",
    "np.rint(a) #가까운 정수로 올림 또는 내림\n",
    "np.fix(a) #0 방향으로 가까운 정수로 올림 또는 내림\n",
    "np.ceil(a) #값보다 크거나 같은 가장 \n",
    "#작은 정수값으로 올림\n",
    "np.floor(a)#값보다 작거나 같은 가장 \n",
    "#큰 정수값으로 내림\n",
    "np.trunc(a) #소수 이하 버림"
   ]
  },
  {
   "cell_type": "code",
   "execution_count": 74,
   "metadata": {},
   "outputs": [],
   "source": [
    "a=np.array([1,2,3,4])\n",
    "c=np.arange(1,5).reshape(2,2)"
   ]
  },
  {
   "cell_type": "code",
   "execution_count": 79,
   "metadata": {},
   "outputs": [
    {
     "data": {
      "text/plain": [
       "array([ 2, 12])"
      ]
     },
     "execution_count": 79,
     "metadata": {},
     "output_type": "execute_result"
    }
   ],
   "source": [
    "#배열 요소값 곱셈\n",
    "np.prod(c) #24\n",
    "np.prod(c, axis=0)\n",
    "np.prod(c, axis=1)"
   ]
  },
  {
   "cell_type": "code",
   "execution_count": 86,
   "metadata": {},
   "outputs": [
    {
     "data": {
      "text/plain": [
       "array([3, 7])"
      ]
     },
     "execution_count": 86,
     "metadata": {},
     "output_type": "execute_result"
    }
   ],
   "source": [
    "np.sum(a) #0차원, 스칼라\n",
    "a\n",
    "np.sum(a, keepdims=True)\n",
    "np.sum(c,axis=0)\n",
    "np.sum(c,axis=1)"
   ]
  },
  {
   "cell_type": "code",
   "execution_count": 92,
   "metadata": {},
   "outputs": [
    {
     "data": {
      "text/plain": [
       "array([3., 2.])"
      ]
     },
     "execution_count": 92,
     "metadata": {},
     "output_type": "execute_result"
    }
   ],
   "source": [
    "d=np.array([[1,2], [3,np.nan]])\n",
    "d\n",
    "np.prod(d)\n",
    "np.prod(d,axis=0)\n",
    "np.prod(d,axis=1)\n",
    "\n",
    "#np.nanprod:곱셈할때 nan을 1로 간주해서 곱셈\n",
    "np.nanprod(d, axis=0)\n"
   ]
  },
  {
   "cell_type": "code",
   "execution_count": 95,
   "metadata": {},
   "outputs": [
    {
     "data": {
      "text/plain": [
       "6.0"
      ]
     },
     "execution_count": 95,
     "metadata": {},
     "output_type": "execute_result"
    }
   ],
   "source": [
    "d\n",
    "np.sum(d)\n",
    "np.nansum(d)#nan은 0으로 취급"
   ]
  },
  {
   "cell_type": "code",
   "execution_count": 100,
   "metadata": {},
   "outputs": [
    {
     "data": {
      "text/plain": [
       "array([[ 1,  2,  3],\n",
       "       [ 4, 10, 18]], dtype=int32)"
      ]
     },
     "execution_count": 100,
     "metadata": {},
     "output_type": "execute_result"
    }
   ],
   "source": [
    "a\n",
    "b=np.arange(1,7).reshape(2,3)\n",
    "b\n",
    "np.cumprod(a)\n",
    "np.cumprod(b)\n",
    "np.cumprod(b,axis=0)"
   ]
  },
  {
   "cell_type": "code",
   "execution_count": 102,
   "metadata": {},
   "outputs": [
    {
     "data": {
      "text/plain": [
       "array([-11.51292546,   0.        ,   0.69314718,   2.30258509])"
      ]
     },
     "execution_count": 102,
     "metadata": {},
     "output_type": "execute_result"
    }
   ],
   "source": [
    "#자연상수e, y=logx or y=ln(x)\n",
    "#지수함수 : np.exp(), \n",
    "#밑이 자연상수 e인 지수함수로 변환\n",
    "\n",
    "x=np.array([0.00001, 1, 2, 10])\n",
    "np.exp(x)\n",
    "\n",
    "np.log(x)\n",
    "np.log10(x)\n",
    "np.log2(x)"
   ]
  },
  {
   "cell_type": "code",
   "execution_count": null,
   "metadata": {},
   "outputs": [],
   "source": []
  }
 ],
 "metadata": {
  "kernelspec": {
   "display_name": "Python 3",
   "language": "python",
   "name": "python3"
  },
  "language_info": {
   "codemirror_mode": {
    "name": "ipython",
    "version": 3
   },
   "file_extension": ".py",
   "mimetype": "text/x-python",
   "name": "python",
   "nbconvert_exporter": "python",
   "pygments_lexer": "ipython3",
   "version": "3.7.4"
  }
 },
 "nbformat": 4,
 "nbformat_minor": 2
}
