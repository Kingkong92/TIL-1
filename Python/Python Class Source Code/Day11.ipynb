{
 "cells": [
  {
   "cell_type": "code",
   "execution_count": 1,
   "metadata": {},
   "outputs": [],
   "source": [
    "# class 붕어빵기계(self, 내용물, 반죽)\n",
    "#     self.내용물=내용물\n",
    "#     self.반죽=반죽\n",
    "# 붕1=붕어빵기계(단팥, 밀가루)  => 단팥밀가루 붕어빵\n",
    "# 붕2=붕어빵기계(크림, 밀가루)  => 크림밀가루 붕어빵\n",
    "# 붕3=붕어빵기계(크림, 쌀가루)  => 크림쌀가루 붕어빵\n",
    "\n",
    "# 굽는다(self, 시간, 방법):\n",
    "#     self.시간=시간\n",
    "#     self.방법=방법\n",
    "\n",
    "# 붕1.굽는다(1분, 타지않게)\n",
    "# 붕2.굽는다(30초, 타지않게)\n",
    "# 붕3.굽는다(2분, 타지않게)\n",
    "# ..."
   ]
  },
  {
   "cell_type": "code",
   "execution_count": 2,
   "metadata": {},
   "outputs": [
    {
     "name": "stdout",
     "output_type": "stream",
     "text": [
      "(3, 4)\n",
      "(7, 4)\n",
      "(7, 0)\n",
      "(10, 1)\n"
     ]
    },
    {
     "data": {
      "text/plain": [
       "(10, 1)"
      ]
     },
     "execution_count": 2,
     "metadata": {},
     "output_type": "execute_result"
    }
   ],
   "source": [
    "class Point():\n",
    "    def __init__(self,x,y):  # 기본 x,y 값 지정\n",
    "        self.x = x\n",
    "        self.y = y\n",
    "    def setx(self,x):  # x 값 설정\n",
    "        self.x = x\n",
    "        return Point.get(self)  # 설정 후 좌표 출력\n",
    "    def sety(self,y):  # y 값 설정\n",
    "        self.y = y\n",
    "        return Point.get(self) # 설정 후 좌표 출력\n",
    "    def get(self):\n",
    "        print((self.x,self.y))\n",
    "        return (self.x, self.y) #좌표 출력\n",
    "    def move(self, dx,dy):\n",
    "        self.x += dx\n",
    "        self.y += dy\n",
    "        return Point.get(self)\n",
    "\n",
    "\n",
    "first = Point(3,4)\n",
    "first.get()\n",
    "first.setx(7)\n",
    "first.sety(0)\n",
    "first.move(3,1)"
   ]
  },
  {
   "cell_type": "code",
   "execution_count": null,
   "metadata": {},
   "outputs": [],
   "source": [
    "# 초기화면 http://www.hanbit.co.kr/index.html\n",
    "# 로그인 https://www.hanbit.co.kr/member/login.html\n",
    "# m_id <- test, m_passwd <- 1234 전달한 후 로그인 처리( .....php)\n",
    "# => 처리 결과 : 로그인 성공, 실패\n",
    "# 사용자페이지 http://www.hanbit.co.kr/myhanbit/myhanbit.html"
   ]
  },
  {
   "cell_type": "code",
   "execution_count": 17,
   "metadata": {},
   "outputs": [],
   "source": [
    "#로그인 모듈\n",
    "import requests\n",
    "from bs4 import BeautifulSoup"
   ]
  },
  {
   "cell_type": "code",
   "execution_count": 41,
   "metadata": {},
   "outputs": [],
   "source": [
    "USER=\"\"\n",
    "PASS=\"\""
   ]
  },
  {
   "cell_type": "code",
   "execution_count": 42,
   "metadata": {},
   "outputs": [],
   "source": [
    "#세션(서버와 클라이언트간 연결) 시작하기\n",
    "session=requests.session() #승차권\n",
    "login_info={\"m_id\":USER,\"m_passwd\":PASS}\n",
    "\n",
    "url_login=\"https://www.hanbit.co.kr/member/login_proc.php\""
   ]
  },
  {
   "cell_type": "code",
   "execution_count": 36,
   "metadata": {},
   "outputs": [],
   "source": [
    "res=session.post(url_login, data=login_info)\n",
    "#로그인 처리\n",
    "res.raise_for_status() #오류가 발생하면 예외상황을 출력"
   ]
  },
  {
   "cell_type": "code",
   "execution_count": 21,
   "metadata": {},
   "outputs": [
    {
     "data": {
      "text/plain": [
       "<Response [200]>"
      ]
     },
     "execution_count": 21,
     "metadata": {},
     "output_type": "execute_result"
    }
   ],
   "source": [
    "res"
   ]
  },
  {
   "cell_type": "code",
   "execution_count": 39,
   "metadata": {},
   "outputs": [],
   "source": [
    "res=session.get(\"http://www.hanbit.co.kr/myhanbit/myhanbit.html\")\n",
    "res.raise_for_status()"
   ]
  },
  {
   "cell_type": "code",
   "execution_count": 40,
   "metadata": {},
   "outputs": [
    {
     "name": "stdout",
     "output_type": "stream",
     "text": [
      "마일리지:0\n",
      "이코인:0\n"
     ]
    }
   ],
   "source": [
    "soup=BeautifulSoup(res.text, 'html.parser')\n",
    "mileage=soup.select_one(\"#container > div > div.sm_mymileage > dl.mileage_section1 > dd > span\").get_text()\n",
    "ecoin=soup.select_one(\"#container > div > div.sm_mymileage > dl.mileage_section2 > dd > span\").get_text()\n",
    "print(\"마일리지:\"+mileage)\n",
    "print(\"이코인:\"+ecoin)\n",
    "\n"
   ]
  },
  {
   "cell_type": "code",
   "execution_count": null,
   "metadata": {},
   "outputs": [],
   "source": [
    "#웹브라우저를 이용한 스크래핑\n",
    "#Selenium : 웹 브라우저를 조작(스크래핑) 도구\n",
    "#Phantomjs : 화면없이 명령줄에서 이용할 수 있는 웹브라우저\n",
    "\n",
    "#Phantomjs(크롬)를 이용하여 사이트 탐색(이동), \n",
    "#Selenium이용하여 해당 사이트에서 자동으로 url열기, \n",
    "#클릭, 스크롤, 문자 입력 가능, 화면 캡쳐 등의 작업을 수행"
   ]
  },
  {
   "cell_type": "code",
   "execution_count": 43,
   "metadata": {},
   "outputs": [
    {
     "data": {
      "text/plain": [
       "''"
      ]
     },
     "execution_count": 43,
     "metadata": {},
     "output_type": "execute_result"
    }
   ],
   "source": [
    "\"\"\"\n",
    "1.아나콘다 프롬프트에서 : pip install selenium\n",
    "-자동으로 url열기, 클릭, 스크롤, 문자 입력 가능, 화면캡쳐 등\n",
    "2. \n",
    "\n",
    "\"\"\""
   ]
  },
  {
   "cell_type": "code",
   "execution_count": 44,
   "metadata": {},
   "outputs": [
    {
     "name": "stderr",
     "output_type": "stream",
     "text": [
      "C:\\Users\\student\\Anaconda3\\lib\\site-packages\\selenium\\webdriver\\phantomjs\\webdriver.py:49: UserWarning: Selenium support for PhantomJS has been deprecated, please use headless versions of Chrome or Firefox instead\n",
      "  warnings.warn('Selenium support for PhantomJS has been deprecated, please use headless '\n"
     ]
    }
   ],
   "source": [
    "from selenium import webdriver\n",
    "url=\"http://www.naver.com\"\n",
    "#phantomjs 드라이버 추출\n",
    "browser=webdriver.PhantomJS()\n",
    "#3초  대기\n",
    "browser.implicitly_wait(3)\n",
    "#url 읽기\n",
    "browser.get(url)\n",
    "#화면 캡쳐 및 저장\n",
    "browser.save_screenshot(\"myshot.png\")\n",
    "#브라우저 종료\n",
    "browser.quit()"
   ]
  },
  {
   "cell_type": "code",
   "execution_count": 48,
   "metadata": {},
   "outputs": [
    {
     "data": {
      "text/plain": [
       "<div class=\"listings\" id=\"homepage-top-box-office\">\n",
       "<a class=\"pull-right showtimesLink\" href=\"/showtimes/\">Get Tickets</a>\n",
       "<h2>Top Box Office</h2>\n",
       "<table class=\"movie_list\" id=\"Top-Box-Office\">\n",
       "<tr class=\"\">\n",
       "<td class=\"left_col\">\n",
       "<a href=\"/m/star_wars_the_rise_of_skywalker\">\n",
       "<span class=\"icon tiny rotten\"></span>\n",
       "<span class=\"tMeterScore\">54%</span>\n",
       "</a>\n",
       "</td>\n",
       "<td class=\"middle_col\">\n",
       "<a href=\"/m/star_wars_the_rise_of_skywalker\">Star Wars: The Rise of Skywalker</a>\n",
       "</td>\n",
       "<td class=\"right_col right\">\n",
       "<a href=\"/m/star_wars_the_rise_of_skywalker\">$72M</a>\n",
       "</td>\n",
       "</tr>\n",
       "<tr class=\"\">\n",
       "<td class=\"left_col\">\n",
       "<a href=\"/m/jumanji_the_next_level\">\n",
       "<span class=\"icon tiny fresh\"></span>\n",
       "<span class=\"tMeterScore\">71%</span>\n",
       "</a>\n",
       "</td>\n",
       "<td class=\"middle_col\">\n",
       "<a href=\"/m/jumanji_the_next_level\">Jumanji: The Next Level</a>\n",
       "</td>\n",
       "<td class=\"right_col right\">\n",
       "<a href=\"/m/jumanji_the_next_level\">$35.4M</a>\n",
       "</td>\n",
       "</tr>\n",
       "<tr class=\"\">\n",
       "<td class=\"left_col\">\n",
       "<a href=\"/m/little_women_2019\">\n",
       "<span class=\"icon tiny certified_fresh\"></span>\n",
       "<span class=\"tMeterScore\">95%</span>\n",
       "</a>\n",
       "</td>\n",
       "<td class=\"middle_col\">\n",
       "<a href=\"/m/little_women_2019\">Little Women</a>\n",
       "</td>\n",
       "<td class=\"right_col right\">\n",
       "<a href=\"/m/little_women_2019\">$16.6M</a>\n",
       "</td>\n",
       "</tr>\n",
       "<tr class=\"\">\n",
       "<td class=\"left_col\">\n",
       "<a href=\"/m/frozen_ii\">\n",
       "<span class=\"icon tiny certified_fresh\"></span>\n",
       "<span class=\"tMeterScore\">78%</span>\n",
       "</a>\n",
       "</td>\n",
       "<td class=\"middle_col\">\n",
       "<a href=\"/m/frozen_ii\">Frozen II</a>\n",
       "</td>\n",
       "<td class=\"right_col right\">\n",
       "<a href=\"/m/frozen_ii\">$16.6M</a>\n",
       "</td>\n",
       "</tr>\n",
       "<tr class=\"\">\n",
       "<td class=\"left_col\">\n",
       "<a href=\"/m/spies_in_disguise\">\n",
       "<span class=\"icon tiny fresh\"></span>\n",
       "<span class=\"tMeterScore\">74%</span>\n",
       "</a>\n",
       "</td>\n",
       "<td class=\"middle_col\">\n",
       "<a href=\"/m/spies_in_disguise\">Spies in Disguise</a>\n",
       "</td>\n",
       "<td class=\"right_col right\">\n",
       "<a href=\"/m/spies_in_disguise\">$13.3M</a>\n",
       "</td>\n",
       "</tr>\n",
       "<tr class=\"\">\n",
       "<td class=\"left_col\">\n",
       "<a href=\"/m/knives_out\">\n",
       "<span class=\"icon tiny certified_fresh\"></span>\n",
       "<span class=\"tMeterScore\">97%</span>\n",
       "</a>\n",
       "</td>\n",
       "<td class=\"middle_col\">\n",
       "<a href=\"/m/knives_out\">Knives Out</a>\n",
       "</td>\n",
       "<td class=\"right_col right\">\n",
       "<a href=\"/m/knives_out\">$9.8M</a>\n",
       "</td>\n",
       "</tr>\n",
       "<tr class=\"\">\n",
       "<td class=\"left_col\">\n",
       "<a href=\"/m/uncut_gems\">\n",
       "<span class=\"icon tiny certified_fresh\"></span>\n",
       "<span class=\"tMeterScore\">92%</span>\n",
       "</a>\n",
       "</td>\n",
       "<td class=\"middle_col\">\n",
       "<a href=\"/m/uncut_gems\">Uncut Gems</a>\n",
       "</td>\n",
       "<td class=\"right_col right\">\n",
       "<a href=\"/m/uncut_gems\">$9.7M</a>\n",
       "</td>\n",
       "</tr>\n",
       "<tr class=\"\">\n",
       "<td class=\"left_col\">\n",
       "<a href=\"/m/cats_2019\">\n",
       "<span class=\"icon tiny rotten\"></span>\n",
       "<span class=\"tMeterScore\">20%</span>\n",
       "</a>\n",
       "</td>\n",
       "<td class=\"middle_col\">\n",
       "<a href=\"/m/cats_2019\">Cats</a>\n",
       "</td>\n",
       "<td class=\"right_col right\">\n",
       "<a href=\"/m/cats_2019\">$4.8M</a>\n",
       "</td>\n",
       "</tr>\n",
       "<tr class=\"\">\n",
       "<td class=\"left_col\">\n",
       "<a href=\"/m/bombshell_2019\">\n",
       "<span class=\"icon tiny fresh\"></span>\n",
       "<span class=\"tMeterScore\">67%</span>\n",
       "</a>\n",
       "</td>\n",
       "<td class=\"middle_col\">\n",
       "<a href=\"/m/bombshell_2019\">Bombshell</a>\n",
       "</td>\n",
       "<td class=\"right_col right\">\n",
       "<a href=\"/m/bombshell_2019\">$4.8M</a>\n",
       "</td>\n",
       "</tr>\n",
       "<tr class=\"\">\n",
       "<td class=\"left_col\">\n",
       "<a href=\"/m/richard_jewell\">\n",
       "<span class=\"icon tiny fresh\"></span>\n",
       "<span class=\"tMeterScore\">74%</span>\n",
       "</a>\n",
       "</td>\n",
       "<td class=\"middle_col\">\n",
       "<a href=\"/m/richard_jewell\">Richard Jewell</a>\n",
       "</td>\n",
       "<td class=\"right_col right\">\n",
       "<a href=\"/m/richard_jewell\">$3M</a>\n",
       "</td>\n",
       "</tr>\n",
       "</table>\n",
       "<div class=\"clickForMore\"> <a class=\"unstyled articleLink\" href=\"/browse/in-theaters/\" id=\"Top-Box-Office-view-all\">View All</a></div>\n",
       "</div>"
      ]
     },
     "execution_count": 48,
     "metadata": {},
     "output_type": "execute_result"
    }
   ],
   "source": [
    "import urllib.request as req\n",
    "page=req.urlopen(\"https://www.rottentomatoes.com\")\n",
    "doc=page.read()\n",
    "soup=BeautifulSoup(doc, 'html.parser')\n",
    "movies=soup.find(id=\"homepage-top-box-office\")\n",
    "movies"
   ]
  },
  {
   "cell_type": "code",
   "execution_count": 55,
   "metadata": {},
   "outputs": [
    {
     "name": "stdout",
     "output_type": "stream",
     "text": [
      "\n",
      "Star Wars: The Rise of Skywalker\n",
      "\n",
      "https://rottentomatoes.com/m/star_wars_the_rise_of_skywalker\n",
      "\n",
      "Jumanji: The Next Level\n",
      "\n",
      "https://rottentomatoes.com/m/jumanji_the_next_level\n",
      "\n",
      "Little Women\n",
      "\n",
      "https://rottentomatoes.com/m/little_women_2019\n",
      "\n",
      "Frozen II\n",
      "\n",
      "https://rottentomatoes.com/m/frozen_ii\n",
      "\n",
      "Spies in Disguise\n",
      "\n",
      "https://rottentomatoes.com/m/spies_in_disguise\n",
      "\n",
      "Knives Out\n",
      "\n",
      "https://rottentomatoes.com/m/knives_out\n",
      "\n",
      "Uncut Gems\n",
      "\n",
      "https://rottentomatoes.com/m/uncut_gems\n",
      "\n",
      "Cats\n",
      "\n",
      "https://rottentomatoes.com/m/cats_2019\n",
      "\n",
      "Bombshell\n",
      "\n",
      "https://rottentomatoes.com/m/bombshell_2019\n",
      "\n",
      "Richard Jewell\n",
      "\n",
      "https://rottentomatoes.com/m/richard_jewell\n"
     ]
    }
   ],
   "source": [
    "movies_list=movies.find_all(\"td\", class_=\"middle_col\")\n",
    "#print(movies_list.get(\"a\"))\n",
    "for movie in movies_list:\n",
    "    print(movie.get_text())\n",
    "    print(\"https://rottentomatoes.com\"+movie.find(\"a\").get(\"href\"))"
   ]
  },
  {
   "cell_type": "code",
   "execution_count": 56,
   "metadata": {},
   "outputs": [],
   "source": [
    "#question-summary-59573352 > div.summary > h3 > a\n",
    "#question-summary-59573349 > div.summary > h3 > a\n",
    "# https://stackoverflow.com/questions/tagged/python?tab=newest&page=1&pagesize=15\n",
    "# https://stackoverflow.com/questions/tagged/python?tab=newest&page=2&pagesize=15\n",
    "# https://stackoverflow.com/questions/tagged/python?tab=newest&page=3&pagesize=15\n",
    "#     ...\n",
    "    \n",
    "    "
   ]
  },
  {
   "cell_type": "code",
   "execution_count": 78,
   "metadata": {
    "scrolled": false
   },
   "outputs": [],
   "source": [
    "import requests\n",
    "url=\"https://stackoverflow.com/questions/tagged/python\"\n",
    "response=requests.get(url)\n",
    "soup=BeautifulSoup(response.text, 'html.parser')\n",
    "\n",
    "links=[]\n",
    "for link in soup.select(\"div.question-summary h3 a\"):\n",
    "    links.append(link.attrs['href'])\n",
    "    #print(\"https://stackoverflow.com\"+link.attrs['href'])\n",
    "for link in links:\n",
    "    url=\"https://stackoverflow.com\"+link\n",
    "    response=requests.get(url)\n",
    "    text=response.text\n",
    "    soup=BeautifulSoup(text, 'html.parser')  \n",
    "    print(\"Question\\n\")\n",
    "    for x in soup.select(\"div.postcell div.post-text p\"):\n",
    "        print(x.text)\n",
    "    print(\"\\nAnswer\\n\")\n",
    "    for x in soup.select(\"div.answercell div.post-text p\"):\n",
    "        print(x.text)        \n",
    "    print(\"=\"*40, \"\\n\")\n",
    "    \n",
    "    #print(soup)\n",
    "#     print(\"Question\\n\")\n",
    "    \n",
    "#     print(\"\\nAnswer\\n\")\n",
    "    \n",
    "#     print(\"=\"*50,\"\\n\")"
   ]
  },
  {
   "cell_type": "code",
   "execution_count": null,
   "metadata": {},
   "outputs": [],
   "source": []
  },
  {
   "cell_type": "code",
   "execution_count": null,
   "metadata": {},
   "outputs": [],
   "source": []
  },
  {
   "cell_type": "code",
   "execution_count": null,
   "metadata": {},
   "outputs": [],
   "source": []
  },
  {
   "cell_type": "code",
   "execution_count": null,
   "metadata": {},
   "outputs": [],
   "source": []
  },
  {
   "cell_type": "code",
   "execution_count": null,
   "metadata": {},
   "outputs": [],
   "source": []
  },
  {
   "cell_type": "code",
   "execution_count": null,
   "metadata": {},
   "outputs": [],
   "source": []
  },
  {
   "cell_type": "code",
   "execution_count": null,
   "metadata": {},
   "outputs": [],
   "source": []
  }
 ],
 "metadata": {
  "kernelspec": {
   "display_name": "Python 3",
   "language": "python",
   "name": "python3"
  },
  "language_info": {
   "codemirror_mode": {
    "name": "ipython",
    "version": 3
   },
   "file_extension": ".py",
   "mimetype": "text/x-python",
   "name": "python",
   "nbconvert_exporter": "python",
   "pygments_lexer": "ipython3",
   "version": "3.7.4"
  }
 },
 "nbformat": 4,
 "nbformat_minor": 2
}
